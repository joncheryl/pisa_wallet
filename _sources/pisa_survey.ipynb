{
 "cells": [
  {
   "cell_type": "markdown",
   "id": "5999ae6f",
   "metadata": {},
   "source": [
    "# Tannenbaum Paper\n",
    "\n",
    "## PISA vs. Survey Data\n",
    "\n",
    "The Tannenbaum paper aimed to validate survey measures of social capital using their correlation with wallet report rates. Since PISA education scores are not explicit and direct measurements of social capital, it's not clear that they could also be seen as validating the survey measures referenced in the paper. However, as can be seen below, the correlations are surprisingly consistent between wallet reporting rates/PISA scores and survey measures. This suggests that they not only contain the same *amount* of information about social capital but also the same *type* of information about social capital."
   ]
  },
  {
   "cell_type": "code",
   "execution_count": null,
   "id": "74b5eab2",
   "metadata": {
    "tags": [
     "hide-input"
    ]
   },
   "outputs": [
    {
     "data": {
      "text/html": [
       "<div>\n",
       "<style scoped>\n",
       "    .dataframe tbody tr th:only-of-type {\n",
       "        vertical-align: middle;\n",
       "    }\n",
       "\n",
       "    .dataframe tbody tr th {\n",
       "        vertical-align: top;\n",
       "    }\n",
       "\n",
       "    .dataframe thead tr th {\n",
       "        text-align: left;\n",
       "    }\n",
       "</style>\n",
       "<table border=\"1\" class=\"dataframe\">\n",
       "  <thead>\n",
       "    <tr>\n",
       "      <th></th>\n",
       "      <th colspan=\"8\" halign=\"left\">Correlation (r)</th>\n",
       "    </tr>\n",
       "    <tr>\n",
       "      <th></th>\n",
       "      <th>general_trust</th>\n",
       "      <th>GPS_trust</th>\n",
       "      <th>general_morality</th>\n",
       "      <th>MFQ_genmorality</th>\n",
       "      <th>civic_cooperation</th>\n",
       "      <th>GPS_posrecip</th>\n",
       "      <th>GPS_altruism</th>\n",
       "      <th>stranger1</th>\n",
       "    </tr>\n",
       "  </thead>\n",
       "  <tbody>\n",
       "    <tr>\n",
       "      <th>response</th>\n",
       "      <td>0.603736</td>\n",
       "      <td>0.023510</td>\n",
       "      <td>0.612047</td>\n",
       "      <td>0.461323</td>\n",
       "      <td>0.391755</td>\n",
       "      <td>0.050279</td>\n",
       "      <td>-0.214705</td>\n",
       "      <td>0.645001</td>\n",
       "    </tr>\n",
       "    <tr>\n",
       "      <th>pisa_score</th>\n",
       "      <td>0.611033</td>\n",
       "      <td>0.127325</td>\n",
       "      <td>0.674059</td>\n",
       "      <td>0.419857</td>\n",
       "      <td>0.441642</td>\n",
       "      <td>-0.157111</td>\n",
       "      <td>-0.162403</td>\n",
       "      <td>0.659283</td>\n",
       "    </tr>\n",
       "  </tbody>\n",
       "</table>\n",
       "</div>"
      ],
      "text/plain": [
       "           Correlation (r)                                             \\\n",
       "             general_trust GPS_trust general_morality MFQ_genmorality   \n",
       "response          0.603736  0.023510         0.612047        0.461323   \n",
       "pisa_score        0.611033  0.127325         0.674059        0.419857   \n",
       "\n",
       "                                                                  \n",
       "           civic_cooperation GPS_posrecip GPS_altruism stranger1  \n",
       "response            0.391755     0.050279    -0.214705  0.645001  \n",
       "pisa_score          0.441642    -0.157111    -0.162403  0.659283  "
      ]
     },
     "execution_count": 2,
     "metadata": {},
     "output_type": "execute_result"
    }
   ],
   "source": [
    "import pandas as pd\n",
    "import plotly.express as px\n",
    "import plotly.io as pio\n",
    "\n",
    "pio.templates.default = \"plotly_white\"\n",
    "pio.renderers.default = \"sphinx_gallery\"\n",
    "\n",
    "import statsmodels.api as sm\n",
    "\n",
    "# Data import\n",
    "survey_cols = [\n",
    "    \"general_trust\",\n",
    "    \"GPS_trust\",\n",
    "    \"general_morality\",\n",
    "    \"MFQ_genmorality\",\n",
    "    \"civic_cooperation\",\n",
    "    \"GPS_posrecip\",\n",
    "    \"GPS_altruism\",\n",
    "    \"stranger1\",\n",
    "]\n",
    "\n",
    "cat_cols = [\n",
    "    \"country\",\n",
    "    \"response\",\n",
    "    \"male\",\n",
    "    \"above40\",\n",
    "    \"computer\",\n",
    "    \"coworkers\",\n",
    "    \"other_bystanders\",\n",
    "    \"institution\",\n",
    "    \"cond\",\n",
    "    \"security_cam\",\n",
    "    \"security_guard\",\n",
    "    \"local_recipient\",\n",
    "    \"no_english\",\n",
    "    \"understood_situation\",\n",
    "]\n",
    "\n",
    "sc_cols = [\n",
    "    \"log_gdp\",\n",
    "    \"log_tfp\",\n",
    "    \"gee\",\n",
    "    \"letter_grading\",\n",
    "]\n",
    "\n",
    "# Import Tannenbaum data\n",
    "df = pd.read_csv(\n",
    "    \"../data/tannenbaum_data.csv\",\n",
    "    dtype={col: \"category\" for col in cat_cols},\n",
    ")\n",
    "\n",
    "# Import PISA data\n",
    "pisa = pd.read_csv(\"../data/pisa_data.csv\").rename(columns={\"mean_score\": \"pisa_score\"})\n",
    "df = df.merge(pisa, how=\"left\", on=\"country\")\n",
    "\n",
    "# Columns we want to see correlations for.\n",
    "cols_for_country_avg_corr = [\"response\", \"pisa_score\"] + survey_cols\n",
    "\n",
    "df_corr = df.copy().astype({\"response\": int})\n",
    "\n",
    "# Calculate country averages for these measures\n",
    "country_avg_data = df_corr.groupby(\"country\")[cols_for_country_avg_corr].mean()\n",
    "\n",
    "# Compute the correlation matrix\n",
    "comprehensive_corr_matrix = country_avg_data.corr()\n",
    "\n",
    "# Show correlations of interest\n",
    "comprehensive_corr_matrix.columns = pd.MultiIndex.from_product(\n",
    "    [[\"Correlation (r)\"], comprehensive_corr_matrix.columns]\n",
    ")\n",
    "comprehensive_corr_matrix.iloc[:2, 2:]"
   ]
  },
  {
   "cell_type": "code",
   "execution_count": 5,
   "id": "78c6dc88",
   "metadata": {
    "tags": [
     "hide-input"
    ]
   },
   "outputs": [
    {
     "data": {
      "application/vnd.plotly.v1+json": {
       "config": {
        "plotlyServerURL": "https://plot.ly"
       },
       "data": [
        {
         "hovertemplate": "variable=general_trust<br>value=%{x}<br>response=%{y}<extra></extra>",
         "legendgroup": "",
         "marker": {
          "color": "#636efa",
          "symbol": "circle"
         },
         "mode": "markers",
         "name": "",
         "orientation": "v",
         "showlegend": false,
         "type": "scatter",
         "x": {
          "bdata": "hQ0CCDxS4r+z6Elssl/wPwwDOJJJi/W/J836yNys7D/y93CJgOLlv6gSZr3qUPo/xQYmcfn84b9pYr35CEfLv36KMmW50wFAgyolpm/p1b9jW3SZ6OraP/D9kcoBW/W/HHVXpEHc5r8gYpl7H9O0v0sdvkMp3ti/BUKZ9PcV2b+PgJcn8UiYP38VCEZxi7g/GDBf/vQ1878eIDtesjbwv/Ji34w+bOS/l5TZ8ULZ6b9K+xNqmCb5P2RwH+3UIvU/zBhH7B2IAUB9qoLFu+n0v410cUL4G9a/WLCz9Urg57+xNC00DMPsv2lCl3stUce/gh8avODo5b+k9P6A43Tgv2Xr5uVI7L4/aEQbrjZY/z/hbbd3RSH0PzTFj3QfKNI/E++QSMe58L8AAAAAAAD4f6bfCgoVido/APPCgSH84T8=",
          "dtype": "f8"
         },
         "xaxis": "x5",
         "y": {
          "bdata": "AAAAAADAR0A3JdqUaFNOQNTqTqs7rURAAAAAAACAS0DkOI7jOA5CQAAAAAAAgCxAq6qqqqqqTUAAAAAAAIBRQAAAAAAAwFJAnxertBX+S0AAAAAAAABOQK2ixkiBuzNAAAAAAACgRkAAAAAAAIBAQAAAAAAAADlAVVVVVVVVR0AAAAAAAOBEQAAAAAAAgDFAMTYLqj0nMUAAAAAAAEAzQAAAAAAAADVATivunWSpMUAAAAAAANBRQAAAAAAAsFFAq6qqqqqqUkAAAAAAAIArQAAAAAAA8FBAAAAAAABARUAAAAAAAGBLQHDyN/mb/EpAVVVVVVVVS0Ct7rS60+pAQAAAAAAAAEtAAAAAAACQUkDEwQ4HOxxTQAAAAAAAAEBAAAAAAADAPkAAAAAAAIA5QCIuN3kOUExAZmZmZmZmSkA=",
          "dtype": "f8"
         },
         "yaxis": "y5"
        },
        {
         "hovertemplate": "<b>OLS trendline</b><br>response = 11.7451 * value + 45.9976<br>R<sup>2</sup>=0.364497<br><br>variable=general_trust<br>value=%{x}<br>response=%{y} <b>(trend)</b><extra></extra>",
         "legendgroup": "",
         "marker": {
          "color": "#636efa",
          "symbol": "circle"
         },
         "mode": "lines",
         "name": "",
         "showlegend": false,
         "type": "scatter",
         "x": {
          "bdata": "DAM4kkmL9b/w/ZHKAVv1v32qgsW76fS/GDBf/vQ1878T75BIx7nwvx4gO16yNvC/sTQtNAzD7L+XlNnxQtnpv1iws/VK4Oe/HHVXpEHc5r+CHxq84Ojlv/L3cImA4uW/8mLfjD5s5L+FDQIIPFLiv8UGJnH5/OG/pPT+gON04L8FQpn09xXZv0sdvkMp3ti/jXRxQvgb1r+DKiWmb+nVv2livfkIR8u/aUKXey1Rx78gYpl7H9O0v4+AlyfxSJg/fxUIRnGLuD9l6+blSOy+PzTFj3QfKNI/pt8KChWJ2j9jW3SZ6OraPwDzwoEh/OE/J836yNys7D+z6Elssl/wP+Ftt3dFIfQ/ZHAf7dQi9T9K+xNqmCb5P6gSZr3qUPo/aEQbrjZY/z/MGEfsHYgBQH6KMmW50wFA",
          "dtype": "f8"
         },
         "xaxis": "x5",
         "y": {
          "bdata": "nrbfKcwuPkA7MSgRPVI+QJp6lYxjpT5AesKCI0flP0A2/KVAI9xAQDRdrMI/DEFAiV61gHO4QUCMSGW9UEFCQB7xaU78nUJAwLsS47TNQkBIq4/gXvpCQOyIqWmK+0JA7inlJDlAQ0D31yT+9KJDQNAQP4maskNAjIgp1I76Q0AwdumRbLJEQG0ZOX6Lt0RAxcqUBlj4REBeg1IR+/xEQKnPe0NRv0VAot9vFtXtRUDAq8hIZoVGQEpQP8lYI0dAs/4BN9WPR0DYA/8iSrVHQIzqFIYyqkhAAq3k6ANvSUCvVofd/XdJQOWGh86gTEpAgLoeM91CTEDXi9KcLwJNQGffa6odY05AmTf8LabBTkCX/Vq0bx1QQBdJBe8uVFBAuTbmemxAUUBNcaWlIu9RQAyeW8DiClJA",
          "dtype": "f8"
         },
         "yaxis": "y5"
        },
        {
         "hovertemplate": "variable=GPS_trust<br>value=%{x}<br>response=%{y}<extra></extra>",
         "legendgroup": "",
         "marker": {
          "color": "#636efa",
          "symbol": "circle"
         },
         "mode": "markers",
         "name": "",
         "orientation": "v",
         "showlegend": false,
         "type": "scatter",
         "x": {
          "bdata": "glTbSY5q67+p0ajwEJTyP1oHM3YIy6W/g0XBQNlM7j9g62qM1UnXv6QYaD5hZAFAs3B4upTO2D+HjLnTc0j9vwAAAAAAAPh/GxmtGiAm5r81aRzG5TDgv+Uy3eOoTeq/O0LujHXz9r8MMuCHmRDrv7PEW6DiUfA/jFSsV3B7z7+++tmnbB/Vv7OKJI+BguI/SArI8pZ4+78AAAAAAAD4f9xiKstwTve/+QW7NA0a2b/kGKfGGYXyPwAAAAAAAPh/AAAAAAAA+H/StAiByMnav98eO/afy+O/gFeor7AN0z/lpaEWtbvsv5ceAeRdReS/QVJu+5h55b9Kz1CUDVXmv9Rm2yuFwu0/uzMpTCMW8z/rXnGXI4LUP8QxwjKRvPU/FI3zaDrv3j+HzxYr393/P6tEVTs88+w/k80w/XUu4j8=",
          "dtype": "f8"
         },
         "xaxis": "x6",
         "y": {
          "bdata": "AAAAAADAR0A3JdqUaFNOQNTqTqs7rURAAAAAAACAS0DkOI7jOA5CQAAAAAAAgCxAq6qqqqqqTUAAAAAAAIBRQAAAAAAAwFJAnxertBX+S0AAAAAAAABOQK2ixkiBuzNAAAAAAACgRkAAAAAAAIBAQAAAAAAAADlAVVVVVVVVR0AAAAAAAOBEQAAAAAAAgDFAMTYLqj0nMUAAAAAAAEAzQAAAAAAAADVATivunWSpMUAAAAAAANBRQAAAAAAAsFFAq6qqqqqqUkAAAAAAAIArQAAAAAAA8FBAAAAAAABARUAAAAAAAGBLQHDyN/mb/EpAVVVVVVVVS0Ct7rS60+pAQAAAAAAAAEtAAAAAAACQUkDEwQ4HOxxTQAAAAAAAAEBAAAAAAADAPkAAAAAAAIA5QCIuN3kOUExAZmZmZmZmSkA=",
          "dtype": "f8"
         },
         "yaxis": "y6"
        },
        {
         "hovertemplate": "<b>OLS trendline</b><br>response = 0.42973 * value + 43.8817<br>R<sup>2</sup>=0.000553<br><br>variable=GPS_trust<br>value=%{x}<br>response=%{y} <b>(trend)</b><extra></extra>",
         "legendgroup": "",
         "marker": {
          "color": "#636efa",
          "symbol": "circle"
         },
         "mode": "lines",
         "name": "",
         "showlegend": false,
         "type": "scatter",
         "x": {
          "bdata": "h4y503NI/b9ICsjylnj7v9xiKstwTve/O0LujHXz9r/lpaEWtbvsv4JU20mOauu/DDLgh5kQ67/lMt3jqE3qv0rPUJQNVea/GxmtGiAm5r9BUm77mHnlv5ceAeRdReS/3x479p/L4781aRzG5TDgv9K0CIHIydq/+QW7NA0a2b9g62qM1UnXv7762adsH9W/jFSsV3B7z79aBzN2CMulv4BXqK+wDdM/615xlyOC1D+zcHi6lM7YPxSN82g6794/k80w/XUu4j+ziiSPgYLiP6tEVTs88+w/1GbbK4XC7T+DRcFA2UzuP7PEW6DiUfA/5BinxhmF8j+p0ajwEJTyP7szKUwjFvM/xDHCMpG89T+HzxYr393/P6QYaD5hZAFA",
          "dtype": "f8"
         },
         "xaxis": "x6",
         "y": {
          "bdata": "U+VGwS6MRUAia8ZwaZJFQHlQZLC6oEVAJCPud/OhRUAkBVl7dr9FQMSMpwS6wUVAqIQ7pVTCRUCVW0m7o8NFQNT9TjJ3ykVAlvuA3MfKRUCN1zls8MtFQKekJz8CzkVAbLjfgtPORUDhOOWaBdVFQIrojlzU2UVA57bgakfbRUB+5cVk1txFQJpz7+Ky3kVADK7o91LjRUBHFgX7gu5FQBT0I4c6AUZAKlf2oXoCRkDuNAxrLAZGQGKWcJtwC0ZAacIq/hoQRkBakLJ1qxBGQOVSb6qdIkZAUrTJ+AEkRkCTJU2/7yRGQBR05T71KEZARRxRfYUwRkBfwj3wuDBGQPEIoBp4MkZA/Jw+b5Q7RkBqjCrMZ15GQPA7WXpvaEZA",
          "dtype": "f8"
         },
         "yaxis": "y6"
        },
        {
         "hovertemplate": "variable=general_morality<br>value=%{x}<br>response=%{y}<extra></extra>",
         "legendgroup": "",
         "marker": {
          "color": "#636efa",
          "symbol": "circle"
         },
         "mode": "markers",
         "name": "",
         "orientation": "v",
         "showlegend": false,
         "type": "scatter",
         "x": {
          "bdata": "Rp4u+K/f2L9m0JdCM7f1Py865HS9/uW/HZpK/EuP4D+vldNaIXrWP3aD8j4RoPS/uDHytx4aob+djkJcJmXuv6jGCoFmkfU/wMFqfA0l8z+nt2nOFhXjPx5Da90BkLu/A8JyX6EJAMDYLoL+QobLv34Uwh5X4/u/T+zOfI7N9D+CDC8UFvfcv9ImU7VB7vO/AAAAAAAA+H9PSvtFw/7RP17UIRE1beC/2YXRN46O5r96q+JmY4L3Pzp6P7xmz/M/bA0bXkg+0T84IxRIJZHWvz5Ua+VqZvA/OXp3uZOt078x6Xtq08jvv7lhtaT3POO/9eW4Bg9g8b+kNS855ZbivybBikK3FMg/Pl2YfXR4AEAlojkfl7X5P8f929/icfS/TBlBSWR31L8AAAAAAAD4fz9SojH9pfA/5EMZCoowhD8=",
          "dtype": "f8"
         },
         "xaxis": "x7",
         "y": {
          "bdata": "AAAAAADAR0A3JdqUaFNOQNTqTqs7rURAAAAAAACAS0DkOI7jOA5CQAAAAAAAgCxAq6qqqqqqTUAAAAAAAIBRQAAAAAAAwFJAnxertBX+S0AAAAAAAABOQK2ixkiBuzNAAAAAAACgRkAAAAAAAIBAQAAAAAAAADlAVVVVVVVVR0AAAAAAAOBEQAAAAAAAgDFAMTYLqj0nMUAAAAAAAEAzQAAAAAAAADVATivunWSpMUAAAAAAANBRQAAAAAAAsFFAq6qqqqqqUkAAAAAAAIArQAAAAAAA8FBAAAAAAABARUAAAAAAAGBLQHDyN/mb/EpAVVVVVVVVS0Ct7rS60+pAQAAAAAAAAEtAAAAAAACQUkDEwQ4HOxxTQAAAAAAAAEBAAAAAAADAPkAAAAAAAIA5QCIuN3kOUExAZmZmZmZmSkA=",
          "dtype": "f8"
         },
         "yaxis": "y7"
        },
        {
         "hovertemplate": "<b>OLS trendline</b><br>response = 11.7083 * value + 46.7567<br>R<sup>2</sup>=0.374601<br><br>variable=general_morality<br>value=%{x}<br>response=%{y} <b>(trend)</b><extra></extra>",
         "legendgroup": "",
         "marker": {
          "color": "#636efa",
          "symbol": "circle"
         },
         "mode": "lines",
         "name": "",
         "showlegend": false,
         "type": "scatter",
         "x": {
          "bdata": "A8JyX6EJAMB+FMIeV+P7v3aD8j4RoPS/x/3b3+Jx9L/SJlO1Qe7zv/XluAYPYPG/Mel7atPI77+djkJcJmXuv9mF0TeOjua/LzrkdL3+5b+5YbWk9zzjv6Q1LznlluK/XtQhETVt4L+CDC8UFvfcv0aeLviv39i/OCMUSCWR1r9MGUFJZHfUvzl6d7mTrdO/2C6C/kKGy78eQ2vdAZC7v7gx8rceGqG/5EMZCoowhD8mwYpCtxTIP2wNG15IPtE/T0r7RcP+0T+vldNaIXrWPx2aSvxLj+A/p7dpzhYV4z8+VGvlambwPz9SojH9pfA/wMFqfA0l8z86ej+8Zs/zP0/sznyOzfQ/qMYKgWaR9T9m0JdCM7f1P3qr4mZjgvc/JaI5H5e1+T8+XZh9dHgAQA==",
          "dtype": "f8"
         },
         "xaxis": "x7",
         "y": {
          "bdata": "NIokn/dIN0DFwi5OXVk6QNoe+dHrqT9AOScPDrfLP0AfEqDIBBZAQKsCBhphBUFA/dLyH0mQQUAIPFWOWtFBQBK5qLVxQENAe9L2CsFaQ0BPAwec3ttDQA5LsUhA+kNA3DiNP4tfREDyNy5vlrpEQExVGe9kGkVAuwj+ZmlQRUCCYGvCmYFFQDeCx5EPlEVAPIx5uJYeRkAqt76Bf79GQBVmh1LLLkdA2wDMkaBvR0BHB+qtzHpIQCaRbM2h9EhA1eY2Bz0GSUCASppzMG9JQPc1ABFmaEpA3mk8j4reSkBdw+S5/GBNQE2Ffjs/eE1A5HMK+RFiTkDkpwHnZaBOQOD5VLFj/U5AJGWSqQtFT0CBE7c74FJPQFbpaLDi+k9A3+E04HlkUECBrSIIKbdRQA==",
          "dtype": "f8"
         },
         "yaxis": "y7"
        },
        {
         "hovertemplate": "variable=MFQ_genmorality<br>value=%{x}<br>response=%{y}<extra></extra>",
         "legendgroup": "",
         "marker": {
          "color": "#636efa",
          "symbol": "circle"
         },
         "mode": "markers",
         "name": "",
         "orientation": "v",
         "showlegend": false,
         "type": "scatter",
         "x": {
          "bdata": "tjKCoegi4D/Llz7fsT7cP1zHBizlneU/Dfhm/FOw0L/jm5uSaPmuP4Cd5KQm1wHAWeZX9SEX8j+ZbjCxhS/Uv8FCS0QrrtQ/Kpobj3oG6T+jBH0QWsjyPwAAAAAAAPh/a7ygTjWp5z/XlALRNqHUv+hY4YYesPm/aZeuED818b8JSw+DmibsPwAAAAAAAPh/vfyxmVhu9r86CtE4Cu/fv+kVvTr5euI/AAAAAAAA+H/2V4kUmLDoP1H5qc21R9s/LJsTM2oRcj9QaS0TPOMEwEXTo1wSwuE/Q+AWEk9i2z82amu2n8vBP/B/JH+8tuO/AAAAAAAA+H8DyhWIRuPeP+WJR68hZ+c/uNsKgOE/sL+OSdSIc0S7P5uTzhQhefm/N7+wAJFi/z8AAAAAAAD4fwLaYh09kOw/Jc9SnzwZ878=",
          "dtype": "f8"
         },
         "xaxis": "x8",
         "y": {
          "bdata": "AAAAAADAR0A3JdqUaFNOQNTqTqs7rURAAAAAAACAS0DkOI7jOA5CQAAAAAAAgCxAq6qqqqqqTUAAAAAAAIBRQAAAAAAAwFJAnxertBX+S0AAAAAAAABOQK2ixkiBuzNAAAAAAACgRkAAAAAAAIBAQAAAAAAAADlAVVVVVVVVR0AAAAAAAOBEQAAAAAAAgDFAMTYLqj0nMUAAAAAAAEAzQAAAAAAAADVATivunWSpMUAAAAAAANBRQAAAAAAAsFFAq6qqqqqqUkAAAAAAAIArQAAAAAAA8FBAAAAAAABARUAAAAAAAGBLQHDyN/mb/EpAVVVVVVVVS0Ct7rS60+pAQAAAAAAAAEtAAAAAAACQUkDEwQ4HOxxTQAAAAAAAAEBAAAAAAADAPkAAAAAAAIA5QCIuN3kOUExAZmZmZmZmSkA=",
          "dtype": "f8"
         },
         "yaxis": "y8"
        },
        {
         "hovertemplate": "<b>OLS trendline</b><br>response = 8.62053 * value + 48.1242<br>R<sup>2</sup>=0.212819<br><br>variable=MFQ_genmorality<br>value=%{x}<br>response=%{y} <b>(trend)</b><extra></extra>",
         "legendgroup": "",
         "marker": {
          "color": "#636efa",
          "symbol": "circle"
         },
         "mode": "lines",
         "name": "",
         "showlegend": false,
         "type": "scatter",
         "x": {
          "bdata": "UGktEzzjBMCAneSkJtcBwOhY4YYesPm/m5POFCF5+b+9/LGZWG72vyXPUp88GfO/aZeuED818b/wfyR/vLbjvzoK0TgK79+/15QC0Tah1L+ZbjCxhS/Uvw34ZvxTsNC/uNsKgOE/sL8smxMzahFyP+Obm5Jo+a4/jknUiHNEuz82amu2n8vBP8FCS0QrrtQ/UfmpzbVH2z9D4BYST2LbP8uXPt+xPtw/A8oViEbj3j+2MoKh6CLgP0XTo1wSwuE/6RW9Ovl64j9cxwYs5Z3lP+WJR68hZ+c/a7ygTjWp5z/2V4kUmLDoPyqaG496Buk/CUsPg5om7D8C2mIdPZDsP1nmV/UhF/I/owR9EFrI8j83v7AAkWL/Pw==",
          "dtype": "f8"
         },
         "xaxis": "x8",
         "y": {
          "bdata": "+Npx68mdOUCHJUlbYeY8QJJNS7tXJEFAVlc/EygzQUDKlJQ99ARCQIisRUDG6kJAyGOfRShtQ0DMFBeFHmhFQG3e8lFS6UVAzKm47DasRkAeqrcX37NGQCGgzy4p8EZAojXCb9rJR0Bv5mOqwhRIQGuvm4mlUkhARKWPM2yFSECRDcF+TKlIQPkc+KpxdElAFRMHIzvmSUCFk/e5BehJQDbJhWnd9klAxx1FYG4kSkDlMVQNTzxKQJ9JSL86dEpAqaY4jSKNSkCRqz37SPlKQO+Bb3TfNktABX266sU/S0CT8OMDQGNLQNKx/X/RbktA32cufZfaS0C7xxYD0uhLQBArIwl770xAtqXa0DgfTUATAEIVK0JQQA==",
          "dtype": "f8"
         },
         "yaxis": "y8"
        },
        {
         "hovertemplate": "variable=civic_cooperation<br>value=%{x}<br>response=%{y}<extra></extra>",
         "legendgroup": "",
         "marker": {
          "color": "#636efa",
          "symbol": "circle"
         },
         "mode": "markers",
         "name": "",
         "orientation": "v",
         "showlegend": false,
         "type": "scatter",
         "x": {
          "bdata": "piV097a2y78Qj3wALWvvP4OnfU292+W/bE9qqjnQ0T+v7jhks2j3v6uvZ4dRxcI/ifGRzAmq579JF8mHHoX3v8wFC/fVj/Y/hQJssiH57b9vRvJVjcHoPxeVDNFfet0/Z2rSehDy5T8xI9ERdu/hP0MHX6uU1b6/AAAAAAAA+H9ITpCc3ATvP2IqPVd53Pa/AAAAAAAA+H8PJ87BhNz/v2WjHkMkhQPA7NC+tSFg8T9yp3h6AzfxP21iCdCy9ew/FXr1zKgE8D+cwHVUtkbwv3nGp9My8Ns/h6dlZJVA5j8G37PPnTbmP5WctQzoIva/d3nTK2lO679sShRh0//lv903iQPEEcM/pfPvw9S32j/kvJKoRfroP+a8JBTmOOS/XLvnHDXJ9D8AAAAAAAD4fz5pHAftW+k/DJmKr7ap3T8=",
          "dtype": "f8"
         },
         "xaxis": "x",
         "y": {
          "bdata": "AAAAAADAR0A3JdqUaFNOQNTqTqs7rURAAAAAAACAS0DkOI7jOA5CQAAAAAAAgCxAq6qqqqqqTUAAAAAAAIBRQAAAAAAAwFJAnxertBX+S0AAAAAAAABOQK2ixkiBuzNAAAAAAACgRkAAAAAAAIBAQAAAAAAAADlAVVVVVVVVR0AAAAAAAOBEQAAAAAAAgDFAMTYLqj0nMUAAAAAAAEAzQAAAAAAAADVATivunWSpMUAAAAAAANBRQAAAAAAAsFFAq6qqqqqqUkAAAAAAAIArQAAAAAAA8FBAAAAAAABARUAAAAAAAGBLQHDyN/mb/EpAVVVVVVVVS0Ct7rS60+pAQAAAAAAAAEtAAAAAAACQUkDEwQ4HOxxTQAAAAAAAAEBAAAAAAADAPkAAAAAAAIA5QCIuN3kOUExAZmZmZmZmSkA=",
          "dtype": "f8"
         },
         "yaxis": "y"
        },
        {
         "hovertemplate": "<b>OLS trendline</b><br>response = 7.59476 * value + 46.7591<br>R<sup>2</sup>=0.153472<br><br>variable=civic_cooperation<br>value=%{x}<br>response=%{y} <b>(trend)</b><extra></extra>",
         "legendgroup": "",
         "marker": {
          "color": "#636efa",
          "symbol": "circle"
         },
         "mode": "lines",
         "name": "",
         "showlegend": false,
         "type": "scatter",
         "x": {
          "bdata": "ZaMeQySFA8APJ87BhNz/v0kXyYcehfe/r+44ZLNo979iKj1Xedz2v5WctQzoIva/nMB1VLZG8L+FAmyyIfntv3d50ytpTuu/ifGRzAmq579sShRh0//lv4OnfU292+W/5rwkFOY45L+mJXT3trbLv0MHX6uU1b6/q69nh1HFwj/dN4kDxBHDP2xPaqo50NE/pfPvw9S32j95xqfTMvDbPxeVDNFfet0/DJmKr7ap3T8xI9ERdu/hP2dq0noQ8uU/Bt+zz5025j+Hp2VklUDmP29G8lWNweg/5LySqEX66D8+aRwH7VvpP21iCdCy9ew/SE6QnNwE7z8Qj3wALWvvPxV69cyoBPA/cqd4egM38T/s0L61IWDxP1y75xw1yfQ/zAUL99WP9j8=",
          "dtype": "f8"
         },
         "xaxis": "x",
         "y": {
          "bdata": "aN9WjlE6PEDUc5idp6I/QHrAaIoizEFAzn/HMeHSQUAiaOkZKfRBQCHLhdMzIEJAFnu3uUCEQ0DUTW3Im9JDQMjqQy6gI0RAGbHPwUSSREAprtqu2MREQBFwr/IgyURAq+aK7NT6REA9dGZ1r45GQJae1S4T7EZAkjtuVbnvR0CcMIju/fFHQOuE5be9b0hAeFFA1P/2SEAhHQ+KiAlJQGDE0uDrIElAzN6V8LojSUA1pMpABoJJQFMh6HbZ+0lA/wKhAvwDSkDF9S/NKgVKQCH3O846UUpAnR2Z5/VXSkBODEOIjGNKQInsphfv0EpArR+PzX0PS0C0WQwBohtLQLO9BjxmLktArElJuRt3S0BTl8H63YBLQJB8SGAUUExAUBnNtvq7TEA=",
          "dtype": "f8"
         },
         "yaxis": "y"
        },
        {
         "hovertemplate": "variable=GPS_posrecip<br>value=%{x}<br>response=%{y}<extra></extra>",
         "legendgroup": "",
         "marker": {
          "color": "#636efa",
          "symbol": "circle"
         },
         "mode": "markers",
         "name": "",
         "orientation": "v",
         "showlegend": false,
         "type": "scatter",
         "x": {
          "bdata": "xj0L969t4D/DWynqN4jOP3lp7ZyNkvE/vQV5FxYO5D/prbg/+R26P8qyxN+b1Pc/2uFeLg1B4z8a4QHho6zsvwAAAAAAAPh/QplxMUZB1r+wR1Zn7efLv1WFrVDevOS/JEvEk9SZu7/4lPzK78H1v4/NjY6uB94/XhQ+o5iWcr+ef/JwZxDiP2X48KBA4+4/E8gDpcdK7r8AAAAAAAD4f6bnsQfIJQnArQevkqBv+z/xQvLXiFjbvwAAAAAAAPh/AAAAAAAA+H/y4L6IZqDOvxMA6CypYt6/fDaApDMK4z9qm/OjnE/Vv5IMGL5PmdC/SEAddXzN8j/Z/s4qYSsEwM/0vaD4sO8/HU+zTgkSrr8QR6X5XxzaP2CVTUWtj+4/jVikHL889b/Z2caa/+nPP2r2+DTzWLe/MTXXR4S55D8=",
          "dtype": "f8"
         },
         "xaxis": "x2",
         "y": {
          "bdata": "AAAAAADAR0A3JdqUaFNOQNTqTqs7rURAAAAAAACAS0DkOI7jOA5CQAAAAAAAgCxAq6qqqqqqTUAAAAAAAIBRQAAAAAAAwFJAnxertBX+S0AAAAAAAABOQK2ixkiBuzNAAAAAAACgRkAAAAAAAIBAQAAAAAAAADlAVVVVVVVVR0AAAAAAAOBEQAAAAAAAgDFAMTYLqj0nMUAAAAAAAEAzQAAAAAAAADVATivunWSpMUAAAAAAANBRQAAAAAAAsFFAq6qqqqqqUkAAAAAAAIArQAAAAAAA8FBAAAAAAABARUAAAAAAAGBLQHDyN/mb/EpAVVVVVVVVS0Ct7rS60+pAQAAAAAAAAEtAAAAAAACQUkDEwQ4HOxxTQAAAAAAAAEBAAAAAAADAPkAAAAAAAIA5QCIuN3kOUExAZmZmZmZmSkA=",
          "dtype": "f8"
         },
         "yaxis": "y2"
        },
        {
         "hovertemplate": "<b>OLS trendline</b><br>response = 0.919031 * value + 43.8817<br>R<sup>2</sup>=0.002528<br><br>variable=GPS_posrecip<br>value=%{x}<br>response=%{y} <b>(trend)</b><extra></extra>",
         "legendgroup": "",
         "marker": {
          "color": "#636efa",
          "symbol": "circle"
         },
         "mode": "lines",
         "name": "",
         "showlegend": false,
         "type": "scatter",
         "x": {
          "bdata": "puexB8glCcDZ/s4qYSsEwPiU/MrvwfW/jVikHL889b8TyAOlx0ruvxrhAeGjrOy/VYWtUN685L8TAOgsqWLev/FC8teIWNu/QplxMUZB1r9qm/OjnE/Vv5IMGL5PmdC/8uC+iGagzr+wR1Zn7efLvyRLxJPUmbu/avb4NPNYt78dT7NOCRKuv14UPqOYlnK/6a24P/kduj/DWynqN4jOP9nZxpr/6c8/EEel+V8c2j+PzY2OrgfeP8Y9C/evbeA/nn/ycGcQ4j98NoCkMwrjP9rhXi4NQeM/vQV5FxYO5D8xNddHhLnkP2CVTUWtj+4/ZfjwoEDj7j/P9L2g+LDvP3lp7ZyNkvE/SEAddXzN8j/KssTfm9T3P60Hr5Kgb/s/",
          "dtype": "f8"
         },
         "xaxis": "x2",
         "y": {
          "bdata": "wFy+CBJ/REDZ6a93RchEQKqH3sziUEVAVtAVDLZURUCt9GXSfoFFQLCEJEBxh0VA1YRSS56kRUA8Le2wALlFQGIQbu+WvkVABOKBaPLHRUCEETaZrslFQNQpYNpX0kVAagigx7TURUD6lTDcNNdFQB+j4X0r5EVAwxVb2R/mRUDWw6Oq8elFQHqgLK9R8EVACfVnqNr8RUCzCRqy6QxGQH53mtQuDkZAwE21pNggRkAhj5PIDChGQKILxPk+LUZAT9vcOkIzRkCAEViE2DZGQHXaxSaiN0ZAQJd84pM6RkAmtYgVCj1GQIEdyiYzYUZA7yPEYmZiRkB9piCiWmVGQC4wwNIMckZAGz7OSRh7RkDww0OID6BGQC9xhMqRukZA",
          "dtype": "f8"
         },
         "yaxis": "y2"
        },
        {
         "hovertemplate": "variable=GPS_altruism<br>value=%{x}<br>response=%{y}<extra></extra>",
         "legendgroup": "",
         "marker": {
          "color": "#636efa",
          "symbol": "circle"
         },
         "mode": "markers",
         "name": "",
         "orientation": "v",
         "showlegend": false,
         "type": "scatter",
         "x": {
          "bdata": "0nefphXc0T+1uBh2jeDlP/tluyzWkfo/bRVT0Cld7T+KrB3uQizCv4Eml/nQnfw/BrhFWXI4oL+JfQVyBTkGwAAAAAAAAPh/R8xfVpIF179e3n6Z2A+gP25JPYfSZeE/yaMt83Cj1r8PZ0jE9ejkv5C366tjk+A/d6XvgL/Z6r8ErhysEZT0PyGYr2doqec/IT8dOpbn6b8AAAAAAAD4f9MBcRHTBQPAomp/Q9Bb/z+rfAVztCDavwAAAAAAAPh/AAAAAAAA+H8CeOTPVg3Nv6DjZlZ+R++/aq53635L1j/kOejx4Abiv/MZpu0/65q/zlYB76rY6b8SVj3vLFLqvz80+APlm8u/9Dt+SNZu1b8Plx2IDn3fP96VwcM8WtG/TlI5hfgO5r/6qWSuxsLlP3pNVQ9AFdI/Xkx+zLKj9z8=",
          "dtype": "f8"
         },
         "xaxis": "x3",
         "y": {
          "bdata": "AAAAAADAR0A3JdqUaFNOQNTqTqs7rURAAAAAAACAS0DkOI7jOA5CQAAAAAAAgCxAq6qqqqqqTUAAAAAAAIBRQAAAAAAAwFJAnxertBX+S0AAAAAAAABOQK2ixkiBuzNAAAAAAACgRkAAAAAAAIBAQAAAAAAAADlAVVVVVVVVR0AAAAAAAOBEQAAAAAAAgDFAMTYLqj0nMUAAAAAAAEAzQAAAAAAAADVATivunWSpMUAAAAAAANBRQAAAAAAAsFFAq6qqqqqqUkAAAAAAAIArQAAAAAAA8FBAAAAAAABARUAAAAAAAGBLQHDyN/mb/EpAVVVVVVVVS0Ct7rS60+pAQAAAAAAAAEtAAAAAAACQUkDEwQ4HOxxTQAAAAAAAAEBAAAAAAADAPkAAAAAAAIA5QCIuN3kOUExAZmZmZmZmSkA=",
          "dtype": "f8"
         },
         "yaxis": "y3"
        },
        {
         "hovertemplate": "<b>OLS trendline</b><br>response = -3.92447 * value + 43.8817<br>R<sup>2</sup>=0.046098<br><br>variable=GPS_altruism<br>value=%{x}<br>response=%{y} <b>(trend)</b><extra></extra>",
         "legendgroup": "",
         "marker": {
          "color": "#636efa",
          "symbol": "circle"
         },
         "mode": "lines",
         "name": "",
         "showlegend": false,
         "type": "scatter",
         "x": {
          "bdata": "iX0FcgU5BsDTAXER0wUDwKDjZlZ+R++/d6XvgL/Z6r8SVj3vLFLqvyE/HTqW5+m/zlYB76rY6b9OUjmF+A7mvw9nSMT16OS/5Dno8eAG4r+rfAVztCDav0fMX1aSBde/yaMt83Cj1r/0O35I1m7Vv96VwcM8WtG/Anjkz1YNzb8/NPgD5ZvLv4qsHe5CLMK/BrhFWXI4oL/zGabtP+uav17efpnYD6A/0nefphXc0T96TVUPQBXSP2qud+t+S9Y/D5cdiA593z+Qt+urY5PgP25JPYfSZeE/+qlkrsbC5T+1uBh2jeDlPyGYr2doqec/bRVT0Cld7T8ErhysEZT0P15Mfsyyo/c/+2W7LNaR+j+BJpf50J38P6Jqf0PQW/8/",
          "dtype": "f8"
         },
         "xaxis": "x3",
         "y": {
          "bdata": "DYxzb0BkS0Csw5TaUZtKQPzL8PLe20dAk0Yzj1mWR0CjjfVbCY5HQMJhvySAh0dAQhb58ZWGR0AeJZ/EH0tHQB0g12wYOUdAmrahHtYLR0B+4waQ7b1GQG168ZyMpUZAfG7LZIqiRkBpqvYtFJlGQNnQHy8NeUZA8klz8t1iRkDPw/ASNF1GQH7W6v8rOEZACGSyYsQARkAUrCLpDv5FQMow4iUY4UVA3CtnWqxkRUD1Dt+p62JFQLyzeJXcQUVA8by5orP5RECb7fkrpuxEQGIWOdK+30RAMNueBkGbREBr7jOZbZlEQJrMmPFpfURAMGXs4+YjRECaijBqx2pDQMtN28msCkNAfkDIpK2uQkAz9aXpam5CQI8nbzBTGEJA",
          "dtype": "f8"
         },
         "yaxis": "y3"
        },
        {
         "hovertemplate": "variable=stranger1<br>value=%{x}<br>response=%{y}<extra></extra>",
         "legendgroup": "",
         "marker": {
          "color": "#636efa",
          "symbol": "circle"
         },
         "mode": "markers",
         "name": "",
         "orientation": "v",
         "showlegend": false,
         "type": "scatter",
         "x": {
          "bdata": "Q1lCvHmltb81DuU91u7xPzaqTwEn19G/bJLO/UYK8j85KM/Wl2Pqv1bZ/zdxW7q/qoW1/fe12b8AAAAAAAD4f/CKHE++Yfc/MY7ptwnCpz/2KuHRD3bwPxZOgTqp390/U3nopItD8L/AMwQlmP7Zvzqc/YDkjvW/FlTkxGktxL8k1cF9eejrvx13f+hlPN8/QdyjlH3P5L9EvbpBtgf4v2qavj4mevi/kwg6tHaV4r8HZMN4HzX2P4mGT8ftCvk/0atoGw7fAkB19umgPmv4v2yfBvzKqNe/sAl53sb/mT+zHaFfCLLbv6ErCBKPzNc/2MgTe5eFzj9r9bo2mnnwv7/nbdaV2d4/UMVDo+sw3D/UYgXa49bwPzH5FexbnQLAlFu3PHSR2L8nGOqCtLfxP5id8zmubOA/OKsyVBpR4T8=",
          "dtype": "f8"
         },
         "xaxis": "x4",
         "y": {
          "bdata": "AAAAAADAR0A3JdqUaFNOQNTqTqs7rURAAAAAAACAS0DkOI7jOA5CQAAAAAAAgCxAq6qqqqqqTUAAAAAAAIBRQAAAAAAAwFJAnxertBX+S0AAAAAAAABOQK2ixkiBuzNAAAAAAACgRkAAAAAAAIBAQAAAAAAAADlAVVVVVVVVR0AAAAAAAOBEQAAAAAAAgDFAMTYLqj0nMUAAAAAAAEAzQAAAAAAAADVATivunWSpMUAAAAAAANBRQAAAAAAAsFFAq6qqqqqqUkAAAAAAAIArQAAAAAAA8FBAAAAAAABARUAAAAAAAGBLQHDyN/mb/EpAVVVVVVVVS0Ct7rS60+pAQAAAAAAAAEtAAAAAAACQUkDEwQ4HOxxTQAAAAAAAAEBAAAAAAADAPkAAAAAAAIA5QCIuN3kOUExAZmZmZmZmSkA=",
          "dtype": "f8"
         },
         "yaxis": "y4"
        },
        {
         "hovertemplate": "<b>OLS trendline</b><br>response = 12.4597 * value + 44.8566<br>R<sup>2</sup>=0.416027<br><br>variable=stranger1<br>value=%{x}<br>response=%{y} <b>(trend)</b><extra></extra>",
         "legendgroup": "",
         "marker": {
          "color": "#636efa",
          "symbol": "circle"
         },
         "mode": "lines",
         "name": "",
         "showlegend": false,
         "type": "scatter",
         "x": {
          "bdata": "MfkV7FudAsBqmr4+Jnr4v3X26aA+a/i/RL26QbYH+L86nP2A5I71v2v1ujaaefC/U3nopItD8L8k1cF9eejrvzkoz9aXY+q/QdyjlH3P5L+TCDq0dpXiv7MdoV8Istu/wDMEJZj+2b+qhbX997XZv5Rbtzx0kdi/bJ8G/Mqo1782qk8BJ9fRvxZU5MRpLcS/Vtn/N3Fbur9DWUK8eaW1v7AJed7G/5k/MY7ptwnCpz/YyBN7l4XOP6ErCBKPzNc/UMVDo+sw3D8WToE6qd/dP7/nbdaV2d4/HXd/6GU83z+YnfM5rmzgPzirMlQaUeE/9irh0Q928D/UYgXa49bwPycY6oK0t/E/NQ7lPdbu8T9sks79RgryPwdkw3gfNfY/8IocT75h9z+Jhk/H7Qr5P9GraBsO3wJA",
          "dtype": "f8"
         },
         "xaxis": "x4",
         "y": {
          "bdata": "Nku4QuG6L0DJApdIp8s5QHjcIJ1C1zlANbhW6cQkOkBVStxUkBE8QHoE+Dp1A0BAFIDreYEYQEB4XcR3vf5AQPY9TMpySkFAZ46RenlgQkB2VH7Xcs9CQBILFJF9u0NA7tkqZeDlQ0DPV/ss8uxDQBiYK3FrCURA8WUOMxEgREAgFDIHErFEQKwtDhE9ckVAohaQ8HDJRUB/HEPoyeZFQAZ6SHIilkZAasZSY6W3RkDLliYN7+lHQJAvM8eyvkhAmOaVGiUsSUC07r/dElZJQMBH/c5mbklALrbaJwV4SUCQHgvqN6BJQG5baCuwzElAZm75kHLWTEBu/4IkJvxMQMkY+hivU01A7Ho0eyZpTUBHKCGr1XNNQNW+we85E09A7Hot90aIT0AXUVQl6hZQQGC79Zncj1JA",
          "dtype": "f8"
         },
         "yaxis": "y4"
        }
       ],
       "layout": {
        "annotations": [
         {
          "font": {},
          "showarrow": false,
          "text": "civic_cooperation (N=37)",
          "x": 0.10250000000000001,
          "xanchor": "center",
          "xref": "paper",
          "y": 0.425,
          "yanchor": "bottom",
          "yref": "paper"
         },
         {
          "font": {},
          "showarrow": false,
          "text": "GPS_posrecip (N=36)",
          "x": 0.36750000000000005,
          "xanchor": "center",
          "xref": "paper",
          "y": 0.425,
          "yanchor": "bottom",
          "yref": "paper"
         },
         {
          "font": {},
          "showarrow": false,
          "text": "GPS_altruism (N=36)",
          "x": 0.6325000000000001,
          "xanchor": "center",
          "xref": "paper",
          "y": 0.425,
          "yanchor": "bottom",
          "yref": "paper"
         },
         {
          "font": {},
          "showarrow": false,
          "text": "stranger1 (N=39)",
          "x": 0.8975,
          "xanchor": "center",
          "xref": "paper",
          "y": 0.425,
          "yanchor": "bottom",
          "yref": "paper"
         },
         {
          "font": {},
          "showarrow": false,
          "text": "general_trust (N=39)",
          "x": 0.10250000000000001,
          "xanchor": "center",
          "xref": "paper",
          "y": 1,
          "yanchor": "bottom",
          "yref": "paper"
         },
         {
          "font": {},
          "showarrow": false,
          "text": "GPS_trust (N=36)",
          "x": 0.36750000000000005,
          "xanchor": "center",
          "xref": "paper",
          "y": 1,
          "yanchor": "bottom",
          "yref": "paper"
         },
         {
          "font": {},
          "showarrow": false,
          "text": "general_morality (N=38)",
          "x": 0.6325000000000001,
          "xanchor": "center",
          "xref": "paper",
          "y": 1,
          "yanchor": "bottom",
          "yref": "paper"
         },
         {
          "font": {},
          "showarrow": false,
          "text": "MFQ_genmorality (N=35)",
          "x": 0.8975,
          "xanchor": "center",
          "xref": "paper",
          "y": 1,
          "yanchor": "bottom",
          "yref": "paper"
         }
        ],
        "legend": {
         "tracegroupgap": 0
        },
        "margin": {
         "t": 60
        },
        "template": {
         "data": {
          "bar": [
           {
            "error_x": {
             "color": "#2a3f5f"
            },
            "error_y": {
             "color": "#2a3f5f"
            },
            "marker": {
             "line": {
              "color": "white",
              "width": 0.5
             },
             "pattern": {
              "fillmode": "overlay",
              "size": 10,
              "solidity": 0.2
             }
            },
            "type": "bar"
           }
          ],
          "barpolar": [
           {
            "marker": {
             "line": {
              "color": "white",
              "width": 0.5
             },
             "pattern": {
              "fillmode": "overlay",
              "size": 10,
              "solidity": 0.2
             }
            },
            "type": "barpolar"
           }
          ],
          "carpet": [
           {
            "aaxis": {
             "endlinecolor": "#2a3f5f",
             "gridcolor": "#C8D4E3",
             "linecolor": "#C8D4E3",
             "minorgridcolor": "#C8D4E3",
             "startlinecolor": "#2a3f5f"
            },
            "baxis": {
             "endlinecolor": "#2a3f5f",
             "gridcolor": "#C8D4E3",
             "linecolor": "#C8D4E3",
             "minorgridcolor": "#C8D4E3",
             "startlinecolor": "#2a3f5f"
            },
            "type": "carpet"
           }
          ],
          "choropleth": [
           {
            "colorbar": {
             "outlinewidth": 0,
             "ticks": ""
            },
            "type": "choropleth"
           }
          ],
          "contour": [
           {
            "colorbar": {
             "outlinewidth": 0,
             "ticks": ""
            },
            "colorscale": [
             [
              0,
              "#0d0887"
             ],
             [
              0.1111111111111111,
              "#46039f"
             ],
             [
              0.2222222222222222,
              "#7201a8"
             ],
             [
              0.3333333333333333,
              "#9c179e"
             ],
             [
              0.4444444444444444,
              "#bd3786"
             ],
             [
              0.5555555555555556,
              "#d8576b"
             ],
             [
              0.6666666666666666,
              "#ed7953"
             ],
             [
              0.7777777777777778,
              "#fb9f3a"
             ],
             [
              0.8888888888888888,
              "#fdca26"
             ],
             [
              1,
              "#f0f921"
             ]
            ],
            "type": "contour"
           }
          ],
          "contourcarpet": [
           {
            "colorbar": {
             "outlinewidth": 0,
             "ticks": ""
            },
            "type": "contourcarpet"
           }
          ],
          "heatmap": [
           {
            "colorbar": {
             "outlinewidth": 0,
             "ticks": ""
            },
            "colorscale": [
             [
              0,
              "#0d0887"
             ],
             [
              0.1111111111111111,
              "#46039f"
             ],
             [
              0.2222222222222222,
              "#7201a8"
             ],
             [
              0.3333333333333333,
              "#9c179e"
             ],
             [
              0.4444444444444444,
              "#bd3786"
             ],
             [
              0.5555555555555556,
              "#d8576b"
             ],
             [
              0.6666666666666666,
              "#ed7953"
             ],
             [
              0.7777777777777778,
              "#fb9f3a"
             ],
             [
              0.8888888888888888,
              "#fdca26"
             ],
             [
              1,
              "#f0f921"
             ]
            ],
            "type": "heatmap"
           }
          ],
          "histogram": [
           {
            "marker": {
             "pattern": {
              "fillmode": "overlay",
              "size": 10,
              "solidity": 0.2
             }
            },
            "type": "histogram"
           }
          ],
          "histogram2d": [
           {
            "colorbar": {
             "outlinewidth": 0,
             "ticks": ""
            },
            "colorscale": [
             [
              0,
              "#0d0887"
             ],
             [
              0.1111111111111111,
              "#46039f"
             ],
             [
              0.2222222222222222,
              "#7201a8"
             ],
             [
              0.3333333333333333,
              "#9c179e"
             ],
             [
              0.4444444444444444,
              "#bd3786"
             ],
             [
              0.5555555555555556,
              "#d8576b"
             ],
             [
              0.6666666666666666,
              "#ed7953"
             ],
             [
              0.7777777777777778,
              "#fb9f3a"
             ],
             [
              0.8888888888888888,
              "#fdca26"
             ],
             [
              1,
              "#f0f921"
             ]
            ],
            "type": "histogram2d"
           }
          ],
          "histogram2dcontour": [
           {
            "colorbar": {
             "outlinewidth": 0,
             "ticks": ""
            },
            "colorscale": [
             [
              0,
              "#0d0887"
             ],
             [
              0.1111111111111111,
              "#46039f"
             ],
             [
              0.2222222222222222,
              "#7201a8"
             ],
             [
              0.3333333333333333,
              "#9c179e"
             ],
             [
              0.4444444444444444,
              "#bd3786"
             ],
             [
              0.5555555555555556,
              "#d8576b"
             ],
             [
              0.6666666666666666,
              "#ed7953"
             ],
             [
              0.7777777777777778,
              "#fb9f3a"
             ],
             [
              0.8888888888888888,
              "#fdca26"
             ],
             [
              1,
              "#f0f921"
             ]
            ],
            "type": "histogram2dcontour"
           }
          ],
          "mesh3d": [
           {
            "colorbar": {
             "outlinewidth": 0,
             "ticks": ""
            },
            "type": "mesh3d"
           }
          ],
          "parcoords": [
           {
            "line": {
             "colorbar": {
              "outlinewidth": 0,
              "ticks": ""
             }
            },
            "type": "parcoords"
           }
          ],
          "pie": [
           {
            "automargin": true,
            "type": "pie"
           }
          ],
          "scatter": [
           {
            "fillpattern": {
             "fillmode": "overlay",
             "size": 10,
             "solidity": 0.2
            },
            "type": "scatter"
           }
          ],
          "scatter3d": [
           {
            "line": {
             "colorbar": {
              "outlinewidth": 0,
              "ticks": ""
             }
            },
            "marker": {
             "colorbar": {
              "outlinewidth": 0,
              "ticks": ""
             }
            },
            "type": "scatter3d"
           }
          ],
          "scattercarpet": [
           {
            "marker": {
             "colorbar": {
              "outlinewidth": 0,
              "ticks": ""
             }
            },
            "type": "scattercarpet"
           }
          ],
          "scattergeo": [
           {
            "marker": {
             "colorbar": {
              "outlinewidth": 0,
              "ticks": ""
             }
            },
            "type": "scattergeo"
           }
          ],
          "scattergl": [
           {
            "marker": {
             "colorbar": {
              "outlinewidth": 0,
              "ticks": ""
             }
            },
            "type": "scattergl"
           }
          ],
          "scattermap": [
           {
            "marker": {
             "colorbar": {
              "outlinewidth": 0,
              "ticks": ""
             }
            },
            "type": "scattermap"
           }
          ],
          "scattermapbox": [
           {
            "marker": {
             "colorbar": {
              "outlinewidth": 0,
              "ticks": ""
             }
            },
            "type": "scattermapbox"
           }
          ],
          "scatterpolar": [
           {
            "marker": {
             "colorbar": {
              "outlinewidth": 0,
              "ticks": ""
             }
            },
            "type": "scatterpolar"
           }
          ],
          "scatterpolargl": [
           {
            "marker": {
             "colorbar": {
              "outlinewidth": 0,
              "ticks": ""
             }
            },
            "type": "scatterpolargl"
           }
          ],
          "scatterternary": [
           {
            "marker": {
             "colorbar": {
              "outlinewidth": 0,
              "ticks": ""
             }
            },
            "type": "scatterternary"
           }
          ],
          "surface": [
           {
            "colorbar": {
             "outlinewidth": 0,
             "ticks": ""
            },
            "colorscale": [
             [
              0,
              "#0d0887"
             ],
             [
              0.1111111111111111,
              "#46039f"
             ],
             [
              0.2222222222222222,
              "#7201a8"
             ],
             [
              0.3333333333333333,
              "#9c179e"
             ],
             [
              0.4444444444444444,
              "#bd3786"
             ],
             [
              0.5555555555555556,
              "#d8576b"
             ],
             [
              0.6666666666666666,
              "#ed7953"
             ],
             [
              0.7777777777777778,
              "#fb9f3a"
             ],
             [
              0.8888888888888888,
              "#fdca26"
             ],
             [
              1,
              "#f0f921"
             ]
            ],
            "type": "surface"
           }
          ],
          "table": [
           {
            "cells": {
             "fill": {
              "color": "#EBF0F8"
             },
             "line": {
              "color": "white"
             }
            },
            "header": {
             "fill": {
              "color": "#C8D4E3"
             },
             "line": {
              "color": "white"
             }
            },
            "type": "table"
           }
          ]
         },
         "layout": {
          "annotationdefaults": {
           "arrowcolor": "#2a3f5f",
           "arrowhead": 0,
           "arrowwidth": 1
          },
          "autotypenumbers": "strict",
          "coloraxis": {
           "colorbar": {
            "outlinewidth": 0,
            "ticks": ""
           }
          },
          "colorscale": {
           "diverging": [
            [
             0,
             "#8e0152"
            ],
            [
             0.1,
             "#c51b7d"
            ],
            [
             0.2,
             "#de77ae"
            ],
            [
             0.3,
             "#f1b6da"
            ],
            [
             0.4,
             "#fde0ef"
            ],
            [
             0.5,
             "#f7f7f7"
            ],
            [
             0.6,
             "#e6f5d0"
            ],
            [
             0.7,
             "#b8e186"
            ],
            [
             0.8,
             "#7fbc41"
            ],
            [
             0.9,
             "#4d9221"
            ],
            [
             1,
             "#276419"
            ]
           ],
           "sequential": [
            [
             0,
             "#0d0887"
            ],
            [
             0.1111111111111111,
             "#46039f"
            ],
            [
             0.2222222222222222,
             "#7201a8"
            ],
            [
             0.3333333333333333,
             "#9c179e"
            ],
            [
             0.4444444444444444,
             "#bd3786"
            ],
            [
             0.5555555555555556,
             "#d8576b"
            ],
            [
             0.6666666666666666,
             "#ed7953"
            ],
            [
             0.7777777777777778,
             "#fb9f3a"
            ],
            [
             0.8888888888888888,
             "#fdca26"
            ],
            [
             1,
             "#f0f921"
            ]
           ],
           "sequentialminus": [
            [
             0,
             "#0d0887"
            ],
            [
             0.1111111111111111,
             "#46039f"
            ],
            [
             0.2222222222222222,
             "#7201a8"
            ],
            [
             0.3333333333333333,
             "#9c179e"
            ],
            [
             0.4444444444444444,
             "#bd3786"
            ],
            [
             0.5555555555555556,
             "#d8576b"
            ],
            [
             0.6666666666666666,
             "#ed7953"
            ],
            [
             0.7777777777777778,
             "#fb9f3a"
            ],
            [
             0.8888888888888888,
             "#fdca26"
            ],
            [
             1,
             "#f0f921"
            ]
           ]
          },
          "colorway": [
           "#636efa",
           "#EF553B",
           "#00cc96",
           "#ab63fa",
           "#FFA15A",
           "#19d3f3",
           "#FF6692",
           "#B6E880",
           "#FF97FF",
           "#FECB52"
          ],
          "font": {
           "color": "#2a3f5f"
          },
          "geo": {
           "bgcolor": "white",
           "lakecolor": "white",
           "landcolor": "white",
           "showlakes": true,
           "showland": true,
           "subunitcolor": "#C8D4E3"
          },
          "hoverlabel": {
           "align": "left"
          },
          "hovermode": "closest",
          "mapbox": {
           "style": "light"
          },
          "paper_bgcolor": "white",
          "plot_bgcolor": "white",
          "polar": {
           "angularaxis": {
            "gridcolor": "#EBF0F8",
            "linecolor": "#EBF0F8",
            "ticks": ""
           },
           "bgcolor": "white",
           "radialaxis": {
            "gridcolor": "#EBF0F8",
            "linecolor": "#EBF0F8",
            "ticks": ""
           }
          },
          "scene": {
           "xaxis": {
            "backgroundcolor": "white",
            "gridcolor": "#DFE8F3",
            "gridwidth": 2,
            "linecolor": "#EBF0F8",
            "showbackground": true,
            "ticks": "",
            "zerolinecolor": "#EBF0F8"
           },
           "yaxis": {
            "backgroundcolor": "white",
            "gridcolor": "#DFE8F3",
            "gridwidth": 2,
            "linecolor": "#EBF0F8",
            "showbackground": true,
            "ticks": "",
            "zerolinecolor": "#EBF0F8"
           },
           "zaxis": {
            "backgroundcolor": "white",
            "gridcolor": "#DFE8F3",
            "gridwidth": 2,
            "linecolor": "#EBF0F8",
            "showbackground": true,
            "ticks": "",
            "zerolinecolor": "#EBF0F8"
           }
          },
          "shapedefaults": {
           "line": {
            "color": "#2a3f5f"
           }
          },
          "ternary": {
           "aaxis": {
            "gridcolor": "#DFE8F3",
            "linecolor": "#A2B1C6",
            "ticks": ""
           },
           "baxis": {
            "gridcolor": "#DFE8F3",
            "linecolor": "#A2B1C6",
            "ticks": ""
           },
           "bgcolor": "white",
           "caxis": {
            "gridcolor": "#DFE8F3",
            "linecolor": "#A2B1C6",
            "ticks": ""
           }
          },
          "title": {
           "x": 0.05
          },
          "xaxis": {
           "automargin": true,
           "gridcolor": "#EBF0F8",
           "linecolor": "#EBF0F8",
           "ticks": "",
           "title": {
            "standoff": 15
           },
           "zerolinecolor": "#EBF0F8",
           "zerolinewidth": 2
          },
          "yaxis": {
           "automargin": true,
           "gridcolor": "#EBF0F8",
           "linecolor": "#EBF0F8",
           "ticks": "",
           "title": {
            "standoff": 15
           },
           "zerolinecolor": "#EBF0F8",
           "zerolinewidth": 2
          }
         }
        },
        "xaxis": {
         "anchor": "y",
         "domain": [
          0,
          0.20500000000000002
         ],
         "linecolor": "darkgray",
         "showline": true,
         "title": {
          "text": "value"
         }
        },
        "xaxis2": {
         "anchor": "y2",
         "domain": [
          0.265,
          0.47000000000000003
         ],
         "linecolor": "darkgray",
         "matches": "x",
         "showline": true,
         "title": {
          "text": "value"
         }
        },
        "xaxis3": {
         "anchor": "y3",
         "domain": [
          0.53,
          0.7350000000000001
         ],
         "linecolor": "darkgray",
         "matches": "x",
         "showline": true,
         "title": {
          "text": "value"
         }
        },
        "xaxis4": {
         "anchor": "y4",
         "domain": [
          0.7949999999999999,
          1
         ],
         "linecolor": "darkgray",
         "matches": "x",
         "showline": true,
         "title": {
          "text": "value"
         }
        },
        "xaxis5": {
         "anchor": "y5",
         "domain": [
          0,
          0.20500000000000002
         ],
         "linecolor": "darkgray",
         "matches": "x",
         "showline": true,
         "showticklabels": false
        },
        "xaxis6": {
         "anchor": "y6",
         "domain": [
          0.265,
          0.47000000000000003
         ],
         "linecolor": "darkgray",
         "matches": "x",
         "showline": true,
         "showticklabels": false
        },
        "xaxis7": {
         "anchor": "y7",
         "domain": [
          0.53,
          0.7350000000000001
         ],
         "linecolor": "darkgray",
         "matches": "x",
         "showline": true,
         "showticklabels": false
        },
        "xaxis8": {
         "anchor": "y8",
         "domain": [
          0.7949999999999999,
          1
         ],
         "linecolor": "darkgray",
         "matches": "x",
         "showline": true,
         "showticklabels": false
        },
        "yaxis": {
         "anchor": "x",
         "domain": [
          0,
          0.425
         ],
         "linecolor": "darkgray",
         "showline": true,
         "title": {
          "text": "response"
         }
        },
        "yaxis2": {
         "anchor": "x2",
         "domain": [
          0,
          0.425
         ],
         "linecolor": "darkgray",
         "matches": "y",
         "showline": true,
         "showticklabels": false
        },
        "yaxis3": {
         "anchor": "x3",
         "domain": [
          0,
          0.425
         ],
         "linecolor": "darkgray",
         "matches": "y",
         "showline": true,
         "showticklabels": false
        },
        "yaxis4": {
         "anchor": "x4",
         "domain": [
          0,
          0.425
         ],
         "linecolor": "darkgray",
         "matches": "y",
         "showline": true,
         "showticklabels": false
        },
        "yaxis5": {
         "anchor": "x5",
         "domain": [
          0.575,
          1
         ],
         "linecolor": "darkgray",
         "matches": "y",
         "showline": true,
         "title": {
          "text": "response"
         }
        },
        "yaxis6": {
         "anchor": "x6",
         "domain": [
          0.575,
          1
         ],
         "linecolor": "darkgray",
         "matches": "y",
         "showline": true,
         "showticklabels": false
        },
        "yaxis7": {
         "anchor": "x7",
         "domain": [
          0.575,
          1
         ],
         "linecolor": "darkgray",
         "matches": "y",
         "showline": true,
         "showticklabels": false
        },
        "yaxis8": {
         "anchor": "x8",
         "domain": [
          0.575,
          1
         ],
         "linecolor": "darkgray",
         "matches": "y",
         "showline": true,
         "showticklabels": false
        }
       }
      }
     },
     "metadata": {},
     "output_type": "display_data"
    }
   ],
   "source": [
    "# Reshape dataframe for graphing ease.\n",
    "df_reshaped = country_avg_data.reset_index().melt(\n",
    "    id_vars=[\"country\", \"response\", \"pisa_score\"]\n",
    ")\n",
    "\n",
    "# Calculate sample size for each survey measure and wallet report rates \n",
    "ens_wallet = pd.DataFrame(\n",
    "    {\n",
    "        col: country_avg_data[[\"response\", col]].dropna().shape[0]\n",
    "        for col in survey_cols\n",
    "    },\n",
    "    index=[\"N\"],\n",
    ")\n",
    "\n",
    "# Wallet report rate vs survey measure facet plot.\n",
    "fig = px.scatter(\n",
    "    df_reshaped,\n",
    "    x=\"value\",\n",
    "    y=\"response\",\n",
    "    facet_col=\"variable\",\n",
    "    facet_col_wrap=4,\n",
    "    trendline=\"ols\",\n",
    "    facet_col_spacing=0.06,\n",
    "    facet_row_spacing=0.15,\n",
    ")\n",
    "fig.update_xaxes(showline=True, linecolor=\"darkgray\")\n",
    "fig.update_yaxes(showline=True, linecolor=\"darkgray\")\n",
    "fig.for_each_annotation(\n",
    "    lambda a: a.update(\n",
    "        text=a.text.split(\"=\")[-1]\n",
    "        + \" (N=\"\n",
    "        + str(ens_wallet.loc[\"N\", a.text.split(\"=\")[-1]])\n",
    "        + \")\"\n",
    "    )\n",
    ")\n",
    "fig.show()"
   ]
  },
  {
   "cell_type": "markdown",
   "id": "9f730a3d",
   "metadata": {},
   "source": [
    "The facet plot above is a replication of Figure 3 from **Tannenbaum** and can be compared with the plot below that has PISA scores instead of wallet return rates on the y-axes."
   ]
  },
  {
   "cell_type": "code",
   "execution_count": 4,
   "id": "a2643497",
   "metadata": {
    "tags": [
     "hide-input"
    ]
   },
   "outputs": [
    {
     "data": {
      "application/vnd.plotly.v1+json": {
       "config": {
        "plotlyServerURL": "https://plot.ly"
       },
       "data": [
        {
         "hovertemplate": "variable=general_trust<br>value=%{x}<br>pisa_score=%{y}<extra></extra>",
         "legendgroup": "",
         "marker": {
          "color": "#636efa",
          "symbol": "circle"
         },
         "mode": "markers",
         "name": "",
         "orientation": "v",
         "showlegend": false,
         "type": "scatter",
         "x": {
          "bdata": "hQ0CCDxS4r+z6Elssl/wPwwDOJJJi/W/J836yNys7D/y93CJgOLlv6gSZr3qUPo/xQYmcfn84b9pYr35CEfLv36KMmW50wFAgyolpm/p1b9jW3SZ6OraP/D9kcoBW/W/HHVXpEHc5r8gYpl7H9O0v0sdvkMp3ti/BUKZ9PcV2b+PgJcn8UiYP38VCEZxi7g/GDBf/vQ1878eIDtesjbwv/Ji34w+bOS/l5TZ8ULZ6b9K+xNqmCb5P2RwH+3UIvU/zBhH7B2IAUB9qoLFu+n0v410cUL4G9a/WLCz9Urg57+xNC00DMPsv2lCl3stUce/gh8avODo5b+k9P6A43Tgv2Xr5uVI7L4/aEQbrjZY/z/hbbd3RSH0PzTFj3QfKNI/E++QSMe58L8AAAAAAAD4f6bfCgoVido/APPCgSH84T8=",
          "dtype": "f8"
         },
         "xaxis": "x5",
         "y": {
          "bdata": "AAAAAACweEBVVVVVVRV/QFVVVVVV1XhAVVVVVVWlf0Crqqqqqip7QAAAAAAAAPh/q6qqqqqafUBVVVVVVbV+QKuqqqqqqn5AVVVVVVXlfUBVVVVVVSV+QAAAAAAAAPh/VVVVVVVFe0AAAAAAAAD4f1VVVVVVFXdAq6qqqqoafUCrqqqqqsp9QFVVVVVVtXlAAAAAAAAA+H9VVVVVVUV5QKuqqqqqanlAVVVVVVVFdkAAAAAAAAB+QKuqqqqq6n5AVVVVVVWlfUBVVVVVVSV5QFVVVVVVxX5Aq6qqqqrafUAAAAAAAMB6QAAAAAAAAPh/VVVVVVWle0AAAAAAAAD4f1VVVVVV1X1Aq6qqqqp6fkAAAAAAACB/QAAAAAAAoHhAAAAAAAAA+H+rqqqqqqp6QFVVVVVV5X5AVVVVVVWVfkA=",
          "dtype": "f8"
         },
         "yaxis": "y5"
        },
        {
         "hovertemplate": "<b>OLS trendline</b><br>pisa_score = 26.4067 * value + 451.073<br>R<sup>2</sup>=0.373362<br><br>variable=general_trust<br>value=%{x}<br>pisa_score=%{y} <b>(trend)</b><extra></extra>",
         "legendgroup": "",
         "marker": {
          "color": "#636efa",
          "symbol": "circle"
         },
         "mode": "lines",
         "name": "",
         "showlegend": false,
         "type": "scatter",
         "x": {
          "bdata": "DAM4kkmL9b99qoLFu+n0vx4gO16yNvC/sTQtNAzD7L+XlNnxQtnpv1iws/VK4Oe/HHVXpEHc5r+CHxq84Ojlv/L3cImA4uW/8mLfjD5s5L+FDQIIPFLiv8UGJnH5/OG/BUKZ9PcV2b9LHb5DKd7Yv410cUL4G9a/gyolpm/p1b9pYr35CEfLv4+AlyfxSJg/fxUIRnGLuD9l6+blSOy+PzTFj3QfKNI/pt8KChWJ2j9jW3SZ6OraPwDzwoEh/OE/J836yNys7D+z6Elssl/wP+Ftt3dFIfQ/ZHAf7dQi9T9K+xNqmCb5P2hEG642WP8/zBhH7B2IAUB+ijJludMBQA==",
          "dtype": "f8"
         },
         "xaxis": "x5",
         "y": {
          "bdata": "z06vAEP4eUBln+4Z7Qh6QNy/uEcFhXpA/sSPkWq1ekCRTLRt4dt6QMwnN7Ls9XpAXgzNClYDe0Dkn/hy4w97QFagaqE3EHtAY/IpFIUje0B2A3uZRD97QAAeHVGqQ3tAQB9VoI+Le0AEL0UMAI17QHvbMRY2n3tA4v9asYOge0DRYwN7Idd7QKqqUHEwO3xAABkXmq1ZfEATaJl4NGR8QO9liqcIqXxAGZ+19FjgfEC0ZOPF3uJ8QFvSMCmhHn1AWpCSIMerfUB4Fl8DjOF9QMpYkPq7RH5A9duhSU1ffkAHTvAWUcl+QDIXh/ffbH9AmmM8oxPPf0DhHuS1rN5/QA==",
          "dtype": "f8"
         },
         "yaxis": "y5"
        },
        {
         "hovertemplate": "variable=GPS_trust<br>value=%{x}<br>pisa_score=%{y}<extra></extra>",
         "legendgroup": "",
         "marker": {
          "color": "#636efa",
          "symbol": "circle"
         },
         "mode": "markers",
         "name": "",
         "orientation": "v",
         "showlegend": false,
         "type": "scatter",
         "x": {
          "bdata": "glTbSY5q67+p0ajwEJTyP1oHM3YIy6W/g0XBQNlM7j9g62qM1UnXv6QYaD5hZAFAs3B4upTO2D+HjLnTc0j9vwAAAAAAAPh/GxmtGiAm5r81aRzG5TDgv+Uy3eOoTeq/O0LujHXz9r8MMuCHmRDrv7PEW6DiUfA/jFSsV3B7z7+++tmnbB/Vv7OKJI+BguI/SArI8pZ4+78AAAAAAAD4f9xiKstwTve/+QW7NA0a2b/kGKfGGYXyPwAAAAAAAPh/AAAAAAAA+H/StAiByMnav98eO/afy+O/gFeor7AN0z/lpaEWtbvsv5ceAeRdReS/QVJu+5h55b9Kz1CUDVXmv9Rm2yuFwu0/uzMpTCMW8z/rXnGXI4LUP8QxwjKRvPU/FI3zaDrv3j+HzxYr393/P6tEVTs88+w/k80w/XUu4j8=",
          "dtype": "f8"
         },
         "xaxis": "x6",
         "y": {
          "bdata": "AAAAAACweEBVVVVVVRV/QFVVVVVV1XhAVVVVVVWlf0Crqqqqqip7QAAAAAAAAPh/q6qqqqqafUBVVVVVVbV+QKuqqqqqqn5AVVVVVVXlfUBVVVVVVSV+QAAAAAAAAPh/VVVVVVVFe0AAAAAAAAD4f1VVVVVVFXdAq6qqqqoafUCrqqqqqsp9QFVVVVVVtXlAAAAAAAAA+H9VVVVVVUV5QKuqqqqqanlAVVVVVVVFdkAAAAAAAAB+QKuqqqqq6n5AVVVVVVWlfUBVVVVVVSV5QFVVVVVVxX5Aq6qqqqrafUAAAAAAAMB6QAAAAAAAAPh/VVVVVVWle0AAAAAAAAD4f1VVVVVV1X1Aq6qqqqp6fkAAAAAAACB/QAAAAAAAoHhAAAAAAAAA+H+rqqqqqqp6QFVVVVVV5X5AVVVVVVWVfkA=",
          "dtype": "f8"
         },
         "yaxis": "y6"
        },
        {
         "hovertemplate": "<b>OLS trendline</b><br>pisa_score = 5.80138 * value + 450.232<br>R<sup>2</sup>=0.016212<br><br>variable=GPS_trust<br>value=%{x}<br>pisa_score=%{y} <b>(trend)</b><extra></extra>",
         "legendgroup": "",
         "marker": {
          "color": "#636efa",
          "symbol": "circle"
         },
         "mode": "lines",
         "name": "",
         "showlegend": false,
         "type": "scatter",
         "x": {
          "bdata": "h4y503NI/b/cYirLcE73vztC7ox18/a/5aWhFrW77L+CVNtJjmrrvxsZrRogJua/QVJu+5h55b/fHjv2n8vjvzVpHMblMOC/0rQIgcjJ2r/5Bbs0DRrZv2DraozVSde/vvrZp2wf1b+MVKxXcHvPv1oHM3YIy6W/gFeor7AN0z/rXnGXI4LUP7NweLqUztg/k80w/XUu4j+ziiSPgYLiP6tEVTs88+w/1GbbK4XC7T+DRcFA2UzuP7PEW6DiUfA/5BinxhmF8j+p0ajwEJTyP7szKUwjFvM/xDHCMpG89T+HzxYr393/Pw==",
          "dtype": "f8"
         },
         "xaxis": "x6",
         "y": {
          "bdata": "VpTm39N5e0BXn2oNgJx7QAiSu96PnntAWWTgAl3Qe0ANPK/7LtR7QLpMV1x243tAibhvz2rle0DTsA8HSup7QLilnZK+9HtAnY/De9v8e0DJXqKkTf97QFJ6F+vuAXxAQLrlABMFfEB/IYsm4Qx8QJhIPjHCH3xA4ZfQ9lc/fEDUj68kdEF8QF400SmwR3xAY2PrxnJYfECY7+aQZll8QCWOo1Kvd3xAAqaJlwh6fEBzSvvWmXt8QDXVQSBjgnxA38BGjSaPfEBwKU9ffY98QDXXrvdvknxAcaXqys+hfECk8a+IlNx8QA==",
          "dtype": "f8"
         },
         "yaxis": "y6"
        },
        {
         "hovertemplate": "variable=general_morality<br>value=%{x}<br>pisa_score=%{y}<extra></extra>",
         "legendgroup": "",
         "marker": {
          "color": "#636efa",
          "symbol": "circle"
         },
         "mode": "markers",
         "name": "",
         "orientation": "v",
         "showlegend": false,
         "type": "scatter",
         "x": {
          "bdata": "Rp4u+K/f2L9m0JdCM7f1Py865HS9/uW/HZpK/EuP4D+vldNaIXrWP3aD8j4RoPS/uDHytx4aob+djkJcJmXuv6jGCoFmkfU/wMFqfA0l8z+nt2nOFhXjPx5Da90BkLu/A8JyX6EJAMDYLoL+QobLv34Uwh5X4/u/T+zOfI7N9D+CDC8UFvfcv9ImU7VB7vO/AAAAAAAA+H9PSvtFw/7RP17UIRE1beC/2YXRN46O5r96q+JmY4L3Pzp6P7xmz/M/bA0bXkg+0T84IxRIJZHWvz5Ua+VqZvA/OXp3uZOt078x6Xtq08jvv7lhtaT3POO/9eW4Bg9g8b+kNS855ZbivybBikK3FMg/Pl2YfXR4AEAlojkfl7X5P8f929/icfS/TBlBSWR31L8AAAAAAAD4fz9SojH9pfA/5EMZCoowhD8=",
          "dtype": "f8"
         },
         "xaxis": "x7",
         "y": {
          "bdata": "AAAAAACweEBVVVVVVRV/QFVVVVVV1XhAVVVVVVWlf0Crqqqqqip7QAAAAAAAAPh/q6qqqqqafUBVVVVVVbV+QKuqqqqqqn5AVVVVVVXlfUBVVVVVVSV+QAAAAAAAAPh/VVVVVVVFe0AAAAAAAAD4f1VVVVVVFXdAq6qqqqoafUCrqqqqqsp9QFVVVVVVtXlAAAAAAAAA+H9VVVVVVUV5QKuqqqqqanlAVVVVVVVFdkAAAAAAAAB+QKuqqqqq6n5AVVVVVVWlfUBVVVVVVSV5QFVVVVVVxX5Aq6qqqqrafUAAAAAAAMB6QAAAAAAAAPh/VVVVVVWle0AAAAAAAAD4f1VVVVVV1X1Aq6qqqqp6fkAAAAAAACB/QAAAAAAAoHhAAAAAAAAA+H+rqqqqqqp6QFVVVVVV5X5AVVVVVVWVfkA=",
          "dtype": "f8"
         },
         "yaxis": "y7"
        },
        {
         "hovertemplate": "<b>OLS trendline</b><br>pisa_score = 27.5419 * value + 450.633<br>R<sup>2</sup>=0.454355<br><br>variable=general_morality<br>value=%{x}<br>pisa_score=%{y} <b>(trend)</b><extra></extra>",
         "legendgroup": "",
         "marker": {
          "color": "#636efa",
          "symbol": "circle"
         },
         "mode": "lines",
         "name": "",
         "showlegend": false,
         "type": "scatter",
         "x": {
          "bdata": "A8JyX6EJAMB+FMIeV+P7v8f929/icfS/0iZTtUHu87/15bgGD2DxvzHpe2rTyO+/nY5CXCZl7r/ZhdE3jo7mvy865HS9/uW/XtQhETVt4L+CDC8UFvfcv0aeLviv39i/OCMUSCWR1r85ene5k63Tv7gx8rceGqG/5EMZCoowhD8mwYpCtxTIP2wNG15IPtE/T0r7RcP+0T+vldNaIXrWPx2aSvxLj+A/p7dpzhYV4z8+VGvlambwPz9SojH9pfA/wMFqfA0l8z86ej+8Zs/zP0/sznyOzfQ/qMYKgWaR9T9m0JdCM7f1P3qr4mZjgvc/JaI5H5e1+T8+XZh9dHgAQA==",
          "dtype": "f8"
         },
         "xaxis": "x7",
         "y": {
          "bdata": "JmJElLW2eEDOAwJJCCp5QFcV4RMI93lAvOVEZzEFekAsl0c/k0t6QATND2hrdHpAkuRWZo2HekDC+48XfvN6QFRNBZE6+3pADUWZfulHe0DP227MrmJ7QFgU96HafntAggJhyryOe0AWRXsRoaJ7QMmV3/pmG3xAKbTNRncufEC8sVqkBn18QGsEH5LZoHxAGH0J4wamfECjPFcN48R8QOBXsUMqDn1AWAqLbucwfUBjpet6z+19QCUst1um9H1AjPO7X2c5fkBW640Yu0t+QDJHxQITZ35Av8IL6yR8fkC2wR//NYB+QOW9ZeacsX5AOaFNizTufkA8mR9gYbV/QA==",
          "dtype": "f8"
         },
         "yaxis": "y7"
        },
        {
         "hovertemplate": "variable=MFQ_genmorality<br>value=%{x}<br>pisa_score=%{y}<extra></extra>",
         "legendgroup": "",
         "marker": {
          "color": "#636efa",
          "symbol": "circle"
         },
         "mode": "markers",
         "name": "",
         "orientation": "v",
         "showlegend": false,
         "type": "scatter",
         "x": {
          "bdata": "tjKCoegi4D/Llz7fsT7cP1zHBizlneU/Dfhm/FOw0L/jm5uSaPmuP4Cd5KQm1wHAWeZX9SEX8j+ZbjCxhS/Uv8FCS0QrrtQ/Kpobj3oG6T+jBH0QWsjyPwAAAAAAAPh/a7ygTjWp5z/XlALRNqHUv+hY4YYesPm/aZeuED818b8JSw+DmibsPwAAAAAAAPh/vfyxmVhu9r86CtE4Cu/fv+kVvTr5euI/AAAAAAAA+H/2V4kUmLDoP1H5qc21R9s/LJsTM2oRcj9QaS0TPOMEwEXTo1wSwuE/Q+AWEk9i2z82amu2n8vBP/B/JH+8tuO/AAAAAAAA+H8DyhWIRuPeP+WJR68hZ+c/uNsKgOE/sL+OSdSIc0S7P5uTzhQhefm/N7+wAJFi/z8AAAAAAAD4fwLaYh09kOw/Jc9SnzwZ878=",
          "dtype": "f8"
         },
         "xaxis": "x8",
         "y": {
          "bdata": "AAAAAACweEBVVVVVVRV/QFVVVVVV1XhAVVVVVVWlf0Crqqqqqip7QAAAAAAAAPh/q6qqqqqafUBVVVVVVbV+QKuqqqqqqn5AVVVVVVXlfUBVVVVVVSV+QAAAAAAAAPh/VVVVVVVFe0AAAAAAAAD4f1VVVVVVFXdAq6qqqqoafUCrqqqqqsp9QFVVVVVVtXlAAAAAAAAA+H9VVVVVVUV5QKuqqqqqanlAVVVVVVVFdkAAAAAAAAB+QKuqqqqq6n5AVVVVVVWlfUBVVVVVVSV5QFVVVVVVxX5Aq6qqqqrafUAAAAAAAMB6QAAAAAAAAPh/VVVVVVWle0AAAAAAAAD4f1VVVVVV1X1Aq6qqqqp6fkAAAAAAACB/QAAAAAAAoHhAAAAAAAAA+H+rqqqqqqp6QFVVVVVV5X5AVVVVVVWVfkA=",
          "dtype": "f8"
         },
         "yaxis": "y8"
        },
        {
         "hovertemplate": "<b>OLS trendline</b><br>pisa_score = 18.7729 * value + 457.106<br>R<sup>2</sup>=0.176280<br><br>variable=MFQ_genmorality<br>value=%{x}<br>pisa_score=%{y} <b>(trend)</b><extra></extra>",
         "legendgroup": "",
         "marker": {
          "color": "#636efa",
          "symbol": "circle"
         },
         "mode": "lines",
         "name": "",
         "showlegend": false,
         "type": "scatter",
         "x": {
          "bdata": "UGktEzzjBMDoWOGGHrD5v5uTzhQhefm/Jc9SnzwZ879pl64QPzXxvzoK0TgK79+/mW4wsYUv1L8N+Gb8U7DQv7jbCoDhP7C/LJsTM2oRcj/jm5uSaPmuP45J1IhzRLs/Nmprtp/LwT/BQktEK67UP1H5qc21R9s/Q+AWEk9i2z/Llz7fsT7cP7YygqHoIuA/RdOjXBLC4T/pFb06+XriP1zHBizlneU/5YlHryFn5z9rvKBONannP/ZXiRSYsOg/Kpobj3oG6T8JSw+DmibsPwLaYh09kOw/WeZX9SEX8j+jBH0QWsjyPw==",
          "dtype": "f8"
         },
         "xaxis": "x8",
         "y": {
          "bdata": "i+yEvnWBeUAhaBYJd696QNAqSFt/s3pAQfVCrSore0C01U2SqE57QFA1o3jU+3tAGuXNafcyfEDrc6TBYEN8QFS3POyifnxAyG+w6waTfECWI/6J36N8QJSJG+6xsXxAruQTAXa7fEDE9nBuwvJ8QJ1B19G7EX1AEN46pzgSfUAnDhP5QhZ9QN1lGEIqKX1A/jUtKWM4fUBQEhG7Kj99QGtKek6bXH1ASLzaIF9tfUCIAFRay299QGKSrptzeX1A16Vxwpl8fUC++0IV8Jl9QHY2B5/PnX1AgE2tbU/lfUBp3K1XTvJ9QA==",
          "dtype": "f8"
         },
         "yaxis": "y8"
        },
        {
         "hovertemplate": "variable=civic_cooperation<br>value=%{x}<br>pisa_score=%{y}<extra></extra>",
         "legendgroup": "",
         "marker": {
          "color": "#636efa",
          "symbol": "circle"
         },
         "mode": "markers",
         "name": "",
         "orientation": "v",
         "showlegend": false,
         "type": "scatter",
         "x": {
          "bdata": "piV097a2y78Qj3wALWvvP4OnfU292+W/bE9qqjnQ0T+v7jhks2j3v6uvZ4dRxcI/ifGRzAmq579JF8mHHoX3v8wFC/fVj/Y/hQJssiH57b9vRvJVjcHoPxeVDNFfet0/Z2rSehDy5T8xI9ERdu/hP0MHX6uU1b6/AAAAAAAA+H9ITpCc3ATvP2IqPVd53Pa/AAAAAAAA+H8PJ87BhNz/v2WjHkMkhQPA7NC+tSFg8T9yp3h6AzfxP21iCdCy9ew/FXr1zKgE8D+cwHVUtkbwv3nGp9My8Ns/h6dlZJVA5j8G37PPnTbmP5WctQzoIva/d3nTK2lO679sShRh0//lv903iQPEEcM/pfPvw9S32j/kvJKoRfroP+a8JBTmOOS/XLvnHDXJ9D8AAAAAAAD4fz5pHAftW+k/DJmKr7ap3T8=",
          "dtype": "f8"
         },
         "xaxis": "x",
         "y": {
          "bdata": "AAAAAACweEBVVVVVVRV/QFVVVVVV1XhAVVVVVVWlf0Crqqqqqip7QAAAAAAAAPh/q6qqqqqafUBVVVVVVbV+QKuqqqqqqn5AVVVVVVXlfUBVVVVVVSV+QAAAAAAAAPh/VVVVVVVFe0AAAAAAAAD4f1VVVVVVFXdAq6qqqqoafUCrqqqqqsp9QFVVVVVVtXlAAAAAAAAA+H9VVVVVVUV5QKuqqqqqanlAVVVVVVVFdkAAAAAAAAB+QKuqqqqq6n5AVVVVVVWlfUBVVVVVVSV5QFVVVVVVxX5Aq6qqqqrafUAAAAAAAMB6QAAAAAAAAPh/VVVVVVWle0AAAAAAAAD4f1VVVVVV1X1Aq6qqqqp6fkAAAAAAACB/QAAAAAAAoHhAAAAAAAAA+H+rqqqqqqp6QFVVVVVV5X5AVVVVVVWVfkA=",
          "dtype": "f8"
         },
         "yaxis": "y"
        },
        {
         "hovertemplate": "<b>OLS trendline</b><br>pisa_score = 18.7853 * value + 453.154<br>R<sup>2</sup>=0.195048<br><br>variable=civic_cooperation<br>value=%{x}<br>pisa_score=%{y} <b>(trend)</b><extra></extra>",
         "legendgroup": "",
         "marker": {
          "color": "#636efa",
          "symbol": "circle"
         },
         "mode": "lines",
         "name": "",
         "showlegend": false,
         "type": "scatter",
         "x": {
          "bdata": "ZaMeQySFA8APJ87BhNz/v0kXyYcehfe/r+44ZLNo979iKj1Xedz2v5zAdVS2RvC/hQJssiH57b93edMraU7rv4nxkcwJque/g6d9Tb3b5b/mvCQU5jjkv6YldPe2tsu/Qwdfq5TVvr/dN4kDxBHDP2xPaqo50NE/pfPvw9S32j95xqfTMvDbPwyZiq+2qd0/Z2rSehDy5T8G37PPnTbmP4enZWSVQOY/b0byVY3B6D/kvJKoRfroPz5pHAftW+k/bWIJ0LL17D9ITpCc3ATvPxCPfAAta+8/FXr1zKgE8D9yp3h6AzfxP+zQvrUhYPE/zAUL99WP9j8=",
          "dtype": "f8"
         },
         "xaxis": "x",
         "y": {
          "bdata": "mBT4WhR1eUCTz/ta7/t5QPtfX4ShmHpANjYxXreaekBy25iSAaV6QGvf/SW1IHtA2Q4CDu84e0CUP5Oe+1F7QK3uBRQxdHtAQMtESyeFe0C1oJtShZR7QC7qAp1iEXxA3ACgdUIufED5TOpdPX98QJWlrX8epnxAxVjaR/DPfEBiquJCq9V8QIiaCcPE3XxA9EwHv5YgfUAnD/GhGiN9QCr7EkB4I31A0uFqpvw6fUB7G+FmET19QMqld6GmQH1AE6Ech3hifUAHiFP+z3V9QBdOjv6QeX1AR/+mYF5/fUAbjfdW2ZV9QN/kmsHdmH1AKxm2Gkv6fUA=",
          "dtype": "f8"
         },
         "yaxis": "y"
        },
        {
         "hovertemplate": "variable=GPS_posrecip<br>value=%{x}<br>pisa_score=%{y}<extra></extra>",
         "legendgroup": "",
         "marker": {
          "color": "#636efa",
          "symbol": "circle"
         },
         "mode": "markers",
         "name": "",
         "orientation": "v",
         "showlegend": false,
         "type": "scatter",
         "x": {
          "bdata": "xj0L969t4D/DWynqN4jOP3lp7ZyNkvE/vQV5FxYO5D/prbg/+R26P8qyxN+b1Pc/2uFeLg1B4z8a4QHho6zsvwAAAAAAAPh/QplxMUZB1r+wR1Zn7efLv1WFrVDevOS/JEvEk9SZu7/4lPzK78H1v4/NjY6uB94/XhQ+o5iWcr+ef/JwZxDiP2X48KBA4+4/E8gDpcdK7r8AAAAAAAD4f6bnsQfIJQnArQevkqBv+z/xQvLXiFjbvwAAAAAAAPh/AAAAAAAA+H/y4L6IZqDOvxMA6CypYt6/fDaApDMK4z9qm/OjnE/Vv5IMGL5PmdC/SEAddXzN8j/Z/s4qYSsEwM/0vaD4sO8/HU+zTgkSrr8QR6X5XxzaP2CVTUWtj+4/jVikHL889b/Z2caa/+nPP2r2+DTzWLe/MTXXR4S55D8=",
          "dtype": "f8"
         },
         "xaxis": "x2",
         "y": {
          "bdata": "AAAAAACweEBVVVVVVRV/QFVVVVVV1XhAVVVVVVWlf0Crqqqqqip7QAAAAAAAAPh/q6qqqqqafUBVVVVVVbV+QKuqqqqqqn5AVVVVVVXlfUBVVVVVVSV+QAAAAAAAAPh/VVVVVVVFe0AAAAAAAAD4f1VVVVVVFXdAq6qqqqoafUCrqqqqqsp9QFVVVVVVtXlAAAAAAAAA+H9VVVVVVUV5QKuqqqqqanlAVVVVVVVFdkAAAAAAAAB+QKuqqqqq6n5AVVVVVVWlfUBVVVVVVSV5QFVVVVVVxX5Aq6qqqqrafUAAAAAAAMB6QAAAAAAAAPh/VVVVVVWle0AAAAAAAAD4f1VVVVVV1X1Aq6qqqqp6fkAAAAAAACB/QAAAAAAAoHhAAAAAAAAA+H+rqqqqqqp6QFVVVVVV5X5AVVVVVVWVfkA=",
          "dtype": "f8"
         },
         "yaxis": "y2"
        },
        {
         "hovertemplate": "<b>OLS trendline</b><br>pisa_score = -7.84706 * value + 452.152<br>R<sup>2</sup>=0.024684<br><br>variable=GPS_posrecip<br>value=%{x}<br>pisa_score=%{y} <b>(trend)</b><extra></extra>",
         "legendgroup": "",
         "marker": {
          "color": "#636efa",
          "symbol": "circle"
         },
         "mode": "lines",
         "name": "",
         "showlegend": false,
         "type": "scatter",
         "x": {
          "bdata": "puexB8glCcAa4QHho6zsvxMA6CypYt6/8ULy14hY279CmXExRkHWv2qb86OcT9W/8uC+iGagzr+wR1Zn7efLvyRLxJPUmbu/avb4NPNYt78dT7NOCRKuv14UPqOYlnK/6a24P/kduj/DWynqN4jOP9nZxpr/6c8/EEel+V8c2j+PzY2OrgfeP8Y9C/evbeA/nn/ycGcQ4j98NoCkMwrjP9rhXi4NQeM/vQV5FxYO5D8xNddHhLnkP2CVTUWtj+4/ZfjwoEDj7j/P9L2g+LDvP3lp7ZyNkvE/SEAddXzN8j+tB6+SoG/7Pw==",
          "dtype": "f8"
         },
         "xaxis": "x2",
         "y": {
          "bdata": "VnR0lhjNfUBvybl17rJ8QHEVwiIJfnxAT3xSohJ4fECfaDbxFW58QE2zeds7bHxAKNwxvXdgfEAXUZKUzF18QC8GlZn2T3xAiaRckeBNfEDjxBXxzEl8QIimORb/QnxAVYMDJZ41fEBPzIJteiR8QOE+NGkfI3xA8kBOCzQPfEDu42rKgwd8QIUQHBP4AXxAotnsOY37e0Akuxwjufd7QHXMr+7h9ntALIrEeL3ze0B98ObbHPF7QNTO+caEyntAfc2a3TzJe0CiQLi4FcZ7QKYY/smIuHtABDdgfeGue0BbrxJfImt7QA==",
          "dtype": "f8"
         },
         "yaxis": "y2"
        },
        {
         "hovertemplate": "variable=GPS_altruism<br>value=%{x}<br>pisa_score=%{y}<extra></extra>",
         "legendgroup": "",
         "marker": {
          "color": "#636efa",
          "symbol": "circle"
         },
         "mode": "markers",
         "name": "",
         "orientation": "v",
         "showlegend": false,
         "type": "scatter",
         "x": {
          "bdata": "0nefphXc0T+1uBh2jeDlP/tluyzWkfo/bRVT0Cld7T+KrB3uQizCv4Eml/nQnfw/BrhFWXI4oL+JfQVyBTkGwAAAAAAAAPh/R8xfVpIF179e3n6Z2A+gP25JPYfSZeE/yaMt83Cj1r8PZ0jE9ejkv5C366tjk+A/d6XvgL/Z6r8ErhysEZT0PyGYr2doqec/IT8dOpbn6b8AAAAAAAD4f9MBcRHTBQPAomp/Q9Bb/z+rfAVztCDavwAAAAAAAPh/AAAAAAAA+H8CeOTPVg3Nv6DjZlZ+R++/aq53635L1j/kOejx4Abiv/MZpu0/65q/zlYB76rY6b8SVj3vLFLqvz80+APlm8u/9Dt+SNZu1b8Plx2IDn3fP96VwcM8WtG/TlI5hfgO5r/6qWSuxsLlP3pNVQ9AFdI/Xkx+zLKj9z8=",
          "dtype": "f8"
         },
         "xaxis": "x3",
         "y": {
          "bdata": "AAAAAACweEBVVVVVVRV/QFVVVVVV1XhAVVVVVVWlf0Crqqqqqip7QAAAAAAAAPh/q6qqqqqafUBVVVVVVbV+QKuqqqqqqn5AVVVVVVXlfUBVVVVVVSV+QAAAAAAAAPh/VVVVVVVFe0AAAAAAAAD4f1VVVVVVFXdAq6qqqqoafUCrqqqqqsp9QFVVVVVVtXlAAAAAAAAA+H9VVVVVVUV5QKuqqqqqanlAVVVVVVVFdkAAAAAAAAB+QKuqqqqq6n5AVVVVVVWlfUBVVVVVVSV5QFVVVVVVxX5Aq6qqqqrafUAAAAAAAMB6QAAAAAAAAPh/VVVVVVWle0AAAAAAAAD4f1VVVVVV1X1Aq6qqqqp6fkAAAAAAACB/QAAAAAAAoHhAAAAAAAAA+H+rqqqqqqp6QFVVVVVV5X5AVVVVVVWVfkA=",
          "dtype": "f8"
         },
         "yaxis": "y3"
        },
        {
         "hovertemplate": "<b>OLS trendline</b><br>pisa_score = -6.81542 * value + 450.801<br>R<sup>2</sup>=0.026375<br><br>variable=GPS_altruism<br>value=%{x}<br>pisa_score=%{y} <b>(trend)</b><extra></extra>",
         "legendgroup": "",
         "marker": {
          "color": "#636efa",
          "symbol": "circle"
         },
         "mode": "lines",
         "name": "",
         "showlegend": false,
         "type": "scatter",
         "x": {
          "bdata": "iX0FcgU5BsDTAXER0wUDwKDjZlZ+R++/d6XvgL/Z6r/OVgHvqtjpv+Q56PHgBuK/q3wFc7Qg2r9HzF9WkgXXv8mjLfNwo9a/9Dt+SNZu1b/elcHDPFrRvwJ45M9WDc2/PzT4A+Wby7+KrB3uQizCvwa4RVlyOKC/Xt5+mdgPoD/Sd5+mFdzRP3pNVQ9AFdI/aq53635L1j8Plx2IDn3fP5C366tjk+A/+qlkrsbC5T+1uBh2jeDlPyGYr2doqec/bRVT0Cld7T8ErhysEZT0P15Mfsyyo/c/+2W7LNaR+j+ian9D0Fv/Pw==",
          "dtype": "f8"
         },
         "xaxis": "x3",
         "y": {
          "bdata": "yqeHgrpbfUClE1wsHDB9QNdThppnl3xAJ90TIVCIfED1zP8S5IR8QIlEXo8+anxA8nT5+VRZfEAGC2YvClR8QHMQNvxiU3xA3tIqK1VRfECanaRSYUp8QLm/9neQRXxAoZ2QulVEfEAUbv/ISzx8QJsW58pEMHxAEQcLpmQpfEDz8/06Yg58QJzdFtQADnxAHGavp9MGfEBPwpqHKfd7QLa5WSlU9HtAZkNc0Kjie0DmJSVYQ+J7QO8hv4Mu3HtAjCHGF8DIe0BUhlBOkKB7QM0nUYuzi3tAidMCCrt3e0CT4Ix+F1d7QA==",
          "dtype": "f8"
         },
         "yaxis": "y3"
        },
        {
         "hovertemplate": "variable=stranger1<br>value=%{x}<br>pisa_score=%{y}<extra></extra>",
         "legendgroup": "",
         "marker": {
          "color": "#636efa",
          "symbol": "circle"
         },
         "mode": "markers",
         "name": "",
         "orientation": "v",
         "showlegend": false,
         "type": "scatter",
         "x": {
          "bdata": "Q1lCvHmltb81DuU91u7xPzaqTwEn19G/bJLO/UYK8j85KM/Wl2Pqv1bZ/zdxW7q/qoW1/fe12b8AAAAAAAD4f/CKHE++Yfc/MY7ptwnCpz/2KuHRD3bwPxZOgTqp390/U3nopItD8L/AMwQlmP7Zvzqc/YDkjvW/FlTkxGktxL8k1cF9eejrvx13f+hlPN8/QdyjlH3P5L9EvbpBtgf4v2qavj4mevi/kwg6tHaV4r8HZMN4HzX2P4mGT8ftCvk/0atoGw7fAkB19umgPmv4v2yfBvzKqNe/sAl53sb/mT+zHaFfCLLbv6ErCBKPzNc/2MgTe5eFzj9r9bo2mnnwv7/nbdaV2d4/UMVDo+sw3D/UYgXa49bwPzH5FexbnQLAlFu3PHSR2L8nGOqCtLfxP5id8zmubOA/OKsyVBpR4T8=",
          "dtype": "f8"
         },
         "xaxis": "x4",
         "y": {
          "bdata": "AAAAAACweEBVVVVVVRV/QFVVVVVV1XhAVVVVVVWlf0Crqqqqqip7QAAAAAAAAPh/q6qqqqqafUBVVVVVVbV+QKuqqqqqqn5AVVVVVVXlfUBVVVVVVSV+QAAAAAAAAPh/VVVVVVVFe0AAAAAAAAD4f1VVVVVVFXdAq6qqqqoafUCrqqqqqsp9QFVVVVVVtXlAAAAAAAAA+H9VVVVVVUV5QKuqqqqqanlAVVVVVVVFdkAAAAAAAAB+QKuqqqqq6n5AVVVVVVWlfUBVVVVVVSV5QFVVVVVVxX5Aq6qqqqrafUAAAAAAAMB6QAAAAAAAAPh/VVVVVVWle0AAAAAAAAD4f1VVVVVV1X1Aq6qqqqp6fkAAAAAAACB/QAAAAAAAoHhAAAAAAAAA+H+rqqqqqqp6QFVVVVVV5X5AVVVVVVWVfkA=",
          "dtype": "f8"
         },
         "yaxis": "y4"
        },
        {
         "hovertemplate": "<b>OLS trendline</b><br>pisa_score = 26.1622 * value + 449.874<br>R<sup>2</sup>=0.434654<br><br>variable=stranger1<br>value=%{x}<br>pisa_score=%{y} <b>(trend)</b><extra></extra>",
         "legendgroup": "",
         "marker": {
          "color": "#636efa",
          "symbol": "circle"
         },
         "mode": "lines",
         "name": "",
         "showlegend": false,
         "type": "scatter",
         "x": {
          "bdata": "MfkV7FudAsBqmr4+Jnr4v3X26aA+a/i/RL26QbYH+L86nP2A5I71v1N56KSLQ/C/JNXBfXno6785KM/Wl2Pqv5MIOrR2leK/sx2hXwiy27+qhbX997XZv2yfBvzKqNe/NqpPASfX0b8WVOTEaS3Ev0NZQrx5pbW/sAl53sb/mT8xjum3CcKnP9jIE3uXhc4/UMVDo+sw3D+/523WldnePx13f+hlPN8/mJ3zOa5s4D84qzJUGlHhP/Yq4dEPdvA/1GIF2uPW8D8nGOqCtLfxPzUO5T3W7vE/bJLO/UYK8j8HZMN4HzX2P/CKHE++Yfc/iYZPx+0K+T/Rq2gbDt8CQA==",
          "dtype": "f8"
         },
         "xaxis": "x4",
         "y": {
          "bdata": "/vPCHvpPeECcTOlomp15QAdD0lkgn3lA7ftRWEypeUCsvApK+Ol5QOBxlyV7dHpAtcl1EemwekCC7JIQyMR6QNhk2MrhKntALZxm79Voe0CqzuPz0HV7QFTqEOQ7g3tA/qlG9Uqpe0A/48VS/tt7QOd9xZGV+ntA9DKBa5sofEALWVIgZzF8QMgCrzvLgXxACwwORF3WfEBnFA4wwed8QByaP3pH6nxAQVmWe9T0fEDKKDx/gAB9QNzMmcGjzH1A+9H2/ojWfUBHwPemgu19QGx/KAUl831Ar1QK7PL1fUAqS3fy+WJ+QJ4ntNaygX5AiBmcnyatfkCVoaCraPl/QA==",
          "dtype": "f8"
         },
         "yaxis": "y4"
        }
       ],
       "layout": {
        "annotations": [
         {
          "font": {},
          "showarrow": false,
          "text": "civic_cooperation (N=31)",
          "x": 0.10250000000000001,
          "xanchor": "center",
          "xref": "paper",
          "y": 0.425,
          "yanchor": "bottom",
          "yref": "paper"
         },
         {
          "font": {},
          "showarrow": false,
          "text": "GPS_posrecip (N=29)",
          "x": 0.36750000000000005,
          "xanchor": "center",
          "xref": "paper",
          "y": 0.425,
          "yanchor": "bottom",
          "yref": "paper"
         },
         {
          "font": {},
          "showarrow": false,
          "text": "GPS_altruism (N=29)",
          "x": 0.6325000000000001,
          "xanchor": "center",
          "xref": "paper",
          "y": 0.425,
          "yanchor": "bottom",
          "yref": "paper"
         },
         {
          "font": {},
          "showarrow": false,
          "text": "stranger1 (N=32)",
          "x": 0.8975,
          "xanchor": "center",
          "xref": "paper",
          "y": 0.425,
          "yanchor": "bottom",
          "yref": "paper"
         },
         {
          "font": {},
          "showarrow": false,
          "text": "general_trust (N=32)",
          "x": 0.10250000000000001,
          "xanchor": "center",
          "xref": "paper",
          "y": 1,
          "yanchor": "bottom",
          "yref": "paper"
         },
         {
          "font": {},
          "showarrow": false,
          "text": "GPS_trust (N=29)",
          "x": 0.36750000000000005,
          "xanchor": "center",
          "xref": "paper",
          "y": 1,
          "yanchor": "bottom",
          "yref": "paper"
         },
         {
          "font": {},
          "showarrow": false,
          "text": "general_morality (N=32)",
          "x": 0.6325000000000001,
          "xanchor": "center",
          "xref": "paper",
          "y": 1,
          "yanchor": "bottom",
          "yref": "paper"
         },
         {
          "font": {},
          "showarrow": false,
          "text": "MFQ_genmorality (N=29)",
          "x": 0.8975,
          "xanchor": "center",
          "xref": "paper",
          "y": 1,
          "yanchor": "bottom",
          "yref": "paper"
         }
        ],
        "legend": {
         "tracegroupgap": 0
        },
        "margin": {
         "t": 60
        },
        "template": {
         "data": {
          "bar": [
           {
            "error_x": {
             "color": "#2a3f5f"
            },
            "error_y": {
             "color": "#2a3f5f"
            },
            "marker": {
             "line": {
              "color": "white",
              "width": 0.5
             },
             "pattern": {
              "fillmode": "overlay",
              "size": 10,
              "solidity": 0.2
             }
            },
            "type": "bar"
           }
          ],
          "barpolar": [
           {
            "marker": {
             "line": {
              "color": "white",
              "width": 0.5
             },
             "pattern": {
              "fillmode": "overlay",
              "size": 10,
              "solidity": 0.2
             }
            },
            "type": "barpolar"
           }
          ],
          "carpet": [
           {
            "aaxis": {
             "endlinecolor": "#2a3f5f",
             "gridcolor": "#C8D4E3",
             "linecolor": "#C8D4E3",
             "minorgridcolor": "#C8D4E3",
             "startlinecolor": "#2a3f5f"
            },
            "baxis": {
             "endlinecolor": "#2a3f5f",
             "gridcolor": "#C8D4E3",
             "linecolor": "#C8D4E3",
             "minorgridcolor": "#C8D4E3",
             "startlinecolor": "#2a3f5f"
            },
            "type": "carpet"
           }
          ],
          "choropleth": [
           {
            "colorbar": {
             "outlinewidth": 0,
             "ticks": ""
            },
            "type": "choropleth"
           }
          ],
          "contour": [
           {
            "colorbar": {
             "outlinewidth": 0,
             "ticks": ""
            },
            "colorscale": [
             [
              0,
              "#0d0887"
             ],
             [
              0.1111111111111111,
              "#46039f"
             ],
             [
              0.2222222222222222,
              "#7201a8"
             ],
             [
              0.3333333333333333,
              "#9c179e"
             ],
             [
              0.4444444444444444,
              "#bd3786"
             ],
             [
              0.5555555555555556,
              "#d8576b"
             ],
             [
              0.6666666666666666,
              "#ed7953"
             ],
             [
              0.7777777777777778,
              "#fb9f3a"
             ],
             [
              0.8888888888888888,
              "#fdca26"
             ],
             [
              1,
              "#f0f921"
             ]
            ],
            "type": "contour"
           }
          ],
          "contourcarpet": [
           {
            "colorbar": {
             "outlinewidth": 0,
             "ticks": ""
            },
            "type": "contourcarpet"
           }
          ],
          "heatmap": [
           {
            "colorbar": {
             "outlinewidth": 0,
             "ticks": ""
            },
            "colorscale": [
             [
              0,
              "#0d0887"
             ],
             [
              0.1111111111111111,
              "#46039f"
             ],
             [
              0.2222222222222222,
              "#7201a8"
             ],
             [
              0.3333333333333333,
              "#9c179e"
             ],
             [
              0.4444444444444444,
              "#bd3786"
             ],
             [
              0.5555555555555556,
              "#d8576b"
             ],
             [
              0.6666666666666666,
              "#ed7953"
             ],
             [
              0.7777777777777778,
              "#fb9f3a"
             ],
             [
              0.8888888888888888,
              "#fdca26"
             ],
             [
              1,
              "#f0f921"
             ]
            ],
            "type": "heatmap"
           }
          ],
          "histogram": [
           {
            "marker": {
             "pattern": {
              "fillmode": "overlay",
              "size": 10,
              "solidity": 0.2
             }
            },
            "type": "histogram"
           }
          ],
          "histogram2d": [
           {
            "colorbar": {
             "outlinewidth": 0,
             "ticks": ""
            },
            "colorscale": [
             [
              0,
              "#0d0887"
             ],
             [
              0.1111111111111111,
              "#46039f"
             ],
             [
              0.2222222222222222,
              "#7201a8"
             ],
             [
              0.3333333333333333,
              "#9c179e"
             ],
             [
              0.4444444444444444,
              "#bd3786"
             ],
             [
              0.5555555555555556,
              "#d8576b"
             ],
             [
              0.6666666666666666,
              "#ed7953"
             ],
             [
              0.7777777777777778,
              "#fb9f3a"
             ],
             [
              0.8888888888888888,
              "#fdca26"
             ],
             [
              1,
              "#f0f921"
             ]
            ],
            "type": "histogram2d"
           }
          ],
          "histogram2dcontour": [
           {
            "colorbar": {
             "outlinewidth": 0,
             "ticks": ""
            },
            "colorscale": [
             [
              0,
              "#0d0887"
             ],
             [
              0.1111111111111111,
              "#46039f"
             ],
             [
              0.2222222222222222,
              "#7201a8"
             ],
             [
              0.3333333333333333,
              "#9c179e"
             ],
             [
              0.4444444444444444,
              "#bd3786"
             ],
             [
              0.5555555555555556,
              "#d8576b"
             ],
             [
              0.6666666666666666,
              "#ed7953"
             ],
             [
              0.7777777777777778,
              "#fb9f3a"
             ],
             [
              0.8888888888888888,
              "#fdca26"
             ],
             [
              1,
              "#f0f921"
             ]
            ],
            "type": "histogram2dcontour"
           }
          ],
          "mesh3d": [
           {
            "colorbar": {
             "outlinewidth": 0,
             "ticks": ""
            },
            "type": "mesh3d"
           }
          ],
          "parcoords": [
           {
            "line": {
             "colorbar": {
              "outlinewidth": 0,
              "ticks": ""
             }
            },
            "type": "parcoords"
           }
          ],
          "pie": [
           {
            "automargin": true,
            "type": "pie"
           }
          ],
          "scatter": [
           {
            "fillpattern": {
             "fillmode": "overlay",
             "size": 10,
             "solidity": 0.2
            },
            "type": "scatter"
           }
          ],
          "scatter3d": [
           {
            "line": {
             "colorbar": {
              "outlinewidth": 0,
              "ticks": ""
             }
            },
            "marker": {
             "colorbar": {
              "outlinewidth": 0,
              "ticks": ""
             }
            },
            "type": "scatter3d"
           }
          ],
          "scattercarpet": [
           {
            "marker": {
             "colorbar": {
              "outlinewidth": 0,
              "ticks": ""
             }
            },
            "type": "scattercarpet"
           }
          ],
          "scattergeo": [
           {
            "marker": {
             "colorbar": {
              "outlinewidth": 0,
              "ticks": ""
             }
            },
            "type": "scattergeo"
           }
          ],
          "scattergl": [
           {
            "marker": {
             "colorbar": {
              "outlinewidth": 0,
              "ticks": ""
             }
            },
            "type": "scattergl"
           }
          ],
          "scattermap": [
           {
            "marker": {
             "colorbar": {
              "outlinewidth": 0,
              "ticks": ""
             }
            },
            "type": "scattermap"
           }
          ],
          "scattermapbox": [
           {
            "marker": {
             "colorbar": {
              "outlinewidth": 0,
              "ticks": ""
             }
            },
            "type": "scattermapbox"
           }
          ],
          "scatterpolar": [
           {
            "marker": {
             "colorbar": {
              "outlinewidth": 0,
              "ticks": ""
             }
            },
            "type": "scatterpolar"
           }
          ],
          "scatterpolargl": [
           {
            "marker": {
             "colorbar": {
              "outlinewidth": 0,
              "ticks": ""
             }
            },
            "type": "scatterpolargl"
           }
          ],
          "scatterternary": [
           {
            "marker": {
             "colorbar": {
              "outlinewidth": 0,
              "ticks": ""
             }
            },
            "type": "scatterternary"
           }
          ],
          "surface": [
           {
            "colorbar": {
             "outlinewidth": 0,
             "ticks": ""
            },
            "colorscale": [
             [
              0,
              "#0d0887"
             ],
             [
              0.1111111111111111,
              "#46039f"
             ],
             [
              0.2222222222222222,
              "#7201a8"
             ],
             [
              0.3333333333333333,
              "#9c179e"
             ],
             [
              0.4444444444444444,
              "#bd3786"
             ],
             [
              0.5555555555555556,
              "#d8576b"
             ],
             [
              0.6666666666666666,
              "#ed7953"
             ],
             [
              0.7777777777777778,
              "#fb9f3a"
             ],
             [
              0.8888888888888888,
              "#fdca26"
             ],
             [
              1,
              "#f0f921"
             ]
            ],
            "type": "surface"
           }
          ],
          "table": [
           {
            "cells": {
             "fill": {
              "color": "#EBF0F8"
             },
             "line": {
              "color": "white"
             }
            },
            "header": {
             "fill": {
              "color": "#C8D4E3"
             },
             "line": {
              "color": "white"
             }
            },
            "type": "table"
           }
          ]
         },
         "layout": {
          "annotationdefaults": {
           "arrowcolor": "#2a3f5f",
           "arrowhead": 0,
           "arrowwidth": 1
          },
          "autotypenumbers": "strict",
          "coloraxis": {
           "colorbar": {
            "outlinewidth": 0,
            "ticks": ""
           }
          },
          "colorscale": {
           "diverging": [
            [
             0,
             "#8e0152"
            ],
            [
             0.1,
             "#c51b7d"
            ],
            [
             0.2,
             "#de77ae"
            ],
            [
             0.3,
             "#f1b6da"
            ],
            [
             0.4,
             "#fde0ef"
            ],
            [
             0.5,
             "#f7f7f7"
            ],
            [
             0.6,
             "#e6f5d0"
            ],
            [
             0.7,
             "#b8e186"
            ],
            [
             0.8,
             "#7fbc41"
            ],
            [
             0.9,
             "#4d9221"
            ],
            [
             1,
             "#276419"
            ]
           ],
           "sequential": [
            [
             0,
             "#0d0887"
            ],
            [
             0.1111111111111111,
             "#46039f"
            ],
            [
             0.2222222222222222,
             "#7201a8"
            ],
            [
             0.3333333333333333,
             "#9c179e"
            ],
            [
             0.4444444444444444,
             "#bd3786"
            ],
            [
             0.5555555555555556,
             "#d8576b"
            ],
            [
             0.6666666666666666,
             "#ed7953"
            ],
            [
             0.7777777777777778,
             "#fb9f3a"
            ],
            [
             0.8888888888888888,
             "#fdca26"
            ],
            [
             1,
             "#f0f921"
            ]
           ],
           "sequentialminus": [
            [
             0,
             "#0d0887"
            ],
            [
             0.1111111111111111,
             "#46039f"
            ],
            [
             0.2222222222222222,
             "#7201a8"
            ],
            [
             0.3333333333333333,
             "#9c179e"
            ],
            [
             0.4444444444444444,
             "#bd3786"
            ],
            [
             0.5555555555555556,
             "#d8576b"
            ],
            [
             0.6666666666666666,
             "#ed7953"
            ],
            [
             0.7777777777777778,
             "#fb9f3a"
            ],
            [
             0.8888888888888888,
             "#fdca26"
            ],
            [
             1,
             "#f0f921"
            ]
           ]
          },
          "colorway": [
           "#636efa",
           "#EF553B",
           "#00cc96",
           "#ab63fa",
           "#FFA15A",
           "#19d3f3",
           "#FF6692",
           "#B6E880",
           "#FF97FF",
           "#FECB52"
          ],
          "font": {
           "color": "#2a3f5f"
          },
          "geo": {
           "bgcolor": "white",
           "lakecolor": "white",
           "landcolor": "white",
           "showlakes": true,
           "showland": true,
           "subunitcolor": "#C8D4E3"
          },
          "hoverlabel": {
           "align": "left"
          },
          "hovermode": "closest",
          "mapbox": {
           "style": "light"
          },
          "paper_bgcolor": "white",
          "plot_bgcolor": "white",
          "polar": {
           "angularaxis": {
            "gridcolor": "#EBF0F8",
            "linecolor": "#EBF0F8",
            "ticks": ""
           },
           "bgcolor": "white",
           "radialaxis": {
            "gridcolor": "#EBF0F8",
            "linecolor": "#EBF0F8",
            "ticks": ""
           }
          },
          "scene": {
           "xaxis": {
            "backgroundcolor": "white",
            "gridcolor": "#DFE8F3",
            "gridwidth": 2,
            "linecolor": "#EBF0F8",
            "showbackground": true,
            "ticks": "",
            "zerolinecolor": "#EBF0F8"
           },
           "yaxis": {
            "backgroundcolor": "white",
            "gridcolor": "#DFE8F3",
            "gridwidth": 2,
            "linecolor": "#EBF0F8",
            "showbackground": true,
            "ticks": "",
            "zerolinecolor": "#EBF0F8"
           },
           "zaxis": {
            "backgroundcolor": "white",
            "gridcolor": "#DFE8F3",
            "gridwidth": 2,
            "linecolor": "#EBF0F8",
            "showbackground": true,
            "ticks": "",
            "zerolinecolor": "#EBF0F8"
           }
          },
          "shapedefaults": {
           "line": {
            "color": "#2a3f5f"
           }
          },
          "ternary": {
           "aaxis": {
            "gridcolor": "#DFE8F3",
            "linecolor": "#A2B1C6",
            "ticks": ""
           },
           "baxis": {
            "gridcolor": "#DFE8F3",
            "linecolor": "#A2B1C6",
            "ticks": ""
           },
           "bgcolor": "white",
           "caxis": {
            "gridcolor": "#DFE8F3",
            "linecolor": "#A2B1C6",
            "ticks": ""
           }
          },
          "title": {
           "x": 0.05
          },
          "xaxis": {
           "automargin": true,
           "gridcolor": "#EBF0F8",
           "linecolor": "#EBF0F8",
           "ticks": "",
           "title": {
            "standoff": 15
           },
           "zerolinecolor": "#EBF0F8",
           "zerolinewidth": 2
          },
          "yaxis": {
           "automargin": true,
           "gridcolor": "#EBF0F8",
           "linecolor": "#EBF0F8",
           "ticks": "",
           "title": {
            "standoff": 15
           },
           "zerolinecolor": "#EBF0F8",
           "zerolinewidth": 2
          }
         }
        },
        "xaxis": {
         "anchor": "y",
         "domain": [
          0,
          0.20500000000000002
         ],
         "linecolor": "darkgray",
         "showline": true,
         "title": {
          "text": "value"
         }
        },
        "xaxis2": {
         "anchor": "y2",
         "domain": [
          0.265,
          0.47000000000000003
         ],
         "linecolor": "darkgray",
         "matches": "x",
         "showline": true,
         "title": {
          "text": "value"
         }
        },
        "xaxis3": {
         "anchor": "y3",
         "domain": [
          0.53,
          0.7350000000000001
         ],
         "linecolor": "darkgray",
         "matches": "x",
         "showline": true,
         "title": {
          "text": "value"
         }
        },
        "xaxis4": {
         "anchor": "y4",
         "domain": [
          0.7949999999999999,
          1
         ],
         "linecolor": "darkgray",
         "matches": "x",
         "showline": true,
         "title": {
          "text": "value"
         }
        },
        "xaxis5": {
         "anchor": "y5",
         "domain": [
          0,
          0.20500000000000002
         ],
         "linecolor": "darkgray",
         "matches": "x",
         "showline": true,
         "showticklabels": false
        },
        "xaxis6": {
         "anchor": "y6",
         "domain": [
          0.265,
          0.47000000000000003
         ],
         "linecolor": "darkgray",
         "matches": "x",
         "showline": true,
         "showticklabels": false
        },
        "xaxis7": {
         "anchor": "y7",
         "domain": [
          0.53,
          0.7350000000000001
         ],
         "linecolor": "darkgray",
         "matches": "x",
         "showline": true,
         "showticklabels": false
        },
        "xaxis8": {
         "anchor": "y8",
         "domain": [
          0.7949999999999999,
          1
         ],
         "linecolor": "darkgray",
         "matches": "x",
         "showline": true,
         "showticklabels": false
        },
        "yaxis": {
         "anchor": "x",
         "domain": [
          0,
          0.425
         ],
         "linecolor": "darkgray",
         "showline": true,
         "title": {
          "text": "pisa_score"
         }
        },
        "yaxis2": {
         "anchor": "x2",
         "domain": [
          0,
          0.425
         ],
         "linecolor": "darkgray",
         "matches": "y",
         "showline": true,
         "showticklabels": false
        },
        "yaxis3": {
         "anchor": "x3",
         "domain": [
          0,
          0.425
         ],
         "linecolor": "darkgray",
         "matches": "y",
         "showline": true,
         "showticklabels": false
        },
        "yaxis4": {
         "anchor": "x4",
         "domain": [
          0,
          0.425
         ],
         "linecolor": "darkgray",
         "matches": "y",
         "showline": true,
         "showticklabels": false
        },
        "yaxis5": {
         "anchor": "x5",
         "domain": [
          0.575,
          1
         ],
         "linecolor": "darkgray",
         "matches": "y",
         "showline": true,
         "title": {
          "text": "pisa_score"
         }
        },
        "yaxis6": {
         "anchor": "x6",
         "domain": [
          0.575,
          1
         ],
         "linecolor": "darkgray",
         "matches": "y",
         "showline": true,
         "showticklabels": false
        },
        "yaxis7": {
         "anchor": "x7",
         "domain": [
          0.575,
          1
         ],
         "linecolor": "darkgray",
         "matches": "y",
         "showline": true,
         "showticklabels": false
        },
        "yaxis8": {
         "anchor": "x8",
         "domain": [
          0.575,
          1
         ],
         "linecolor": "darkgray",
         "matches": "y",
         "showline": true,
         "showticklabels": false
        }
       }
      }
     },
     "metadata": {},
     "output_type": "display_data"
    }
   ],
   "source": [
    "# Calculate sample size for each survey measure and PISA \n",
    "ens_pisa = pd.DataFrame(\n",
    "    {\n",
    "        col: country_avg_data[[\"pisa_score\", col]].dropna().shape[0]\n",
    "        for col in survey_cols\n",
    "    },\n",
    "    index=[\"N\"],\n",
    ")\n",
    "\n",
    "# PISA vs Survey measure facet plot\n",
    "fig = px.scatter(\n",
    "    df_reshaped,\n",
    "    x=\"value\",\n",
    "    y=\"pisa_score\",\n",
    "    facet_col=\"variable\",\n",
    "    facet_col_wrap=4,\n",
    "    trendline=\"ols\",\n",
    "    facet_col_spacing=0.06,\n",
    "    facet_row_spacing=0.15,\n",
    ")\n",
    "fig.update_xaxes(showline=True, linecolor=\"darkgray\")\n",
    "fig.update_yaxes(showline=True, linecolor=\"darkgray\")\n",
    "fig.for_each_annotation(\n",
    "    lambda a: a.update(\n",
    "        text=a.text.split(\"=\")[-1]\n",
    "        + \" (N=\"\n",
    "        + str(ens_pisa.loc[\"N\", a.text.split(\"=\")[-1]])\n",
    "        + \")\"\n",
    "    )\n",
    ")\n",
    "\n",
    "fig.show()"
   ]
  },
  {
   "cell_type": "markdown",
   "id": "baa6a56f",
   "metadata": {},
   "source": [
    "## PISA as a Predictor of Economic and Institutional Performance\n",
    "To address the second topic of the Tannenbaum paper, we ask how well do PISA scores (as compared to lost wallet reporting rates) explain variation in economic development?\n",
    "\n",
    "There are four measures of \"Economic and Institutional Performance\" in the second part of the paper: GDP per capita (`log_gdp`), productivity(`log_tfp`), government effectiveness (`gee`), and letter grade efficiency (`letter_grading`). If PISA scores are considered a fifth measure of the same sort, we find that wallet reporting rates are an equally effective predictor. When combined with any other measure of social capital, the coefficient for wallet reporting rates are always statistically significant with p<0.01 and with $R^2$ greater than most of the other fit models.\n",
    "\n",
    "### Regression Results\n",
    "The table below seeks to replicate part of Table 2 from **Tannenbaum** and adds two new columns (Model 9 and Model 10) which contain the respective OLS model results where PISA scores are predicted. Models 7 and 8 are recreated here to show that the table is generated with the same process that generated Table 2 in **Tannenbaum**."
   ]
  },
  {
   "cell_type": "code",
   "execution_count": 1,
   "id": "ebe32d20",
   "metadata": {
    "tags": [
     "hide-input"
    ]
   },
   "outputs": [
    {
     "data": {
      "text/html": [
       "<div id=\"wbiyyngnxt\" style=\"padding-left:0px;padding-right:0px;padding-top:10px;padding-bottom:10px;overflow-x:auto;overflow-y:auto;width:auto;height:auto;\">\n",
       "<style>\n",
       "#wbiyyngnxt table {\n",
       "          font-family: -apple-system, BlinkMacSystemFont, 'Segoe UI', Roboto, Oxygen, Ubuntu, Cantarell, 'Helvetica Neue', 'Fira Sans', 'Droid Sans', Arial, sans-serif;\n",
       "          -webkit-font-smoothing: antialiased;\n",
       "          -moz-osx-font-smoothing: grayscale;\n",
       "        }\n",
       "\n",
       "#wbiyyngnxt thead, tbody, tfoot, tr, td, th { border-style: none !important; }\n",
       " tr { background-color: transparent !important; }\n",
       "#wbiyyngnxt p { margin: 0 !important; padding: 0 !important; }\n",
       " #wbiyyngnxt .gt_table { display: table !important; border-collapse: collapse !important; line-height: normal !important; margin-left: auto !important; margin-right: auto !important; color: #333333 !important; font-size: 16px !important; font-weight: normal !important; font-style: normal !important; background-color: #FFFFFF !important; width: auto !important; border-top-style: solid !important; border-top-width: 2px !important; border-top-color: #A8A8A8 !important; border-right-style: none !important; border-right-width: 2px !important; border-right-color: #D3D3D3 !important; border-bottom-style: solid !important; border-bottom-width: 2px !important; border-bottom-color: #A8A8A8 !important; border-left-style: none !important; border-left-width: 2px !important; border-left-color: #D3D3D3 !important; }\n",
       " #wbiyyngnxt .gt_caption { padding-top: 4px !important; padding-bottom: 4px !important; }\n",
       " #wbiyyngnxt .gt_title { color: #333333 !important; font-size: 125% !important; font-weight: initial !important; padding-top: 4px !important; padding-bottom: 4px !important; padding-left: 5px !important; padding-right: 5px !important; border-bottom-color: #FFFFFF !important; border-bottom-width: 0 !important; }\n",
       " #wbiyyngnxt .gt_subtitle { color: #333333 !important; font-size: 85% !important; font-weight: initial !important; padding-top: 3px !important; padding-bottom: 5px !important; padding-left: 5px !important; padding-right: 5px !important; border-top-color: #FFFFFF !important; border-top-width: 0 !important; }\n",
       " #wbiyyngnxt .gt_heading { background-color: #FFFFFF !important; text-align: center !important; border-bottom-color: #FFFFFF !important; border-left-style: none !important; border-left-width: 1px !important; border-left-color: #D3D3D3 !important; border-right-style: none !important; border-right-width: 1px !important; border-right-color: #D3D3D3 !important; }\n",
       " #wbiyyngnxt .gt_bottom_border { border-bottom-style: solid !important; border-bottom-width: 2px !important; border-bottom-color: #D3D3D3 !important; }\n",
       " #wbiyyngnxt .gt_col_headings { border-top-style: solid !important; border-top-width: 2px !important; border-top-color: #D3D3D3 !important; border-bottom-style: solid !important; border-bottom-width: 2px !important; border-bottom-color: #D3D3D3 !important; border-left-style: none !important; border-left-width: 1px !important; border-left-color: #D3D3D3 !important; border-right-style: none !important; border-right-width: 1px !important; border-right-color: #D3D3D3 !important; }\n",
       " #wbiyyngnxt .gt_col_heading { color: #333333 !important; background-color: #FFFFFF !important; font-size: 100% !important; font-weight: normal !important; text-transform: inherit !important; border-left-style: none !important; border-left-width: 1px !important; border-left-color: #D3D3D3 !important; border-right-style: none !important; border-right-width: 1px !important; border-right-color: #D3D3D3 !important; vertical-align: bottom !important; padding-top: 5px !important; padding-bottom: 5px !important; padding-left: 5px !important; padding-right: 5px !important; overflow-x: hidden !important; }\n",
       " #wbiyyngnxt .gt_column_spanner_outer { color: #333333 !important; background-color: #FFFFFF !important; font-size: 100% !important; font-weight: normal !important; text-transform: inherit !important; padding-top: 0 !important; padding-bottom: 0 !important; padding-left: 4px !important; padding-right: 4px !important; }\n",
       " #wbiyyngnxt .gt_column_spanner_outer:first-child { padding-left: 0 !important; }\n",
       " #wbiyyngnxt .gt_column_spanner_outer:last-child { padding-right: 0 !important; }\n",
       " #wbiyyngnxt .gt_column_spanner { border-bottom-style: solid !important; border-bottom-width: 2px !important; border-bottom-color: #D3D3D3 !important; vertical-align: bottom !important; padding-top: 5px !important; padding-bottom: 5px !important; overflow-x: hidden !important; display: inline-block !important; width: 100% !important; }\n",
       " #wbiyyngnxt .gt_spanner_row { border-bottom-style: hidden !important; }\n",
       " #wbiyyngnxt .gt_group_heading { padding-top: 8px !important; padding-bottom: 8px !important; padding-left: 5px !important; padding-right: 5px !important; color: #333333 !important; background-color: #FFFFFF !important; font-size: 100% !important; font-weight: initial !important; text-transform: inherit !important; border-top-style: solid !important; border-top-width: 2px !important; border-top-color: #D3D3D3 !important; border-bottom-style: solid !important; border-bottom-width: 2px !important; border-bottom-color: #D3D3D3 !important; border-left-style: none !important; border-left-width: 1px !important; border-left-color: #D3D3D3 !important; border-right-style: none !important; border-right-width: 1px !important; border-right-color: #D3D3D3 !important; vertical-align: middle !important; text-align: left !important; }\n",
       " #wbiyyngnxt .gt_empty_group_heading { padding: 0.5px !important; color: #333333 !important; background-color: #FFFFFF !important; font-size: 100% !important; font-weight: initial !important; border-top-style: solid !important; border-top-width: 2px !important; border-top-color: #D3D3D3 !important; border-bottom-style: solid !important; border-bottom-width: 2px !important; border-bottom-color: #D3D3D3 !important; vertical-align: middle !important; }\n",
       " #wbiyyngnxt .gt_from_md> :first-child { margin-top: 0 !important; }\n",
       " #wbiyyngnxt .gt_from_md> :last-child { margin-bottom: 0 !important; }\n",
       " #wbiyyngnxt .gt_row { padding-top: 8px !important; padding-bottom: 8px !important; padding-left: 5px !important; padding-right: 5px !important; margin: 10px !important; border-top-style: none !important; border-top-width: 1px !important; border-top-color: #D3D3D3 !important; border-left-style: none !important; border-left-width: 1px !important; border-left-color: #D3D3D3 !important; border-right-style: none !important; border-right-width: 1px !important; border-right-color: #D3D3D3 !important; vertical-align: middle !important; overflow-x: hidden !important; }\n",
       " #wbiyyngnxt .gt_stub { color: #333333 !important; background-color: #FFFFFF !important; font-size: 100% !important; font-weight: initial !important; text-transform: inherit !important; border-right-style: solid !important; border-right-width: 2px !important; border-right-color: #D3D3D3 !important; padding-left: 5px !important; padding-right: 5px !important; }\n",
       " #wbiyyngnxt .gt_stub_row_group { color: #333333 !important; background-color: #FFFFFF !important; font-size: 100% !important; font-weight: initial !important; text-transform: inherit !important; border-right-style: solid !important; border-right-width: 2px !important; border-right-color: #D3D3D3 !important; padding-left: 5px !important; padding-right: 5px !important; vertical-align: top !important; }\n",
       " #wbiyyngnxt .gt_row_group_first td { border-top-width: 2px !important; }\n",
       " #wbiyyngnxt .gt_row_group_first th { border-top-width: 2px !important; }\n",
       " #wbiyyngnxt .gt_striped { background-color: rgba(128,128,128,0.05) !important; }\n",
       " #wbiyyngnxt .gt_table_body { border-top-style: solid !important; border-top-width: 2px !important; border-top-color: #D3D3D3 !important; border-bottom-style: solid !important; border-bottom-width: 2px !important; border-bottom-color: #D3D3D3 !important; }\n",
       " #wbiyyngnxt .gt_sourcenotes { color: #333333 !important; background-color: #FFFFFF !important; border-bottom-style: none !important; border-bottom-width: 2px !important; border-bottom-color: #D3D3D3 !important; border-left-style: none !important; border-left-width: 2px !important; border-left-color: #D3D3D3 !important; border-right-style: none !important; border-right-width: 2px !important; border-right-color: #D3D3D3 !important; }\n",
       " #wbiyyngnxt .gt_sourcenote { font-size: 90% !important; padding-top: 4px !important; padding-bottom: 4px !important; padding-left: 5px !important; padding-right: 5px !important; text-align: left !important; }\n",
       " #wbiyyngnxt .gt_left { text-align: left !important; }\n",
       " #wbiyyngnxt .gt_center { text-align: center !important; }\n",
       " #wbiyyngnxt .gt_right { text-align: right !important; font-variant-numeric: tabular-nums !important; }\n",
       " #wbiyyngnxt .gt_font_normal { font-weight: normal !important; }\n",
       " #wbiyyngnxt .gt_font_bold { font-weight: bold !important; }\n",
       " #wbiyyngnxt .gt_font_italic { font-style: italic !important; }\n",
       " #wbiyyngnxt .gt_super { font-size: 65% !important; }\n",
       " #wbiyyngnxt .gt_footnote_marks { font-size: 75% !important; vertical-align: 0.4em !important; position: initial !important; }\n",
       " #wbiyyngnxt .gt_asterisk { font-size: 100% !important; vertical-align: 0 !important; }\n",
       " \n",
       "</style>\n",
       "<table class=\"gt_table\" data-quarto-disable-processing=\"false\" data-quarto-bootstrap=\"false\">\n",
       "<thead>\n",
       "\n",
       "  <tr class=\"gt_heading\">\n",
       "    <td colspan=\"5\" class=\"gt_heading gt_title gt_font_normal\">TABLE 2.—PREDICTIVE VALUE OF WALLET REPORTING RATES</td>\n",
       "  </tr>\n",
       "<tr class=\"gt_col_headings gt_spanner_row\">\n",
       "  <th class=\"gt_col_heading gt_columns_bottom_border gt_left\" rowspan=\"2\" colspan=\"1\" scope=\"col\" id=\"\"></th>\n",
       "  <th class=\"gt_center gt_columns_top_border gt_column_spanner_outer\" rowspan=\"1\" colspan=\"2\" scope=\"colgroup\" id=\"Letter-grade-efficiency\">\n",
       "    <span class=\"gt_column_spanner\">Letter grade efficiency</span>\n",
       "  </th>\n",
       "  <th class=\"gt_center gt_columns_top_border gt_column_spanner_outer\" rowspan=\"1\" colspan=\"2\" scope=\"colgroup\" id=\"PISA-Score\">\n",
       "    <span class=\"gt_column_spanner\">PISA Score</span>\n",
       "  </th>\n",
       "</tr>\n",
       "<tr class=\"gt_col_headings\">\n",
       "  <th class=\"gt_col_heading gt_columns_bottom_border gt_center\" rowspan=\"1\" colspan=\"1\" scope=\"col\" id=\"Model-7\">Model 7</th>\n",
       "  <th class=\"gt_col_heading gt_columns_bottom_border gt_center\" rowspan=\"1\" colspan=\"1\" scope=\"col\" id=\"Model-8\">Model 8</th>\n",
       "  <th class=\"gt_col_heading gt_columns_bottom_border gt_right\" rowspan=\"1\" colspan=\"1\" scope=\"col\" id=\"Model-9\">Model 9</th>\n",
       "  <th class=\"gt_col_heading gt_columns_bottom_border gt_right\" rowspan=\"1\" colspan=\"1\" scope=\"col\" id=\"Model-10\">Model 10</th>\n",
       "</tr>\n",
       "</thead>\n",
       "<tbody class=\"gt_table_body\">\n",
       "  <tr class=\"gt_group_heading_row\">\n",
       "    <th class=\"gt_group_heading\" colspan=\"5\">general_trust</th>\n",
       "  </tr>\n",
       "  <tr>\n",
       "    <th class=\"gt_row gt_left gt_stub\">general_trust</th>\n",
       "    <td class=\"gt_row gt_center\">0.077*</td>\n",
       "    <td class=\"gt_row gt_center\">-0.013</td>\n",
       "    <td class=\"gt_row gt_right\">26.665***</td>\n",
       "    <td class=\"gt_row gt_right\">9.099</td>\n",
       "  </tr>\n",
       "  <tr>\n",
       "    <th class=\"gt_row gt_left gt_stub\"></th>\n",
       "    <td class=\"gt_row gt_center\">(0.041)</td>\n",
       "    <td class=\"gt_row gt_center\">(0.040)</td>\n",
       "    <td class=\"gt_row gt_right\">(4.461)</td>\n",
       "    <td class=\"gt_row gt_right\">(6.632)</td>\n",
       "  </tr>\n",
       "  <tr>\n",
       "    <th class=\"gt_row gt_left gt_stub\">response</th>\n",
       "    <td class=\"gt_row gt_center\"><NA></td>\n",
       "    <td class=\"gt_row gt_center\">0.148***</td>\n",
       "    <td class=\"gt_row gt_right\"><NA></td>\n",
       "    <td class=\"gt_row gt_right\">24.956***</td>\n",
       "  </tr>\n",
       "  <tr>\n",
       "    <th class=\"gt_row gt_left gt_stub\"></th>\n",
       "    <td class=\"gt_row gt_center\"><NA></td>\n",
       "    <td class=\"gt_row gt_center\">(0.050)</td>\n",
       "    <td class=\"gt_row gt_right\"><NA></td>\n",
       "    <td class=\"gt_row gt_right\">(5.819)</td>\n",
       "  </tr>\n",
       "  <tr>\n",
       "    <th class=\"gt_row gt_left gt_stub\"><i>N<i></th>\n",
       "    <td class=\"gt_row gt_center\">39</td>\n",
       "    <td class=\"gt_row gt_center\">39</td>\n",
       "    <td class=\"gt_row gt_right\">32</td>\n",
       "    <td class=\"gt_row gt_right\">32</td>\n",
       "  </tr>\n",
       "  <tr>\n",
       "    <th class=\"gt_row gt_left gt_stub\"><i>R<i><sup>2</sup></th>\n",
       "    <td class=\"gt_row gt_center\">0.078</td>\n",
       "    <td class=\"gt_row gt_center\">0.263</td>\n",
       "    <td class=\"gt_row gt_right\">0.455</td>\n",
       "    <td class=\"gt_row gt_right\">0.656</td>\n",
       "  </tr>\n",
       "  <tr class=\"gt_group_heading_row\">\n",
       "    <th class=\"gt_group_heading\" colspan=\"5\">GPS_trust</th>\n",
       "  </tr>\n",
       "  <tr>\n",
       "    <th class=\"gt_row gt_left gt_stub\">GPS_trust</th>\n",
       "    <td class=\"gt_row gt_center\">-0.016</td>\n",
       "    <td class=\"gt_row gt_center\">-0.018</td>\n",
       "    <td class=\"gt_row gt_right\">3.309</td>\n",
       "    <td class=\"gt_row gt_right\">4.477</td>\n",
       "  </tr>\n",
       "  <tr>\n",
       "    <th class=\"gt_row gt_left gt_stub\"></th>\n",
       "    <td class=\"gt_row gt_center\">(0.050)</td>\n",
       "    <td class=\"gt_row gt_center\">(0.039)</td>\n",
       "    <td class=\"gt_row gt_right\">(7.499)</td>\n",
       "    <td class=\"gt_row gt_right\">(3.642)</td>\n",
       "  </tr>\n",
       "  <tr>\n",
       "    <th class=\"gt_row gt_left gt_stub\">response</th>\n",
       "    <td class=\"gt_row gt_center\"><NA></td>\n",
       "    <td class=\"gt_row gt_center\">0.125***</td>\n",
       "    <td class=\"gt_row gt_right\"><NA></td>\n",
       "    <td class=\"gt_row gt_right\">31.574***</td>\n",
       "  </tr>\n",
       "  <tr>\n",
       "    <th class=\"gt_row gt_left gt_stub\"></th>\n",
       "    <td class=\"gt_row gt_center\"><NA></td>\n",
       "    <td class=\"gt_row gt_center\">(0.041)</td>\n",
       "    <td class=\"gt_row gt_right\"><NA></td>\n",
       "    <td class=\"gt_row gt_right\">(3.851)</td>\n",
       "  </tr>\n",
       "  <tr>\n",
       "    <th class=\"gt_row gt_left gt_stub\"><i>N<i></th>\n",
       "    <td class=\"gt_row gt_center\">36</td>\n",
       "    <td class=\"gt_row gt_center\">36</td>\n",
       "    <td class=\"gt_row gt_right\">29</td>\n",
       "    <td class=\"gt_row gt_right\">29</td>\n",
       "  </tr>\n",
       "  <tr>\n",
       "    <th class=\"gt_row gt_left gt_stub\"><i>R<i><sup>2</sup></th>\n",
       "    <td class=\"gt_row gt_center\">0.003</td>\n",
       "    <td class=\"gt_row gt_center\">0.213</td>\n",
       "    <td class=\"gt_row gt_right\">0.007</td>\n",
       "    <td class=\"gt_row gt_right\">0.628</td>\n",
       "  </tr>\n",
       "  <tr class=\"gt_group_heading_row\">\n",
       "    <th class=\"gt_group_heading\" colspan=\"5\">general_morality</th>\n",
       "  </tr>\n",
       "  <tr>\n",
       "    <th class=\"gt_row gt_left gt_stub\">general_morality</th>\n",
       "    <td class=\"gt_row gt_center\">0.080**</td>\n",
       "    <td class=\"gt_row gt_center\">-0.012</td>\n",
       "    <td class=\"gt_row gt_right\">25.366***</td>\n",
       "    <td class=\"gt_row gt_right\">9.868**</td>\n",
       "  </tr>\n",
       "  <tr>\n",
       "    <th class=\"gt_row gt_left gt_stub\"></th>\n",
       "    <td class=\"gt_row gt_center\">(0.036)</td>\n",
       "    <td class=\"gt_row gt_center\">(0.047)</td>\n",
       "    <td class=\"gt_row gt_right\">(4.857)</td>\n",
       "    <td class=\"gt_row gt_right\">(4.125)</td>\n",
       "  </tr>\n",
       "  <tr>\n",
       "    <th class=\"gt_row gt_left gt_stub\">response</th>\n",
       "    <td class=\"gt_row gt_center\"><NA></td>\n",
       "    <td class=\"gt_row gt_center\">0.150***</td>\n",
       "    <td class=\"gt_row gt_right\"><NA></td>\n",
       "    <td class=\"gt_row gt_right\">25.321***</td>\n",
       "  </tr>\n",
       "  <tr>\n",
       "    <th class=\"gt_row gt_left gt_stub\"></th>\n",
       "    <td class=\"gt_row gt_center\"><NA></td>\n",
       "    <td class=\"gt_row gt_center\">(0.055)</td>\n",
       "    <td class=\"gt_row gt_right\"><NA></td>\n",
       "    <td class=\"gt_row gt_right\">(3.718)</td>\n",
       "  </tr>\n",
       "  <tr>\n",
       "    <th class=\"gt_row gt_left gt_stub\"><i>N<i></th>\n",
       "    <td class=\"gt_row gt_center\">38</td>\n",
       "    <td class=\"gt_row gt_center\">38</td>\n",
       "    <td class=\"gt_row gt_right\">32</td>\n",
       "    <td class=\"gt_row gt_right\">32</td>\n",
       "  </tr>\n",
       "  <tr>\n",
       "    <th class=\"gt_row gt_left gt_stub\"><i>R<i><sup>2</sup></th>\n",
       "    <td class=\"gt_row gt_center\">0.083</td>\n",
       "    <td class=\"gt_row gt_center\">0.268</td>\n",
       "    <td class=\"gt_row gt_right\">0.412</td>\n",
       "    <td class=\"gt_row gt_right\">0.669</td>\n",
       "  </tr>\n",
       "  <tr class=\"gt_group_heading_row\">\n",
       "    <th class=\"gt_group_heading\" colspan=\"5\">MFQ_genmorality</th>\n",
       "  </tr>\n",
       "  <tr>\n",
       "    <th class=\"gt_row gt_left gt_stub\">MFQ_genmorality</th>\n",
       "    <td class=\"gt_row gt_center\">0.118***</td>\n",
       "    <td class=\"gt_row gt_center\">0.069*</td>\n",
       "    <td class=\"gt_row gt_right\">13.271*</td>\n",
       "    <td class=\"gt_row gt_right\">2.465</td>\n",
       "  </tr>\n",
       "  <tr>\n",
       "    <th class=\"gt_row gt_left gt_stub\"></th>\n",
       "    <td class=\"gt_row gt_center\">(0.041)</td>\n",
       "    <td class=\"gt_row gt_center\">(0.041)</td>\n",
       "    <td class=\"gt_row gt_right\">(7.993)</td>\n",
       "    <td class=\"gt_row gt_right\">(3.818)</td>\n",
       "  </tr>\n",
       "  <tr>\n",
       "    <th class=\"gt_row gt_left gt_stub\">response</th>\n",
       "    <td class=\"gt_row gt_center\"><NA></td>\n",
       "    <td class=\"gt_row gt_center\">0.107***</td>\n",
       "    <td class=\"gt_row gt_right\"><NA></td>\n",
       "    <td class=\"gt_row gt_right\">31.432***</td>\n",
       "  </tr>\n",
       "  <tr>\n",
       "    <th class=\"gt_row gt_left gt_stub\"></th>\n",
       "    <td class=\"gt_row gt_center\"><NA></td>\n",
       "    <td class=\"gt_row gt_center\">(0.032)</td>\n",
       "    <td class=\"gt_row gt_right\"><NA></td>\n",
       "    <td class=\"gt_row gt_right\">(3.616)</td>\n",
       "  </tr>\n",
       "  <tr>\n",
       "    <th class=\"gt_row gt_left gt_stub\"><i>N<i></th>\n",
       "    <td class=\"gt_row gt_center\">35</td>\n",
       "    <td class=\"gt_row gt_center\">35</td>\n",
       "    <td class=\"gt_row gt_right\">31</td>\n",
       "    <td class=\"gt_row gt_right\">31</td>\n",
       "  </tr>\n",
       "  <tr>\n",
       "    <th class=\"gt_row gt_left gt_stub\"><i>R<i><sup>2</sup></th>\n",
       "    <td class=\"gt_row gt_center\">0.219</td>\n",
       "    <td class=\"gt_row gt_center\">0.360</td>\n",
       "    <td class=\"gt_row gt_right\">0.110</td>\n",
       "    <td class=\"gt_row gt_right\">0.656</td>\n",
       "  </tr>\n",
       "  <tr class=\"gt_group_heading_row\">\n",
       "    <th class=\"gt_group_heading\" colspan=\"5\">civic_cooperation</th>\n",
       "  </tr>\n",
       "  <tr>\n",
       "    <th class=\"gt_row gt_left gt_stub\">civic_cooperation</th>\n",
       "    <td class=\"gt_row gt_center\">0.089*</td>\n",
       "    <td class=\"gt_row gt_center\">0.038</td>\n",
       "    <td class=\"gt_row gt_right\">19.470***</td>\n",
       "    <td class=\"gt_row gt_right\">2.093</td>\n",
       "  </tr>\n",
       "  <tr>\n",
       "    <th class=\"gt_row gt_left gt_stub\"></th>\n",
       "    <td class=\"gt_row gt_center\">(0.045)</td>\n",
       "    <td class=\"gt_row gt_center\">(0.059)</td>\n",
       "    <td class=\"gt_row gt_right\">(5.560)</td>\n",
       "    <td class=\"gt_row gt_right\">(4.312)</td>\n",
       "  </tr>\n",
       "  <tr>\n",
       "    <th class=\"gt_row gt_left gt_stub\">response</th>\n",
       "    <td class=\"gt_row gt_center\"><NA></td>\n",
       "    <td class=\"gt_row gt_center\">0.130**</td>\n",
       "    <td class=\"gt_row gt_right\"><NA></td>\n",
       "    <td class=\"gt_row gt_right\">30.727***</td>\n",
       "  </tr>\n",
       "  <tr>\n",
       "    <th class=\"gt_row gt_left gt_stub\"></th>\n",
       "    <td class=\"gt_row gt_center\"><NA></td>\n",
       "    <td class=\"gt_row gt_center\">(0.054)</td>\n",
       "    <td class=\"gt_row gt_right\"><NA></td>\n",
       "    <td class=\"gt_row gt_right\">(4.505)</td>\n",
       "  </tr>\n",
       "  <tr>\n",
       "    <th class=\"gt_row gt_left gt_stub\"><i>N<i></th>\n",
       "    <td class=\"gt_row gt_center\">37</td>\n",
       "    <td class=\"gt_row gt_center\">37</td>\n",
       "    <td class=\"gt_row gt_right\">31</td>\n",
       "    <td class=\"gt_row gt_right\">31</td>\n",
       "  </tr>\n",
       "  <tr>\n",
       "    <th class=\"gt_row gt_left gt_stub\"><i>R<i><sup>2</sup></th>\n",
       "    <td class=\"gt_row gt_center\">0.100</td>\n",
       "    <td class=\"gt_row gt_center\">0.283</td>\n",
       "    <td class=\"gt_row gt_right\">0.235</td>\n",
       "    <td class=\"gt_row gt_right\">0.633</td>\n",
       "  </tr>\n",
       "  <tr class=\"gt_group_heading_row\">\n",
       "    <th class=\"gt_group_heading\" colspan=\"5\">GPS_posrecip</th>\n",
       "  </tr>\n",
       "  <tr>\n",
       "    <th class=\"gt_row gt_left gt_stub\">GPS_posrecip</th>\n",
       "    <td class=\"gt_row gt_center\">0.009</td>\n",
       "    <td class=\"gt_row gt_center\">0.003</td>\n",
       "    <td class=\"gt_row gt_right\">3.255</td>\n",
       "    <td class=\"gt_row gt_right\">1.411</td>\n",
       "  </tr>\n",
       "  <tr>\n",
       "    <th class=\"gt_row gt_left gt_stub\"></th>\n",
       "    <td class=\"gt_row gt_center\">(0.040)</td>\n",
       "    <td class=\"gt_row gt_center\">(0.044)</td>\n",
       "    <td class=\"gt_row gt_right\">(7.924)</td>\n",
       "    <td class=\"gt_row gt_right\">(4.321)</td>\n",
       "  </tr>\n",
       "  <tr>\n",
       "    <th class=\"gt_row gt_left gt_stub\">response</th>\n",
       "    <td class=\"gt_row gt_center\"><NA></td>\n",
       "    <td class=\"gt_row gt_center\">0.125***</td>\n",
       "    <td class=\"gt_row gt_right\"><NA></td>\n",
       "    <td class=\"gt_row gt_right\">31.325***</td>\n",
       "  </tr>\n",
       "  <tr>\n",
       "    <th class=\"gt_row gt_left gt_stub\"></th>\n",
       "    <td class=\"gt_row gt_center\"><NA></td>\n",
       "    <td class=\"gt_row gt_center\">(0.042)</td>\n",
       "    <td class=\"gt_row gt_right\"><NA></td>\n",
       "    <td class=\"gt_row gt_right\">(3.888)</td>\n",
       "  </tr>\n",
       "  <tr>\n",
       "    <th class=\"gt_row gt_left gt_stub\"><i>N<i></th>\n",
       "    <td class=\"gt_row gt_center\">36</td>\n",
       "    <td class=\"gt_row gt_center\">36</td>\n",
       "    <td class=\"gt_row gt_right\">29</td>\n",
       "    <td class=\"gt_row gt_right\">29</td>\n",
       "  </tr>\n",
       "  <tr>\n",
       "    <th class=\"gt_row gt_left gt_stub\"><i>R<i><sup>2</sup></th>\n",
       "    <td class=\"gt_row gt_center\">0.001</td>\n",
       "    <td class=\"gt_row gt_center\">0.209</td>\n",
       "    <td class=\"gt_row gt_right\">0.007</td>\n",
       "    <td class=\"gt_row gt_right\">0.617</td>\n",
       "  </tr>\n",
       "  <tr class=\"gt_group_heading_row\">\n",
       "    <th class=\"gt_group_heading\" colspan=\"5\">GPS_altruism</th>\n",
       "  </tr>\n",
       "  <tr>\n",
       "    <th class=\"gt_row gt_left gt_stub\">GPS_altruism</th>\n",
       "    <td class=\"gt_row gt_center\">-0.033</td>\n",
       "    <td class=\"gt_row gt_center\">-0.006</td>\n",
       "    <td class=\"gt_row gt_right\">0.699</td>\n",
       "    <td class=\"gt_row gt_right\">3.908</td>\n",
       "  </tr>\n",
       "  <tr>\n",
       "    <th class=\"gt_row gt_left gt_stub\"></th>\n",
       "    <td class=\"gt_row gt_center\">(0.037)</td>\n",
       "    <td class=\"gt_row gt_center\">(0.037)</td>\n",
       "    <td class=\"gt_row gt_right\">(8.108)</td>\n",
       "    <td class=\"gt_row gt_right\">(5.177)</td>\n",
       "  </tr>\n",
       "  <tr>\n",
       "    <th class=\"gt_row gt_left gt_stub\">response</th>\n",
       "    <td class=\"gt_row gt_center\"><NA></td>\n",
       "    <td class=\"gt_row gt_center\">0.124***</td>\n",
       "    <td class=\"gt_row gt_right\"><NA></td>\n",
       "    <td class=\"gt_row gt_right\">31.803***</td>\n",
       "  </tr>\n",
       "  <tr>\n",
       "    <th class=\"gt_row gt_left gt_stub\"></th>\n",
       "    <td class=\"gt_row gt_center\"><NA></td>\n",
       "    <td class=\"gt_row gt_center\">(0.040)</td>\n",
       "    <td class=\"gt_row gt_right\"><NA></td>\n",
       "    <td class=\"gt_row gt_right\">(3.547)</td>\n",
       "  </tr>\n",
       "  <tr>\n",
       "    <th class=\"gt_row gt_left gt_stub\"><i>N<i></th>\n",
       "    <td class=\"gt_row gt_center\">36</td>\n",
       "    <td class=\"gt_row gt_center\">36</td>\n",
       "    <td class=\"gt_row gt_right\">29</td>\n",
       "    <td class=\"gt_row gt_right\">29</td>\n",
       "  </tr>\n",
       "  <tr>\n",
       "    <th class=\"gt_row gt_left gt_stub\"><i>R<i><sup>2</sup></th>\n",
       "    <td class=\"gt_row gt_center\">0.015</td>\n",
       "    <td class=\"gt_row gt_center\">0.209</td>\n",
       "    <td class=\"gt_row gt_right\">0.000</td>\n",
       "    <td class=\"gt_row gt_right\">0.625</td>\n",
       "  </tr>\n",
       "  <tr class=\"gt_group_heading_row\">\n",
       "    <th class=\"gt_group_heading\" colspan=\"5\">stranger1</th>\n",
       "  </tr>\n",
       "  <tr>\n",
       "    <th class=\"gt_row gt_left gt_stub\">stranger1</th>\n",
       "    <td class=\"gt_row gt_center\">0.091**</td>\n",
       "    <td class=\"gt_row gt_center\">0.001</td>\n",
       "    <td class=\"gt_row gt_right\">28.408***</td>\n",
       "    <td class=\"gt_row gt_right\">12.071***</td>\n",
       "  </tr>\n",
       "  <tr>\n",
       "    <th class=\"gt_row gt_left gt_stub\"></th>\n",
       "    <td class=\"gt_row gt_center\">(0.036)</td>\n",
       "    <td class=\"gt_row gt_center\">(0.062)</td>\n",
       "    <td class=\"gt_row gt_right\">(4.186)</td>\n",
       "    <td class=\"gt_row gt_right\">(4.536)</td>\n",
       "  </tr>\n",
       "  <tr>\n",
       "    <th class=\"gt_row gt_left gt_stub\">response</th>\n",
       "    <td class=\"gt_row gt_center\"><NA></td>\n",
       "    <td class=\"gt_row gt_center\">0.140**</td>\n",
       "    <td class=\"gt_row gt_right\"><NA></td>\n",
       "    <td class=\"gt_row gt_right\">23.480***</td>\n",
       "  </tr>\n",
       "  <tr>\n",
       "    <th class=\"gt_row gt_left gt_stub\"></th>\n",
       "    <td class=\"gt_row gt_center\"><NA></td>\n",
       "    <td class=\"gt_row gt_center\">(0.061)</td>\n",
       "    <td class=\"gt_row gt_right\"><NA></td>\n",
       "    <td class=\"gt_row gt_right\">(4.237)</td>\n",
       "  </tr>\n",
       "  <tr>\n",
       "    <th class=\"gt_row gt_left gt_stub\"><i>N<i></th>\n",
       "    <td class=\"gt_row gt_center\">39</td>\n",
       "    <td class=\"gt_row gt_center\">39</td>\n",
       "    <td class=\"gt_row gt_right\">32</td>\n",
       "    <td class=\"gt_row gt_right\">32</td>\n",
       "  </tr>\n",
       "  <tr>\n",
       "    <th class=\"gt_row gt_left gt_stub\"><i>R<i><sup>2</sup></th>\n",
       "    <td class=\"gt_row gt_center\">0.110</td>\n",
       "    <td class=\"gt_row gt_center\">0.263</td>\n",
       "    <td class=\"gt_row gt_right\">0.508</td>\n",
       "    <td class=\"gt_row gt_right\">0.687</td>\n",
       "  </tr>\n",
       "</tbody>\n",
       "\n",
       "\n",
       "</table>\n",
       "\n",
       "</div>\n",
       "        "
      ],
      "text/plain": [
       "GT(_tbl_data=                level_0   Model 7            measure   Model 8    Model 9  \\\n",
       "0         general_trust    0.077*      general_trust    -0.013  26.665***   \n",
       "1                         (0.041)      general_trust   (0.040)    (4.461)   \n",
       "2              response       NaN      general_trust  0.148***        NaN   \n",
       "3                             NaN      general_trust   (0.050)        NaN   \n",
       "4               <i>N<i>        39      general_trust        39         32   \n",
       "5   <i>R<i><sup>2</sup>     0.078      general_trust     0.263      0.455   \n",
       "6             GPS_trust    -0.016          GPS_trust    -0.018      3.309   \n",
       "7                         (0.050)          GPS_trust   (0.039)    (7.499)   \n",
       "8              response       NaN          GPS_trust  0.125***        NaN   \n",
       "9                             NaN          GPS_trust   (0.041)        NaN   \n",
       "10              <i>N<i>        36          GPS_trust        36         29   \n",
       "11  <i>R<i><sup>2</sup>     0.003          GPS_trust     0.213      0.007   \n",
       "12     general_morality   0.080**   general_morality    -0.012  25.366***   \n",
       "13                        (0.036)   general_morality   (0.047)    (4.857)   \n",
       "14             response       NaN   general_morality  0.150***        NaN   \n",
       "15                            NaN   general_morality   (0.055)        NaN   \n",
       "16              <i>N<i>        38   general_morality        38         32   \n",
       "17  <i>R<i><sup>2</sup>     0.083   general_morality     0.268      0.412   \n",
       "18      MFQ_genmorality  0.118***    MFQ_genmorality    0.069*    13.271*   \n",
       "19                        (0.041)    MFQ_genmorality   (0.041)    (7.993)   \n",
       "20             response       NaN    MFQ_genmorality  0.107***        NaN   \n",
       "21                            NaN    MFQ_genmorality   (0.032)        NaN   \n",
       "22              <i>N<i>        35    MFQ_genmorality        35         31   \n",
       "23  <i>R<i><sup>2</sup>     0.219    MFQ_genmorality     0.360      0.110   \n",
       "24    civic_cooperation    0.089*  civic_cooperation     0.038  19.470***   \n",
       "25                        (0.045)  civic_cooperation   (0.059)    (5.560)   \n",
       "26             response       NaN  civic_cooperation   0.130**        NaN   \n",
       "27                            NaN  civic_cooperation   (0.054)        NaN   \n",
       "28              <i>N<i>        37  civic_cooperation        37         31   \n",
       "29  <i>R<i><sup>2</sup>     0.100  civic_cooperation     0.283      0.235   \n",
       "30         GPS_posrecip     0.009       GPS_posrecip     0.003      3.255   \n",
       "31                        (0.040)       GPS_posrecip   (0.044)    (7.924)   \n",
       "32             response       NaN       GPS_posrecip  0.125***        NaN   \n",
       "33                            NaN       GPS_posrecip   (0.042)        NaN   \n",
       "34              <i>N<i>        36       GPS_posrecip        36         29   \n",
       "35  <i>R<i><sup>2</sup>     0.001       GPS_posrecip     0.209      0.007   \n",
       "36         GPS_altruism    -0.033       GPS_altruism    -0.006      0.699   \n",
       "37                        (0.037)       GPS_altruism   (0.037)    (8.108)   \n",
       "38             response       NaN       GPS_altruism  0.124***        NaN   \n",
       "39                            NaN       GPS_altruism   (0.040)        NaN   \n",
       "40              <i>N<i>        36       GPS_altruism        36         29   \n",
       "41  <i>R<i><sup>2</sup>     0.015       GPS_altruism     0.209      0.000   \n",
       "42            stranger1   0.091**          stranger1     0.001  28.408***   \n",
       "43                        (0.036)          stranger1   (0.062)    (4.186)   \n",
       "44             response       NaN          stranger1   0.140**        NaN   \n",
       "45                            NaN          stranger1   (0.061)        NaN   \n",
       "46              <i>N<i>        39          stranger1        39         32   \n",
       "47  <i>R<i><sup>2</sup>     0.110          stranger1     0.263      0.508   \n",
       "\n",
       "     Model 10  \n",
       "0       9.099  \n",
       "1     (6.632)  \n",
       "2   24.956***  \n",
       "3     (5.819)  \n",
       "4          32  \n",
       "5       0.656  \n",
       "6       4.477  \n",
       "7     (3.642)  \n",
       "8   31.574***  \n",
       "9     (3.851)  \n",
       "10         29  \n",
       "11      0.628  \n",
       "12    9.868**  \n",
       "13    (4.125)  \n",
       "14  25.321***  \n",
       "15    (3.718)  \n",
       "16         32  \n",
       "17      0.669  \n",
       "18      2.465  \n",
       "19    (3.818)  \n",
       "20  31.432***  \n",
       "21    (3.616)  \n",
       "22         31  \n",
       "23      0.656  \n",
       "24      2.093  \n",
       "25    (4.312)  \n",
       "26  30.727***  \n",
       "27    (4.505)  \n",
       "28         31  \n",
       "29      0.633  \n",
       "30      1.411  \n",
       "31    (4.321)  \n",
       "32  31.325***  \n",
       "33    (3.888)  \n",
       "34         29  \n",
       "35      0.617  \n",
       "36      3.908  \n",
       "37    (5.177)  \n",
       "38  31.803***  \n",
       "39    (3.547)  \n",
       "40         29  \n",
       "41      0.625  \n",
       "42  12.071***  \n",
       "43    (4.536)  \n",
       "44  23.480***  \n",
       "45    (4.237)  \n",
       "46         32  \n",
       "47      0.687  , _body=<great_tables._gt_data.Body object at 0x1394c2cf0>, _boxhead=Boxhead([ColInfo(var='level_0', type=<ColInfoTypeEnum.stub: 2>, column_label='level_0', column_align='left', column_width=None), ColInfo(var='Model 7', type=<ColInfoTypeEnum.default: 1>, column_label='Model 7', column_align='center', column_width=None), ColInfo(var='Model 8', type=<ColInfoTypeEnum.default: 1>, column_label='Model 8', column_align='center', column_width=None), ColInfo(var='measure', type=<ColInfoTypeEnum.row_group: 3>, column_label='measure', column_align='left', column_width=None), ColInfo(var='Model 9', type=<ColInfoTypeEnum.default: 1>, column_label='Model 9', column_align='right', column_width=None), ColInfo(var='Model 10', type=<ColInfoTypeEnum.default: 1>, column_label='Model 10', column_align='right', column_width=None)]), _stub=<great_tables._gt_data.Stub object at 0x13baea5d0>, _spanners=Spanners([SpannerInfo(spanner_id='Letter grade efficiency', spanner_level=0, spanner_label='Letter grade efficiency', spanner_units=None, spanner_pattern=None, vars=['Model 7', 'Model 8'], built=None), SpannerInfo(spanner_id='PISA Score', spanner_level=0, spanner_label='PISA Score', spanner_units=None, spanner_pattern=None, vars=['Model 9', 'Model 10'], built=None)]), _heading=Heading(title='TABLE 2.—PREDICTIVE VALUE OF WALLET REPORTING RATES', subtitle=None, preheader=None), _stubhead=None, _source_notes=[], _footnotes=[], _styles=[], _locale=<great_tables._gt_data.Locale object at 0x13bb051c0>, _formats=[], _substitutions=[], _options=Options(table_id=OptionsInfo(scss=False, category='table', type='value', value=None), table_caption=OptionsInfo(scss=False, category='table', type='value', value=None), table_width=OptionsInfo(scss=True, category='table', type='px', value='auto'), table_layout=OptionsInfo(scss=True, category='table', type='value', value='fixed'), table_margin_left=OptionsInfo(scss=True, category='table', type='px', value='auto'), table_margin_right=OptionsInfo(scss=True, category='table', type='px', value='auto'), table_background_color=OptionsInfo(scss=True, category='table', type='value', value='#FFFFFF'), table_additional_css=OptionsInfo(scss=False, category='table', type='values', value=[]), table_font_names=OptionsInfo(scss=False, category='table', type='values', value=['-apple-system', 'BlinkMacSystemFont', 'Segoe UI', 'Roboto', 'Oxygen', 'Ubuntu', 'Cantarell', 'Helvetica Neue', 'Fira Sans', 'Droid Sans', 'Arial', 'sans-serif']), table_font_size=OptionsInfo(scss=True, category='table', type='px', value='16px'), table_font_weight=OptionsInfo(scss=True, category='table', type='value', value='normal'), table_font_style=OptionsInfo(scss=True, category='table', type='value', value='normal'), table_font_color=OptionsInfo(scss=True, category='table', type='value', value='#333333'), table_font_color_light=OptionsInfo(scss=True, category='table', type='value', value='#FFFFFF'), table_border_top_include=OptionsInfo(scss=False, category='table', type='boolean', value=True), table_border_top_style=OptionsInfo(scss=True, category='table', type='value', value='solid'), table_border_top_width=OptionsInfo(scss=True, category='table', type='px', value='2px'), table_border_top_color=OptionsInfo(scss=True, category='table', type='value', value='#A8A8A8'), table_border_right_style=OptionsInfo(scss=True, category='table', type='value', value='none'), table_border_right_width=OptionsInfo(scss=True, category='table', type='px', value='2px'), table_border_right_color=OptionsInfo(scss=True, category='table', type='value', value='#D3D3D3'), table_border_bottom_include=OptionsInfo(scss=False, category='table', type='boolean', value=True), table_border_bottom_style=OptionsInfo(scss=True, category='table', type='value', value='solid'), table_border_bottom_width=OptionsInfo(scss=True, category='table', type='px', value='2px'), table_border_bottom_color=OptionsInfo(scss=True, category='table', type='value', value='#A8A8A8'), table_border_left_style=OptionsInfo(scss=True, category='table', type='value', value='none'), table_border_left_width=OptionsInfo(scss=True, category='table', type='px', value='2px'), table_border_left_color=OptionsInfo(scss=True, category='table', type='value', value='#D3D3D3'), heading_background_color=OptionsInfo(scss=True, category='heading', type='value', value=None), heading_align=OptionsInfo(scss=True, category='heading', type='value', value='center'), heading_title_font_size=OptionsInfo(scss=True, category='heading', type='px', value='125%'), heading_title_font_weight=OptionsInfo(scss=True, category='heading', type='value', value='initial'), heading_subtitle_font_size=OptionsInfo(scss=True, category='heading', type='px', value='85%'), heading_subtitle_font_weight=OptionsInfo(scss=True, category='heading', type='value', value='initial'), heading_padding=OptionsInfo(scss=True, category='heading', type='px', value='4px'), heading_padding_horizontal=OptionsInfo(scss=True, category='heading', type='px', value='5px'), heading_border_bottom_style=OptionsInfo(scss=True, category='heading', type='value', value='solid'), heading_border_bottom_width=OptionsInfo(scss=True, category='heading', type='px', value='2px'), heading_border_bottom_color=OptionsInfo(scss=True, category='heading', type='value', value='#D3D3D3'), heading_border_lr_style=OptionsInfo(scss=True, category='heading', type='value', value='none'), heading_border_lr_width=OptionsInfo(scss=True, category='heading', type='px', value='1px'), heading_border_lr_color=OptionsInfo(scss=True, category='heading', type='value', value='#D3D3D3'), column_labels_background_color=OptionsInfo(scss=True, category='column_labels', type='value', value=None), column_labels_font_size=OptionsInfo(scss=True, category='column_labels', type='px', value='100%'), column_labels_font_weight=OptionsInfo(scss=True, category='column_labels', type='value', value='normal'), column_labels_text_transform=OptionsInfo(scss=True, category='column_labels', type='value', value='inherit'), column_labels_padding=OptionsInfo(scss=True, category='column_labels', type='px', value='5px'), column_labels_padding_horizontal=OptionsInfo(scss=True, category='column_labels', type='px', value='5px'), column_labels_vlines_style=OptionsInfo(scss=True, category='table_body', type='value', value='none'), column_labels_vlines_width=OptionsInfo(scss=True, category='table_body', type='px', value='1px'), column_labels_vlines_color=OptionsInfo(scss=True, category='table_body', type='value', value='#D3D3D3'), column_labels_border_top_style=OptionsInfo(scss=True, category='column_labels', type='value', value='solid'), column_labels_border_top_width=OptionsInfo(scss=True, category='column_labels', type='px', value='2px'), column_labels_border_top_color=OptionsInfo(scss=True, category='column_labels', type='value', value='#D3D3D3'), column_labels_border_bottom_style=OptionsInfo(scss=True, category='column_labels', type='value', value='solid'), column_labels_border_bottom_width=OptionsInfo(scss=True, category='column_labels', type='px', value='2px'), column_labels_border_bottom_color=OptionsInfo(scss=True, category='column_labels', type='value', value='#D3D3D3'), column_labels_border_lr_style=OptionsInfo(scss=True, category='column_labels', type='value', value='none'), column_labels_border_lr_width=OptionsInfo(scss=True, category='column_labels', type='px', value='1px'), column_labels_border_lr_color=OptionsInfo(scss=True, category='column_labels', type='value', value='#D3D3D3'), column_labels_hidden=OptionsInfo(scss=False, category='column_labels', type='boolean', value=False), row_group_background_color=OptionsInfo(scss=True, category='row_group', type='value', value=None), row_group_font_size=OptionsInfo(scss=True, category='row_group', type='px', value='100%'), row_group_font_weight=OptionsInfo(scss=True, category='row_group', type='value', value='initial'), row_group_text_transform=OptionsInfo(scss=True, category='row_group', type='value', value='inherit'), row_group_padding=OptionsInfo(scss=True, category='row_group', type='px', value='8px'), row_group_padding_horizontal=OptionsInfo(scss=True, category='row_group', type='px', value='5px'), row_group_border_top_style=OptionsInfo(scss=True, category='row_group', type='value', value='solid'), row_group_border_top_width=OptionsInfo(scss=True, category='row_group', type='px', value='2px'), row_group_border_top_color=OptionsInfo(scss=True, category='row_group', type='value', value='#D3D3D3'), row_group_border_right_style=OptionsInfo(scss=True, category='row_group', type='value', value='none'), row_group_border_right_width=OptionsInfo(scss=True, category='row_group', type='px', value='1px'), row_group_border_right_color=OptionsInfo(scss=True, category='row_group', type='value', value='#D3D3D3'), row_group_border_bottom_style=OptionsInfo(scss=True, category='row_group', type='value', value='solid'), row_group_border_bottom_width=OptionsInfo(scss=True, category='row_group', type='px', value='2px'), row_group_border_bottom_color=OptionsInfo(scss=True, category='row_group', type='value', value='#D3D3D3'), row_group_border_left_style=OptionsInfo(scss=True, category='row_group', type='value', value='none'), row_group_border_left_width=OptionsInfo(scss=True, category='row_group', type='px', value='1px'), row_group_border_left_color=OptionsInfo(scss=True, category='row_group', type='value', value='#D3D3D3'), row_group_as_column=OptionsInfo(scss=False, category='row_group', type='boolean', value=False), table_body_hlines_style=OptionsInfo(scss=True, category='table_body', type='value', value='none'), table_body_hlines_width=OptionsInfo(scss=True, category='table_body', type='px', value='1px'), table_body_hlines_color=OptionsInfo(scss=True, category='table_body', type='value', value='#D3D3D3'), table_body_vlines_style=OptionsInfo(scss=True, category='table_body', type='value', value='none'), table_body_vlines_width=OptionsInfo(scss=True, category='table_body', type='px', value='1px'), table_body_vlines_color=OptionsInfo(scss=True, category='table_body', type='value', value='#D3D3D3'), table_body_border_top_style=OptionsInfo(scss=True, category='table_body', type='value', value='solid'), table_body_border_top_width=OptionsInfo(scss=True, category='table_body', type='px', value='2px'), table_body_border_top_color=OptionsInfo(scss=True, category='table_body', type='value', value='#D3D3D3'), table_body_border_bottom_style=OptionsInfo(scss=True, category='table_body', type='value', value='solid'), table_body_border_bottom_width=OptionsInfo(scss=True, category='table_body', type='px', value='2px'), table_body_border_bottom_color=OptionsInfo(scss=True, category='table_body', type='value', value='#D3D3D3'), data_row_padding=OptionsInfo(scss=True, category='data_row', type='px', value='8px'), data_row_padding_horizontal=OptionsInfo(scss=True, category='data_row', type='px', value='5px'), stub_background_color=OptionsInfo(scss=True, category='stub', type='value', value=None), stub_font_size=OptionsInfo(scss=True, category='stub', type='px', value='100%'), stub_font_weight=OptionsInfo(scss=True, category='stub', type='value', value='initial'), stub_text_transform=OptionsInfo(scss=True, category='stub', type='value', value='inherit'), stub_border_style=OptionsInfo(scss=True, category='stub', type='value', value='solid'), stub_border_width=OptionsInfo(scss=True, category='stub', type='px', value='2px'), stub_border_color=OptionsInfo(scss=True, category='stub', type='value', value='#D3D3D3'), stub_row_group_background_color=OptionsInfo(scss=True, category='stub', type='value', value=None), stub_row_group_font_size=OptionsInfo(scss=True, category='stub', type='px', value='100%'), stub_row_group_font_weight=OptionsInfo(scss=True, category='stub', type='value', value='initial'), stub_row_group_text_transform=OptionsInfo(scss=True, category='stub', type='value', value='inherit'), stub_row_group_border_style=OptionsInfo(scss=True, category='stub', type='value', value='solid'), stub_row_group_border_width=OptionsInfo(scss=True, category='stub', type='px', value='2px'), stub_row_group_border_color=OptionsInfo(scss=True, category='stub', type='value', value='#D3D3D3'), source_notes_padding=OptionsInfo(scss=True, category='source_notes', type='px', value='4px'), source_notes_padding_horizontal=OptionsInfo(scss=True, category='source_notes', type='px', value='5px'), source_notes_background_color=OptionsInfo(scss=True, category='source_notes', type='value', value=None), source_notes_font_size=OptionsInfo(scss=True, category='source_notes', type='px', value='90%'), source_notes_border_bottom_style=OptionsInfo(scss=True, category='source_notes', type='value', value='none'), source_notes_border_bottom_width=OptionsInfo(scss=True, category='source_notes', type='px', value='2px'), source_notes_border_bottom_color=OptionsInfo(scss=True, category='source_notes', type='value', value='#D3D3D3'), source_notes_border_lr_style=OptionsInfo(scss=True, category='source_notes', type='value', value='none'), source_notes_border_lr_width=OptionsInfo(scss=True, category='source_notes', type='px', value='2px'), source_notes_border_lr_color=OptionsInfo(scss=True, category='source_notes', type='value', value='#D3D3D3'), source_notes_multiline=OptionsInfo(scss=False, category='source_notes', type='boolean', value=True), source_notes_sep=OptionsInfo(scss=False, category='source_notes', type='value', value=' '), row_striping_background_color=OptionsInfo(scss=True, category='row', type='value', value='rgba(128,128,128,0.05)'), row_striping_include_stub=OptionsInfo(scss=False, category='row', type='boolean', value=False), row_striping_include_table_body=OptionsInfo(scss=False, category='row', type='boolean', value=False), container_width=OptionsInfo(scss=False, category='container', type='px', value='auto'), container_height=OptionsInfo(scss=False, category='container', type='px', value='auto'), container_padding_x=OptionsInfo(scss=False, category='container', type='px', value='0px'), container_padding_y=OptionsInfo(scss=False, category='container', type='px', value='10px'), container_overflow_x=OptionsInfo(scss=False, category='container', type='overflow', value='auto'), container_overflow_y=OptionsInfo(scss=False, category='container', type='overflow', value='auto'), quarto_disable_processing=OptionsInfo(scss=False, category='quarto', type='logical', value=False), quarto_use_bootstrap=OptionsInfo(scss=False, category='quarto', type='logical', value=False)), _has_built=False)"
      ]
     },
     "execution_count": 1,
     "metadata": {},
     "output_type": "execute_result"
    }
   ],
   "source": [
    "import pandas as pd\n",
    "import statsmodels.api as sm\n",
    "from great_tables import GT\n",
    "\n",
    "# Data import\n",
    "survey_cols = [\n",
    "    \"general_trust\",\n",
    "    \"GPS_trust\",\n",
    "    \"general_morality\",\n",
    "    \"MFQ_genmorality\",\n",
    "    \"civic_cooperation\",\n",
    "    \"GPS_posrecip\",\n",
    "    \"GPS_altruism\",\n",
    "    \"stranger1\",\n",
    "]\n",
    "\n",
    "econ_cols = [\n",
    "    \"log_gdp\",\n",
    "    \"log_tfp\",\n",
    "    \"gee\",\n",
    "    \"letter_grading\",\n",
    "]\n",
    "\n",
    "df = pd.read_csv(\n",
    "    \"../data/tannenbaum_data.csv\",\n",
    ")\n",
    "\n",
    "# Add PISA data\n",
    "pisa = pd.read_csv(\"../data/pisa_data.csv\")\n",
    "pisa = pisa.loc[pisa['year'] == 2015]\n",
    "pisa = pisa.groupby('country')['pisa_score'].mean().reset_index()\n",
    "df = df.merge(pisa, how=\"left\", on=\"country\")\n",
    "\n",
    "\n",
    "# p-value stars to award to each parameter coef estimate.\n",
    "def stars(p):\n",
    "    if p > 0.1:\n",
    "        return \"\"\n",
    "    elif p > 0.05:\n",
    "        return \"*\"\n",
    "    elif p > 0.01:\n",
    "        return \"**\"\n",
    "    else:\n",
    "        return \"***\"\n",
    "\n",
    "\n",
    "# Run regression for each survey measure.\n",
    "def get_model_results_no_pred(survey_measure, econ_measure):\n",
    "    regression_df = (\n",
    "        df.groupby(\"country\")[[econ_measure, survey_measure]].mean().dropna()\n",
    "    )\n",
    "\n",
    "    y = regression_df[econ_measure]\n",
    "    X = regression_df[[survey_measure]]\n",
    "\n",
    "    # Standardize predictors\n",
    "    X_std = (X - X.mean()) / X.std()\n",
    "    X_std = sm.add_constant(X_std)\n",
    "\n",
    "    model = sm.OLS(y, X_std)\n",
    "    results = model.fit(cov_type=\"HC1\")  # Robust standard errors same as in Tannenbaum\n",
    "    result_df = (\n",
    "        pd.DataFrame(\n",
    "            {\n",
    "                \"param\": pd.Series(\n",
    "                    [\n",
    "                        f\"{v:.3f}{stars(p)}\"\n",
    "                        for v, p in zip(results.params[1:], results.pvalues[1:])\n",
    "                    ],\n",
    "                    index=results.params.index[1:],\n",
    "                ),\n",
    "                \"se\": results.bse[1:].apply(lambda x: f\"({x:.3f})\"),\n",
    "            }\n",
    "        )\n",
    "        .astype({\"param\": object, \"se\": object})\n",
    "        .stack()\n",
    "    )\n",
    "    result_df.loc[(\"<i>N<i>\", \"\")] = X.shape[0]\n",
    "    result_df.loc[(\"<i>R<i><sup>2</sup>\", \"\")] = f\"{results.rsquared:.3f}\"\n",
    "    result_df = result_df.reset_index()\n",
    "    result_df[\"measure\"] = survey_measure\n",
    "\n",
    "    return result_df\n",
    "\n",
    "\n",
    "# Run regression for each survey measure with predictor variable.\n",
    "def get_model_results(survey_measure, econ_measure):\n",
    "    regression_df = (\n",
    "        df.groupby(\"country\")[[\"response\", econ_measure, survey_measure]]\n",
    "        .mean()\n",
    "        .dropna()\n",
    "    )\n",
    "\n",
    "    y = regression_df[econ_measure]\n",
    "    X = regression_df[[survey_measure, \"response\"]]\n",
    "\n",
    "    # Standardize predictors\n",
    "    X_std = (X - X.mean()) / X.std()\n",
    "    X_std = sm.add_constant(X_std)\n",
    "\n",
    "    model = sm.OLS(y, X_std)\n",
    "    results = model.fit(cov_type=\"HC1\")  # Robust standard errors same as in Tannenbaum\n",
    "\n",
    "    result_df = (\n",
    "        pd.DataFrame(\n",
    "            {\n",
    "                \"param\": pd.Series(\n",
    "                    [\n",
    "                        f\"{v:.3f}{stars(p)}\"\n",
    "                        for v, p in zip(results.params[1:], results.pvalues[1:])\n",
    "                    ],\n",
    "                    index=results.params.index[1:],\n",
    "                ),\n",
    "                \"se\": results.bse[1:].apply(lambda x: f\"({x:.3f})\"),\n",
    "            }\n",
    "        )\n",
    "        .astype({\"param\": object, \"se\": object})\n",
    "        .stack()\n",
    "    )\n",
    "    result_df.loc[(\"<i>N<i>\", \"\")] = X.shape[0]\n",
    "    result_df.loc[(\"<i>R<i><sup>2</sup>\", \"\")] = f\"{results.rsquared:.3f}\"\n",
    "    result_df = result_df.reset_index()\n",
    "    result_df[\"measure\"] = survey_measure\n",
    "\n",
    "    return result_df\n",
    "\n",
    "\n",
    "model_7_results = [\n",
    "    get_model_results_no_pred(col, \"letter_grading\") for col in survey_cols\n",
    "]\n",
    "model_7 = pd.concat(model_7_results)\n",
    "model_7 = model_7.rename(columns={0: \"Model 7\"})\n",
    "\n",
    "model_8_results = [get_model_results(col, \"letter_grading\") for col in survey_cols]\n",
    "model_8 = pd.concat(model_8_results)\n",
    "model_8 = model_8.rename(columns={0: \"Model 8\"})\n",
    "\n",
    "model_9_results = [get_model_results_no_pred(col, \"pisa_score\") for col in survey_cols]\n",
    "model_9 = pd.concat(model_9_results)\n",
    "model_9 = model_9.rename(columns={0: \"Model 9\"})\n",
    "\n",
    "model_10_results = [get_model_results(col, \"pisa_score\") for col in survey_cols]\n",
    "model_10 = pd.concat(model_10_results)\n",
    "model_10 = model_10.rename(columns={0: \"Model 10\"})\n",
    "\n",
    "# Combine results and make pretty.\n",
    "display_df = (\n",
    "    model_7.merge(model_8, on=[\"level_0\", \"level_1\", \"measure\"], how=\"right\")\n",
    "    .merge(model_9, on=[\"level_0\", \"level_1\", \"measure\"], how=\"left\")\n",
    "    .merge(model_10, on=[\"level_0\", \"level_1\", \"measure\"], how=\"right\")\n",
    "    .iloc[:, [0, 2, 3, 4, 5, 6]]\n",
    ")\n",
    "\n",
    "display_df.loc[:, \"level_0\"] = display_df.loc[:, \"level_0\"].where(\n",
    "    display_df.loc[:, \"level_0\"] != display_df.loc[:, \"level_0\"].shift(), \"\"\n",
    ")\n",
    "\n",
    "display_df\n",
    "(\n",
    "    GT(display_df)\n",
    "    .tab_header(title=\"TABLE 2.—PREDICTIVE VALUE OF WALLET REPORTING RATES\")\n",
    "    .tab_stub(rowname_col=\"level_0\", groupname_col=\"measure\")\n",
    "    .tab_spanner(label=\"Letter grade efficiency\", columns=[\"Model 7\", \"Model 8\"])\n",
    "    .tab_spanner(label=\"PISA Score\", columns=[\"Model 9\", \"Model 10\"])\n",
    "    .tab_options(\n",
    "        table_body_hlines_style=\"none\",\n",
    "    )\n",
    "    .cols_align(align=\"center\", columns=[\"Model 7\", \"Model 8\"])\n",
    ")"
   ]
  }
 ],
 "metadata": {
  "kernelspec": {
   "display_name": ".pisa_wallet_venv",
   "language": "python",
   "name": "python3"
  },
  "language_info": {
   "codemirror_mode": {
    "name": "ipython",
    "version": 3
   },
   "file_extension": ".py",
   "mimetype": "text/x-python",
   "name": "python",
   "nbconvert_exporter": "python",
   "pygments_lexer": "ipython3",
   "version": "3.12.1"
  }
 },
 "nbformat": 4,
 "nbformat_minor": 5
}
