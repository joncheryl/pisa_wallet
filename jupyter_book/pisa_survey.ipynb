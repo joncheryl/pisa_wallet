{
 "cells": [
  {
   "cell_type": "markdown",
   "id": "5999ae6f",
   "metadata": {},
   "source": [
    "# PISA vs. Survey Data\n",
    "How do the correlations between the PISA data and survey measures of social capital compare to the correlations between lost wallet reporting rates and survey measures?\n",
    "\n",
    "## Commentary on PISA, Wallets, and Survey Measures (from `wallet_pisa.ipynb`)\n",
    "\n",
    "**Tannenbaum Point 1 Context:**\n",
    "The Tannenbaum paper aimed to validate survey measures of social capital using wallet report rates. Similarly, PISA education measures could also be seen as validating these survey measures. It's interesting that the relationship between PISA scores and survey measures is very similar to that between wallet report rates and survey measures.\n",
    "\n",
    "A key observation was the strong correlation between PISA reading scores and wallet reporting rates (rho ≈ 0.78 with 2022 data). This is greater than the correlation with many other \"Economic and Institutional Performance\" measures. This suggests a close link between societal honesty (as measured by wallet returns) and educational outcomes.\n",
    "\n",
    "**Takeaways/Thoughts:**\n",
    "- Both honesty and education are challenging to influence directly through policy. The strong correlation might suggest that familial and community factors (components of social capital) are highly influential for educational outcomes.\n",
    "- Wallet report rates are a direct behavioral measure of social capital. While PISA scores are measures of institutional (educational system) performance, their strong correlation with wallet rates might imply they also reflect aspects of broader social capital."
   ]
  },
  {
   "cell_type": "code",
   "execution_count": 1,
   "id": "429e54bc",
   "metadata": {},
   "outputs": [],
   "source": [
    "import pandas as pd\n",
    "import plotly.express as px"
   ]
  },
  {
   "cell_type": "code",
   "execution_count": 2,
   "id": "a3023b62",
   "metadata": {},
   "outputs": [],
   "source": [
    "# Data import\n",
    "\n",
    "numeric_features_initial = [\n",
    "    \"general_trust\",\n",
    "    \"GPS_trust\",\n",
    "    \"general_morality\",\n",
    "    \"MFQ_genmorality\",\n",
    "    \"civic_cooperation\",\n",
    "    \"GPS_posrecip\",\n",
    "    \"GPS_altruism\",\n",
    "    \"stranger1\",\n",
    "]\n",
    "\n",
    "cat_cols = [\n",
    "    \"country\",\n",
    "    \"response\",\n",
    "    \"male\",\n",
    "    \"above40\",\n",
    "    \"computer\",\n",
    "    \"coworkers\",\n",
    "    \"other_bystanders\",\n",
    "    \"institution\",\n",
    "    \"cond\",\n",
    "    \"security_cam\",\n",
    "    \"security_guard\",\n",
    "    \"local_recipient\",\n",
    "    \"no_english\",\n",
    "    \"understood_situation\",\n",
    "]\n",
    "\n",
    "sc_measures = [\n",
    "    \"log_gdp\",\n",
    "    \"log_tfp\",\n",
    "    \"gee\",\n",
    "    \"letter_grading\",\n",
    "]\n",
    "\n",
    "# Import Tannenbaum data\n",
    "df = pd.read_csv(\n",
    "    \"../data/tannenbaum_data.csv\",\n",
    "    dtype={col: \"category\" for col in cat_cols},\n",
    ")\n",
    "\n",
    "# Import PISA data\n",
    "pisa = pd.read_csv(\"../data/pisa_data.csv\").rename(columns={\"mean_score\": \"pisa_score\"})\n",
    "df = df.merge(pisa, how=\"left\", on=\"country\")"
   ]
  },
  {
   "cell_type": "markdown",
   "id": "22063288",
   "metadata": {},
   "source": [
    "### Correlation Matrix including PISA, Wallet Response, Survey Measures, and SC Measures\n",
    "\n",
    "Note how response and pisa_score have similar correlations with all the other survey measures of social capital. Should get rid of entire matrix and only show first two rows. Maybe even just make a table. Also should get rid of economic/institutional measures."
   ]
  },
  {
   "cell_type": "code",
   "execution_count": 15,
   "id": "74b5eab2",
   "metadata": {},
   "outputs": [
    {
     "data": {
      "text/html": [
       "<div>\n",
       "<style scoped>\n",
       "    .dataframe tbody tr th:only-of-type {\n",
       "        vertical-align: middle;\n",
       "    }\n",
       "\n",
       "    .dataframe tbody tr th {\n",
       "        vertical-align: top;\n",
       "    }\n",
       "\n",
       "    .dataframe thead th {\n",
       "        text-align: right;\n",
       "    }\n",
       "</style>\n",
       "<table border=\"1\" class=\"dataframe\">\n",
       "  <thead>\n",
       "    <tr style=\"text-align: right;\">\n",
       "      <th></th>\n",
       "      <th>general_trust</th>\n",
       "      <th>GPS_trust</th>\n",
       "      <th>general_morality</th>\n",
       "      <th>MFQ_genmorality</th>\n",
       "      <th>civic_cooperation</th>\n",
       "      <th>GPS_posrecip</th>\n",
       "      <th>GPS_altruism</th>\n",
       "      <th>stranger1</th>\n",
       "    </tr>\n",
       "  </thead>\n",
       "  <tbody>\n",
       "    <tr>\n",
       "      <th>response</th>\n",
       "      <td>0.603736</td>\n",
       "      <td>0.023510</td>\n",
       "      <td>0.612047</td>\n",
       "      <td>0.461323</td>\n",
       "      <td>0.391755</td>\n",
       "      <td>0.050279</td>\n",
       "      <td>-0.214705</td>\n",
       "      <td>0.645001</td>\n",
       "    </tr>\n",
       "    <tr>\n",
       "      <th>pisa_score</th>\n",
       "      <td>0.611033</td>\n",
       "      <td>0.127325</td>\n",
       "      <td>0.674059</td>\n",
       "      <td>0.419857</td>\n",
       "      <td>0.441642</td>\n",
       "      <td>-0.157111</td>\n",
       "      <td>-0.162403</td>\n",
       "      <td>0.659283</td>\n",
       "    </tr>\n",
       "  </tbody>\n",
       "</table>\n",
       "</div>"
      ],
      "text/plain": [
       "            general_trust  GPS_trust  general_morality  MFQ_genmorality  \\\n",
       "response         0.603736   0.023510          0.612047         0.461323   \n",
       "pisa_score       0.611033   0.127325          0.674059         0.419857   \n",
       "\n",
       "            civic_cooperation  GPS_posrecip  GPS_altruism  stranger1  \n",
       "response             0.391755      0.050279     -0.214705   0.645001  \n",
       "pisa_score           0.441642     -0.157111     -0.162403   0.659283  "
      ]
     },
     "execution_count": 15,
     "metadata": {},
     "output_type": "execute_result"
    }
   ],
   "source": [
    "# Columns we want to see correlations for.\n",
    "cols_for_country_avg_corr = ['response', 'pisa_score'] + numeric_features_initial\n",
    "\n",
    "df_corr = df.copy().astype({'response': int})\n",
    "\n",
    "# Calculate country averages for these measures\n",
    "country_avg_data = df_corr.groupby(\"country\")[cols_for_country_avg_corr].mean()\n",
    "\n",
    "# Compute the correlation matrix\n",
    "comprehensive_corr_matrix = country_avg_data.corr()\n",
    "\n",
    "# Show correlations of interest\n",
    "comprehensive_corr_matrix.iloc[:2,2:]"
   ]
  },
  {
   "cell_type": "code",
   "execution_count": 16,
   "id": "ffe637d8",
   "metadata": {},
   "outputs": [
    {
     "data": {
      "application/vnd.plotly.v1+json": {
       "config": {
        "plotlyServerURL": "https://plot.ly"
       },
       "data": [
        {
         "coloraxis": "coloraxis",
         "hovertemplate": "x: %{x}<br>y: %{y}<br>Correlation: %{z}<extra></extra>",
         "name": "0",
         "type": "heatmap",
         "x": [
          "response",
          "pisa_score",
          "general_trust",
          "GPS_trust",
          "general_morality",
          "MFQ_genmorality",
          "civic_cooperation",
          "GPS_posrecip",
          "GPS_altruism",
          "stranger1"
         ],
         "xaxis": "x",
         "y": [
          "response",
          "pisa_score",
          "general_trust",
          "GPS_trust",
          "general_morality",
          "MFQ_genmorality",
          "civic_cooperation",
          "GPS_posrecip",
          "GPS_altruism",
          "stranger1"
         ],
         "yaxis": "y",
         "z": {
          "bdata": "AAAAAAAA8D9dKhph0h7qP31Jcm7NUeM/JaMwnw4TmD/DMcd245XjP6P2E/BQht0/hY+xAYMS2T8Na52pO76pPwH3s2lxe8u/gG6Wi9mj5D9dKhph0h7qPwAAAAAAAPA/WZffypWN4z/w4UAOM0zAP737gf/jkeU/gYBd4e7e2j90a5qX3EPcP6NhxAE3HMS/elrM6ZvJxL+pfHxN2BjlP31Jcm7NUeM/WZffypWN4z8AAAAAAADwP0Y6XaKYTOU/W3bId35m4D+zpJW/ss53v3Y+D6Obx9w/3pNVGygkzD/kn49RbI3KP2zB8nw/xuU/JaMwnw4TmD/w4UAOM0zAP0Y6XaKYTOU/AAAAAAAA8D8BYi5rL6HNP3jC6agLFMO/S1eNDZJW1T9J5J+Gv+3fPz/SJnPGKeE/vaOMY7bF1j/DMcd245XjP737gf/jkeU/W3bId35m4D8BYi5rL6HNPwAAAAAAAPA/aq2OWCYX0j9kQUKYhoXVP7j/0eTmZ7y/kV0qFR6Zp79+VdzU60XiP6P2E/BQht0/gYBd4e7e2j+zpJW/ss53v3jC6agLFMO/aq2OWCYX0j8AAAAAAADwP3k6h4rCvNI/ehsJs6tnzb+phPu1pBHBv1YPPMes0dM/hY+xAYMS2T90a5qX3EPcP3Y+D6Obx9w/S1eNDZJW1T9kQUKYhoXVP3k6h4rCvNI/AAAAAAAA8D/puPs694XNP2xshaNm/to/leSxgq/j4D8Na52pO76pP6NhxAE3HMS/3pNVGygkzD9J5J+Gv+3fP7j/0eTmZ7y/ehsJs6tnzb/puPs694XNPwAAAAAAAPA/u1AgZT7s5j+7KnjtQpXMPwH3s2lxe8u/elrM6ZvJxL/kn49RbI3KPz/SJnPGKeE/kV0qFR6Zp7+phPu1pBHBv2xshaNm/to/u1AgZT7s5j8AAAAAAADwP4cJWFRVCdM/gG6Wi9mj5D+pfHxN2BjlP2zB8nw/xuU/vaOMY7bF1j9+VdzU60XiP1YPPMes0dM/leSxgq/j4D+7KnjtQpXMP4cJWFRVCdM/AAAAAAAA8D8=",
          "dtype": "f8",
          "shape": "10, 10"
         }
        }
       ],
       "layout": {
        "coloraxis": {
         "cmax": 1,
         "cmin": -1,
         "colorbar": {
          "title": {
           "text": "Correlation"
          }
         },
         "colorscale": [
          [
           0,
           "rgb(5,48,97)"
          ],
          [
           0.1,
           "rgb(33,102,172)"
          ],
          [
           0.2,
           "rgb(67,147,195)"
          ],
          [
           0.3,
           "rgb(146,197,222)"
          ],
          [
           0.4,
           "rgb(209,229,240)"
          ],
          [
           0.5,
           "rgb(247,247,247)"
          ],
          [
           0.6,
           "rgb(253,219,199)"
          ],
          [
           0.7,
           "rgb(244,165,130)"
          ],
          [
           0.8,
           "rgb(214,96,77)"
          ],
          [
           0.9,
           "rgb(178,24,43)"
          ],
          [
           1,
           "rgb(103,0,31)"
          ]
         ]
        },
        "height": 800,
        "template": {
         "data": {
          "bar": [
           {
            "error_x": {
             "color": "#2a3f5f"
            },
            "error_y": {
             "color": "#2a3f5f"
            },
            "marker": {
             "line": {
              "color": "#E5ECF6",
              "width": 0.5
             },
             "pattern": {
              "fillmode": "overlay",
              "size": 10,
              "solidity": 0.2
             }
            },
            "type": "bar"
           }
          ],
          "barpolar": [
           {
            "marker": {
             "line": {
              "color": "#E5ECF6",
              "width": 0.5
             },
             "pattern": {
              "fillmode": "overlay",
              "size": 10,
              "solidity": 0.2
             }
            },
            "type": "barpolar"
           }
          ],
          "carpet": [
           {
            "aaxis": {
             "endlinecolor": "#2a3f5f",
             "gridcolor": "white",
             "linecolor": "white",
             "minorgridcolor": "white",
             "startlinecolor": "#2a3f5f"
            },
            "baxis": {
             "endlinecolor": "#2a3f5f",
             "gridcolor": "white",
             "linecolor": "white",
             "minorgridcolor": "white",
             "startlinecolor": "#2a3f5f"
            },
            "type": "carpet"
           }
          ],
          "choropleth": [
           {
            "colorbar": {
             "outlinewidth": 0,
             "ticks": ""
            },
            "type": "choropleth"
           }
          ],
          "contour": [
           {
            "colorbar": {
             "outlinewidth": 0,
             "ticks": ""
            },
            "colorscale": [
             [
              0,
              "#0d0887"
             ],
             [
              0.1111111111111111,
              "#46039f"
             ],
             [
              0.2222222222222222,
              "#7201a8"
             ],
             [
              0.3333333333333333,
              "#9c179e"
             ],
             [
              0.4444444444444444,
              "#bd3786"
             ],
             [
              0.5555555555555556,
              "#d8576b"
             ],
             [
              0.6666666666666666,
              "#ed7953"
             ],
             [
              0.7777777777777778,
              "#fb9f3a"
             ],
             [
              0.8888888888888888,
              "#fdca26"
             ],
             [
              1,
              "#f0f921"
             ]
            ],
            "type": "contour"
           }
          ],
          "contourcarpet": [
           {
            "colorbar": {
             "outlinewidth": 0,
             "ticks": ""
            },
            "type": "contourcarpet"
           }
          ],
          "heatmap": [
           {
            "colorbar": {
             "outlinewidth": 0,
             "ticks": ""
            },
            "colorscale": [
             [
              0,
              "#0d0887"
             ],
             [
              0.1111111111111111,
              "#46039f"
             ],
             [
              0.2222222222222222,
              "#7201a8"
             ],
             [
              0.3333333333333333,
              "#9c179e"
             ],
             [
              0.4444444444444444,
              "#bd3786"
             ],
             [
              0.5555555555555556,
              "#d8576b"
             ],
             [
              0.6666666666666666,
              "#ed7953"
             ],
             [
              0.7777777777777778,
              "#fb9f3a"
             ],
             [
              0.8888888888888888,
              "#fdca26"
             ],
             [
              1,
              "#f0f921"
             ]
            ],
            "type": "heatmap"
           }
          ],
          "histogram": [
           {
            "marker": {
             "pattern": {
              "fillmode": "overlay",
              "size": 10,
              "solidity": 0.2
             }
            },
            "type": "histogram"
           }
          ],
          "histogram2d": [
           {
            "colorbar": {
             "outlinewidth": 0,
             "ticks": ""
            },
            "colorscale": [
             [
              0,
              "#0d0887"
             ],
             [
              0.1111111111111111,
              "#46039f"
             ],
             [
              0.2222222222222222,
              "#7201a8"
             ],
             [
              0.3333333333333333,
              "#9c179e"
             ],
             [
              0.4444444444444444,
              "#bd3786"
             ],
             [
              0.5555555555555556,
              "#d8576b"
             ],
             [
              0.6666666666666666,
              "#ed7953"
             ],
             [
              0.7777777777777778,
              "#fb9f3a"
             ],
             [
              0.8888888888888888,
              "#fdca26"
             ],
             [
              1,
              "#f0f921"
             ]
            ],
            "type": "histogram2d"
           }
          ],
          "histogram2dcontour": [
           {
            "colorbar": {
             "outlinewidth": 0,
             "ticks": ""
            },
            "colorscale": [
             [
              0,
              "#0d0887"
             ],
             [
              0.1111111111111111,
              "#46039f"
             ],
             [
              0.2222222222222222,
              "#7201a8"
             ],
             [
              0.3333333333333333,
              "#9c179e"
             ],
             [
              0.4444444444444444,
              "#bd3786"
             ],
             [
              0.5555555555555556,
              "#d8576b"
             ],
             [
              0.6666666666666666,
              "#ed7953"
             ],
             [
              0.7777777777777778,
              "#fb9f3a"
             ],
             [
              0.8888888888888888,
              "#fdca26"
             ],
             [
              1,
              "#f0f921"
             ]
            ],
            "type": "histogram2dcontour"
           }
          ],
          "mesh3d": [
           {
            "colorbar": {
             "outlinewidth": 0,
             "ticks": ""
            },
            "type": "mesh3d"
           }
          ],
          "parcoords": [
           {
            "line": {
             "colorbar": {
              "outlinewidth": 0,
              "ticks": ""
             }
            },
            "type": "parcoords"
           }
          ],
          "pie": [
           {
            "automargin": true,
            "type": "pie"
           }
          ],
          "scatter": [
           {
            "fillpattern": {
             "fillmode": "overlay",
             "size": 10,
             "solidity": 0.2
            },
            "type": "scatter"
           }
          ],
          "scatter3d": [
           {
            "line": {
             "colorbar": {
              "outlinewidth": 0,
              "ticks": ""
             }
            },
            "marker": {
             "colorbar": {
              "outlinewidth": 0,
              "ticks": ""
             }
            },
            "type": "scatter3d"
           }
          ],
          "scattercarpet": [
           {
            "marker": {
             "colorbar": {
              "outlinewidth": 0,
              "ticks": ""
             }
            },
            "type": "scattercarpet"
           }
          ],
          "scattergeo": [
           {
            "marker": {
             "colorbar": {
              "outlinewidth": 0,
              "ticks": ""
             }
            },
            "type": "scattergeo"
           }
          ],
          "scattergl": [
           {
            "marker": {
             "colorbar": {
              "outlinewidth": 0,
              "ticks": ""
             }
            },
            "type": "scattergl"
           }
          ],
          "scattermap": [
           {
            "marker": {
             "colorbar": {
              "outlinewidth": 0,
              "ticks": ""
             }
            },
            "type": "scattermap"
           }
          ],
          "scattermapbox": [
           {
            "marker": {
             "colorbar": {
              "outlinewidth": 0,
              "ticks": ""
             }
            },
            "type": "scattermapbox"
           }
          ],
          "scatterpolar": [
           {
            "marker": {
             "colorbar": {
              "outlinewidth": 0,
              "ticks": ""
             }
            },
            "type": "scatterpolar"
           }
          ],
          "scatterpolargl": [
           {
            "marker": {
             "colorbar": {
              "outlinewidth": 0,
              "ticks": ""
             }
            },
            "type": "scatterpolargl"
           }
          ],
          "scatterternary": [
           {
            "marker": {
             "colorbar": {
              "outlinewidth": 0,
              "ticks": ""
             }
            },
            "type": "scatterternary"
           }
          ],
          "surface": [
           {
            "colorbar": {
             "outlinewidth": 0,
             "ticks": ""
            },
            "colorscale": [
             [
              0,
              "#0d0887"
             ],
             [
              0.1111111111111111,
              "#46039f"
             ],
             [
              0.2222222222222222,
              "#7201a8"
             ],
             [
              0.3333333333333333,
              "#9c179e"
             ],
             [
              0.4444444444444444,
              "#bd3786"
             ],
             [
              0.5555555555555556,
              "#d8576b"
             ],
             [
              0.6666666666666666,
              "#ed7953"
             ],
             [
              0.7777777777777778,
              "#fb9f3a"
             ],
             [
              0.8888888888888888,
              "#fdca26"
             ],
             [
              1,
              "#f0f921"
             ]
            ],
            "type": "surface"
           }
          ],
          "table": [
           {
            "cells": {
             "fill": {
              "color": "#EBF0F8"
             },
             "line": {
              "color": "white"
             }
            },
            "header": {
             "fill": {
              "color": "#C8D4E3"
             },
             "line": {
              "color": "white"
             }
            },
            "type": "table"
           }
          ]
         },
         "layout": {
          "annotationdefaults": {
           "arrowcolor": "#2a3f5f",
           "arrowhead": 0,
           "arrowwidth": 1
          },
          "autotypenumbers": "strict",
          "coloraxis": {
           "colorbar": {
            "outlinewidth": 0,
            "ticks": ""
           }
          },
          "colorscale": {
           "diverging": [
            [
             0,
             "#8e0152"
            ],
            [
             0.1,
             "#c51b7d"
            ],
            [
             0.2,
             "#de77ae"
            ],
            [
             0.3,
             "#f1b6da"
            ],
            [
             0.4,
             "#fde0ef"
            ],
            [
             0.5,
             "#f7f7f7"
            ],
            [
             0.6,
             "#e6f5d0"
            ],
            [
             0.7,
             "#b8e186"
            ],
            [
             0.8,
             "#7fbc41"
            ],
            [
             0.9,
             "#4d9221"
            ],
            [
             1,
             "#276419"
            ]
           ],
           "sequential": [
            [
             0,
             "#0d0887"
            ],
            [
             0.1111111111111111,
             "#46039f"
            ],
            [
             0.2222222222222222,
             "#7201a8"
            ],
            [
             0.3333333333333333,
             "#9c179e"
            ],
            [
             0.4444444444444444,
             "#bd3786"
            ],
            [
             0.5555555555555556,
             "#d8576b"
            ],
            [
             0.6666666666666666,
             "#ed7953"
            ],
            [
             0.7777777777777778,
             "#fb9f3a"
            ],
            [
             0.8888888888888888,
             "#fdca26"
            ],
            [
             1,
             "#f0f921"
            ]
           ],
           "sequentialminus": [
            [
             0,
             "#0d0887"
            ],
            [
             0.1111111111111111,
             "#46039f"
            ],
            [
             0.2222222222222222,
             "#7201a8"
            ],
            [
             0.3333333333333333,
             "#9c179e"
            ],
            [
             0.4444444444444444,
             "#bd3786"
            ],
            [
             0.5555555555555556,
             "#d8576b"
            ],
            [
             0.6666666666666666,
             "#ed7953"
            ],
            [
             0.7777777777777778,
             "#fb9f3a"
            ],
            [
             0.8888888888888888,
             "#fdca26"
            ],
            [
             1,
             "#f0f921"
            ]
           ]
          },
          "colorway": [
           "#636efa",
           "#EF553B",
           "#00cc96",
           "#ab63fa",
           "#FFA15A",
           "#19d3f3",
           "#FF6692",
           "#B6E880",
           "#FF97FF",
           "#FECB52"
          ],
          "font": {
           "color": "#2a3f5f"
          },
          "geo": {
           "bgcolor": "white",
           "lakecolor": "white",
           "landcolor": "#E5ECF6",
           "showlakes": true,
           "showland": true,
           "subunitcolor": "white"
          },
          "hoverlabel": {
           "align": "left"
          },
          "hovermode": "closest",
          "mapbox": {
           "style": "light"
          },
          "paper_bgcolor": "white",
          "plot_bgcolor": "#E5ECF6",
          "polar": {
           "angularaxis": {
            "gridcolor": "white",
            "linecolor": "white",
            "ticks": ""
           },
           "bgcolor": "#E5ECF6",
           "radialaxis": {
            "gridcolor": "white",
            "linecolor": "white",
            "ticks": ""
           }
          },
          "scene": {
           "xaxis": {
            "backgroundcolor": "#E5ECF6",
            "gridcolor": "white",
            "gridwidth": 2,
            "linecolor": "white",
            "showbackground": true,
            "ticks": "",
            "zerolinecolor": "white"
           },
           "yaxis": {
            "backgroundcolor": "#E5ECF6",
            "gridcolor": "white",
            "gridwidth": 2,
            "linecolor": "white",
            "showbackground": true,
            "ticks": "",
            "zerolinecolor": "white"
           },
           "zaxis": {
            "backgroundcolor": "#E5ECF6",
            "gridcolor": "white",
            "gridwidth": 2,
            "linecolor": "white",
            "showbackground": true,
            "ticks": "",
            "zerolinecolor": "white"
           }
          },
          "shapedefaults": {
           "line": {
            "color": "#2a3f5f"
           }
          },
          "ternary": {
           "aaxis": {
            "gridcolor": "white",
            "linecolor": "white",
            "ticks": ""
           },
           "baxis": {
            "gridcolor": "white",
            "linecolor": "white",
            "ticks": ""
           },
           "bgcolor": "#E5ECF6",
           "caxis": {
            "gridcolor": "white",
            "linecolor": "white",
            "ticks": ""
           }
          },
          "title": {
           "x": 0.05
          },
          "xaxis": {
           "automargin": true,
           "gridcolor": "white",
           "linecolor": "white",
           "ticks": "",
           "title": {
            "standoff": 15
           },
           "zerolinecolor": "white",
           "zerolinewidth": 2
          },
          "yaxis": {
           "automargin": true,
           "gridcolor": "white",
           "linecolor": "white",
           "ticks": "",
           "title": {
            "standoff": 15
           },
           "zerolinecolor": "white",
           "zerolinewidth": 2
          }
         }
        },
        "title": {
         "text": "Correlation Matrix: Wallet Response, PISA, Survey (Country Averages)"
        },
        "xaxis": {
         "anchor": "y",
         "constrain": "domain",
         "domain": [
          0,
          1
         ],
         "scaleanchor": "y"
        },
        "yaxis": {
         "anchor": "x",
         "autorange": "reversed",
         "constrain": "domain",
         "domain": [
          0,
          1
         ]
        }
       }
      }
     },
     "metadata": {},
     "output_type": "display_data"
    }
   ],
   "source": [
    "# Show matrix\n",
    "\n",
    "fig_comp_corr = px.imshow(\n",
    "    comprehensive_corr_matrix,\n",
    "    labels=dict(color=\"Correlation\"),\n",
    "    color_continuous_scale=\"RdBu_r\",\n",
    "    zmin=-1,\n",
    "    zmax=1,\n",
    "    title=\"Correlation Matrix: Wallet Response, PISA, Survey (Country Averages)\",\n",
    "    # text_auto=True # Show correlation values on heatmap\n",
    ")\n",
    "fig_comp_corr.update_layout(height=800)\n",
    "fig_comp_corr.show()"
   ]
  },
  {
   "cell_type": "markdown",
   "id": "268b5f41",
   "metadata": {},
   "source": [
    "**Observations from the Correlation Matrix:**\n",
    "1. PISA scores (`PISA_Avg_Reading_2022`) generally show stronger correlations with wallet `response_numeric` than many individual survey-based social capital measures do.\n",
    "2. PISA scores also correlate with other macro social capital indicators (`log_gdp`, `gee`, etc.), sometimes more strongly than the wallet response rate itself does. This might suggest PISA scores capture a broad aspect of societal development and functional institutions, which overlaps with social capital.\n",
    "3. The survey measures (like `general_trust`, `general_morality`) show varied correlations with both wallet response and PISA scores, reinforcing the idea that these are related but distinct constructs."
   ]
  }
 ],
 "metadata": {
  "kernelspec": {
   "display_name": ".venv",
   "language": "python",
   "name": "python3"
  },
  "language_info": {
   "codemirror_mode": {
    "name": "ipython",
    "version": 3
   },
   "file_extension": ".py",
   "mimetype": "text/x-python",
   "name": "python",
   "nbconvert_exporter": "python",
   "pygments_lexer": "ipython3",
   "version": "3.12.4"
  }
 },
 "nbformat": 4,
 "nbformat_minor": 5
}
