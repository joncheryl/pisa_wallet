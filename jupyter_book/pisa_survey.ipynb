{
 "cells": [
  {
   "cell_type": "markdown",
   "id": "5999ae6f",
   "metadata": {},
   "source": [
    "# PISA vs. Survey Data\n",
    "\n",
    "The Tannenbaum paper aimed to validate survey measures of social capital using their correlation with wallet report rates. Since PISA education scores are not explicit and direct measurements of social capital, it's not clear that they could also be seen as validating the survey measures referenced in the paper. However, as can be seen below, the correlations are surprisingly consistent between wallet reporting rates/PISA scores and survey measures. This suggests that they not only contain the same *amount* of information about social capital but also the same *type* of information about social capital."
   ]
  },
  {
   "cell_type": "code",
   "execution_count": null,
   "id": "74b5eab2",
   "metadata": {
    "tags": [
     "hide-input"
    ]
   },
   "outputs": [
    {
     "data": {
      "text/html": [
       "<div>\n",
       "<style scoped>\n",
       "    .dataframe tbody tr th:only-of-type {\n",
       "        vertical-align: middle;\n",
       "    }\n",
       "\n",
       "    .dataframe tbody tr th {\n",
       "        vertical-align: top;\n",
       "    }\n",
       "\n",
       "    .dataframe thead tr th {\n",
       "        text-align: left;\n",
       "    }\n",
       "</style>\n",
       "<table border=\"1\" class=\"dataframe\">\n",
       "  <thead>\n",
       "    <tr>\n",
       "      <th></th>\n",
       "      <th colspan=\"8\" halign=\"left\">Correlation (r)</th>\n",
       "    </tr>\n",
       "    <tr>\n",
       "      <th></th>\n",
       "      <th>general_trust</th>\n",
       "      <th>GPS_trust</th>\n",
       "      <th>general_morality</th>\n",
       "      <th>MFQ_genmorality</th>\n",
       "      <th>civic_cooperation</th>\n",
       "      <th>GPS_posrecip</th>\n",
       "      <th>GPS_altruism</th>\n",
       "      <th>stranger1</th>\n",
       "    </tr>\n",
       "  </thead>\n",
       "  <tbody>\n",
       "    <tr>\n",
       "      <th>response</th>\n",
       "      <td>0.603736</td>\n",
       "      <td>0.023510</td>\n",
       "      <td>0.612047</td>\n",
       "      <td>0.461323</td>\n",
       "      <td>0.391755</td>\n",
       "      <td>0.050279</td>\n",
       "      <td>-0.214705</td>\n",
       "      <td>0.645001</td>\n",
       "    </tr>\n",
       "    <tr>\n",
       "      <th>pisa_score</th>\n",
       "      <td>0.611033</td>\n",
       "      <td>0.127325</td>\n",
       "      <td>0.674059</td>\n",
       "      <td>0.419857</td>\n",
       "      <td>0.441642</td>\n",
       "      <td>-0.157111</td>\n",
       "      <td>-0.162403</td>\n",
       "      <td>0.659283</td>\n",
       "    </tr>\n",
       "  </tbody>\n",
       "</table>\n",
       "</div>"
      ],
      "text/plain": [
       "           Correlation (r)                                             \\\n",
       "             general_trust GPS_trust general_morality MFQ_genmorality   \n",
       "response          0.603736  0.023510         0.612047        0.461323   \n",
       "pisa_score        0.611033  0.127325         0.674059        0.419857   \n",
       "\n",
       "                                                                  \n",
       "           civic_cooperation GPS_posrecip GPS_altruism stranger1  \n",
       "response            0.391755     0.050279    -0.214705  0.645001  \n",
       "pisa_score          0.441642    -0.157111    -0.162403  0.659283  "
      ]
     },
     "execution_count": 2,
     "metadata": {},
     "output_type": "execute_result"
    }
   ],
   "source": [
    "import pandas as pd\n",
    "import plotly.express as px\n",
    "import plotly.io as pio\n",
    "\n",
    "pio.templates.default = \"plotly_white\"\n",
    "pio.renderers.default = \"sphinx_gallery\"\n",
    "\n",
    "import statsmodels.api as sm\n",
    "\n",
    "# Data import\n",
    "survey_cols = [\n",
    "    \"general_trust\",\n",
    "    \"GPS_trust\",\n",
    "    \"general_morality\",\n",
    "    \"MFQ_genmorality\",\n",
    "    \"civic_cooperation\",\n",
    "    \"GPS_posrecip\",\n",
    "    \"GPS_altruism\",\n",
    "    \"stranger1\",\n",
    "]\n",
    "\n",
    "cat_cols = [\n",
    "    \"country\",\n",
    "    \"response\",\n",
    "    \"male\",\n",
    "    \"above40\",\n",
    "    \"computer\",\n",
    "    \"coworkers\",\n",
    "    \"other_bystanders\",\n",
    "    \"institution\",\n",
    "    \"cond\",\n",
    "    \"security_cam\",\n",
    "    \"security_guard\",\n",
    "    \"local_recipient\",\n",
    "    \"no_english\",\n",
    "    \"understood_situation\",\n",
    "]\n",
    "\n",
    "sc_cols = [\n",
    "    \"log_gdp\",\n",
    "    \"log_tfp\",\n",
    "    \"gee\",\n",
    "    \"letter_grading\",\n",
    "]\n",
    "\n",
    "# Import Tannenbaum data\n",
    "df = pd.read_csv(\n",
    "    \"../data/tannenbaum_data.csv\",\n",
    "    dtype={col: \"category\" for col in cat_cols},\n",
    ")\n",
    "\n",
    "# Import PISA data\n",
    "pisa = pd.read_csv(\"../data/pisa_data.csv\").rename(columns={\"mean_score\": \"pisa_score\"})\n",
    "df = df.merge(pisa, how=\"left\", on=\"country\")\n",
    "\n",
    "# Columns we want to see correlations for.\n",
    "cols_for_country_avg_corr = [\"response\", \"pisa_score\"] + survey_cols\n",
    "\n",
    "df_corr = df.copy().astype({\"response\": int})\n",
    "\n",
    "# Calculate country averages for these measures\n",
    "country_avg_data = df_corr.groupby(\"country\")[cols_for_country_avg_corr].mean()\n",
    "\n",
    "# Compute the correlation matrix\n",
    "comprehensive_corr_matrix = country_avg_data.corr()\n",
    "\n",
    "# Show correlations of interest\n",
    "comprehensive_corr_matrix.columns = pd.MultiIndex.from_product(\n",
    "    [[\"Correlation (r)\"], comprehensive_corr_matrix.columns]\n",
    ")\n",
    "comprehensive_corr_matrix.iloc[:2, 2:]"
   ]
  },
  {
   "cell_type": "code",
   "execution_count": 5,
   "id": "78c6dc88",
   "metadata": {
    "tags": [
     "hide-input"
    ]
   },
   "outputs": [
    {
     "data": {
      "application/vnd.plotly.v1+json": {
       "config": {
        "plotlyServerURL": "https://plot.ly"
       },
       "data": [
        {
         "hovertemplate": "variable=general_trust<br>value=%{x}<br>response=%{y}<extra></extra>",
         "legendgroup": "",
         "marker": {
          "color": "#636efa",
          "symbol": "circle"
         },
         "mode": "markers",
         "name": "",
         "orientation": "v",
         "showlegend": false,
         "type": "scatter",
         "x": {
          "bdata": "hQ0CCDxS4r+z6Elssl/wPwwDOJJJi/W/J836yNys7D/y93CJgOLlv6gSZr3qUPo/xQYmcfn84b9pYr35CEfLv36KMmW50wFAgyolpm/p1b9jW3SZ6OraP/D9kcoBW/W/HHVXpEHc5r8gYpl7H9O0v0sdvkMp3ti/BUKZ9PcV2b+PgJcn8UiYP38VCEZxi7g/GDBf/vQ1878eIDtesjbwv/Ji34w+bOS/l5TZ8ULZ6b9K+xNqmCb5P2RwH+3UIvU/zBhH7B2IAUB9qoLFu+n0v410cUL4G9a/WLCz9Urg57+xNC00DMPsv2lCl3stUce/gh8avODo5b+k9P6A43Tgv2Xr5uVI7L4/aEQbrjZY/z/hbbd3RSH0PzTFj3QfKNI/E++QSMe58L8AAAAAAAD4f6bfCgoVido/APPCgSH84T8=",
          "dtype": "f8"
         },
         "xaxis": "x5",
         "y": {
          "bdata": "AAAAAADAR0A3JdqUaFNOQNTqTqs7rURAAAAAAACAS0DkOI7jOA5CQAAAAAAAgCxAq6qqqqqqTUAAAAAAAIBRQAAAAAAAwFJAnxertBX+S0AAAAAAAABOQK2ixkiBuzNAAAAAAACgRkAAAAAAAIBAQAAAAAAAADlAVVVVVVVVR0AAAAAAAOBEQAAAAAAAgDFAMTYLqj0nMUAAAAAAAEAzQAAAAAAAADVATivunWSpMUAAAAAAANBRQAAAAAAAsFFAq6qqqqqqUkAAAAAAAIArQAAAAAAA8FBAAAAAAABARUAAAAAAAGBLQHDyN/mb/EpAVVVVVVVVS0Ct7rS60+pAQAAAAAAAAEtAAAAAAACQUkDEwQ4HOxxTQAAAAAAAAEBAAAAAAADAPkAAAAAAAIA5QCIuN3kOUExAZmZmZmZmSkA=",
          "dtype": "f8"
         },
         "yaxis": "y5"
        },
        {
         "hovertemplate": "<b>OLS trendline</b><br>response = 11.7451 * value + 45.9976<br>R<sup>2</sup>=0.364497<br><br>variable=general_trust<br>value=%{x}<br>response=%{y} <b>(trend)</b><extra></extra>",
         "legendgroup": "",
         "marker": {
          "color": "#636efa",
          "symbol": "circle"
         },
         "mode": "lines",
         "name": "",
         "showlegend": false,
         "type": "scatter",
         "x": {
          "bdata": "DAM4kkmL9b/w/ZHKAVv1v32qgsW76fS/GDBf/vQ1878T75BIx7nwvx4gO16yNvC/sTQtNAzD7L+XlNnxQtnpv1iws/VK4Oe/HHVXpEHc5r+CHxq84Ojlv/L3cImA4uW/8mLfjD5s5L+FDQIIPFLiv8UGJnH5/OG/pPT+gON04L8FQpn09xXZv0sdvkMp3ti/jXRxQvgb1r+DKiWmb+nVv2livfkIR8u/aUKXey1Rx78gYpl7H9O0v4+AlyfxSJg/fxUIRnGLuD9l6+blSOy+PzTFj3QfKNI/pt8KChWJ2j9jW3SZ6OraPwDzwoEh/OE/J836yNys7D+z6Elssl/wP+Ftt3dFIfQ/ZHAf7dQi9T9K+xNqmCb5P6gSZr3qUPo/aEQbrjZY/z/MGEfsHYgBQH6KMmW50wFA",
          "dtype": "f8"
         },
         "xaxis": "x5",
         "y": {
          "bdata": "nrbfKcwuPkA7MSgRPVI+QJp6lYxjpT5AesKCI0flP0A2/KVAI9xAQDRdrMI/DEFAiV61gHO4QUCMSGW9UEFCQB7xaU78nUJAwLsS47TNQkBIq4/gXvpCQOyIqWmK+0JA7inlJDlAQ0D31yT+9KJDQNAQP4maskNAjIgp1I76Q0AwdumRbLJEQG0ZOX6Lt0RAxcqUBlj4REBeg1IR+/xEQKnPe0NRv0VAot9vFtXtRUDAq8hIZoVGQEpQP8lYI0dAs/4BN9WPR0DYA/8iSrVHQIzqFIYyqkhAAq3k6ANvSUCvVofd/XdJQOWGh86gTEpAgLoeM91CTEDXi9KcLwJNQGffa6odY05AmTf8LabBTkCX/Vq0bx1QQBdJBe8uVFBAuTbmemxAUUBNcaWlIu9RQAyeW8DiClJA",
          "dtype": "f8"
         },
         "yaxis": "y5"
        },
        {
         "hovertemplate": "variable=GPS_trust<br>value=%{x}<br>response=%{y}<extra></extra>",
         "legendgroup": "",
         "marker": {
          "color": "#636efa",
          "symbol": "circle"
         },
         "mode": "markers",
         "name": "",
         "orientation": "v",
         "showlegend": false,
         "type": "scatter",
         "x": {
          "bdata": "glTbSY5q67+p0ajwEJTyP1oHM3YIy6W/g0XBQNlM7j9g62qM1UnXv6QYaD5hZAFAs3B4upTO2D+HjLnTc0j9vwAAAAAAAPh/GxmtGiAm5r81aRzG5TDgv+Uy3eOoTeq/O0LujHXz9r8MMuCHmRDrv7PEW6DiUfA/jFSsV3B7z7+++tmnbB/Vv7OKJI+BguI/SArI8pZ4+78AAAAAAAD4f9xiKstwTve/+QW7NA0a2b/kGKfGGYXyPwAAAAAAAPh/AAAAAAAA+H/StAiByMnav98eO/afy+O/gFeor7AN0z/lpaEWtbvsv5ceAeRdReS/QVJu+5h55b9Kz1CUDVXmv9Rm2yuFwu0/uzMpTCMW8z/rXnGXI4LUP8QxwjKRvPU/FI3zaDrv3j+HzxYr393/P6tEVTs88+w/k80w/XUu4j8=",
          "dtype": "f8"
         },
         "xaxis": "x6",
         "y": {
          "bdata": "AAAAAADAR0A3JdqUaFNOQNTqTqs7rURAAAAAAACAS0DkOI7jOA5CQAAAAAAAgCxAq6qqqqqqTUAAAAAAAIBRQAAAAAAAwFJAnxertBX+S0AAAAAAAABOQK2ixkiBuzNAAAAAAACgRkAAAAAAAIBAQAAAAAAAADlAVVVVVVVVR0AAAAAAAOBEQAAAAAAAgDFAMTYLqj0nMUAAAAAAAEAzQAAAAAAAADVATivunWSpMUAAAAAAANBRQAAAAAAAsFFAq6qqqqqqUkAAAAAAAIArQAAAAAAA8FBAAAAAAABARUAAAAAAAGBLQHDyN/mb/EpAVVVVVVVVS0Ct7rS60+pAQAAAAAAAAEtAAAAAAACQUkDEwQ4HOxxTQAAAAAAAAEBAAAAAAADAPkAAAAAAAIA5QCIuN3kOUExAZmZmZmZmSkA=",
          "dtype": "f8"
         },
         "yaxis": "y6"
        },
        {
         "hovertemplate": "<b>OLS trendline</b><br>response = 0.42973 * value + 43.8817<br>R<sup>2</sup>=0.000553<br><br>variable=GPS_trust<br>value=%{x}<br>response=%{y} <b>(trend)</b><extra></extra>",
         "legendgroup": "",
         "marker": {
          "color": "#636efa",
          "symbol": "circle"
         },
         "mode": "lines",
         "name": "",
         "showlegend": false,
         "type": "scatter",
         "x": {
          "bdata": "h4y503NI/b9ICsjylnj7v9xiKstwTve/O0LujHXz9r/lpaEWtbvsv4JU20mOauu/DDLgh5kQ67/lMt3jqE3qv0rPUJQNVea/GxmtGiAm5r9BUm77mHnlv5ceAeRdReS/3x479p/L4781aRzG5TDgv9K0CIHIydq/+QW7NA0a2b9g62qM1UnXv7762adsH9W/jFSsV3B7z79aBzN2CMulv4BXqK+wDdM/615xlyOC1D+zcHi6lM7YPxSN82g6794/k80w/XUu4j+ziiSPgYLiP6tEVTs88+w/1GbbK4XC7T+DRcFA2UzuP7PEW6DiUfA/5BinxhmF8j+p0ajwEJTyP7szKUwjFvM/xDHCMpG89T+HzxYr393/P6QYaD5hZAFA",
          "dtype": "f8"
         },
         "xaxis": "x6",
         "y": {
          "bdata": "U+VGwS6MRUAia8ZwaZJFQHlQZLC6oEVAJCPud/OhRUAkBVl7dr9FQMSMpwS6wUVAqIQ7pVTCRUCVW0m7o8NFQNT9TjJ3ykVAlvuA3MfKRUCN1zls8MtFQKekJz8CzkVAbLjfgtPORUDhOOWaBdVFQIrojlzU2UVA57bgakfbRUB+5cVk1txFQJpz7+Ky3kVADK7o91LjRUBHFgX7gu5FQBT0I4c6AUZAKlf2oXoCRkDuNAxrLAZGQGKWcJtwC0ZAacIq/hoQRkBakLJ1qxBGQOVSb6qdIkZAUrTJ+AEkRkCTJU2/7yRGQBR05T71KEZARRxRfYUwRkBfwj3wuDBGQPEIoBp4MkZA/Jw+b5Q7RkBqjCrMZ15GQPA7WXpvaEZA",
          "dtype": "f8"
         },
         "yaxis": "y6"
        },
        {
         "hovertemplate": "variable=general_morality<br>value=%{x}<br>response=%{y}<extra></extra>",
         "legendgroup": "",
         "marker": {
          "color": "#636efa",
          "symbol": "circle"
         },
         "mode": "markers",
         "name": "",
         "orientation": "v",
         "showlegend": false,
         "type": "scatter",
         "x": {
          "bdata": "Rp4u+K/f2L9m0JdCM7f1Py865HS9/uW/HZpK/EuP4D+vldNaIXrWP3aD8j4RoPS/uDHytx4aob+djkJcJmXuv6jGCoFmkfU/wMFqfA0l8z+nt2nOFhXjPx5Da90BkLu/A8JyX6EJAMDYLoL+QobLv34Uwh5X4/u/T+zOfI7N9D+CDC8UFvfcv9ImU7VB7vO/AAAAAAAA+H9PSvtFw/7RP17UIRE1beC/2YXRN46O5r96q+JmY4L3Pzp6P7xmz/M/bA0bXkg+0T84IxRIJZHWvz5Ua+VqZvA/OXp3uZOt078x6Xtq08jvv7lhtaT3POO/9eW4Bg9g8b+kNS855ZbivybBikK3FMg/Pl2YfXR4AEAlojkfl7X5P8f929/icfS/TBlBSWR31L8AAAAAAAD4fz9SojH9pfA/5EMZCoowhD8=",
          "dtype": "f8"
         },
         "xaxis": "x7",
         "y": {
          "bdata": "AAAAAADAR0A3JdqUaFNOQNTqTqs7rURAAAAAAACAS0DkOI7jOA5CQAAAAAAAgCxAq6qqqqqqTUAAAAAAAIBRQAAAAAAAwFJAnxertBX+S0AAAAAAAABOQK2ixkiBuzNAAAAAAACgRkAAAAAAAIBAQAAAAAAAADlAVVVVVVVVR0AAAAAAAOBEQAAAAAAAgDFAMTYLqj0nMUAAAAAAAEAzQAAAAAAAADVATivunWSpMUAAAAAAANBRQAAAAAAAsFFAq6qqqqqqUkAAAAAAAIArQAAAAAAA8FBAAAAAAABARUAAAAAAAGBLQHDyN/mb/EpAVVVVVVVVS0Ct7rS60+pAQAAAAAAAAEtAAAAAAACQUkDEwQ4HOxxTQAAAAAAAAEBAAAAAAADAPkAAAAAAAIA5QCIuN3kOUExAZmZmZmZmSkA=",
          "dtype": "f8"
         },
         "yaxis": "y7"
        },
        {
         "hovertemplate": "<b>OLS trendline</b><br>response = 11.7083 * value + 46.7567<br>R<sup>2</sup>=0.374601<br><br>variable=general_morality<br>value=%{x}<br>response=%{y} <b>(trend)</b><extra></extra>",
         "legendgroup": "",
         "marker": {
          "color": "#636efa",
          "symbol": "circle"
         },
         "mode": "lines",
         "name": "",
         "showlegend": false,
         "type": "scatter",
         "x": {
          "bdata": "A8JyX6EJAMB+FMIeV+P7v3aD8j4RoPS/x/3b3+Jx9L/SJlO1Qe7zv/XluAYPYPG/Mel7atPI77+djkJcJmXuv9mF0TeOjua/LzrkdL3+5b+5YbWk9zzjv6Q1LznlluK/XtQhETVt4L+CDC8UFvfcv0aeLviv39i/OCMUSCWR1r9MGUFJZHfUvzl6d7mTrdO/2C6C/kKGy78eQ2vdAZC7v7gx8rceGqG/5EMZCoowhD8mwYpCtxTIP2wNG15IPtE/T0r7RcP+0T+vldNaIXrWPx2aSvxLj+A/p7dpzhYV4z8+VGvlambwPz9SojH9pfA/wMFqfA0l8z86ej+8Zs/zP0/sznyOzfQ/qMYKgWaR9T9m0JdCM7f1P3qr4mZjgvc/JaI5H5e1+T8+XZh9dHgAQA==",
          "dtype": "f8"
         },
         "xaxis": "x7",
         "y": {
          "bdata": "NIokn/dIN0DFwi5OXVk6QNoe+dHrqT9AOScPDrfLP0AfEqDIBBZAQKsCBhphBUFA/dLyH0mQQUAIPFWOWtFBQBK5qLVxQENAe9L2CsFaQ0BPAwec3ttDQA5LsUhA+kNA3DiNP4tfREDyNy5vlrpEQExVGe9kGkVAuwj+ZmlQRUCCYGvCmYFFQDeCx5EPlEVAPIx5uJYeRkAqt76Bf79GQBVmh1LLLkdA2wDMkaBvR0BHB+qtzHpIQCaRbM2h9EhA1eY2Bz0GSUCASppzMG9JQPc1ABFmaEpA3mk8j4reSkBdw+S5/GBNQE2Ffjs/eE1A5HMK+RFiTkDkpwHnZaBOQOD5VLFj/U5AJGWSqQtFT0CBE7c74FJPQFbpaLDi+k9A3+E04HlkUECBrSIIKbdRQA==",
          "dtype": "f8"
         },
         "yaxis": "y7"
        },
        {
         "hovertemplate": "variable=MFQ_genmorality<br>value=%{x}<br>response=%{y}<extra></extra>",
         "legendgroup": "",
         "marker": {
          "color": "#636efa",
          "symbol": "circle"
         },
         "mode": "markers",
         "name": "",
         "orientation": "v",
         "showlegend": false,
         "type": "scatter",
         "x": {
          "bdata": "tjKCoegi4D/Llz7fsT7cP1zHBizlneU/Dfhm/FOw0L/jm5uSaPmuP4Cd5KQm1wHAWeZX9SEX8j+ZbjCxhS/Uv8FCS0QrrtQ/Kpobj3oG6T+jBH0QWsjyPwAAAAAAAPh/a7ygTjWp5z/XlALRNqHUv+hY4YYesPm/aZeuED818b8JSw+DmibsPwAAAAAAAPh/vfyxmVhu9r86CtE4Cu/fv+kVvTr5euI/AAAAAAAA+H/2V4kUmLDoP1H5qc21R9s/LJsTM2oRcj9QaS0TPOMEwEXTo1wSwuE/Q+AWEk9i2z82amu2n8vBP/B/JH+8tuO/AAAAAAAA+H8DyhWIRuPeP+WJR68hZ+c/uNsKgOE/sL+OSdSIc0S7P5uTzhQhefm/N7+wAJFi/z8AAAAAAAD4fwLaYh09kOw/Jc9SnzwZ878=",
          "dtype": "f8"
         },
         "xaxis": "x8",
         "y": {
          "bdata": "AAAAAADAR0A3JdqUaFNOQNTqTqs7rURAAAAAAACAS0DkOI7jOA5CQAAAAAAAgCxAq6qqqqqqTUAAAAAAAIBRQAAAAAAAwFJAnxertBX+S0AAAAAAAABOQK2ixkiBuzNAAAAAAACgRkAAAAAAAIBAQAAAAAAAADlAVVVVVVVVR0AAAAAAAOBEQAAAAAAAgDFAMTYLqj0nMUAAAAAAAEAzQAAAAAAAADVATivunWSpMUAAAAAAANBRQAAAAAAAsFFAq6qqqqqqUkAAAAAAAIArQAAAAAAA8FBAAAAAAABARUAAAAAAAGBLQHDyN/mb/EpAVVVVVVVVS0Ct7rS60+pAQAAAAAAAAEtAAAAAAACQUkDEwQ4HOxxTQAAAAAAAAEBAAAAAAADAPkAAAAAAAIA5QCIuN3kOUExAZmZmZmZmSkA=",
          "dtype": "f8"
         },
         "yaxis": "y8"
        },
        {
         "hovertemplate": "<b>OLS trendline</b><br>response = 8.62053 * value + 48.1242<br>R<sup>2</sup>=0.212819<br><br>variable=MFQ_genmorality<br>value=%{x}<br>response=%{y} <b>(trend)</b><extra></extra>",
         "legendgroup": "",
         "marker": {
          "color": "#636efa",
          "symbol": "circle"
         },
         "mode": "lines",
         "name": "",
         "showlegend": false,
         "type": "scatter",
         "x": {
          "bdata": "UGktEzzjBMCAneSkJtcBwOhY4YYesPm/m5POFCF5+b+9/LGZWG72vyXPUp88GfO/aZeuED818b/wfyR/vLbjvzoK0TgK79+/15QC0Tah1L+ZbjCxhS/Uvw34ZvxTsNC/uNsKgOE/sL8smxMzahFyP+Obm5Jo+a4/jknUiHNEuz82amu2n8vBP8FCS0QrrtQ/UfmpzbVH2z9D4BYST2LbP8uXPt+xPtw/A8oViEbj3j+2MoKh6CLgP0XTo1wSwuE/6RW9Ovl64j9cxwYs5Z3lP+WJR68hZ+c/a7ygTjWp5z/2V4kUmLDoPyqaG496Buk/CUsPg5om7D8C2mIdPZDsP1nmV/UhF/I/owR9EFrI8j83v7AAkWL/Pw==",
          "dtype": "f8"
         },
         "xaxis": "x8",
         "y": {
          "bdata": "+Npx68mdOUCHJUlbYeY8QJJNS7tXJEFAVlc/EygzQUDKlJQ99ARCQIisRUDG6kJAyGOfRShtQ0DMFBeFHmhFQG3e8lFS6UVAzKm47DasRkAeqrcX37NGQCGgzy4p8EZAojXCb9rJR0Bv5mOqwhRIQGuvm4mlUkhARKWPM2yFSECRDcF+TKlIQPkc+KpxdElAFRMHIzvmSUCFk/e5BehJQDbJhWnd9klAxx1FYG4kSkDlMVQNTzxKQJ9JSL86dEpAqaY4jSKNSkCRqz37SPlKQO+Bb3TfNktABX266sU/S0CT8OMDQGNLQNKx/X/RbktA32cufZfaS0C7xxYD0uhLQBArIwl770xAtqXa0DgfTUATAEIVK0JQQA==",
          "dtype": "f8"
         },
         "yaxis": "y8"
        },
        {
         "hovertemplate": "variable=civic_cooperation<br>value=%{x}<br>response=%{y}<extra></extra>",
         "legendgroup": "",
         "marker": {
          "color": "#636efa",
          "symbol": "circle"
         },
         "mode": "markers",
         "name": "",
         "orientation": "v",
         "showlegend": false,
         "type": "scatter",
         "x": {
          "bdata": "piV097a2y78Qj3wALWvvP4OnfU292+W/bE9qqjnQ0T+v7jhks2j3v6uvZ4dRxcI/ifGRzAmq579JF8mHHoX3v8wFC/fVj/Y/hQJssiH57b9vRvJVjcHoPxeVDNFfet0/Z2rSehDy5T8xI9ERdu/hP0MHX6uU1b6/AAAAAAAA+H9ITpCc3ATvP2IqPVd53Pa/AAAAAAAA+H8PJ87BhNz/v2WjHkMkhQPA7NC+tSFg8T9yp3h6AzfxP21iCdCy9ew/FXr1zKgE8D+cwHVUtkbwv3nGp9My8Ns/h6dlZJVA5j8G37PPnTbmP5WctQzoIva/d3nTK2lO679sShRh0//lv903iQPEEcM/pfPvw9S32j/kvJKoRfroP+a8JBTmOOS/XLvnHDXJ9D8AAAAAAAD4fz5pHAftW+k/DJmKr7ap3T8=",
          "dtype": "f8"
         },
         "xaxis": "x",
         "y": {
          "bdata": "AAAAAADAR0A3JdqUaFNOQNTqTqs7rURAAAAAAACAS0DkOI7jOA5CQAAAAAAAgCxAq6qqqqqqTUAAAAAAAIBRQAAAAAAAwFJAnxertBX+S0AAAAAAAABOQK2ixkiBuzNAAAAAAACgRkAAAAAAAIBAQAAAAAAAADlAVVVVVVVVR0AAAAAAAOBEQAAAAAAAgDFAMTYLqj0nMUAAAAAAAEAzQAAAAAAAADVATivunWSpMUAAAAAAANBRQAAAAAAAsFFAq6qqqqqqUkAAAAAAAIArQAAAAAAA8FBAAAAAAABARUAAAAAAAGBLQHDyN/mb/EpAVVVVVVVVS0Ct7rS60+pAQAAAAAAAAEtAAAAAAACQUkDEwQ4HOxxTQAAAAAAAAEBAAAAAAADAPkAAAAAAAIA5QCIuN3kOUExAZmZmZmZmSkA=",
          "dtype": "f8"
         },
         "yaxis": "y"
        },
        {
         "hovertemplate": "<b>OLS trendline</b><br>response = 7.59476 * value + 46.7591<br>R<sup>2</sup>=0.153472<br><br>variable=civic_cooperation<br>value=%{x}<br>response=%{y} <b>(trend)</b><extra></extra>",
         "legendgroup": "",
         "marker": {
          "color": "#636efa",
          "symbol": "circle"
         },
         "mode": "lines",
         "name": "",
         "showlegend": false,
         "type": "scatter",
         "x": {
          "bdata": "ZaMeQySFA8APJ87BhNz/v0kXyYcehfe/r+44ZLNo979iKj1Xedz2v5WctQzoIva/nMB1VLZG8L+FAmyyIfntv3d50ytpTuu/ifGRzAmq579sShRh0//lv4OnfU292+W/5rwkFOY45L+mJXT3trbLv0MHX6uU1b6/q69nh1HFwj/dN4kDxBHDP2xPaqo50NE/pfPvw9S32j95xqfTMvDbPxeVDNFfet0/DJmKr7ap3T8xI9ERdu/hP2dq0noQ8uU/Bt+zz5025j+Hp2VklUDmP29G8lWNweg/5LySqEX66D8+aRwH7VvpP21iCdCy9ew/SE6QnNwE7z8Qj3wALWvvPxV69cyoBPA/cqd4egM38T/s0L61IWDxP1y75xw1yfQ/zAUL99WP9j8=",
          "dtype": "f8"
         },
         "xaxis": "x",
         "y": {
          "bdata": "aN9WjlE6PEDUc5idp6I/QHrAaIoizEFAzn/HMeHSQUAiaOkZKfRBQCHLhdMzIEJAFnu3uUCEQ0DUTW3Im9JDQMjqQy6gI0RAGbHPwUSSREAprtqu2MREQBFwr/IgyURAq+aK7NT6REA9dGZ1r45GQJae1S4T7EZAkjtuVbnvR0CcMIju/fFHQOuE5be9b0hAeFFA1P/2SEAhHQ+KiAlJQGDE0uDrIElAzN6V8LojSUA1pMpABoJJQFMh6HbZ+0lA/wKhAvwDSkDF9S/NKgVKQCH3O846UUpAnR2Z5/VXSkBODEOIjGNKQInsphfv0EpArR+PzX0PS0C0WQwBohtLQLO9BjxmLktArElJuRt3S0BTl8H63YBLQJB8SGAUUExAUBnNtvq7TEA=",
          "dtype": "f8"
         },
         "yaxis": "y"
        },
        {
         "hovertemplate": "variable=GPS_posrecip<br>value=%{x}<br>response=%{y}<extra></extra>",
         "legendgroup": "",
         "marker": {
          "color": "#636efa",
          "symbol": "circle"
         },
         "mode": "markers",
         "name": "",
         "orientation": "v",
         "showlegend": false,
         "type": "scatter",
         "x": {
          "bdata": "xj0L969t4D/DWynqN4jOP3lp7ZyNkvE/vQV5FxYO5D/prbg/+R26P8qyxN+b1Pc/2uFeLg1B4z8a4QHho6zsvwAAAAAAAPh/QplxMUZB1r+wR1Zn7efLv1WFrVDevOS/JEvEk9SZu7/4lPzK78H1v4/NjY6uB94/XhQ+o5iWcr+ef/JwZxDiP2X48KBA4+4/E8gDpcdK7r8AAAAAAAD4f6bnsQfIJQnArQevkqBv+z/xQvLXiFjbvwAAAAAAAPh/AAAAAAAA+H/y4L6IZqDOvxMA6CypYt6/fDaApDMK4z9qm/OjnE/Vv5IMGL5PmdC/SEAddXzN8j/Z/s4qYSsEwM/0vaD4sO8/HU+zTgkSrr8QR6X5XxzaP2CVTUWtj+4/jVikHL889b/Z2caa/+nPP2r2+DTzWLe/MTXXR4S55D8=",
          "dtype": "f8"
         },
         "xaxis": "x2",
         "y": {
          "bdata": "AAAAAADAR0A3JdqUaFNOQNTqTqs7rURAAAAAAACAS0DkOI7jOA5CQAAAAAAAgCxAq6qqqqqqTUAAAAAAAIBRQAAAAAAAwFJAnxertBX+S0AAAAAAAABOQK2ixkiBuzNAAAAAAACgRkAAAAAAAIBAQAAAAAAAADlAVVVVVVVVR0AAAAAAAOBEQAAAAAAAgDFAMTYLqj0nMUAAAAAAAEAzQAAAAAAAADVATivunWSpMUAAAAAAANBRQAAAAAAAsFFAq6qqqqqqUkAAAAAAAIArQAAAAAAA8FBAAAAAAABARUAAAAAAAGBLQHDyN/mb/EpAVVVVVVVVS0Ct7rS60+pAQAAAAAAAAEtAAAAAAACQUkDEwQ4HOxxTQAAAAAAAAEBAAAAAAADAPkAAAAAAAIA5QCIuN3kOUExAZmZmZmZmSkA=",
          "dtype": "f8"
         },
         "yaxis": "y2"
        },
        {
         "hovertemplate": "<b>OLS trendline</b><br>response = 0.919031 * value + 43.8817<br>R<sup>2</sup>=0.002528<br><br>variable=GPS_posrecip<br>value=%{x}<br>response=%{y} <b>(trend)</b><extra></extra>",
         "legendgroup": "",
         "marker": {
          "color": "#636efa",
          "symbol": "circle"
         },
         "mode": "lines",
         "name": "",
         "showlegend": false,
         "type": "scatter",
         "x": {
          "bdata": "puexB8glCcDZ/s4qYSsEwPiU/MrvwfW/jVikHL889b8TyAOlx0ruvxrhAeGjrOy/VYWtUN685L8TAOgsqWLev/FC8teIWNu/QplxMUZB1r9qm/OjnE/Vv5IMGL5PmdC/8uC+iGagzr+wR1Zn7efLvyRLxJPUmbu/avb4NPNYt78dT7NOCRKuv14UPqOYlnK/6a24P/kduj/DWynqN4jOP9nZxpr/6c8/EEel+V8c2j+PzY2OrgfeP8Y9C/evbeA/nn/ycGcQ4j98NoCkMwrjP9rhXi4NQeM/vQV5FxYO5D8xNddHhLnkP2CVTUWtj+4/ZfjwoEDj7j/P9L2g+LDvP3lp7ZyNkvE/SEAddXzN8j/KssTfm9T3P60Hr5Kgb/s/",
          "dtype": "f8"
         },
         "xaxis": "x2",
         "y": {
          "bdata": "wFy+CBJ/REDZ6a93RchEQKqH3sziUEVAVtAVDLZURUCt9GXSfoFFQLCEJEBxh0VA1YRSS56kRUA8Le2wALlFQGIQbu+WvkVABOKBaPLHRUCEETaZrslFQNQpYNpX0kVAagigx7TURUD6lTDcNNdFQB+j4X0r5EVAwxVb2R/mRUDWw6Oq8elFQHqgLK9R8EVACfVnqNr8RUCzCRqy6QxGQH53mtQuDkZAwE21pNggRkAhj5PIDChGQKILxPk+LUZAT9vcOkIzRkCAEViE2DZGQHXaxSaiN0ZAQJd84pM6RkAmtYgVCj1GQIEdyiYzYUZA7yPEYmZiRkB9piCiWmVGQC4wwNIMckZAGz7OSRh7RkDww0OID6BGQC9xhMqRukZA",
          "dtype": "f8"
         },
         "yaxis": "y2"
        },
        {
         "hovertemplate": "variable=GPS_altruism<br>value=%{x}<br>response=%{y}<extra></extra>",
         "legendgroup": "",
         "marker": {
          "color": "#636efa",
          "symbol": "circle"
         },
         "mode": "markers",
         "name": "",
         "orientation": "v",
         "showlegend": false,
         "type": "scatter",
         "x": {
          "bdata": "0nefphXc0T+1uBh2jeDlP/tluyzWkfo/bRVT0Cld7T+KrB3uQizCv4Eml/nQnfw/BrhFWXI4oL+JfQVyBTkGwAAAAAAAAPh/R8xfVpIF179e3n6Z2A+gP25JPYfSZeE/yaMt83Cj1r8PZ0jE9ejkv5C366tjk+A/d6XvgL/Z6r8ErhysEZT0PyGYr2doqec/IT8dOpbn6b8AAAAAAAD4f9MBcRHTBQPAomp/Q9Bb/z+rfAVztCDavwAAAAAAAPh/AAAAAAAA+H8CeOTPVg3Nv6DjZlZ+R++/aq53635L1j/kOejx4Abiv/MZpu0/65q/zlYB76rY6b8SVj3vLFLqvz80+APlm8u/9Dt+SNZu1b8Plx2IDn3fP96VwcM8WtG/TlI5hfgO5r/6qWSuxsLlP3pNVQ9AFdI/Xkx+zLKj9z8=",
          "dtype": "f8"
         },
         "xaxis": "x3",
         "y": {
          "bdata": "AAAAAADAR0A3JdqUaFNOQNTqTqs7rURAAAAAAACAS0DkOI7jOA5CQAAAAAAAgCxAq6qqqqqqTUAAAAAAAIBRQAAAAAAAwFJAnxertBX+S0AAAAAAAABOQK2ixkiBuzNAAAAAAACgRkAAAAAAAIBAQAAAAAAAADlAVVVVVVVVR0AAAAAAAOBEQAAAAAAAgDFAMTYLqj0nMUAAAAAAAEAzQAAAAAAAADVATivunWSpMUAAAAAAANBRQAAAAAAAsFFAq6qqqqqqUkAAAAAAAIArQAAAAAAA8FBAAAAAAABARUAAAAAAAGBLQHDyN/mb/EpAVVVVVVVVS0Ct7rS60+pAQAAAAAAAAEtAAAAAAACQUkDEwQ4HOxxTQAAAAAAAAEBAAAAAAADAPkAAAAAAAIA5QCIuN3kOUExAZmZmZmZmSkA=",
          "dtype": "f8"
         },
         "yaxis": "y3"
        },
        {
         "hovertemplate": "<b>OLS trendline</b><br>response = -3.92447 * value + 43.8817<br>R<sup>2</sup>=0.046098<br><br>variable=GPS_altruism<br>value=%{x}<br>response=%{y} <b>(trend)</b><extra></extra>",
         "legendgroup": "",
         "marker": {
          "color": "#636efa",
          "symbol": "circle"
         },
         "mode": "lines",
         "name": "",
         "showlegend": false,
         "type": "scatter",
         "x": {
          "bdata": "iX0FcgU5BsDTAXER0wUDwKDjZlZ+R++/d6XvgL/Z6r8SVj3vLFLqvyE/HTqW5+m/zlYB76rY6b9OUjmF+A7mvw9nSMT16OS/5Dno8eAG4r+rfAVztCDav0fMX1aSBde/yaMt83Cj1r/0O35I1m7Vv96VwcM8WtG/Anjkz1YNzb8/NPgD5ZvLv4qsHe5CLMK/BrhFWXI4oL/zGabtP+uav17efpnYD6A/0nefphXc0T96TVUPQBXSP2qud+t+S9Y/D5cdiA593z+Qt+urY5PgP25JPYfSZeE/+qlkrsbC5T+1uBh2jeDlPyGYr2doqec/bRVT0Cld7T8ErhysEZT0P15Mfsyyo/c/+2W7LNaR+j+BJpf50J38P6Jqf0PQW/8/",
          "dtype": "f8"
         },
         "xaxis": "x3",
         "y": {
          "bdata": "DYxzb0BkS0Csw5TaUZtKQPzL8PLe20dAk0Yzj1mWR0CjjfVbCY5HQMJhvySAh0dAQhb58ZWGR0AeJZ/EH0tHQB0g12wYOUdAmrahHtYLR0B+4waQ7b1GQG168ZyMpUZAfG7LZIqiRkBpqvYtFJlGQNnQHy8NeUZA8klz8t1iRkDPw/ASNF1GQH7W6v8rOEZACGSyYsQARkAUrCLpDv5FQMow4iUY4UVA3CtnWqxkRUD1Dt+p62JFQLyzeJXcQUVA8by5orP5RECb7fkrpuxEQGIWOdK+30RAMNueBkGbREBr7jOZbZlEQJrMmPFpfURAMGXs4+YjRECaijBqx2pDQMtN28msCkNAfkDIpK2uQkAz9aXpam5CQI8nbzBTGEJA",
          "dtype": "f8"
         },
         "yaxis": "y3"
        },
        {
         "hovertemplate": "variable=stranger1<br>value=%{x}<br>response=%{y}<extra></extra>",
         "legendgroup": "",
         "marker": {
          "color": "#636efa",
          "symbol": "circle"
         },
         "mode": "markers",
         "name": "",
         "orientation": "v",
         "showlegend": false,
         "type": "scatter",
         "x": {
          "bdata": "Q1lCvHmltb81DuU91u7xPzaqTwEn19G/bJLO/UYK8j85KM/Wl2Pqv1bZ/zdxW7q/qoW1/fe12b8AAAAAAAD4f/CKHE++Yfc/MY7ptwnCpz/2KuHRD3bwPxZOgTqp390/U3nopItD8L/AMwQlmP7Zvzqc/YDkjvW/FlTkxGktxL8k1cF9eejrvx13f+hlPN8/QdyjlH3P5L9EvbpBtgf4v2qavj4mevi/kwg6tHaV4r8HZMN4HzX2P4mGT8ftCvk/0atoGw7fAkB19umgPmv4v2yfBvzKqNe/sAl53sb/mT+zHaFfCLLbv6ErCBKPzNc/2MgTe5eFzj9r9bo2mnnwv7/nbdaV2d4/UMVDo+sw3D/UYgXa49bwPzH5FexbnQLAlFu3PHSR2L8nGOqCtLfxP5id8zmubOA/OKsyVBpR4T8=",
          "dtype": "f8"
         },
         "xaxis": "x4",
         "y": {
          "bdata": "AAAAAADAR0A3JdqUaFNOQNTqTqs7rURAAAAAAACAS0DkOI7jOA5CQAAAAAAAgCxAq6qqqqqqTUAAAAAAAIBRQAAAAAAAwFJAnxertBX+S0AAAAAAAABOQK2ixkiBuzNAAAAAAACgRkAAAAAAAIBAQAAAAAAAADlAVVVVVVVVR0AAAAAAAOBEQAAAAAAAgDFAMTYLqj0nMUAAAAAAAEAzQAAAAAAAADVATivunWSpMUAAAAAAANBRQAAAAAAAsFFAq6qqqqqqUkAAAAAAAIArQAAAAAAA8FBAAAAAAABARUAAAAAAAGBLQHDyN/mb/EpAVVVVVVVVS0Ct7rS60+pAQAAAAAAAAEtAAAAAAACQUkDEwQ4HOxxTQAAAAAAAAEBAAAAAAADAPkAAAAAAAIA5QCIuN3kOUExAZmZmZmZmSkA=",
          "dtype": "f8"
         },
         "yaxis": "y4"
        },
        {
         "hovertemplate": "<b>OLS trendline</b><br>response = 12.4597 * value + 44.8566<br>R<sup>2</sup>=0.416027<br><br>variable=stranger1<br>value=%{x}<br>response=%{y} <b>(trend)</b><extra></extra>",
         "legendgroup": "",
         "marker": {
          "color": "#636efa",
          "symbol": "circle"
         },
         "mode": "lines",
         "name": "",
         "showlegend": false,
         "type": "scatter",
         "x": {
          "bdata": "MfkV7FudAsBqmr4+Jnr4v3X26aA+a/i/RL26QbYH+L86nP2A5I71v2v1ujaaefC/U3nopItD8L8k1cF9eejrvzkoz9aXY+q/QdyjlH3P5L+TCDq0dpXiv7MdoV8Istu/wDMEJZj+2b+qhbX997XZv5Rbtzx0kdi/bJ8G/Mqo1782qk8BJ9fRvxZU5MRpLcS/Vtn/N3Fbur9DWUK8eaW1v7AJed7G/5k/MY7ptwnCpz/YyBN7l4XOP6ErCBKPzNc/UMVDo+sw3D8WToE6qd/dP7/nbdaV2d4/HXd/6GU83z+YnfM5rmzgPzirMlQaUeE/9irh0Q928D/UYgXa49bwPycY6oK0t/E/NQ7lPdbu8T9sks79RgryPwdkw3gfNfY/8IocT75h9z+Jhk/H7Qr5P9GraBsO3wJA",
          "dtype": "f8"
         },
         "xaxis": "x4",
         "y": {
          "bdata": "Nku4QuG6L0DJApdIp8s5QHjcIJ1C1zlANbhW6cQkOkBVStxUkBE8QHoE+Dp1A0BAFIDreYEYQEB4XcR3vf5AQPY9TMpySkFAZ46RenlgQkB2VH7Xcs9CQBILFJF9u0NA7tkqZeDlQ0DPV/ss8uxDQBiYK3FrCURA8WUOMxEgREAgFDIHErFEQKwtDhE9ckVAohaQ8HDJRUB/HEPoyeZFQAZ6SHIilkZAasZSY6W3RkDLliYN7+lHQJAvM8eyvkhAmOaVGiUsSUC07r/dElZJQMBH/c5mbklALrbaJwV4SUCQHgvqN6BJQG5baCuwzElAZm75kHLWTEBu/4IkJvxMQMkY+hivU01A7Ho0eyZpTUBHKCGr1XNNQNW+we85E09A7Hot90aIT0AXUVQl6hZQQGC79Zncj1JA",
          "dtype": "f8"
         },
         "yaxis": "y4"
        }
       ],
       "layout": {
        "annotations": [
         {
          "font": {},
          "showarrow": false,
          "text": "civic_cooperation (N=37)",
          "x": 0.10250000000000001,
          "xanchor": "center",
          "xref": "paper",
          "y": 0.425,
          "yanchor": "bottom",
          "yref": "paper"
         },
         {
          "font": {},
          "showarrow": false,
          "text": "GPS_posrecip (N=36)",
          "x": 0.36750000000000005,
          "xanchor": "center",
          "xref": "paper",
          "y": 0.425,
          "yanchor": "bottom",
          "yref": "paper"
         },
         {
          "font": {},
          "showarrow": false,
          "text": "GPS_altruism (N=36)",
          "x": 0.6325000000000001,
          "xanchor": "center",
          "xref": "paper",
          "y": 0.425,
          "yanchor": "bottom",
          "yref": "paper"
         },
         {
          "font": {},
          "showarrow": false,
          "text": "stranger1 (N=39)",
          "x": 0.8975,
          "xanchor": "center",
          "xref": "paper",
          "y": 0.425,
          "yanchor": "bottom",
          "yref": "paper"
         },
         {
          "font": {},
          "showarrow": false,
          "text": "general_trust (N=39)",
          "x": 0.10250000000000001,
          "xanchor": "center",
          "xref": "paper",
          "y": 1,
          "yanchor": "bottom",
          "yref": "paper"
         },
         {
          "font": {},
          "showarrow": false,
          "text": "GPS_trust (N=36)",
          "x": 0.36750000000000005,
          "xanchor": "center",
          "xref": "paper",
          "y": 1,
          "yanchor": "bottom",
          "yref": "paper"
         },
         {
          "font": {},
          "showarrow": false,
          "text": "general_morality (N=38)",
          "x": 0.6325000000000001,
          "xanchor": "center",
          "xref": "paper",
          "y": 1,
          "yanchor": "bottom",
          "yref": "paper"
         },
         {
          "font": {},
          "showarrow": false,
          "text": "MFQ_genmorality (N=35)",
          "x": 0.8975,
          "xanchor": "center",
          "xref": "paper",
          "y": 1,
          "yanchor": "bottom",
          "yref": "paper"
         }
        ],
        "legend": {
         "tracegroupgap": 0
        },
        "margin": {
         "t": 60
        },
        "template": {
         "data": {
          "bar": [
           {
            "error_x": {
             "color": "#2a3f5f"
            },
            "error_y": {
             "color": "#2a3f5f"
            },
            "marker": {
             "line": {
              "color": "white",
              "width": 0.5
             },
             "pattern": {
              "fillmode": "overlay",
              "size": 10,
              "solidity": 0.2
             }
            },
            "type": "bar"
           }
          ],
          "barpolar": [
           {
            "marker": {
             "line": {
              "color": "white",
              "width": 0.5
             },
             "pattern": {
              "fillmode": "overlay",
              "size": 10,
              "solidity": 0.2
             }
            },
            "type": "barpolar"
           }
          ],
          "carpet": [
           {
            "aaxis": {
             "endlinecolor": "#2a3f5f",
             "gridcolor": "#C8D4E3",
             "linecolor": "#C8D4E3",
             "minorgridcolor": "#C8D4E3",
             "startlinecolor": "#2a3f5f"
            },
            "baxis": {
             "endlinecolor": "#2a3f5f",
             "gridcolor": "#C8D4E3",
             "linecolor": "#C8D4E3",
             "minorgridcolor": "#C8D4E3",
             "startlinecolor": "#2a3f5f"
            },
            "type": "carpet"
           }
          ],
          "choropleth": [
           {
            "colorbar": {
             "outlinewidth": 0,
             "ticks": ""
            },
            "type": "choropleth"
           }
          ],
          "contour": [
           {
            "colorbar": {
             "outlinewidth": 0,
             "ticks": ""
            },
            "colorscale": [
             [
              0,
              "#0d0887"
             ],
             [
              0.1111111111111111,
              "#46039f"
             ],
             [
              0.2222222222222222,
              "#7201a8"
             ],
             [
              0.3333333333333333,
              "#9c179e"
             ],
             [
              0.4444444444444444,
              "#bd3786"
             ],
             [
              0.5555555555555556,
              "#d8576b"
             ],
             [
              0.6666666666666666,
              "#ed7953"
             ],
             [
              0.7777777777777778,
              "#fb9f3a"
             ],
             [
              0.8888888888888888,
              "#fdca26"
             ],
             [
              1,
              "#f0f921"
             ]
            ],
            "type": "contour"
           }
          ],
          "contourcarpet": [
           {
            "colorbar": {
             "outlinewidth": 0,
             "ticks": ""
            },
            "type": "contourcarpet"
           }
          ],
          "heatmap": [
           {
            "colorbar": {
             "outlinewidth": 0,
             "ticks": ""
            },
            "colorscale": [
             [
              0,
              "#0d0887"
             ],
             [
              0.1111111111111111,
              "#46039f"
             ],
             [
              0.2222222222222222,
              "#7201a8"
             ],
             [
              0.3333333333333333,
              "#9c179e"
             ],
             [
              0.4444444444444444,
              "#bd3786"
             ],
             [
              0.5555555555555556,
              "#d8576b"
             ],
             [
              0.6666666666666666,
              "#ed7953"
             ],
             [
              0.7777777777777778,
              "#fb9f3a"
             ],
             [
              0.8888888888888888,
              "#fdca26"
             ],
             [
              1,
              "#f0f921"
             ]
            ],
            "type": "heatmap"
           }
          ],
          "histogram": [
           {
            "marker": {
             "pattern": {
              "fillmode": "overlay",
              "size": 10,
              "solidity": 0.2
             }
            },
            "type": "histogram"
           }
          ],
          "histogram2d": [
           {
            "colorbar": {
             "outlinewidth": 0,
             "ticks": ""
            },
            "colorscale": [
             [
              0,
              "#0d0887"
             ],
             [
              0.1111111111111111,
              "#46039f"
             ],
             [
              0.2222222222222222,
              "#7201a8"
             ],
             [
              0.3333333333333333,
              "#9c179e"
             ],
             [
              0.4444444444444444,
              "#bd3786"
             ],
             [
              0.5555555555555556,
              "#d8576b"
             ],
             [
              0.6666666666666666,
              "#ed7953"
             ],
             [
              0.7777777777777778,
              "#fb9f3a"
             ],
             [
              0.8888888888888888,
              "#fdca26"
             ],
             [
              1,
              "#f0f921"
             ]
            ],
            "type": "histogram2d"
           }
          ],
          "histogram2dcontour": [
           {
            "colorbar": {
             "outlinewidth": 0,
             "ticks": ""
            },
            "colorscale": [
             [
              0,
              "#0d0887"
             ],
             [
              0.1111111111111111,
              "#46039f"
             ],
             [
              0.2222222222222222,
              "#7201a8"
             ],
             [
              0.3333333333333333,
              "#9c179e"
             ],
             [
              0.4444444444444444,
              "#bd3786"
             ],
             [
              0.5555555555555556,
              "#d8576b"
             ],
             [
              0.6666666666666666,
              "#ed7953"
             ],
             [
              0.7777777777777778,
              "#fb9f3a"
             ],
             [
              0.8888888888888888,
              "#fdca26"
             ],
             [
              1,
              "#f0f921"
             ]
            ],
            "type": "histogram2dcontour"
           }
          ],
          "mesh3d": [
           {
            "colorbar": {
             "outlinewidth": 0,
             "ticks": ""
            },
            "type": "mesh3d"
           }
          ],
          "parcoords": [
           {
            "line": {
             "colorbar": {
              "outlinewidth": 0,
              "ticks": ""
             }
            },
            "type": "parcoords"
           }
          ],
          "pie": [
           {
            "automargin": true,
            "type": "pie"
           }
          ],
          "scatter": [
           {
            "fillpattern": {
             "fillmode": "overlay",
             "size": 10,
             "solidity": 0.2
            },
            "type": "scatter"
           }
          ],
          "scatter3d": [
           {
            "line": {
             "colorbar": {
              "outlinewidth": 0,
              "ticks": ""
             }
            },
            "marker": {
             "colorbar": {
              "outlinewidth": 0,
              "ticks": ""
             }
            },
            "type": "scatter3d"
           }
          ],
          "scattercarpet": [
           {
            "marker": {
             "colorbar": {
              "outlinewidth": 0,
              "ticks": ""
             }
            },
            "type": "scattercarpet"
           }
          ],
          "scattergeo": [
           {
            "marker": {
             "colorbar": {
              "outlinewidth": 0,
              "ticks": ""
             }
            },
            "type": "scattergeo"
           }
          ],
          "scattergl": [
           {
            "marker": {
             "colorbar": {
              "outlinewidth": 0,
              "ticks": ""
             }
            },
            "type": "scattergl"
           }
          ],
          "scattermap": [
           {
            "marker": {
             "colorbar": {
              "outlinewidth": 0,
              "ticks": ""
             }
            },
            "type": "scattermap"
           }
          ],
          "scattermapbox": [
           {
            "marker": {
             "colorbar": {
              "outlinewidth": 0,
              "ticks": ""
             }
            },
            "type": "scattermapbox"
           }
          ],
          "scatterpolar": [
           {
            "marker": {
             "colorbar": {
              "outlinewidth": 0,
              "ticks": ""
             }
            },
            "type": "scatterpolar"
           }
          ],
          "scatterpolargl": [
           {
            "marker": {
             "colorbar": {
              "outlinewidth": 0,
              "ticks": ""
             }
            },
            "type": "scatterpolargl"
           }
          ],
          "scatterternary": [
           {
            "marker": {
             "colorbar": {
              "outlinewidth": 0,
              "ticks": ""
             }
            },
            "type": "scatterternary"
           }
          ],
          "surface": [
           {
            "colorbar": {
             "outlinewidth": 0,
             "ticks": ""
            },
            "colorscale": [
             [
              0,
              "#0d0887"
             ],
             [
              0.1111111111111111,
              "#46039f"
             ],
             [
              0.2222222222222222,
              "#7201a8"
             ],
             [
              0.3333333333333333,
              "#9c179e"
             ],
             [
              0.4444444444444444,
              "#bd3786"
             ],
             [
              0.5555555555555556,
              "#d8576b"
             ],
             [
              0.6666666666666666,
              "#ed7953"
             ],
             [
              0.7777777777777778,
              "#fb9f3a"
             ],
             [
              0.8888888888888888,
              "#fdca26"
             ],
             [
              1,
              "#f0f921"
             ]
            ],
            "type": "surface"
           }
          ],
          "table": [
           {
            "cells": {
             "fill": {
              "color": "#EBF0F8"
             },
             "line": {
              "color": "white"
             }
            },
            "header": {
             "fill": {
              "color": "#C8D4E3"
             },
             "line": {
              "color": "white"
             }
            },
            "type": "table"
           }
          ]
         },
         "layout": {
          "annotationdefaults": {
           "arrowcolor": "#2a3f5f",
           "arrowhead": 0,
           "arrowwidth": 1
          },
          "autotypenumbers": "strict",
          "coloraxis": {
           "colorbar": {
            "outlinewidth": 0,
            "ticks": ""
           }
          },
          "colorscale": {
           "diverging": [
            [
             0,
             "#8e0152"
            ],
            [
             0.1,
             "#c51b7d"
            ],
            [
             0.2,
             "#de77ae"
            ],
            [
             0.3,
             "#f1b6da"
            ],
            [
             0.4,
             "#fde0ef"
            ],
            [
             0.5,
             "#f7f7f7"
            ],
            [
             0.6,
             "#e6f5d0"
            ],
            [
             0.7,
             "#b8e186"
            ],
            [
             0.8,
             "#7fbc41"
            ],
            [
             0.9,
             "#4d9221"
            ],
            [
             1,
             "#276419"
            ]
           ],
           "sequential": [
            [
             0,
             "#0d0887"
            ],
            [
             0.1111111111111111,
             "#46039f"
            ],
            [
             0.2222222222222222,
             "#7201a8"
            ],
            [
             0.3333333333333333,
             "#9c179e"
            ],
            [
             0.4444444444444444,
             "#bd3786"
            ],
            [
             0.5555555555555556,
             "#d8576b"
            ],
            [
             0.6666666666666666,
             "#ed7953"
            ],
            [
             0.7777777777777778,
             "#fb9f3a"
            ],
            [
             0.8888888888888888,
             "#fdca26"
            ],
            [
             1,
             "#f0f921"
            ]
           ],
           "sequentialminus": [
            [
             0,
             "#0d0887"
            ],
            [
             0.1111111111111111,
             "#46039f"
            ],
            [
             0.2222222222222222,
             "#7201a8"
            ],
            [
             0.3333333333333333,
             "#9c179e"
            ],
            [
             0.4444444444444444,
             "#bd3786"
            ],
            [
             0.5555555555555556,
             "#d8576b"
            ],
            [
             0.6666666666666666,
             "#ed7953"
            ],
            [
             0.7777777777777778,
             "#fb9f3a"
            ],
            [
             0.8888888888888888,
             "#fdca26"
            ],
            [
             1,
             "#f0f921"
            ]
           ]
          },
          "colorway": [
           "#636efa",
           "#EF553B",
           "#00cc96",
           "#ab63fa",
           "#FFA15A",
           "#19d3f3",
           "#FF6692",
           "#B6E880",
           "#FF97FF",
           "#FECB52"
          ],
          "font": {
           "color": "#2a3f5f"
          },
          "geo": {
           "bgcolor": "white",
           "lakecolor": "white",
           "landcolor": "white",
           "showlakes": true,
           "showland": true,
           "subunitcolor": "#C8D4E3"
          },
          "hoverlabel": {
           "align": "left"
          },
          "hovermode": "closest",
          "mapbox": {
           "style": "light"
          },
          "paper_bgcolor": "white",
          "plot_bgcolor": "white",
          "polar": {
           "angularaxis": {
            "gridcolor": "#EBF0F8",
            "linecolor": "#EBF0F8",
            "ticks": ""
           },
           "bgcolor": "white",
           "radialaxis": {
            "gridcolor": "#EBF0F8",
            "linecolor": "#EBF0F8",
            "ticks": ""
           }
          },
          "scene": {
           "xaxis": {
            "backgroundcolor": "white",
            "gridcolor": "#DFE8F3",
            "gridwidth": 2,
            "linecolor": "#EBF0F8",
            "showbackground": true,
            "ticks": "",
            "zerolinecolor": "#EBF0F8"
           },
           "yaxis": {
            "backgroundcolor": "white",
            "gridcolor": "#DFE8F3",
            "gridwidth": 2,
            "linecolor": "#EBF0F8",
            "showbackground": true,
            "ticks": "",
            "zerolinecolor": "#EBF0F8"
           },
           "zaxis": {
            "backgroundcolor": "white",
            "gridcolor": "#DFE8F3",
            "gridwidth": 2,
            "linecolor": "#EBF0F8",
            "showbackground": true,
            "ticks": "",
            "zerolinecolor": "#EBF0F8"
           }
          },
          "shapedefaults": {
           "line": {
            "color": "#2a3f5f"
           }
          },
          "ternary": {
           "aaxis": {
            "gridcolor": "#DFE8F3",
            "linecolor": "#A2B1C6",
            "ticks": ""
           },
           "baxis": {
            "gridcolor": "#DFE8F3",
            "linecolor": "#A2B1C6",
            "ticks": ""
           },
           "bgcolor": "white",
           "caxis": {
            "gridcolor": "#DFE8F3",
            "linecolor": "#A2B1C6",
            "ticks": ""
           }
          },
          "title": {
           "x": 0.05
          },
          "xaxis": {
           "automargin": true,
           "gridcolor": "#EBF0F8",
           "linecolor": "#EBF0F8",
           "ticks": "",
           "title": {
            "standoff": 15
           },
           "zerolinecolor": "#EBF0F8",
           "zerolinewidth": 2
          },
          "yaxis": {
           "automargin": true,
           "gridcolor": "#EBF0F8",
           "linecolor": "#EBF0F8",
           "ticks": "",
           "title": {
            "standoff": 15
           },
           "zerolinecolor": "#EBF0F8",
           "zerolinewidth": 2
          }
         }
        },
        "xaxis": {
         "anchor": "y",
         "domain": [
          0,
          0.20500000000000002
         ],
         "linecolor": "darkgray",
         "showline": true,
         "title": {
          "text": "value"
         }
        },
        "xaxis2": {
         "anchor": "y2",
         "domain": [
          0.265,
          0.47000000000000003
         ],
         "linecolor": "darkgray",
         "matches": "x",
         "showline": true,
         "title": {
          "text": "value"
         }
        },
        "xaxis3": {
         "anchor": "y3",
         "domain": [
          0.53,
          0.7350000000000001
         ],
         "linecolor": "darkgray",
         "matches": "x",
         "showline": true,
         "title": {
          "text": "value"
         }
        },
        "xaxis4": {
         "anchor": "y4",
         "domain": [
          0.7949999999999999,
          1
         ],
         "linecolor": "darkgray",
         "matches": "x",
         "showline": true,
         "title": {
          "text": "value"
         }
        },
        "xaxis5": {
         "anchor": "y5",
         "domain": [
          0,
          0.20500000000000002
         ],
         "linecolor": "darkgray",
         "matches": "x",
         "showline": true,
         "showticklabels": false
        },
        "xaxis6": {
         "anchor": "y6",
         "domain": [
          0.265,
          0.47000000000000003
         ],
         "linecolor": "darkgray",
         "matches": "x",
         "showline": true,
         "showticklabels": false
        },
        "xaxis7": {
         "anchor": "y7",
         "domain": [
          0.53,
          0.7350000000000001
         ],
         "linecolor": "darkgray",
         "matches": "x",
         "showline": true,
         "showticklabels": false
        },
        "xaxis8": {
         "anchor": "y8",
         "domain": [
          0.7949999999999999,
          1
         ],
         "linecolor": "darkgray",
         "matches": "x",
         "showline": true,
         "showticklabels": false
        },
        "yaxis": {
         "anchor": "x",
         "domain": [
          0,
          0.425
         ],
         "linecolor": "darkgray",
         "showline": true,
         "title": {
          "text": "response"
         }
        },
        "yaxis2": {
         "anchor": "x2",
         "domain": [
          0,
          0.425
         ],
         "linecolor": "darkgray",
         "matches": "y",
         "showline": true,
         "showticklabels": false
        },
        "yaxis3": {
         "anchor": "x3",
         "domain": [
          0,
          0.425
         ],
         "linecolor": "darkgray",
         "matches": "y",
         "showline": true,
         "showticklabels": false
        },
        "yaxis4": {
         "anchor": "x4",
         "domain": [
          0,
          0.425
         ],
         "linecolor": "darkgray",
         "matches": "y",
         "showline": true,
         "showticklabels": false
        },
        "yaxis5": {
         "anchor": "x5",
         "domain": [
          0.575,
          1
         ],
         "linecolor": "darkgray",
         "matches": "y",
         "showline": true,
         "title": {
          "text": "response"
         }
        },
        "yaxis6": {
         "anchor": "x6",
         "domain": [
          0.575,
          1
         ],
         "linecolor": "darkgray",
         "matches": "y",
         "showline": true,
         "showticklabels": false
        },
        "yaxis7": {
         "anchor": "x7",
         "domain": [
          0.575,
          1
         ],
         "linecolor": "darkgray",
         "matches": "y",
         "showline": true,
         "showticklabels": false
        },
        "yaxis8": {
         "anchor": "x8",
         "domain": [
          0.575,
          1
         ],
         "linecolor": "darkgray",
         "matches": "y",
         "showline": true,
         "showticklabels": false
        }
       }
      }
     },
     "metadata": {},
     "output_type": "display_data"
    }
   ],
   "source": [
    "# Reshape dataframe for graphing ease.\n",
    "df_reshaped = country_avg_data.reset_index().melt(\n",
    "    id_vars=[\"country\", \"response\", \"pisa_score\"]\n",
    ")\n",
    "\n",
    "# Calculate sample size for each survey measure and wallet report rates \n",
    "ens_wallet = pd.DataFrame(\n",
    "    {\n",
    "        col: country_avg_data[[\"response\", col]].dropna().shape[0]\n",
    "        for col in survey_cols\n",
    "    },\n",
    "    index=[\"N\"],\n",
    ")\n",
    "\n",
    "# Wallet report rate vs survey measure facet plot.\n",
    "fig = px.scatter(\n",
    "    df_reshaped,\n",
    "    x=\"value\",\n",
    "    y=\"response\",\n",
    "    facet_col=\"variable\",\n",
    "    facet_col_wrap=4,\n",
    "    trendline=\"ols\",\n",
    "    facet_col_spacing=0.06,\n",
    "    facet_row_spacing=0.15,\n",
    ")\n",
    "fig.update_xaxes(showline=True, linecolor=\"darkgray\")\n",
    "fig.update_yaxes(showline=True, linecolor=\"darkgray\")\n",
    "fig.for_each_annotation(\n",
    "    lambda a: a.update(\n",
    "        text=a.text.split(\"=\")[-1]\n",
    "        + \" (N=\"\n",
    "        + str(ens_wallet.loc[\"N\", a.text.split(\"=\")[-1]])\n",
    "        + \")\"\n",
    "    )\n",
    ")\n",
    "fig.show()"
   ]
  },
  {
   "cell_type": "markdown",
   "id": "9f730a3d",
   "metadata": {},
   "source": [
    "The facet plot above is a replication of Figure 3 from **Tannenbaum** and can be compared with the plot below that has PISA scores instead of wallet return rates on the y-axes."
   ]
  },
  {
   "cell_type": "code",
   "execution_count": 4,
   "id": "a2643497",
   "metadata": {
    "tags": [
     "hide-input"
    ]
   },
   "outputs": [
    {
     "data": {
      "application/vnd.plotly.v1+json": {
       "config": {
        "plotlyServerURL": "https://plot.ly"
       },
       "data": [
        {
         "hovertemplate": "variable=general_trust<br>value=%{x}<br>pisa_score=%{y}<extra></extra>",
         "legendgroup": "",
         "marker": {
          "color": "#636efa",
          "symbol": "circle"
         },
         "mode": "markers",
         "name": "",
         "orientation": "v",
         "showlegend": false,
         "type": "scatter",
         "x": {
          "bdata": "hQ0CCDxS4r+z6Elssl/wPwwDOJJJi/W/J836yNys7D/y93CJgOLlv6gSZr3qUPo/xQYmcfn84b9pYr35CEfLv36KMmW50wFAgyolpm/p1b9jW3SZ6OraP/D9kcoBW/W/HHVXpEHc5r8gYpl7H9O0v0sdvkMp3ti/BUKZ9PcV2b+PgJcn8UiYP38VCEZxi7g/GDBf/vQ1878eIDtesjbwv/Ji34w+bOS/l5TZ8ULZ6b9K+xNqmCb5P2RwH+3UIvU/zBhH7B2IAUB9qoLFu+n0v410cUL4G9a/WLCz9Urg57+xNC00DMPsv2lCl3stUce/gh8avODo5b+k9P6A43Tgv2Xr5uVI7L4/aEQbrjZY/z/hbbd3RSH0PzTFj3QfKNI/E++QSMe58L8AAAAAAAD4f6bfCgoVido/APPCgSH84T8=",
          "dtype": "f8"
         },
         "xaxis": "x5",
         "y": {
          "bdata": "AAAAAACweEBVVVVVVRV/QFVVVVVV1XhAVVVVVVWlf0Crqqqqqip7QAAAAAAAAPh/q6qqqqqafUBVVVVVVbV+QKuqqqqqqn5AVVVVVVXlfUBVVVVVVSV+QAAAAAAAAPh/VVVVVVVFe0AAAAAAAAD4f1VVVVVVFXdAq6qqqqoafUCrqqqqqsp9QFVVVVVVtXlAAAAAAAAA+H9VVVVVVUV5QKuqqqqqanlAVVVVVVVFdkAAAAAAAAB+QKuqqqqq6n5AVVVVVVWlfUBVVVVVVSV5QFVVVVVVxX5Aq6qqqqrafUAAAAAAAMB6QAAAAAAAAPh/VVVVVVWle0AAAAAAAAD4f1VVVVVV1X1Aq6qqqqp6fkAAAAAAACB/QAAAAAAAoHhAAAAAAAAA+H+rqqqqqqp6QFVVVVVV5X5AVVVVVVWVfkA=",
          "dtype": "f8"
         },
         "yaxis": "y5"
        },
        {
         "hovertemplate": "<b>OLS trendline</b><br>pisa_score = 26.4067 * value + 451.073<br>R<sup>2</sup>=0.373362<br><br>variable=general_trust<br>value=%{x}<br>pisa_score=%{y} <b>(trend)</b><extra></extra>",
         "legendgroup": "",
         "marker": {
          "color": "#636efa",
          "symbol": "circle"
         },
         "mode": "lines",
         "name": "",
         "showlegend": false,
         "type": "scatter",
         "x": {
          "bdata": "DAM4kkmL9b99qoLFu+n0vx4gO16yNvC/sTQtNAzD7L+XlNnxQtnpv1iws/VK4Oe/HHVXpEHc5r+CHxq84Ojlv/L3cImA4uW/8mLfjD5s5L+FDQIIPFLiv8UGJnH5/OG/BUKZ9PcV2b9LHb5DKd7Yv410cUL4G9a/gyolpm/p1b9pYr35CEfLv4+AlyfxSJg/fxUIRnGLuD9l6+blSOy+PzTFj3QfKNI/pt8KChWJ2j9jW3SZ6OraPwDzwoEh/OE/J836yNys7D+z6Elssl/wP+Ftt3dFIfQ/ZHAf7dQi9T9K+xNqmCb5P2hEG642WP8/zBhH7B2IAUB+ijJludMBQA==",
          "dtype": "f8"
         },
         "xaxis": "x5",
         "y": {
          "bdata": "z06vAEP4eUBln+4Z7Qh6QNy/uEcFhXpA/sSPkWq1ekCRTLRt4dt6QMwnN7Ls9XpAXgzNClYDe0Dkn/hy4w97QFagaqE3EHtAY/IpFIUje0B2A3uZRD97QAAeHVGqQ3tAQB9VoI+Le0AEL0UMAI17QHvbMRY2n3tA4v9asYOge0DRYwN7Idd7QKqqUHEwO3xAABkXmq1ZfEATaJl4NGR8QO9liqcIqXxAGZ+19FjgfEC0ZOPF3uJ8QFvSMCmhHn1AWpCSIMerfUB4Fl8DjOF9QMpYkPq7RH5A9duhSU1ffkAHTvAWUcl+QDIXh/ffbH9AmmM8oxPPf0DhHuS1rN5/QA==",
          "dtype": "f8"
         },
         "yaxis": "y5"
        },
        {
         "hovertemplate": "variable=GPS_trust<br>value=%{x}<br>pisa_score=%{y}<extra></extra>",
         "legendgroup": "",
         "marker": {
          "color": "#636efa",
          "symbol": "circle"
         },
         "mode": "markers",
         "name": "",
         "orientation": "v",
         "showlegend": false,
         "type": "scatter",
         "x": {
          "bdata": "glTbSY5q67+p0ajwEJTyP1oHM3YIy6W/g0XBQNlM7j9g62qM1UnXv6QYaD5hZAFAs3B4upTO2D+HjLnTc0j9vwAAAAAAAPh/GxmtGiAm5r81aRzG5TDgv+Uy3eOoTeq/O0LujHXz9r8MMuCHmRDrv7PEW6DiUfA/jFSsV3B7z7+++tmnbB/Vv7OKJI+BguI/SArI8pZ4+78AAAAAAAD4f9xiKstwTve/+QW7NA0a2b/kGKfGGYXyPwAAAAAAAPh/AAAAAAAA+H/StAiByMnav98eO/afy+O/gFeor7AN0z/lpaEWtbvsv5ceAeRdReS/QVJu+5h55b9Kz1CUDVXmv9Rm2yuFwu0/uzMpTCMW8z/rXnGXI4LUP8QxwjKRvPU/FI3zaDrv3j+HzxYr393/P6tEVTs88+w/k80w/XUu4j8=",
          "dtype": "f8"
         },
         "xaxis": "x6",
         "y": {
          "bdata": "AAAAAACweEBVVVVVVRV/QFVVVVVV1XhAVVVVVVWlf0Crqqqqqip7QAAAAAAAAPh/q6qqqqqafUBVVVVVVbV+QKuqqqqqqn5AVVVVVVXlfUBVVVVVVSV+QAAAAAAAAPh/VVVVVVVFe0AAAAAAAAD4f1VVVVVVFXdAq6qqqqoafUCrqqqqqsp9QFVVVVVVtXlAAAAAAAAA+H9VVVVVVUV5QKuqqqqqanlAVVVVVVVFdkAAAAAAAAB+QKuqqqqq6n5AVVVVVVWlfUBVVVVVVSV5QFVVVVVVxX5Aq6qqqqrafUAAAAAAAMB6QAAAAAAAAPh/VVVVVVWle0AAAAAAAAD4f1VVVVVV1X1Aq6qqqqp6fkAAAAAAACB/QAAAAAAAoHhAAAAAAAAA+H+rqqqqqqp6QFVVVVVV5X5AVVVVVVWVfkA=",
          "dtype": "f8"
         },
         "yaxis": "y6"
        },
        {
         "hovertemplate": "<b>OLS trendline</b><br>pisa_score = 5.80138 * value + 450.232<br>R<sup>2</sup>=0.016212<br><br>variable=GPS_trust<br>value=%{x}<br>pisa_score=%{y} <b>(trend)</b><extra></extra>",
         "legendgroup": "",
         "marker": {
          "color": "#636efa",
          "symbol": "circle"
         },
         "mode": "lines",
         "name": "",
         "showlegend": false,
         "type": "scatter",
         "x": {
          "bdata": "h4y503NI/b/cYirLcE73vztC7ox18/a/5aWhFrW77L+CVNtJjmrrvxsZrRogJua/QVJu+5h55b/fHjv2n8vjvzVpHMblMOC/0rQIgcjJ2r/5Bbs0DRrZv2DraozVSde/vvrZp2wf1b+MVKxXcHvPv1oHM3YIy6W/gFeor7AN0z/rXnGXI4LUP7NweLqUztg/k80w/XUu4j+ziiSPgYLiP6tEVTs88+w/1GbbK4XC7T+DRcFA2UzuP7PEW6DiUfA/5BinxhmF8j+p0ajwEJTyP7szKUwjFvM/xDHCMpG89T+HzxYr393/Pw==",
          "dtype": "f8"
         },
         "xaxis": "x6",
         "y": {
          "bdata": "VpTm39N5e0BXn2oNgJx7QAiSu96PnntAWWTgAl3Qe0ANPK/7LtR7QLpMV1x243tAibhvz2rle0DTsA8HSup7QLilnZK+9HtAnY/De9v8e0DJXqKkTf97QFJ6F+vuAXxAQLrlABMFfEB/IYsm4Qx8QJhIPjHCH3xA4ZfQ9lc/fEDUj68kdEF8QF400SmwR3xAY2PrxnJYfECY7+aQZll8QCWOo1Kvd3xAAqaJlwh6fEBzSvvWmXt8QDXVQSBjgnxA38BGjSaPfEBwKU9ffY98QDXXrvdvknxAcaXqys+hfECk8a+IlNx8QA==",
          "dtype": "f8"
         },
         "yaxis": "y6"
        },
        {
         "hovertemplate": "variable=general_morality<br>value=%{x}<br>pisa_score=%{y}<extra></extra>",
         "legendgroup": "",
         "marker": {
          "color": "#636efa",
          "symbol": "circle"
         },
         "mode": "markers",
         "name": "",
         "orientation": "v",
         "showlegend": false,
         "type": "scatter",
         "x": {
          "bdata": "Rp4u+K/f2L9m0JdCM7f1Py865HS9/uW/HZpK/EuP4D+vldNaIXrWP3aD8j4RoPS/uDHytx4aob+djkJcJmXuv6jGCoFmkfU/wMFqfA0l8z+nt2nOFhXjPx5Da90BkLu/A8JyX6EJAMDYLoL+QobLv34Uwh5X4/u/T+zOfI7N9D+CDC8UFvfcv9ImU7VB7vO/AAAAAAAA+H9PSvtFw/7RP17UIRE1beC/2YXRN46O5r96q+JmY4L3Pzp6P7xmz/M/bA0bXkg+0T84IxRIJZHWvz5Ua+VqZvA/OXp3uZOt078x6Xtq08jvv7lhtaT3POO/9eW4Bg9g8b+kNS855ZbivybBikK3FMg/Pl2YfXR4AEAlojkfl7X5P8f929/icfS/TBlBSWR31L8AAAAAAAD4fz9SojH9pfA/5EMZCoowhD8=",
          "dtype": "f8"
         },
         "xaxis": "x7",
         "y": {
          "bdata": "AAAAAACweEBVVVVVVRV/QFVVVVVV1XhAVVVVVVWlf0Crqqqqqip7QAAAAAAAAPh/q6qqqqqafUBVVVVVVbV+QKuqqqqqqn5AVVVVVVXlfUBVVVVVVSV+QAAAAAAAAPh/VVVVVVVFe0AAAAAAAAD4f1VVVVVVFXdAq6qqqqoafUCrqqqqqsp9QFVVVVVVtXlAAAAAAAAA+H9VVVVVVUV5QKuqqqqqanlAVVVVVVVFdkAAAAAAAAB+QKuqqqqq6n5AVVVVVVWlfUBVVVVVVSV5QFVVVVVVxX5Aq6qqqqrafUAAAAAAAMB6QAAAAAAAAPh/VVVVVVWle0AAAAAAAAD4f1VVVVVV1X1Aq6qqqqp6fkAAAAAAACB/QAAAAAAAoHhAAAAAAAAA+H+rqqqqqqp6QFVVVVVV5X5AVVVVVVWVfkA=",
          "dtype": "f8"
         },
         "yaxis": "y7"
        },
        {
         "hovertemplate": "<b>OLS trendline</b><br>pisa_score = 27.5419 * value + 450.633<br>R<sup>2</sup>=0.454355<br><br>variable=general_morality<br>value=%{x}<br>pisa_score=%{y} <b>(trend)</b><extra></extra>",
         "legendgroup": "",
         "marker": {
          "color": "#636efa",
          "symbol": "circle"
         },
         "mode": "lines",
         "name": "",
         "showlegend": false,
         "type": "scatter",
         "x": {
          "bdata": "A8JyX6EJAMB+FMIeV+P7v8f929/icfS/0iZTtUHu87/15bgGD2DxvzHpe2rTyO+/nY5CXCZl7r/ZhdE3jo7mvy865HS9/uW/XtQhETVt4L+CDC8UFvfcv0aeLviv39i/OCMUSCWR1r85ene5k63Tv7gx8rceGqG/5EMZCoowhD8mwYpCtxTIP2wNG15IPtE/T0r7RcP+0T+vldNaIXrWPx2aSvxLj+A/p7dpzhYV4z8+VGvlambwPz9SojH9pfA/wMFqfA0l8z86ej+8Zs/zP0/sznyOzfQ/qMYKgWaR9T9m0JdCM7f1P3qr4mZjgvc/JaI5H5e1+T8+XZh9dHgAQA==",
          "dtype": "f8"
         },
         "xaxis": "x7",
         "y": {
          "bdata": "JmJElLW2eEDOAwJJCCp5QFcV4RMI93lAvOVEZzEFekAsl0c/k0t6QATND2hrdHpAkuRWZo2HekDC+48XfvN6QFRNBZE6+3pADUWZfulHe0DP227MrmJ7QFgU96HafntAggJhyryOe0AWRXsRoaJ7QMmV3/pmG3xAKbTNRncufEC8sVqkBn18QGsEH5LZoHxAGH0J4wamfECjPFcN48R8QOBXsUMqDn1AWAqLbucwfUBjpet6z+19QCUst1um9H1AjPO7X2c5fkBW640Yu0t+QDJHxQITZ35Av8IL6yR8fkC2wR//NYB+QOW9ZeacsX5AOaFNizTufkA8mR9gYbV/QA==",
          "dtype": "f8"
         },
         "yaxis": "y7"
        },
        {
         "hovertemplate": "variable=MFQ_genmorality<br>value=%{x}<br>pisa_score=%{y}<extra></extra>",
         "legendgroup": "",
         "marker": {
          "color": "#636efa",
          "symbol": "circle"
         },
         "mode": "markers",
         "name": "",
         "orientation": "v",
         "showlegend": false,
         "type": "scatter",
         "x": {
          "bdata": "tjKCoegi4D/Llz7fsT7cP1zHBizlneU/Dfhm/FOw0L/jm5uSaPmuP4Cd5KQm1wHAWeZX9SEX8j+ZbjCxhS/Uv8FCS0QrrtQ/Kpobj3oG6T+jBH0QWsjyPwAAAAAAAPh/a7ygTjWp5z/XlALRNqHUv+hY4YYesPm/aZeuED818b8JSw+DmibsPwAAAAAAAPh/vfyxmVhu9r86CtE4Cu/fv+kVvTr5euI/AAAAAAAA+H/2V4kUmLDoP1H5qc21R9s/LJsTM2oRcj9QaS0TPOMEwEXTo1wSwuE/Q+AWEk9i2z82amu2n8vBP/B/JH+8tuO/AAAAAAAA+H8DyhWIRuPeP+WJR68hZ+c/uNsKgOE/sL+OSdSIc0S7P5uTzhQhefm/N7+wAJFi/z8AAAAAAAD4fwLaYh09kOw/Jc9SnzwZ878=",
          "dtype": "f8"
         },
         "xaxis": "x8",
         "y": {
          "bdata": "AAAAAACweEBVVVVVVRV/QFVVVVVV1XhAVVVVVVWlf0Crqqqqqip7QAAAAAAAAPh/q6qqqqqafUBVVVVVVbV+QKuqqqqqqn5AVVVVVVXlfUBVVVVVVSV+QAAAAAAAAPh/VVVVVVVFe0AAAAAAAAD4f1VVVVVVFXdAq6qqqqoafUCrqqqqqsp9QFVVVVVVtXlAAAAAAAAA+H9VVVVVVUV5QKuqqqqqanlAVVVVVVVFdkAAAAAAAAB+QKuqqqqq6n5AVVVVVVWlfUBVVVVVVSV5QFVVVVVVxX5Aq6qqqqrafUAAAAAAAMB6QAAAAAAAAPh/VVVVVVWle0AAAAAAAAD4f1VVVVVV1X1Aq6qqqqp6fkAAAAAAACB/QAAAAAAAoHhAAAAAAAAA+H+rqqqqqqp6QFVVVVVV5X5AVVVVVVWVfkA=",
          "dtype": "f8"
         },
         "yaxis": "y8"
        },
        {
         "hovertemplate": "<b>OLS trendline</b><br>pisa_score = 18.7729 * value + 457.106<br>R<sup>2</sup>=0.176280<br><br>variable=MFQ_genmorality<br>value=%{x}<br>pisa_score=%{y} <b>(trend)</b><extra></extra>",
         "legendgroup": "",
         "marker": {
          "color": "#636efa",
          "symbol": "circle"
         },
         "mode": "lines",
         "name": "",
         "showlegend": false,
         "type": "scatter",
         "x": {
          "bdata": "UGktEzzjBMDoWOGGHrD5v5uTzhQhefm/Jc9SnzwZ879pl64QPzXxvzoK0TgK79+/mW4wsYUv1L8N+Gb8U7DQv7jbCoDhP7C/LJsTM2oRcj/jm5uSaPmuP45J1IhzRLs/Nmprtp/LwT/BQktEK67UP1H5qc21R9s/Q+AWEk9i2z/Llz7fsT7cP7YygqHoIuA/RdOjXBLC4T/pFb06+XriP1zHBizlneU/5YlHryFn5z9rvKBONannP/ZXiRSYsOg/Kpobj3oG6T8JSw+DmibsPwLaYh09kOw/WeZX9SEX8j+jBH0QWsjyPw==",
          "dtype": "f8"
         },
         "xaxis": "x8",
         "y": {
          "bdata": "i+yEvnWBeUAhaBYJd696QNAqSFt/s3pAQfVCrSore0C01U2SqE57QFA1o3jU+3tAGuXNafcyfEDrc6TBYEN8QFS3POyifnxAyG+w6waTfECWI/6J36N8QJSJG+6xsXxAruQTAXa7fEDE9nBuwvJ8QJ1B19G7EX1AEN46pzgSfUAnDhP5QhZ9QN1lGEIqKX1A/jUtKWM4fUBQEhG7Kj99QGtKek6bXH1ASLzaIF9tfUCIAFRay299QGKSrptzeX1A16Vxwpl8fUC++0IV8Jl9QHY2B5/PnX1AgE2tbU/lfUBp3K1XTvJ9QA==",
          "dtype": "f8"
         },
         "yaxis": "y8"
        },
        {
         "hovertemplate": "variable=civic_cooperation<br>value=%{x}<br>pisa_score=%{y}<extra></extra>",
         "legendgroup": "",
         "marker": {
          "color": "#636efa",
          "symbol": "circle"
         },
         "mode": "markers",
         "name": "",
         "orientation": "v",
         "showlegend": false,
         "type": "scatter",
         "x": {
          "bdata": "piV097a2y78Qj3wALWvvP4OnfU292+W/bE9qqjnQ0T+v7jhks2j3v6uvZ4dRxcI/ifGRzAmq579JF8mHHoX3v8wFC/fVj/Y/hQJssiH57b9vRvJVjcHoPxeVDNFfet0/Z2rSehDy5T8xI9ERdu/hP0MHX6uU1b6/AAAAAAAA+H9ITpCc3ATvP2IqPVd53Pa/AAAAAAAA+H8PJ87BhNz/v2WjHkMkhQPA7NC+tSFg8T9yp3h6AzfxP21iCdCy9ew/FXr1zKgE8D+cwHVUtkbwv3nGp9My8Ns/h6dlZJVA5j8G37PPnTbmP5WctQzoIva/d3nTK2lO679sShRh0//lv903iQPEEcM/pfPvw9S32j/kvJKoRfroP+a8JBTmOOS/XLvnHDXJ9D8AAAAAAAD4fz5pHAftW+k/DJmKr7ap3T8=",
          "dtype": "f8"
         },
         "xaxis": "x",
         "y": {
          "bdata": "AAAAAACweEBVVVVVVRV/QFVVVVVV1XhAVVVVVVWlf0Crqqqqqip7QAAAAAAAAPh/q6qqqqqafUBVVVVVVbV+QKuqqqqqqn5AVVVVVVXlfUBVVVVVVSV+QAAAAAAAAPh/VVVVVVVFe0AAAAAAAAD4f1VVVVVVFXdAq6qqqqoafUCrqqqqqsp9QFVVVVVVtXlAAAAAAAAA+H9VVVVVVUV5QKuqqqqqanlAVVVVVVVFdkAAAAAAAAB+QKuqqqqq6n5AVVVVVVWlfUBVVVVVVSV5QFVVVVVVxX5Aq6qqqqrafUAAAAAAAMB6QAAAAAAAAPh/VVVVVVWle0AAAAAAAAD4f1VVVVVV1X1Aq6qqqqp6fkAAAAAAACB/QAAAAAAAoHhAAAAAAAAA+H+rqqqqqqp6QFVVVVVV5X5AVVVVVVWVfkA=",
          "dtype": "f8"
         },
         "yaxis": "y"
        },
        {
         "hovertemplate": "<b>OLS trendline</b><br>pisa_score = 18.7853 * value + 453.154<br>R<sup>2</sup>=0.195048<br><br>variable=civic_cooperation<br>value=%{x}<br>pisa_score=%{y} <b>(trend)</b><extra></extra>",
         "legendgroup": "",
         "marker": {
          "color": "#636efa",
          "symbol": "circle"
         },
         "mode": "lines",
         "name": "",
         "showlegend": false,
         "type": "scatter",
         "x": {
          "bdata": "ZaMeQySFA8APJ87BhNz/v0kXyYcehfe/r+44ZLNo979iKj1Xedz2v5zAdVS2RvC/hQJssiH57b93edMraU7rv4nxkcwJque/g6d9Tb3b5b/mvCQU5jjkv6YldPe2tsu/Qwdfq5TVvr/dN4kDxBHDP2xPaqo50NE/pfPvw9S32j95xqfTMvDbPwyZiq+2qd0/Z2rSehDy5T8G37PPnTbmP4enZWSVQOY/b0byVY3B6D/kvJKoRfroPz5pHAftW+k/bWIJ0LL17D9ITpCc3ATvPxCPfAAta+8/FXr1zKgE8D9yp3h6AzfxP+zQvrUhYPE/zAUL99WP9j8=",
          "dtype": "f8"
         },
         "xaxis": "x",
         "y": {
          "bdata": "mBT4WhR1eUCTz/ta7/t5QPtfX4ShmHpANjYxXreaekBy25iSAaV6QGvf/SW1IHtA2Q4CDu84e0CUP5Oe+1F7QK3uBRQxdHtAQMtESyeFe0C1oJtShZR7QC7qAp1iEXxA3ACgdUIufED5TOpdPX98QJWlrX8epnxAxVjaR/DPfEBiquJCq9V8QIiaCcPE3XxA9EwHv5YgfUAnD/GhGiN9QCr7EkB4I31A0uFqpvw6fUB7G+FmET19QMqld6GmQH1AE6Ech3hifUAHiFP+z3V9QBdOjv6QeX1AR/+mYF5/fUAbjfdW2ZV9QN/kmsHdmH1AKxm2Gkv6fUA=",
          "dtype": "f8"
         },
         "yaxis": "y"
        },
        {
         "hovertemplate": "variable=GPS_posrecip<br>value=%{x}<br>pisa_score=%{y}<extra></extra>",
         "legendgroup": "",
         "marker": {
          "color": "#636efa",
          "symbol": "circle"
         },
         "mode": "markers",
         "name": "",
         "orientation": "v",
         "showlegend": false,
         "type": "scatter",
         "x": {
          "bdata": "xj0L969t4D/DWynqN4jOP3lp7ZyNkvE/vQV5FxYO5D/prbg/+R26P8qyxN+b1Pc/2uFeLg1B4z8a4QHho6zsvwAAAAAAAPh/QplxMUZB1r+wR1Zn7efLv1WFrVDevOS/JEvEk9SZu7/4lPzK78H1v4/NjY6uB94/XhQ+o5iWcr+ef/JwZxDiP2X48KBA4+4/E8gDpcdK7r8AAAAAAAD4f6bnsQfIJQnArQevkqBv+z/xQvLXiFjbvwAAAAAAAPh/AAAAAAAA+H/y4L6IZqDOvxMA6CypYt6/fDaApDMK4z9qm/OjnE/Vv5IMGL5PmdC/SEAddXzN8j/Z/s4qYSsEwM/0vaD4sO8/HU+zTgkSrr8QR6X5XxzaP2CVTUWtj+4/jVikHL889b/Z2caa/+nPP2r2+DTzWLe/MTXXR4S55D8=",
          "dtype": "f8"
         },
         "xaxis": "x2",
         "y": {
          "bdata": "AAAAAACweEBVVVVVVRV/QFVVVVVV1XhAVVVVVVWlf0Crqqqqqip7QAAAAAAAAPh/q6qqqqqafUBVVVVVVbV+QKuqqqqqqn5AVVVVVVXlfUBVVVVVVSV+QAAAAAAAAPh/VVVVVVVFe0AAAAAAAAD4f1VVVVVVFXdAq6qqqqoafUCrqqqqqsp9QFVVVVVVtXlAAAAAAAAA+H9VVVVVVUV5QKuqqqqqanlAVVVVVVVFdkAAAAAAAAB+QKuqqqqq6n5AVVVVVVWlfUBVVVVVVSV5QFVVVVVVxX5Aq6qqqqrafUAAAAAAAMB6QAAAAAAAAPh/VVVVVVWle0AAAAAAAAD4f1VVVVVV1X1Aq6qqqqp6fkAAAAAAACB/QAAAAAAAoHhAAAAAAAAA+H+rqqqqqqp6QFVVVVVV5X5AVVVVVVWVfkA=",
          "dtype": "f8"
         },
         "yaxis": "y2"
        },
        {
         "hovertemplate": "<b>OLS trendline</b><br>pisa_score = -7.84706 * value + 452.152<br>R<sup>2</sup>=0.024684<br><br>variable=GPS_posrecip<br>value=%{x}<br>pisa_score=%{y} <b>(trend)</b><extra></extra>",
         "legendgroup": "",
         "marker": {
          "color": "#636efa",
          "symbol": "circle"
         },
         "mode": "lines",
         "name": "",
         "showlegend": false,
         "type": "scatter",
         "x": {
          "bdata": "puexB8glCcAa4QHho6zsvxMA6CypYt6/8ULy14hY279CmXExRkHWv2qb86OcT9W/8uC+iGagzr+wR1Zn7efLvyRLxJPUmbu/avb4NPNYt78dT7NOCRKuv14UPqOYlnK/6a24P/kduj/DWynqN4jOP9nZxpr/6c8/EEel+V8c2j+PzY2OrgfeP8Y9C/evbeA/nn/ycGcQ4j98NoCkMwrjP9rhXi4NQeM/vQV5FxYO5D8xNddHhLnkP2CVTUWtj+4/ZfjwoEDj7j/P9L2g+LDvP3lp7ZyNkvE/SEAddXzN8j+tB6+SoG/7Pw==",
          "dtype": "f8"
         },
         "xaxis": "x2",
         "y": {
          "bdata": "VnR0lhjNfUBvybl17rJ8QHEVwiIJfnxAT3xSohJ4fECfaDbxFW58QE2zeds7bHxAKNwxvXdgfEAXUZKUzF18QC8GlZn2T3xAiaRckeBNfEDjxBXxzEl8QIimORb/QnxAVYMDJZ41fEBPzIJteiR8QOE+NGkfI3xA8kBOCzQPfEDu42rKgwd8QIUQHBP4AXxAotnsOY37e0Akuxwjufd7QHXMr+7h9ntALIrEeL3ze0B98ObbHPF7QNTO+caEyntAfc2a3TzJe0CiQLi4FcZ7QKYY/smIuHtABDdgfeGue0BbrxJfImt7QA==",
          "dtype": "f8"
         },
         "yaxis": "y2"
        },
        {
         "hovertemplate": "variable=GPS_altruism<br>value=%{x}<br>pisa_score=%{y}<extra></extra>",
         "legendgroup": "",
         "marker": {
          "color": "#636efa",
          "symbol": "circle"
         },
         "mode": "markers",
         "name": "",
         "orientation": "v",
         "showlegend": false,
         "type": "scatter",
         "x": {
          "bdata": "0nefphXc0T+1uBh2jeDlP/tluyzWkfo/bRVT0Cld7T+KrB3uQizCv4Eml/nQnfw/BrhFWXI4oL+JfQVyBTkGwAAAAAAAAPh/R8xfVpIF179e3n6Z2A+gP25JPYfSZeE/yaMt83Cj1r8PZ0jE9ejkv5C366tjk+A/d6XvgL/Z6r8ErhysEZT0PyGYr2doqec/IT8dOpbn6b8AAAAAAAD4f9MBcRHTBQPAomp/Q9Bb/z+rfAVztCDavwAAAAAAAPh/AAAAAAAA+H8CeOTPVg3Nv6DjZlZ+R++/aq53635L1j/kOejx4Abiv/MZpu0/65q/zlYB76rY6b8SVj3vLFLqvz80+APlm8u/9Dt+SNZu1b8Plx2IDn3fP96VwcM8WtG/TlI5hfgO5r/6qWSuxsLlP3pNVQ9AFdI/Xkx+zLKj9z8=",
          "dtype": "f8"
         },
         "xaxis": "x3",
         "y": {
          "bdata": "AAAAAACweEBVVVVVVRV/QFVVVVVV1XhAVVVVVVWlf0Crqqqqqip7QAAAAAAAAPh/q6qqqqqafUBVVVVVVbV+QKuqqqqqqn5AVVVVVVXlfUBVVVVVVSV+QAAAAAAAAPh/VVVVVVVFe0AAAAAAAAD4f1VVVVVVFXdAq6qqqqoafUCrqqqqqsp9QFVVVVVVtXlAAAAAAAAA+H9VVVVVVUV5QKuqqqqqanlAVVVVVVVFdkAAAAAAAAB+QKuqqqqq6n5AVVVVVVWlfUBVVVVVVSV5QFVVVVVVxX5Aq6qqqqrafUAAAAAAAMB6QAAAAAAAAPh/VVVVVVWle0AAAAAAAAD4f1VVVVVV1X1Aq6qqqqp6fkAAAAAAACB/QAAAAAAAoHhAAAAAAAAA+H+rqqqqqqp6QFVVVVVV5X5AVVVVVVWVfkA=",
          "dtype": "f8"
         },
         "yaxis": "y3"
        },
        {
         "hovertemplate": "<b>OLS trendline</b><br>pisa_score = -6.81542 * value + 450.801<br>R<sup>2</sup>=0.026375<br><br>variable=GPS_altruism<br>value=%{x}<br>pisa_score=%{y} <b>(trend)</b><extra></extra>",
         "legendgroup": "",
         "marker": {
          "color": "#636efa",
          "symbol": "circle"
         },
         "mode": "lines",
         "name": "",
         "showlegend": false,
         "type": "scatter",
         "x": {
          "bdata": "iX0FcgU5BsDTAXER0wUDwKDjZlZ+R++/d6XvgL/Z6r/OVgHvqtjpv+Q56PHgBuK/q3wFc7Qg2r9HzF9WkgXXv8mjLfNwo9a/9Dt+SNZu1b/elcHDPFrRvwJ45M9WDc2/PzT4A+Wby7+KrB3uQizCvwa4RVlyOKC/Xt5+mdgPoD/Sd5+mFdzRP3pNVQ9AFdI/aq53635L1j8Plx2IDn3fP5C366tjk+A/+qlkrsbC5T+1uBh2jeDlPyGYr2doqec/bRVT0Cld7T8ErhysEZT0P15Mfsyyo/c/+2W7LNaR+j+ian9D0Fv/Pw==",
          "dtype": "f8"
         },
         "xaxis": "x3",
         "y": {
          "bdata": "yqeHgrpbfUClE1wsHDB9QNdThppnl3xAJ90TIVCIfED1zP8S5IR8QIlEXo8+anxA8nT5+VRZfEAGC2YvClR8QHMQNvxiU3xA3tIqK1VRfECanaRSYUp8QLm/9neQRXxAoZ2QulVEfEAUbv/ISzx8QJsW58pEMHxAEQcLpmQpfEDz8/06Yg58QJzdFtQADnxAHGavp9MGfEBPwpqHKfd7QLa5WSlU9HtAZkNc0Kjie0DmJSVYQ+J7QO8hv4Mu3HtAjCHGF8DIe0BUhlBOkKB7QM0nUYuzi3tAidMCCrt3e0CT4Ix+F1d7QA==",
          "dtype": "f8"
         },
         "yaxis": "y3"
        },
        {
         "hovertemplate": "variable=stranger1<br>value=%{x}<br>pisa_score=%{y}<extra></extra>",
         "legendgroup": "",
         "marker": {
          "color": "#636efa",
          "symbol": "circle"
         },
         "mode": "markers",
         "name": "",
         "orientation": "v",
         "showlegend": false,
         "type": "scatter",
         "x": {
          "bdata": "Q1lCvHmltb81DuU91u7xPzaqTwEn19G/bJLO/UYK8j85KM/Wl2Pqv1bZ/zdxW7q/qoW1/fe12b8AAAAAAAD4f/CKHE++Yfc/MY7ptwnCpz/2KuHRD3bwPxZOgTqp390/U3nopItD8L/AMwQlmP7Zvzqc/YDkjvW/FlTkxGktxL8k1cF9eejrvx13f+hlPN8/QdyjlH3P5L9EvbpBtgf4v2qavj4mevi/kwg6tHaV4r8HZMN4HzX2P4mGT8ftCvk/0atoGw7fAkB19umgPmv4v2yfBvzKqNe/sAl53sb/mT+zHaFfCLLbv6ErCBKPzNc/2MgTe5eFzj9r9bo2mnnwv7/nbdaV2d4/UMVDo+sw3D/UYgXa49bwPzH5FexbnQLAlFu3PHSR2L8nGOqCtLfxP5id8zmubOA/OKsyVBpR4T8=",
          "dtype": "f8"
         },
         "xaxis": "x4",
         "y": {
          "bdata": "AAAAAACweEBVVVVVVRV/QFVVVVVV1XhAVVVVVVWlf0Crqqqqqip7QAAAAAAAAPh/q6qqqqqafUBVVVVVVbV+QKuqqqqqqn5AVVVVVVXlfUBVVVVVVSV+QAAAAAAAAPh/VVVVVVVFe0AAAAAAAAD4f1VVVVVVFXdAq6qqqqoafUCrqqqqqsp9QFVVVVVVtXlAAAAAAAAA+H9VVVVVVUV5QKuqqqqqanlAVVVVVVVFdkAAAAAAAAB+QKuqqqqq6n5AVVVVVVWlfUBVVVVVVSV5QFVVVVVVxX5Aq6qqqqrafUAAAAAAAMB6QAAAAAAAAPh/VVVVVVWle0AAAAAAAAD4f1VVVVVV1X1Aq6qqqqp6fkAAAAAAACB/QAAAAAAAoHhAAAAAAAAA+H+rqqqqqqp6QFVVVVVV5X5AVVVVVVWVfkA=",
          "dtype": "f8"
         },
         "yaxis": "y4"
        },
        {
         "hovertemplate": "<b>OLS trendline</b><br>pisa_score = 26.1622 * value + 449.874<br>R<sup>2</sup>=0.434654<br><br>variable=stranger1<br>value=%{x}<br>pisa_score=%{y} <b>(trend)</b><extra></extra>",
         "legendgroup": "",
         "marker": {
          "color": "#636efa",
          "symbol": "circle"
         },
         "mode": "lines",
         "name": "",
         "showlegend": false,
         "type": "scatter",
         "x": {
          "bdata": "MfkV7FudAsBqmr4+Jnr4v3X26aA+a/i/RL26QbYH+L86nP2A5I71v1N56KSLQ/C/JNXBfXno6785KM/Wl2Pqv5MIOrR2leK/sx2hXwiy27+qhbX997XZv2yfBvzKqNe/NqpPASfX0b8WVOTEaS3Ev0NZQrx5pbW/sAl53sb/mT8xjum3CcKnP9jIE3uXhc4/UMVDo+sw3D+/523WldnePx13f+hlPN8/mJ3zOa5s4D84qzJUGlHhP/Yq4dEPdvA/1GIF2uPW8D8nGOqCtLfxPzUO5T3W7vE/bJLO/UYK8j8HZMN4HzX2P/CKHE++Yfc/iYZPx+0K+T/Rq2gbDt8CQA==",
          "dtype": "f8"
         },
         "xaxis": "x4",
         "y": {
          "bdata": "/vPCHvpPeECcTOlomp15QAdD0lkgn3lA7ftRWEypeUCsvApK+Ol5QOBxlyV7dHpAtcl1EemwekCC7JIQyMR6QNhk2MrhKntALZxm79Voe0CqzuPz0HV7QFTqEOQ7g3tA/qlG9Uqpe0A/48VS/tt7QOd9xZGV+ntA9DKBa5sofEALWVIgZzF8QMgCrzvLgXxACwwORF3WfEBnFA4wwed8QByaP3pH6nxAQVmWe9T0fEDKKDx/gAB9QNzMmcGjzH1A+9H2/ojWfUBHwPemgu19QGx/KAUl831Ar1QK7PL1fUAqS3fy+WJ+QJ4ntNaygX5AiBmcnyatfkCVoaCraPl/QA==",
          "dtype": "f8"
         },
         "yaxis": "y4"
        }
       ],
       "layout": {
        "annotations": [
         {
          "font": {},
          "showarrow": false,
          "text": "civic_cooperation (N=31)",
          "x": 0.10250000000000001,
          "xanchor": "center",
          "xref": "paper",
          "y": 0.425,
          "yanchor": "bottom",
          "yref": "paper"
         },
         {
          "font": {},
          "showarrow": false,
          "text": "GPS_posrecip (N=29)",
          "x": 0.36750000000000005,
          "xanchor": "center",
          "xref": "paper",
          "y": 0.425,
          "yanchor": "bottom",
          "yref": "paper"
         },
         {
          "font": {},
          "showarrow": false,
          "text": "GPS_altruism (N=29)",
          "x": 0.6325000000000001,
          "xanchor": "center",
          "xref": "paper",
          "y": 0.425,
          "yanchor": "bottom",
          "yref": "paper"
         },
         {
          "font": {},
          "showarrow": false,
          "text": "stranger1 (N=32)",
          "x": 0.8975,
          "xanchor": "center",
          "xref": "paper",
          "y": 0.425,
          "yanchor": "bottom",
          "yref": "paper"
         },
         {
          "font": {},
          "showarrow": false,
          "text": "general_trust (N=32)",
          "x": 0.10250000000000001,
          "xanchor": "center",
          "xref": "paper",
          "y": 1,
          "yanchor": "bottom",
          "yref": "paper"
         },
         {
          "font": {},
          "showarrow": false,
          "text": "GPS_trust (N=29)",
          "x": 0.36750000000000005,
          "xanchor": "center",
          "xref": "paper",
          "y": 1,
          "yanchor": "bottom",
          "yref": "paper"
         },
         {
          "font": {},
          "showarrow": false,
          "text": "general_morality (N=32)",
          "x": 0.6325000000000001,
          "xanchor": "center",
          "xref": "paper",
          "y": 1,
          "yanchor": "bottom",
          "yref": "paper"
         },
         {
          "font": {},
          "showarrow": false,
          "text": "MFQ_genmorality (N=29)",
          "x": 0.8975,
          "xanchor": "center",
          "xref": "paper",
          "y": 1,
          "yanchor": "bottom",
          "yref": "paper"
         }
        ],
        "legend": {
         "tracegroupgap": 0
        },
        "margin": {
         "t": 60
        },
        "template": {
         "data": {
          "bar": [
           {
            "error_x": {
             "color": "#2a3f5f"
            },
            "error_y": {
             "color": "#2a3f5f"
            },
            "marker": {
             "line": {
              "color": "white",
              "width": 0.5
             },
             "pattern": {
              "fillmode": "overlay",
              "size": 10,
              "solidity": 0.2
             }
            },
            "type": "bar"
           }
          ],
          "barpolar": [
           {
            "marker": {
             "line": {
              "color": "white",
              "width": 0.5
             },
             "pattern": {
              "fillmode": "overlay",
              "size": 10,
              "solidity": 0.2
             }
            },
            "type": "barpolar"
           }
          ],
          "carpet": [
           {
            "aaxis": {
             "endlinecolor": "#2a3f5f",
             "gridcolor": "#C8D4E3",
             "linecolor": "#C8D4E3",
             "minorgridcolor": "#C8D4E3",
             "startlinecolor": "#2a3f5f"
            },
            "baxis": {
             "endlinecolor": "#2a3f5f",
             "gridcolor": "#C8D4E3",
             "linecolor": "#C8D4E3",
             "minorgridcolor": "#C8D4E3",
             "startlinecolor": "#2a3f5f"
            },
            "type": "carpet"
           }
          ],
          "choropleth": [
           {
            "colorbar": {
             "outlinewidth": 0,
             "ticks": ""
            },
            "type": "choropleth"
           }
          ],
          "contour": [
           {
            "colorbar": {
             "outlinewidth": 0,
             "ticks": ""
            },
            "colorscale": [
             [
              0,
              "#0d0887"
             ],
             [
              0.1111111111111111,
              "#46039f"
             ],
             [
              0.2222222222222222,
              "#7201a8"
             ],
             [
              0.3333333333333333,
              "#9c179e"
             ],
             [
              0.4444444444444444,
              "#bd3786"
             ],
             [
              0.5555555555555556,
              "#d8576b"
             ],
             [
              0.6666666666666666,
              "#ed7953"
             ],
             [
              0.7777777777777778,
              "#fb9f3a"
             ],
             [
              0.8888888888888888,
              "#fdca26"
             ],
             [
              1,
              "#f0f921"
             ]
            ],
            "type": "contour"
           }
          ],
          "contourcarpet": [
           {
            "colorbar": {
             "outlinewidth": 0,
             "ticks": ""
            },
            "type": "contourcarpet"
           }
          ],
          "heatmap": [
           {
            "colorbar": {
             "outlinewidth": 0,
             "ticks": ""
            },
            "colorscale": [
             [
              0,
              "#0d0887"
             ],
             [
              0.1111111111111111,
              "#46039f"
             ],
             [
              0.2222222222222222,
              "#7201a8"
             ],
             [
              0.3333333333333333,
              "#9c179e"
             ],
             [
              0.4444444444444444,
              "#bd3786"
             ],
             [
              0.5555555555555556,
              "#d8576b"
             ],
             [
              0.6666666666666666,
              "#ed7953"
             ],
             [
              0.7777777777777778,
              "#fb9f3a"
             ],
             [
              0.8888888888888888,
              "#fdca26"
             ],
             [
              1,
              "#f0f921"
             ]
            ],
            "type": "heatmap"
           }
          ],
          "histogram": [
           {
            "marker": {
             "pattern": {
              "fillmode": "overlay",
              "size": 10,
              "solidity": 0.2
             }
            },
            "type": "histogram"
           }
          ],
          "histogram2d": [
           {
            "colorbar": {
             "outlinewidth": 0,
             "ticks": ""
            },
            "colorscale": [
             [
              0,
              "#0d0887"
             ],
             [
              0.1111111111111111,
              "#46039f"
             ],
             [
              0.2222222222222222,
              "#7201a8"
             ],
             [
              0.3333333333333333,
              "#9c179e"
             ],
             [
              0.4444444444444444,
              "#bd3786"
             ],
             [
              0.5555555555555556,
              "#d8576b"
             ],
             [
              0.6666666666666666,
              "#ed7953"
             ],
             [
              0.7777777777777778,
              "#fb9f3a"
             ],
             [
              0.8888888888888888,
              "#fdca26"
             ],
             [
              1,
              "#f0f921"
             ]
            ],
            "type": "histogram2d"
           }
          ],
          "histogram2dcontour": [
           {
            "colorbar": {
             "outlinewidth": 0,
             "ticks": ""
            },
            "colorscale": [
             [
              0,
              "#0d0887"
             ],
             [
              0.1111111111111111,
              "#46039f"
             ],
             [
              0.2222222222222222,
              "#7201a8"
             ],
             [
              0.3333333333333333,
              "#9c179e"
             ],
             [
              0.4444444444444444,
              "#bd3786"
             ],
             [
              0.5555555555555556,
              "#d8576b"
             ],
             [
              0.6666666666666666,
              "#ed7953"
             ],
             [
              0.7777777777777778,
              "#fb9f3a"
             ],
             [
              0.8888888888888888,
              "#fdca26"
             ],
             [
              1,
              "#f0f921"
             ]
            ],
            "type": "histogram2dcontour"
           }
          ],
          "mesh3d": [
           {
            "colorbar": {
             "outlinewidth": 0,
             "ticks": ""
            },
            "type": "mesh3d"
           }
          ],
          "parcoords": [
           {
            "line": {
             "colorbar": {
              "outlinewidth": 0,
              "ticks": ""
             }
            },
            "type": "parcoords"
           }
          ],
          "pie": [
           {
            "automargin": true,
            "type": "pie"
           }
          ],
          "scatter": [
           {
            "fillpattern": {
             "fillmode": "overlay",
             "size": 10,
             "solidity": 0.2
            },
            "type": "scatter"
           }
          ],
          "scatter3d": [
           {
            "line": {
             "colorbar": {
              "outlinewidth": 0,
              "ticks": ""
             }
            },
            "marker": {
             "colorbar": {
              "outlinewidth": 0,
              "ticks": ""
             }
            },
            "type": "scatter3d"
           }
          ],
          "scattercarpet": [
           {
            "marker": {
             "colorbar": {
              "outlinewidth": 0,
              "ticks": ""
             }
            },
            "type": "scattercarpet"
           }
          ],
          "scattergeo": [
           {
            "marker": {
             "colorbar": {
              "outlinewidth": 0,
              "ticks": ""
             }
            },
            "type": "scattergeo"
           }
          ],
          "scattergl": [
           {
            "marker": {
             "colorbar": {
              "outlinewidth": 0,
              "ticks": ""
             }
            },
            "type": "scattergl"
           }
          ],
          "scattermap": [
           {
            "marker": {
             "colorbar": {
              "outlinewidth": 0,
              "ticks": ""
             }
            },
            "type": "scattermap"
           }
          ],
          "scattermapbox": [
           {
            "marker": {
             "colorbar": {
              "outlinewidth": 0,
              "ticks": ""
             }
            },
            "type": "scattermapbox"
           }
          ],
          "scatterpolar": [
           {
            "marker": {
             "colorbar": {
              "outlinewidth": 0,
              "ticks": ""
             }
            },
            "type": "scatterpolar"
           }
          ],
          "scatterpolargl": [
           {
            "marker": {
             "colorbar": {
              "outlinewidth": 0,
              "ticks": ""
             }
            },
            "type": "scatterpolargl"
           }
          ],
          "scatterternary": [
           {
            "marker": {
             "colorbar": {
              "outlinewidth": 0,
              "ticks": ""
             }
            },
            "type": "scatterternary"
           }
          ],
          "surface": [
           {
            "colorbar": {
             "outlinewidth": 0,
             "ticks": ""
            },
            "colorscale": [
             [
              0,
              "#0d0887"
             ],
             [
              0.1111111111111111,
              "#46039f"
             ],
             [
              0.2222222222222222,
              "#7201a8"
             ],
             [
              0.3333333333333333,
              "#9c179e"
             ],
             [
              0.4444444444444444,
              "#bd3786"
             ],
             [
              0.5555555555555556,
              "#d8576b"
             ],
             [
              0.6666666666666666,
              "#ed7953"
             ],
             [
              0.7777777777777778,
              "#fb9f3a"
             ],
             [
              0.8888888888888888,
              "#fdca26"
             ],
             [
              1,
              "#f0f921"
             ]
            ],
            "type": "surface"
           }
          ],
          "table": [
           {
            "cells": {
             "fill": {
              "color": "#EBF0F8"
             },
             "line": {
              "color": "white"
             }
            },
            "header": {
             "fill": {
              "color": "#C8D4E3"
             },
             "line": {
              "color": "white"
             }
            },
            "type": "table"
           }
          ]
         },
         "layout": {
          "annotationdefaults": {
           "arrowcolor": "#2a3f5f",
           "arrowhead": 0,
           "arrowwidth": 1
          },
          "autotypenumbers": "strict",
          "coloraxis": {
           "colorbar": {
            "outlinewidth": 0,
            "ticks": ""
           }
          },
          "colorscale": {
           "diverging": [
            [
             0,
             "#8e0152"
            ],
            [
             0.1,
             "#c51b7d"
            ],
            [
             0.2,
             "#de77ae"
            ],
            [
             0.3,
             "#f1b6da"
            ],
            [
             0.4,
             "#fde0ef"
            ],
            [
             0.5,
             "#f7f7f7"
            ],
            [
             0.6,
             "#e6f5d0"
            ],
            [
             0.7,
             "#b8e186"
            ],
            [
             0.8,
             "#7fbc41"
            ],
            [
             0.9,
             "#4d9221"
            ],
            [
             1,
             "#276419"
            ]
           ],
           "sequential": [
            [
             0,
             "#0d0887"
            ],
            [
             0.1111111111111111,
             "#46039f"
            ],
            [
             0.2222222222222222,
             "#7201a8"
            ],
            [
             0.3333333333333333,
             "#9c179e"
            ],
            [
             0.4444444444444444,
             "#bd3786"
            ],
            [
             0.5555555555555556,
             "#d8576b"
            ],
            [
             0.6666666666666666,
             "#ed7953"
            ],
            [
             0.7777777777777778,
             "#fb9f3a"
            ],
            [
             0.8888888888888888,
             "#fdca26"
            ],
            [
             1,
             "#f0f921"
            ]
           ],
           "sequentialminus": [
            [
             0,
             "#0d0887"
            ],
            [
             0.1111111111111111,
             "#46039f"
            ],
            [
             0.2222222222222222,
             "#7201a8"
            ],
            [
             0.3333333333333333,
             "#9c179e"
            ],
            [
             0.4444444444444444,
             "#bd3786"
            ],
            [
             0.5555555555555556,
             "#d8576b"
            ],
            [
             0.6666666666666666,
             "#ed7953"
            ],
            [
             0.7777777777777778,
             "#fb9f3a"
            ],
            [
             0.8888888888888888,
             "#fdca26"
            ],
            [
             1,
             "#f0f921"
            ]
           ]
          },
          "colorway": [
           "#636efa",
           "#EF553B",
           "#00cc96",
           "#ab63fa",
           "#FFA15A",
           "#19d3f3",
           "#FF6692",
           "#B6E880",
           "#FF97FF",
           "#FECB52"
          ],
          "font": {
           "color": "#2a3f5f"
          },
          "geo": {
           "bgcolor": "white",
           "lakecolor": "white",
           "landcolor": "white",
           "showlakes": true,
           "showland": true,
           "subunitcolor": "#C8D4E3"
          },
          "hoverlabel": {
           "align": "left"
          },
          "hovermode": "closest",
          "mapbox": {
           "style": "light"
          },
          "paper_bgcolor": "white",
          "plot_bgcolor": "white",
          "polar": {
           "angularaxis": {
            "gridcolor": "#EBF0F8",
            "linecolor": "#EBF0F8",
            "ticks": ""
           },
           "bgcolor": "white",
           "radialaxis": {
            "gridcolor": "#EBF0F8",
            "linecolor": "#EBF0F8",
            "ticks": ""
           }
          },
          "scene": {
           "xaxis": {
            "backgroundcolor": "white",
            "gridcolor": "#DFE8F3",
            "gridwidth": 2,
            "linecolor": "#EBF0F8",
            "showbackground": true,
            "ticks": "",
            "zerolinecolor": "#EBF0F8"
           },
           "yaxis": {
            "backgroundcolor": "white",
            "gridcolor": "#DFE8F3",
            "gridwidth": 2,
            "linecolor": "#EBF0F8",
            "showbackground": true,
            "ticks": "",
            "zerolinecolor": "#EBF0F8"
           },
           "zaxis": {
            "backgroundcolor": "white",
            "gridcolor": "#DFE8F3",
            "gridwidth": 2,
            "linecolor": "#EBF0F8",
            "showbackground": true,
            "ticks": "",
            "zerolinecolor": "#EBF0F8"
           }
          },
          "shapedefaults": {
           "line": {
            "color": "#2a3f5f"
           }
          },
          "ternary": {
           "aaxis": {
            "gridcolor": "#DFE8F3",
            "linecolor": "#A2B1C6",
            "ticks": ""
           },
           "baxis": {
            "gridcolor": "#DFE8F3",
            "linecolor": "#A2B1C6",
            "ticks": ""
           },
           "bgcolor": "white",
           "caxis": {
            "gridcolor": "#DFE8F3",
            "linecolor": "#A2B1C6",
            "ticks": ""
           }
          },
          "title": {
           "x": 0.05
          },
          "xaxis": {
           "automargin": true,
           "gridcolor": "#EBF0F8",
           "linecolor": "#EBF0F8",
           "ticks": "",
           "title": {
            "standoff": 15
           },
           "zerolinecolor": "#EBF0F8",
           "zerolinewidth": 2
          },
          "yaxis": {
           "automargin": true,
           "gridcolor": "#EBF0F8",
           "linecolor": "#EBF0F8",
           "ticks": "",
           "title": {
            "standoff": 15
           },
           "zerolinecolor": "#EBF0F8",
           "zerolinewidth": 2
          }
         }
        },
        "xaxis": {
         "anchor": "y",
         "domain": [
          0,
          0.20500000000000002
         ],
         "linecolor": "darkgray",
         "showline": true,
         "title": {
          "text": "value"
         }
        },
        "xaxis2": {
         "anchor": "y2",
         "domain": [
          0.265,
          0.47000000000000003
         ],
         "linecolor": "darkgray",
         "matches": "x",
         "showline": true,
         "title": {
          "text": "value"
         }
        },
        "xaxis3": {
         "anchor": "y3",
         "domain": [
          0.53,
          0.7350000000000001
         ],
         "linecolor": "darkgray",
         "matches": "x",
         "showline": true,
         "title": {
          "text": "value"
         }
        },
        "xaxis4": {
         "anchor": "y4",
         "domain": [
          0.7949999999999999,
          1
         ],
         "linecolor": "darkgray",
         "matches": "x",
         "showline": true,
         "title": {
          "text": "value"
         }
        },
        "xaxis5": {
         "anchor": "y5",
         "domain": [
          0,
          0.20500000000000002
         ],
         "linecolor": "darkgray",
         "matches": "x",
         "showline": true,
         "showticklabels": false
        },
        "xaxis6": {
         "anchor": "y6",
         "domain": [
          0.265,
          0.47000000000000003
         ],
         "linecolor": "darkgray",
         "matches": "x",
         "showline": true,
         "showticklabels": false
        },
        "xaxis7": {
         "anchor": "y7",
         "domain": [
          0.53,
          0.7350000000000001
         ],
         "linecolor": "darkgray",
         "matches": "x",
         "showline": true,
         "showticklabels": false
        },
        "xaxis8": {
         "anchor": "y8",
         "domain": [
          0.7949999999999999,
          1
         ],
         "linecolor": "darkgray",
         "matches": "x",
         "showline": true,
         "showticklabels": false
        },
        "yaxis": {
         "anchor": "x",
         "domain": [
          0,
          0.425
         ],
         "linecolor": "darkgray",
         "showline": true,
         "title": {
          "text": "pisa_score"
         }
        },
        "yaxis2": {
         "anchor": "x2",
         "domain": [
          0,
          0.425
         ],
         "linecolor": "darkgray",
         "matches": "y",
         "showline": true,
         "showticklabels": false
        },
        "yaxis3": {
         "anchor": "x3",
         "domain": [
          0,
          0.425
         ],
         "linecolor": "darkgray",
         "matches": "y",
         "showline": true,
         "showticklabels": false
        },
        "yaxis4": {
         "anchor": "x4",
         "domain": [
          0,
          0.425
         ],
         "linecolor": "darkgray",
         "matches": "y",
         "showline": true,
         "showticklabels": false
        },
        "yaxis5": {
         "anchor": "x5",
         "domain": [
          0.575,
          1
         ],
         "linecolor": "darkgray",
         "matches": "y",
         "showline": true,
         "title": {
          "text": "pisa_score"
         }
        },
        "yaxis6": {
         "anchor": "x6",
         "domain": [
          0.575,
          1
         ],
         "linecolor": "darkgray",
         "matches": "y",
         "showline": true,
         "showticklabels": false
        },
        "yaxis7": {
         "anchor": "x7",
         "domain": [
          0.575,
          1
         ],
         "linecolor": "darkgray",
         "matches": "y",
         "showline": true,
         "showticklabels": false
        },
        "yaxis8": {
         "anchor": "x8",
         "domain": [
          0.575,
          1
         ],
         "linecolor": "darkgray",
         "matches": "y",
         "showline": true,
         "showticklabels": false
        }
       }
      }
     },
     "metadata": {},
     "output_type": "display_data"
    }
   ],
   "source": [
    "# Calculate sample size for each survey measure and PISA \n",
    "ens_pisa = pd.DataFrame(\n",
    "    {\n",
    "        col: country_avg_data[[\"pisa_score\", col]].dropna().shape[0]\n",
    "        for col in survey_cols\n",
    "    },\n",
    "    index=[\"N\"],\n",
    ")\n",
    "\n",
    "# PISA vs Survey measure facet plot\n",
    "fig = px.scatter(\n",
    "    df_reshaped,\n",
    "    x=\"value\",\n",
    "    y=\"pisa_score\",\n",
    "    facet_col=\"variable\",\n",
    "    facet_col_wrap=4,\n",
    "    trendline=\"ols\",\n",
    "    facet_col_spacing=0.06,\n",
    "    facet_row_spacing=0.15,\n",
    ")\n",
    "fig.update_xaxes(showline=True, linecolor=\"darkgray\")\n",
    "fig.update_yaxes(showline=True, linecolor=\"darkgray\")\n",
    "fig.for_each_annotation(\n",
    "    lambda a: a.update(\n",
    "        text=a.text.split(\"=\")[-1]\n",
    "        + \" (N=\"\n",
    "        + str(ens_pisa.loc[\"N\", a.text.split(\"=\")[-1]])\n",
    "        + \")\"\n",
    "    )\n",
    ")\n",
    "\n",
    "fig.show()"
   ]
  }
 ],
 "metadata": {
  "kernelspec": {
   "display_name": ".pisa_wallet_venv",
   "language": "python",
   "name": "python3"
  },
  "language_info": {
   "codemirror_mode": {
    "name": "ipython",
    "version": 3
   },
   "file_extension": ".py",
   "mimetype": "text/x-python",
   "name": "python",
   "nbconvert_exporter": "python",
   "pygments_lexer": "ipython3",
   "version": "3.12.1"
  }
 },
 "nbformat": 4,
 "nbformat_minor": 5
}
