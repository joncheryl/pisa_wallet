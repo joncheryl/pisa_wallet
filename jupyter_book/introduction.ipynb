{
 "cells": [
  {
   "cell_type": "markdown",
   "id": "469408df",
   "metadata": {},
   "source": [
    "# Introduction\n",
    "\n",
    "In the paper [What Do Cross-country Surveys Tell Us about Social Capital?](https://davetannenbaum.github.io/documents/TannenbaumCohnZundMarechal2025.pdf), Tannenbaum et al. use the [Wallet Return Dataset](https://dataverse.harvard.edu/dataset.xhtml?persistentId=doi:10.7910/DVN/YKBODN) as a direct measure of civic honesty to investigate two types of indirect social capital measures. First, they provide an analysis of lost wallet reporting rates and their correlation to survey measures of social capital, showing the quantitative extent to which survey measures contain legitimate information about social capital. Second, they show that lost wallet reporting rates may be used as effective predictors of \"Economic and Institutional Performance\", confirming social capital's economic explanatory value.\n",
    "\n",
    "I became curious of how educational assessment data would relate to these findings. The [Programme for International Student Assessment (PISA)](https://www.oecd.org/en/about/programmes/pisa.html) contains data on national educational program effectiveness, measured on 15-year-olds and is a standard dataset for comparing education outcomes between countries. Surprisingly, PISA scores (averaged across reading, math, and science for each country) were very strongly correlated with lost wallet reporting rates. This concerned the two aims of the Tannenbaum paper:\n",
    "1) PISA scores correlated with survey measures of social capital in largely the same manner as lost wallet reporting rates.\n",
    "2) Lost wallet reporting rates proved to be as strong a predictor of PISA scores as any of the other measures of \"Economic and Institutional Performance\".\n",
    "\n",
    "Also, for kicks, I tried to see if I could predict whether a wallet would be returned or not using machine learning techniques. Accuracy around 0.7 was reached which what one would expect given that most of the data was at the country-level. There likely isn't enough personal information to increase accuracy much further."
   ]
  },
  {
   "cell_type": "markdown",
   "id": "0560324d",
   "metadata": {
    "vscode": {
     "languageId": "plaintext"
    }
   },
   "source": [
    "## Preliminary Inspection of PISA Data\n",
    "Wallet reporting rates (proportion of '100' responses) were calculated per country and joined with the PISA data."
   ]
  },
  {
   "cell_type": "code",
   "execution_count": 89,
   "id": "0bb9635f",
   "metadata": {
    "tags": [
     "hide-input"
    ]
   },
   "outputs": [
    {
     "data": {
      "text/html": [
       "<div>            <script src=\"https://cdnjs.cloudflare.com/ajax/libs/mathjax/2.7.5/MathJax.js?config=TeX-AMS-MML_SVG\"></script><script type=\"text/javascript\">if (window.MathJax && window.MathJax.Hub && window.MathJax.Hub.Config) {window.MathJax.Hub.Config({SVG: {font: \"STIX-Web\"}});}</script>                <script type=\"text/javascript\">window.PlotlyConfig = {MathJaxConfig: 'local'};</script>\n",
       "        <script charset=\"utf-8\" src=\"https://cdn.plot.ly/plotly-3.0.1.min.js\"></script>                <div id=\"184b07ed-a4be-489e-8d1f-a33b642e92d0\" class=\"plotly-graph-div\" style=\"height:525px; width:100%;\"></div>            <script type=\"text/javascript\">                window.PLOTLYENV=window.PLOTLYENV || {};                                if (document.getElementById(\"184b07ed-a4be-489e-8d1f-a33b642e92d0\")) {                    Plotly.newPlot(                        \"184b07ed-a4be-489e-8d1f-a33b642e92d0\",                        [{\"customdata\":[[\"Argentina\"],[\"Australia\"],[\"Brazil\"],[\"Canada\"],[\"Chile\"],[\"China\"],[\"Croatia\"],[\"Czech Republic\"],[\"Denmark\"],[\"France\"],[\"Germany\"],[\"Ghana\"],[\"Greece\"],[\"India\"],[\"Indonesia\"],[\"Israel\"],[\"Italy\"],[\"Kazakhstan\"],[\"Kenya\"],[\"Malaysia\"],[\"Mexico\"],[\"Morocco\"],[\"Netherlands\"],[\"New Zealand\"],[\"Norway\"],[\"Peru\"],[\"Poland\"],[\"Portugal\"],[\"Romania\"],[\"Russia\"],[\"Serbia\"],[\"South Africa\"],[\"Spain\"],[\"Sweden\"],[\"Switzerland\"],[\"Thailand\"],[\"Turkey\"],[\"UAE\"],[\"UK\"],[\"USA\"]],\"hovertemplate\":\"response=%{x}\\u003cbr\\u003episa_score=%{y}\\u003cbr\\u003ecountry=%{customdata[0]}\\u003cextra\\u003e\\u003c\\u002fextra\\u003e\",\"legendgroup\":\"\",\"marker\":{\"color\":\"#636efa\",\"symbol\":\"circle\"},\"mode\":\"markers\",\"name\":\"\",\"orientation\":\"v\",\"showlegend\":false,\"x\":{\"dtype\":\"f8\",\"bdata\":\"AAAAAADAR0A3JdqUaFNOQNTqTqs7rURAAAAAAACAS0DkOI7jOA5CQAAAAAAAgCxAq6qqqqqqTUAAAAAAAIBRQAAAAAAAwFJAnxertBX+S0AAAAAAAABOQK2ixkiBuzNAAAAAAACgRkAAAAAAAIBAQAAAAAAAADlAVVVVVVVVR0AAAAAAAOBEQAAAAAAAgDFAMTYLqj0nMUAAAAAAAEAzQAAAAAAAADVATivunWSpMUAAAAAAANBRQAAAAAAAsFFAq6qqqqqqUkAAAAAAAIArQAAAAAAA8FBAAAAAAABARUAAAAAAAGBLQHDyN\\u002fmb\\u002fEpAVVVVVVVVS0Ct7rS60+pAQAAAAAAAAEtAAAAAAACQUkDEwQ4HOxxTQAAAAAAAAEBAAAAAAADAPkAAAAAAAIA5QCIuN3kOUExAZmZmZmZmSkA=\"},\"xaxis\":\"x\",\"y\":{\"dtype\":\"f8\",\"bdata\":\"AAAAAABgekBVVVVVVWV\\u002fQAAAAAAAsHhAVVVVVVVdgEAAAAAAALB7QAAAAAAAAPh\\u002fVVVVVVW1fUCsqqqqqqp+QFVVVVVVhX9Aq6qqqqr6fkAAAAAAAMB\\u002fQAAAAAAAAPh\\u002frKqqqqqqfEAAAAAAAAD4f1RVVVVVtXhAAAAAAACAfUBUVVVVVVV+QKyqqqqq+ntAAAAAAAAA+H8AAAAAAIB7QKyqqqqq+nlAAAAAAAAA+H8AAAAAAMB\\u002fQKyqqqqqmn9AVVVVVVWFf0AAAAAAAKB4QKyqqqqqen9AAAAAAAAQf0Csqqqqqlp7QAAAAAAAwH5AAAAAAAAA+H8AAAAAAAD4f6yqqqqqun5ArKqqqqr6fkBVVVVVVaV\\u002fQAAAAAAA8HlAVFVVVVWFekCsqqqqqgp7QKyqqqqqOn9Aq6qqqqp6fkA=\"},\"yaxis\":\"y\",\"type\":\"scatter\"},{\"hovertemplate\":\"\\u003cb\\u003eOLS trendline\\u003c\\u002fb\\u003e\\u003cbr\\u003episa_score = 1.69441 * response + 385.14\\u003cbr\\u003eR\\u003csup\\u003e2\\u003c\\u002fsup\\u003e=0.639159\\u003cbr\\u003e\\u003cbr\\u003eresponse=%{x}\\u003cbr\\u003episa_score=%{y} \\u003cb\\u003e(trend)\\u003c\\u002fb\\u003e\\u003cextra\\u003e\\u003c\\u002fextra\\u003e\",\"legendgroup\":\"\",\"marker\":{\"color\":\"#636efa\",\"symbol\":\"circle\"},\"mode\":\"lines\",\"name\":\"\",\"showlegend\":false,\"x\":{\"dtype\":\"f8\",\"bdata\":\"AAAAAACAK0AAAAAAAIAxQAAAAAAAQDNAAAAAAAAANUAAAAAAAAA5QAAAAAAAgDlAAAAAAADAPkAAAAAAAABAQOQ4juM4DkJA1OpOqzutREAAAAAAAOBEQAAAAAAAQEVAAAAAAACgRkBVVVVVVVVHQAAAAAAAwEdAZmZmZmZmSkBw8jf5m\\u002fxKQAAAAAAAAEtAAAAAAABgS0AAAAAAAIBLQJ8Xq7QV\\u002fktAIi43eQ5QTECrqqqqqqpNQAAAAAAAAE5ANyXalGhTTkAAAAAAAPBQQAAAAAAAgFFAAAAAAACwUUAAAAAAANBRQAAAAAAAkFJAq6qqqqqqUkAAAAAAAMBSQMTBDgc7HFNA\"},\"xaxis\":\"x\",\"y\":{\"dtype\":\"f8\",\"bdata\":\"wofTXQKHeUAtgbuSrOx5QBt+4yIeHHpACXsLs49LekAEdIv8ALh6QCNzuyWPxXpA7Gkz1uNTe0C6Zys9x3V7QBJERKw75XtAm5zXulpzfECeVlNgG358QE1VG55wknxAeVCjgP7cfEBSowCgZgN9QIZM+zn+GX1An6mR7q2pfUAt8+x3fsl9QB5Ba1E2yn1AzT8zj4vefUBcP8ujUuV9QBBSyx0HAH5A0rRsumMRfkBs4hVezVp+QJY2qz\\u002fgbH5Azlafw4p+fkD8KBO++z5\\u002fQAkla3f7e39AuCMztVCQf0DXImPe3p1\\u002fQJQdg9Uz739ALnKAon\\u002f6f0AhjqWJxAGAQMIxZ2VNFYBA\"},\"yaxis\":\"y\",\"type\":\"scatter\"}],                        {\"template\":{\"data\":{\"histogram2dcontour\":[{\"type\":\"histogram2dcontour\",\"colorbar\":{\"outlinewidth\":0,\"ticks\":\"\"},\"colorscale\":[[0.0,\"#0d0887\"],[0.1111111111111111,\"#46039f\"],[0.2222222222222222,\"#7201a8\"],[0.3333333333333333,\"#9c179e\"],[0.4444444444444444,\"#bd3786\"],[0.5555555555555556,\"#d8576b\"],[0.6666666666666666,\"#ed7953\"],[0.7777777777777778,\"#fb9f3a\"],[0.8888888888888888,\"#fdca26\"],[1.0,\"#f0f921\"]]}],\"choropleth\":[{\"type\":\"choropleth\",\"colorbar\":{\"outlinewidth\":0,\"ticks\":\"\"}}],\"histogram2d\":[{\"type\":\"histogram2d\",\"colorbar\":{\"outlinewidth\":0,\"ticks\":\"\"},\"colorscale\":[[0.0,\"#0d0887\"],[0.1111111111111111,\"#46039f\"],[0.2222222222222222,\"#7201a8\"],[0.3333333333333333,\"#9c179e\"],[0.4444444444444444,\"#bd3786\"],[0.5555555555555556,\"#d8576b\"],[0.6666666666666666,\"#ed7953\"],[0.7777777777777778,\"#fb9f3a\"],[0.8888888888888888,\"#fdca26\"],[1.0,\"#f0f921\"]]}],\"heatmap\":[{\"type\":\"heatmap\",\"colorbar\":{\"outlinewidth\":0,\"ticks\":\"\"},\"colorscale\":[[0.0,\"#0d0887\"],[0.1111111111111111,\"#46039f\"],[0.2222222222222222,\"#7201a8\"],[0.3333333333333333,\"#9c179e\"],[0.4444444444444444,\"#bd3786\"],[0.5555555555555556,\"#d8576b\"],[0.6666666666666666,\"#ed7953\"],[0.7777777777777778,\"#fb9f3a\"],[0.8888888888888888,\"#fdca26\"],[1.0,\"#f0f921\"]]}],\"contourcarpet\":[{\"type\":\"contourcarpet\",\"colorbar\":{\"outlinewidth\":0,\"ticks\":\"\"}}],\"contour\":[{\"type\":\"contour\",\"colorbar\":{\"outlinewidth\":0,\"ticks\":\"\"},\"colorscale\":[[0.0,\"#0d0887\"],[0.1111111111111111,\"#46039f\"],[0.2222222222222222,\"#7201a8\"],[0.3333333333333333,\"#9c179e\"],[0.4444444444444444,\"#bd3786\"],[0.5555555555555556,\"#d8576b\"],[0.6666666666666666,\"#ed7953\"],[0.7777777777777778,\"#fb9f3a\"],[0.8888888888888888,\"#fdca26\"],[1.0,\"#f0f921\"]]}],\"surface\":[{\"type\":\"surface\",\"colorbar\":{\"outlinewidth\":0,\"ticks\":\"\"},\"colorscale\":[[0.0,\"#0d0887\"],[0.1111111111111111,\"#46039f\"],[0.2222222222222222,\"#7201a8\"],[0.3333333333333333,\"#9c179e\"],[0.4444444444444444,\"#bd3786\"],[0.5555555555555556,\"#d8576b\"],[0.6666666666666666,\"#ed7953\"],[0.7777777777777778,\"#fb9f3a\"],[0.8888888888888888,\"#fdca26\"],[1.0,\"#f0f921\"]]}],\"mesh3d\":[{\"type\":\"mesh3d\",\"colorbar\":{\"outlinewidth\":0,\"ticks\":\"\"}}],\"scatter\":[{\"fillpattern\":{\"fillmode\":\"overlay\",\"size\":10,\"solidity\":0.2},\"type\":\"scatter\"}],\"parcoords\":[{\"type\":\"parcoords\",\"line\":{\"colorbar\":{\"outlinewidth\":0,\"ticks\":\"\"}}}],\"scatterpolargl\":[{\"type\":\"scatterpolargl\",\"marker\":{\"colorbar\":{\"outlinewidth\":0,\"ticks\":\"\"}}}],\"bar\":[{\"error_x\":{\"color\":\"#2a3f5f\"},\"error_y\":{\"color\":\"#2a3f5f\"},\"marker\":{\"line\":{\"color\":\"white\",\"width\":0.5},\"pattern\":{\"fillmode\":\"overlay\",\"size\":10,\"solidity\":0.2}},\"type\":\"bar\"}],\"scattergeo\":[{\"type\":\"scattergeo\",\"marker\":{\"colorbar\":{\"outlinewidth\":0,\"ticks\":\"\"}}}],\"scatterpolar\":[{\"type\":\"scatterpolar\",\"marker\":{\"colorbar\":{\"outlinewidth\":0,\"ticks\":\"\"}}}],\"histogram\":[{\"marker\":{\"pattern\":{\"fillmode\":\"overlay\",\"size\":10,\"solidity\":0.2}},\"type\":\"histogram\"}],\"scattergl\":[{\"type\":\"scattergl\",\"marker\":{\"colorbar\":{\"outlinewidth\":0,\"ticks\":\"\"}}}],\"scatter3d\":[{\"type\":\"scatter3d\",\"line\":{\"colorbar\":{\"outlinewidth\":0,\"ticks\":\"\"}},\"marker\":{\"colorbar\":{\"outlinewidth\":0,\"ticks\":\"\"}}}],\"scattermap\":[{\"type\":\"scattermap\",\"marker\":{\"colorbar\":{\"outlinewidth\":0,\"ticks\":\"\"}}}],\"scattermapbox\":[{\"type\":\"scattermapbox\",\"marker\":{\"colorbar\":{\"outlinewidth\":0,\"ticks\":\"\"}}}],\"scatterternary\":[{\"type\":\"scatterternary\",\"marker\":{\"colorbar\":{\"outlinewidth\":0,\"ticks\":\"\"}}}],\"scattercarpet\":[{\"type\":\"scattercarpet\",\"marker\":{\"colorbar\":{\"outlinewidth\":0,\"ticks\":\"\"}}}],\"carpet\":[{\"aaxis\":{\"endlinecolor\":\"#2a3f5f\",\"gridcolor\":\"#C8D4E3\",\"linecolor\":\"#C8D4E3\",\"minorgridcolor\":\"#C8D4E3\",\"startlinecolor\":\"#2a3f5f\"},\"baxis\":{\"endlinecolor\":\"#2a3f5f\",\"gridcolor\":\"#C8D4E3\",\"linecolor\":\"#C8D4E3\",\"minorgridcolor\":\"#C8D4E3\",\"startlinecolor\":\"#2a3f5f\"},\"type\":\"carpet\"}],\"table\":[{\"cells\":{\"fill\":{\"color\":\"#EBF0F8\"},\"line\":{\"color\":\"white\"}},\"header\":{\"fill\":{\"color\":\"#C8D4E3\"},\"line\":{\"color\":\"white\"}},\"type\":\"table\"}],\"barpolar\":[{\"marker\":{\"line\":{\"color\":\"white\",\"width\":0.5},\"pattern\":{\"fillmode\":\"overlay\",\"size\":10,\"solidity\":0.2}},\"type\":\"barpolar\"}],\"pie\":[{\"automargin\":true,\"type\":\"pie\"}]},\"layout\":{\"autotypenumbers\":\"strict\",\"colorway\":[\"#636efa\",\"#EF553B\",\"#00cc96\",\"#ab63fa\",\"#FFA15A\",\"#19d3f3\",\"#FF6692\",\"#B6E880\",\"#FF97FF\",\"#FECB52\"],\"font\":{\"color\":\"#2a3f5f\"},\"hovermode\":\"closest\",\"hoverlabel\":{\"align\":\"left\"},\"paper_bgcolor\":\"white\",\"plot_bgcolor\":\"white\",\"polar\":{\"bgcolor\":\"white\",\"angularaxis\":{\"gridcolor\":\"#EBF0F8\",\"linecolor\":\"#EBF0F8\",\"ticks\":\"\"},\"radialaxis\":{\"gridcolor\":\"#EBF0F8\",\"linecolor\":\"#EBF0F8\",\"ticks\":\"\"}},\"ternary\":{\"bgcolor\":\"white\",\"aaxis\":{\"gridcolor\":\"#DFE8F3\",\"linecolor\":\"#A2B1C6\",\"ticks\":\"\"},\"baxis\":{\"gridcolor\":\"#DFE8F3\",\"linecolor\":\"#A2B1C6\",\"ticks\":\"\"},\"caxis\":{\"gridcolor\":\"#DFE8F3\",\"linecolor\":\"#A2B1C6\",\"ticks\":\"\"}},\"coloraxis\":{\"colorbar\":{\"outlinewidth\":0,\"ticks\":\"\"}},\"colorscale\":{\"sequential\":[[0.0,\"#0d0887\"],[0.1111111111111111,\"#46039f\"],[0.2222222222222222,\"#7201a8\"],[0.3333333333333333,\"#9c179e\"],[0.4444444444444444,\"#bd3786\"],[0.5555555555555556,\"#d8576b\"],[0.6666666666666666,\"#ed7953\"],[0.7777777777777778,\"#fb9f3a\"],[0.8888888888888888,\"#fdca26\"],[1.0,\"#f0f921\"]],\"sequentialminus\":[[0.0,\"#0d0887\"],[0.1111111111111111,\"#46039f\"],[0.2222222222222222,\"#7201a8\"],[0.3333333333333333,\"#9c179e\"],[0.4444444444444444,\"#bd3786\"],[0.5555555555555556,\"#d8576b\"],[0.6666666666666666,\"#ed7953\"],[0.7777777777777778,\"#fb9f3a\"],[0.8888888888888888,\"#fdca26\"],[1.0,\"#f0f921\"]],\"diverging\":[[0,\"#8e0152\"],[0.1,\"#c51b7d\"],[0.2,\"#de77ae\"],[0.3,\"#f1b6da\"],[0.4,\"#fde0ef\"],[0.5,\"#f7f7f7\"],[0.6,\"#e6f5d0\"],[0.7,\"#b8e186\"],[0.8,\"#7fbc41\"],[0.9,\"#4d9221\"],[1,\"#276419\"]]},\"xaxis\":{\"gridcolor\":\"#EBF0F8\",\"linecolor\":\"#EBF0F8\",\"ticks\":\"\",\"title\":{\"standoff\":15},\"zerolinecolor\":\"#EBF0F8\",\"automargin\":true,\"zerolinewidth\":2},\"yaxis\":{\"gridcolor\":\"#EBF0F8\",\"linecolor\":\"#EBF0F8\",\"ticks\":\"\",\"title\":{\"standoff\":15},\"zerolinecolor\":\"#EBF0F8\",\"automargin\":true,\"zerolinewidth\":2},\"scene\":{\"xaxis\":{\"backgroundcolor\":\"white\",\"gridcolor\":\"#DFE8F3\",\"linecolor\":\"#EBF0F8\",\"showbackground\":true,\"ticks\":\"\",\"zerolinecolor\":\"#EBF0F8\",\"gridwidth\":2},\"yaxis\":{\"backgroundcolor\":\"white\",\"gridcolor\":\"#DFE8F3\",\"linecolor\":\"#EBF0F8\",\"showbackground\":true,\"ticks\":\"\",\"zerolinecolor\":\"#EBF0F8\",\"gridwidth\":2},\"zaxis\":{\"backgroundcolor\":\"white\",\"gridcolor\":\"#DFE8F3\",\"linecolor\":\"#EBF0F8\",\"showbackground\":true,\"ticks\":\"\",\"zerolinecolor\":\"#EBF0F8\",\"gridwidth\":2}},\"shapedefaults\":{\"line\":{\"color\":\"#2a3f5f\"}},\"annotationdefaults\":{\"arrowcolor\":\"#2a3f5f\",\"arrowhead\":0,\"arrowwidth\":1},\"geo\":{\"bgcolor\":\"white\",\"landcolor\":\"white\",\"subunitcolor\":\"#C8D4E3\",\"showland\":true,\"showlakes\":true,\"lakecolor\":\"white\"},\"title\":{\"x\":0.05},\"mapbox\":{\"style\":\"light\"}}},\"xaxis\":{\"anchor\":\"y\",\"domain\":[0.0,1.0],\"title\":{\"text\":\"response\"},\"showline\":true,\"mirror\":true,\"linecolor\":\"darkgray\"},\"yaxis\":{\"anchor\":\"x\",\"domain\":[0.0,1.0],\"title\":{\"text\":\"pisa_score\"},\"showline\":true,\"mirror\":true,\"linecolor\":\"darkgray\"},\"legend\":{\"tracegroupgap\":0},\"title\":{\"subtitle\":{\"text\":\"r=0.799, N=33\"},\"text\":\"PISA 2015 Average Score vs. Wallet Return Rate by Country\"}},                        {\"responsive\": true}                    )                };            </script>        </div>"
      ]
     },
     "metadata": {},
     "output_type": "display_data"
    }
   ],
   "source": [
    "import pandas as pd\n",
    "import plotly.express as px\n",
    "import plotly.io as pio\n",
    "\n",
    "pio.templates.default = \"plotly_white\"\n",
    "pio.renderers.default = \"sphinx_gallery\"\n",
    "\n",
    "import statsmodels.api as sm\n",
    "\n",
    "# Import Tannenbaum dataa\n",
    "df = pd.read_csv(\n",
    "    \"../data/tannenbaum_data.csv\",\n",
    ")\n",
    "\n",
    "# Import PISA data\n",
    "pisa = pd.read_csv(\"../data/pisa_data.csv\")\n",
    "pisa = pisa.loc[pisa['year'] == 2015]\n",
    "pisa = pisa.groupby('country')['pisa_score'].mean().reset_index()\n",
    "\n",
    "df = df.merge(pisa, how=\"left\", on=\"country\")\n",
    "wallet_pisa = df.groupby([\"country\"])[[\"response\", \"pisa_score\"]].mean()\n",
    "\n",
    "# Calculate sample size\n",
    "sample_size = wallet_pisa[[\"response\", \"pisa_score\"]].reset_index().dropna().shape[0]\n",
    "\n",
    "# Scatter plot\n",
    "fig_scatter_pisa_wallet = px.scatter(\n",
    "    wallet_pisa.reset_index(),\n",
    "    x=\"response\",\n",
    "    y=\"pisa_score\",\n",
    "    hover_data=[\"country\"],\n",
    "    title=\"PISA 2015 Average Score vs. Wallet Return Rate by Country\",\n",
    "    subtitle=f\"r={wallet_pisa.corr().iloc[0,1]:.3f}\" + \", N=\" + str(sample_size),\n",
    "    trendline=\"ols\",\n",
    ")\n",
    "fig_scatter_pisa_wallet.update_xaxes(showline=True, mirror=True, linecolor=\"darkgray\")\n",
    "fig_scatter_pisa_wallet.update_yaxes(showline=True, mirror=True, linecolor=\"darkgray\")\n",
    "\n",
    "fig_scatter_pisa_wallet.show()"
   ]
  },
  {
   "cell_type": "markdown",
   "id": "d945fc62",
   "metadata": {},
   "source": [
    "There's obviously a strong correlation between PISA scores and wallet reporting rates (`r = 0.799`). This is greater than the correlation with any other \"Economic and Institutional Performance\" measure as seen later in a correlation matrix plot. This suggests a close link between societal honesty (as measured by wallet returns) and educational outcomes.\n",
    "\n",
    "Since PISA scores and lost wallet return rates are so closely correlated, it isn't surprising that we'll see that they relate similarly with other variables in the next section."
   ]
  },
  {
   "cell_type": "markdown",
   "id": "da49fb29",
   "metadata": {},
   "source": [
    "## Missing Countries from PISA Study\n",
    "\n",
    ":::{caution}\n",
    "The PISA data used in this report is from 2015 but similar results are found using the 2018 PISA data. It should be noted that the PISA study is missing data for some important countries that are included in the Wallet Return Dataset (China, India, Ghana, Kenya, and South Africa). The 2015 PISA results do include measures for Chinese cities, however, China proves to be an extreme outlier with very high education scores and very low lost wallet reporting rate. Tannenbaum's paper also noted China as a special case. East Asian countries are generally underrepresented in the wallet dataset and the three other East Asian countries included (Malaysia, Thailand, Indonesia) are very different from China, both culturally, economically, and governmentally.\n",
    ":::"
   ]
  },
  {
   "cell_type": "markdown",
   "id": "d150960b",
   "metadata": {},
   "source": []
  }
 ],
 "metadata": {
  "kernelspec": {
   "display_name": ".pisa_wallet_venv",
   "language": "python",
   "name": "python3"
  },
  "language_info": {
   "codemirror_mode": {
    "name": "ipython",
    "version": 3
   },
   "file_extension": ".py",
   "mimetype": "text/x-python",
   "name": "python",
   "nbconvert_exporter": "python",
   "pygments_lexer": "ipython3",
   "version": "3.12.1"
  }
 },
 "nbformat": 4,
 "nbformat_minor": 5
}
