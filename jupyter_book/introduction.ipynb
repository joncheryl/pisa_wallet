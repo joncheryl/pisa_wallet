{
 "cells": [
  {
   "cell_type": "markdown",
   "id": "469408df",
   "metadata": {},
   "source": [
    "# Introduction\n",
    "\n",
    "---Integrated Analysis: Lost Wallets, PISA Scores, and Social Capital Measures---\n",
    "\n",
    "In the paper [What Do Cross-country Surveys Tell Us about Social Capital?](https://davetannenbaum.github.io/documents/TannenbaumCohnZundMarechal2025.pdf), Tannenbaum et al. use the [Wallet Return Dataset](https://dataverse.harvard.edu/dataset.xhtml?persistentId=doi:10.7910/DVN/YKBODN) as a direct measure of civic honesty to investigate two types of indirect social capital measures. First, they provide an analysis of lost wallet reporting rates and their correlation to survey measures of social capital, showing the quantitative extent to which survey measures contain legitimate information about social capital. Second, they show that lost wallet reporting rates may be used as effective predictors of \"Economic and Institutional Performance\", confirming social capital's economic explanatory value.\n",
    "\n",
    "I became curious of how educational assessment data would relate to these findings. The [Programme for International Student Assessment (PISA)](https://www.oecd.org/en/about/programmes/pisa.html) contains data on national educational program effectiveness, measured on 15-year-olds and is a standard dataset for comparing education outcomes between countries. Surprisingly, PISA scores were very strongly correlated with lost wallet reporting rates and consequently resulted in the following concerning the two aims of the Tannenbaum paper:\n",
    "1) PISA scores correlated with survey measures of social capital in largely the same manner as lost wallet reporting rates.\n",
    "2) Lost wallet reporting rate proved to be arguably a better predictor of PISA scores than of any of the other measures of \"Economic and Institutional Performance\".\n",
    "\n",
    "Throwing caution to the wind and jumping to conclusions in haste: this shows that increasing the performance of education systems necessarily requires improving civic honesty. Since it is unlikely that neither civic honesty nor educational success cause the other, it stands to reason that educational success is ultimately a function of social capital which is easy to suspect as the causative factor."
   ]
  },
  {
   "cell_type": "markdown",
   "id": "0560324d",
   "metadata": {
    "vscode": {
     "languageId": "plaintext"
    }
   },
   "source": [
    "### Merging PISA Data with Wallet Data\n",
    "We calculate wallet reporting rates (proportion of '100' responses) per country and merge this with the PISA data."
   ]
  },
  {
   "cell_type": "code",
   "execution_count": 5,
   "id": "0bb9635f",
   "metadata": {},
   "outputs": [
    {
     "data": {
      "text/html": [
       "<div>\n",
       "<style scoped>\n",
       "    .dataframe tbody tr th:only-of-type {\n",
       "        vertical-align: middle;\n",
       "    }\n",
       "\n",
       "    .dataframe tbody tr th {\n",
       "        vertical-align: top;\n",
       "    }\n",
       "\n",
       "    .dataframe thead th {\n",
       "        text-align: right;\n",
       "    }\n",
       "</style>\n",
       "<table border=\"1\" class=\"dataframe\">\n",
       "  <thead>\n",
       "    <tr style=\"text-align: right;\">\n",
       "      <th></th>\n",
       "      <th>response</th>\n",
       "      <th>pisa_score</th>\n",
       "    </tr>\n",
       "  </thead>\n",
       "  <tbody>\n",
       "    <tr>\n",
       "      <th>response</th>\n",
       "      <td>1.000000</td>\n",
       "      <td>0.796786</td>\n",
       "    </tr>\n",
       "    <tr>\n",
       "      <th>pisa_score</th>\n",
       "      <td>0.796786</td>\n",
       "      <td>1.000000</td>\n",
       "    </tr>\n",
       "  </tbody>\n",
       "</table>\n",
       "</div>"
      ],
      "text/plain": [
       "            response  pisa_score\n",
       "response    1.000000    0.796786\n",
       "pisa_score  0.796786    1.000000"
      ]
     },
     "execution_count": 5,
     "metadata": {},
     "output_type": "execute_result"
    }
   ],
   "source": [
    "import pandas as pd\n",
    "import plotly.express as px\n",
    "\n",
    "import statsmodels.api as sm\n",
    "\n",
    "cat_cols = [\n",
    "    \"country\",\n",
    "    \"response\",\n",
    "    \"male\",\n",
    "    \"above40\",\n",
    "    \"computer\",\n",
    "    \"coworkers\",\n",
    "    \"other_bystanders\",\n",
    "    \"institution\",\n",
    "    \"cond\",\n",
    "    \"security_cam\",\n",
    "    \"security_guard\",\n",
    "    \"local_recipient\",\n",
    "    \"no_english\",\n",
    "    \"understood_situation\",\n",
    "]\n",
    "\n",
    "# Import Tannenbaum data\n",
    "df = pd.read_csv(\n",
    "    \"../data/tannenbaum_data.csv\",\n",
    "    dtype={col: \"category\" for col in cat_cols},\n",
    ")\n",
    "\n",
    "# Import PISA data\n",
    "pisa = pd.read_csv(\"../data/pisa_data.csv\").rename(columns={\"mean_score\": \"pisa_score\"})\n",
    "df = df.merge(pisa, how=\"left\", on=\"country\")\n",
    "\n",
    "wallet_pisa = (\n",
    "    df.astype({\"response\": int})\n",
    "    .groupby([\"country\", \"subject\"])[[\"response\", \"pisa_score\"]]\n",
    "    .mean()\n",
    "    # .reset_index()\n",
    ")\n",
    "\n",
    "wallet_pisa.corr()"
   ]
  },
  {
   "cell_type": "code",
   "execution_count": 6,
   "id": "efa25d69",
   "metadata": {},
   "outputs": [
    {
     "data": {
      "application/vnd.plotly.v1+json": {
       "config": {
        "plotlyServerURL": "https://plot.ly"
       },
       "data": [
        {
         "customdata": [
          [
           "Argentina"
          ],
          [
           "Argentina"
          ],
          [
           "Argentina"
          ],
          [
           "Australia"
          ],
          [
           "Australia"
          ],
          [
           "Australia"
          ],
          [
           "Brazil"
          ],
          [
           "Brazil"
          ],
          [
           "Brazil"
          ],
          [
           "Canada"
          ],
          [
           "Canada"
          ],
          [
           "Canada"
          ],
          [
           "Chile"
          ],
          [
           "Chile"
          ],
          [
           "Chile"
          ],
          [
           "Croatia"
          ],
          [
           "Croatia"
          ],
          [
           "Croatia"
          ],
          [
           "Czech Republic"
          ],
          [
           "Czech Republic"
          ],
          [
           "Czech Republic"
          ],
          [
           "Denmark"
          ],
          [
           "Denmark"
          ],
          [
           "Denmark"
          ],
          [
           "France"
          ],
          [
           "France"
          ],
          [
           "France"
          ],
          [
           "Germany"
          ],
          [
           "Germany"
          ],
          [
           "Germany"
          ],
          [
           "Greece"
          ],
          [
           "Greece"
          ],
          [
           "Greece"
          ],
          [
           "Indonesia"
          ],
          [
           "Indonesia"
          ],
          [
           "Indonesia"
          ],
          [
           "Israel"
          ],
          [
           "Israel"
          ],
          [
           "Israel"
          ],
          [
           "Italy"
          ],
          [
           "Italy"
          ],
          [
           "Italy"
          ],
          [
           "Kazakhstan"
          ],
          [
           "Kazakhstan"
          ],
          [
           "Kazakhstan"
          ],
          [
           "Malaysia"
          ],
          [
           "Malaysia"
          ],
          [
           "Malaysia"
          ],
          [
           "Mexico"
          ],
          [
           "Mexico"
          ],
          [
           "Mexico"
          ],
          [
           "Morocco"
          ],
          [
           "Morocco"
          ],
          [
           "Morocco"
          ],
          [
           "Netherlands"
          ],
          [
           "Netherlands"
          ],
          [
           "Netherlands"
          ],
          [
           "New Zealand"
          ],
          [
           "New Zealand"
          ],
          [
           "New Zealand"
          ],
          [
           "Norway"
          ],
          [
           "Norway"
          ],
          [
           "Norway"
          ],
          [
           "Peru"
          ],
          [
           "Peru"
          ],
          [
           "Peru"
          ],
          [
           "Poland"
          ],
          [
           "Poland"
          ],
          [
           "Poland"
          ],
          [
           "Portugal"
          ],
          [
           "Portugal"
          ],
          [
           "Portugal"
          ],
          [
           "Romania"
          ],
          [
           "Romania"
          ],
          [
           "Romania"
          ],
          [
           "Serbia"
          ],
          [
           "Serbia"
          ],
          [
           "Serbia"
          ],
          [
           "Spain"
          ],
          [
           "Spain"
          ],
          [
           "Spain"
          ],
          [
           "Sweden"
          ],
          [
           "Sweden"
          ],
          [
           "Sweden"
          ],
          [
           "Switzerland"
          ],
          [
           "Switzerland"
          ],
          [
           "Switzerland"
          ],
          [
           "Thailand"
          ],
          [
           "Thailand"
          ],
          [
           "Thailand"
          ],
          [
           "UAE"
          ],
          [
           "UAE"
          ],
          [
           "UAE"
          ],
          [
           "UK"
          ],
          [
           "UK"
          ],
          [
           "UK"
          ],
          [
           "USA"
          ],
          [
           "USA"
          ],
          [
           "USA"
          ]
         ],
         "hovertemplate": "response=%{x}<br>pisa_score=%{y}<br>country=%{customdata[0]}<extra></extra>",
         "legendgroup": "",
         "marker": {
          "color": "#636efa",
          "symbol": "circle"
         },
         "mode": "markers",
         "name": "",
         "orientation": "v",
         "showlegend": false,
         "type": "scatter",
         "x": {
          "bdata": "AAAAAADAR0AAAAAAAMBHQAAAAAAAwEdANyXalGhTTkA3JdqUaFNOQDcl2pRoU05A1OpOqzutREDU6k6rO61EQNTqTqs7rURAAAAAAACAS0AAAAAAAIBLQAAAAAAAgEtA5DiO4zgOQkDkOI7jOA5CQOQ4juM4DkJAq6qqqqqqTUCrqqqqqqpNQKuqqqqqqk1AAAAAAACAUUAAAAAAAIBRQAAAAAAAgFFAAAAAAADAUkAAAAAAAMBSQAAAAAAAwFJAnxertBX+S0CfF6u0Ff5LQJ8Xq7QV/ktAAAAAAAAATkAAAAAAAABOQAAAAAAAAE5AAAAAAACgRkAAAAAAAKBGQAAAAAAAoEZAAAAAAAAAOUAAAAAAAAA5QAAAAAAAADlAVVVVVVVVR0BVVVVVVVVHQFVVVVVVVUdAAAAAAADgREAAAAAAAOBEQAAAAAAA4ERAAAAAAACAMUAAAAAAAIAxQAAAAAAAgDFAAAAAAABAM0AAAAAAAEAzQAAAAAAAQDNAAAAAAAAANUAAAAAAAAA1QAAAAAAAADVATivunWSpMUBOK+6dZKkxQE4r7p1kqTFAAAAAAADQUUAAAAAAANBRQAAAAAAA0FFAAAAAAACwUUAAAAAAALBRQAAAAAAAsFFAq6qqqqqqUkCrqqqqqqpSQKuqqqqqqlJAAAAAAACAK0AAAAAAAIArQAAAAAAAgCtAAAAAAADwUEAAAAAAAPBQQAAAAAAA8FBAAAAAAABARUAAAAAAAEBFQAAAAAAAQEVAAAAAAABgS0AAAAAAAGBLQAAAAAAAYEtAVVVVVVVVS0BVVVVVVVVLQFVVVVVVVUtAAAAAAAAAS0AAAAAAAABLQAAAAAAAAEtAAAAAAACQUkAAAAAAAJBSQAAAAAAAkFJAxMEOBzscU0DEwQ4HOxxTQMTBDgc7HFNAAAAAAAAAQEAAAAAAAABAQAAAAAAAAEBAAAAAAACAOUAAAAAAAIA5QAAAAAAAgDlAIi43eQ5QTEAiLjd5DlBMQCIuN3kOUExAZmZmZmZmSkBmZmZmZmZKQGZmZmZmZkpA",
          "dtype": "f8"
         },
         "xaxis": "x",
         "y": {
          "bdata": "AAAAAACgd0AAAAAAABB5QAAAAAAAYHlAAAAAAABwfkAAAAAAACB/QAAAAAAAsH9AAAAAAACwd0AAAAAAAKB5QAAAAAAAMHlAAAAAAAAQf0AAAAAAALB/QAAAAAAAGIBAAAAAAADAeUAAAAAAAAB8QAAAAAAAwHtAAAAAAADwfEAAAAAAALB9QAAAAAAAMH5AAAAAAABwfkAAAAAAAJB+QAAAAAAAIH9AAAAAAACQfkAAAAAAAJB+QAAAAAAA4H5AAAAAAACgfUAAAAAAAKB9QAAAAAAAcH5AAAAAAACwfUAAAAAAAAB+QAAAAAAAwH5AAAAAAADgekAAAAAAAGB7QAAAAAAAkHtAAAAAAADgdkAAAAAAAHB2QAAAAAAA8HdAAAAAAACgfEAAAAAAAKB9QAAAAAAAEH1AAAAAAABwfUAAAAAAACB+QAAAAAAA0H1AAAAAAACQekAAAAAAACB4QAAAAAAAcHpAAAAAAACQeUAAAAAAAEB4QAAAAAAAAHpAAAAAAACweEAAAAAAAPB5QAAAAAAAoHlAAAAAAADQdkAAAAAAADB1QAAAAAAA0HZAAAAAAADQfkAAAAAAALB8QAAAAAAAgH5AAAAAAADwfUAAAAAAAFB/QAAAAAAAgH9AAAAAAABAfUAAAAAAANB9QAAAAAAA4H1AAAAAAABweEAAAAAAAIB5QAAAAAAAgHlAAAAAAACQfkAAAAAAAJB+QAAAAAAAMH9AAAAAAACAfUAAAAAAANB9QAAAAAAAQH5AAAAAAADAekAAAAAAAMB6QAAAAAAAwHpAAAAAAACAe0AAAAAAAIB7QAAAAAAA8HtAAAAAAACQfUAAAAAAAKB9QAAAAAAAUH5AAAAAAAAgfkAAAAAAAHB+QAAAAAAA4H5AAAAAAADAf0AAAAAAADB+QAAAAAAAcH9AAAAAAACgeEAAAAAAALB3QAAAAAAAkHlAAAAAAADwekAAAAAAABB6QAAAAAAAAHtAAAAAAACQfkAAAAAAAOB+QAAAAAAAQH9AAAAAAAAQfUAAAAAAAIB/QAAAAAAAMH9A",
          "dtype": "f8"
         },
         "yaxis": "y"
        },
        {
         "hovertemplate": "<b>OLS trendline</b><br>pisa_score = 1.8362 * response + 362.547<br>R<sup>2</sup>=0.634868<br><br>response=%{x}<br>pisa_score=%{y} <b>(trend)</b><extra></extra>",
         "legendgroup": "",
         "marker": {
          "color": "#636efa",
          "symbol": "circle"
         },
         "mode": "lines",
         "name": "",
         "showlegend": false,
         "type": "scatter",
         "x": {
          "bdata": "AAAAAACAK0AAAAAAAIArQAAAAAAAgCtAAAAAAACAMUAAAAAAAIAxQAAAAAAAgDFATivunWSpMUBOK+6dZKkxQE4r7p1kqTFAAAAAAABAM0AAAAAAAEAzQAAAAAAAQDNAAAAAAAAANUAAAAAAAAA1QAAAAAAAADVAAAAAAAAAOUAAAAAAAAA5QAAAAAAAADlAAAAAAACAOUAAAAAAAIA5QAAAAAAAgDlAAAAAAAAAQEAAAAAAAABAQAAAAAAAAEBA5DiO4zgOQkDkOI7jOA5CQOQ4juM4DkJA1OpOqzutREDU6k6rO61EQNTqTqs7rURAAAAAAADgREAAAAAAAOBEQAAAAAAA4ERAAAAAAABARUAAAAAAAEBFQAAAAAAAQEVAAAAAAACgRkAAAAAAAKBGQAAAAAAAoEZAVVVVVVVVR0BVVVVVVVVHQFVVVVVVVUdAAAAAAADAR0AAAAAAAMBHQAAAAAAAwEdAZmZmZmZmSkBmZmZmZmZKQGZmZmZmZkpAAAAAAAAAS0AAAAAAAABLQAAAAAAAAEtAVVVVVVVVS0BVVVVVVVVLQFVVVVVVVUtAAAAAAABgS0AAAAAAAGBLQAAAAAAAYEtAAAAAAACAS0AAAAAAAIBLQAAAAAAAgEtAnxertBX+S0CfF6u0Ff5LQJ8Xq7QV/ktAIi43eQ5QTEAiLjd5DlBMQCIuN3kOUExAq6qqqqqqTUCrqqqqqqpNQKuqqqqqqk1AAAAAAAAATkAAAAAAAABOQAAAAAAAAE5ANyXalGhTTkA3JdqUaFNOQDcl2pRoU05AAAAAAADwUEAAAAAAAPBQQAAAAAAA8FBAAAAAAACAUUAAAAAAAIBRQAAAAAAAgFFAAAAAAACwUUAAAAAAALBRQAAAAAAAsFFAAAAAAADQUUAAAAAAANBRQAAAAAAA0FFAAAAAAACQUkAAAAAAAJBSQAAAAAAAkFJAq6qqqqqqUkCrqqqqqqpSQKuqqqqqqlJAAAAAAADAUkAAAAAAAMBSQAAAAAAAwFJAxMEOBzscU0DEwQ4HOxxTQMTBDgc7HFNA",
          "dtype": "f8"
         },
         "xaxis": "x",
         "y": {
          "bdata": "+wm0cbg8eED7CbRxuDx4QPsJtHG4PHhAV5jTdOSqeEBXmNN05Kp4QFeY03TkqnhACFW8jKSveEAIVbyMpK94QAhVvIykr3hAgpYmVE7eeECCliZUTt54QIKWJlRO3nhArZR5M7gReUCtlHkzuBF5QK2UeTO4EXlAD7USezyHeUAPtRJ7PId5QA+1Ens8h3lAG9kFBO2VeUAb2QUE7ZV5QBvZBQTtlXlAu61e+ONUekC7rV7441R6QLutXvjjVHpAPJ2f7KvNekA8nZ/sq816QDydn+yrzXpADDfSa69ne0AMN9Jrr2d7QAw30muvZ3tAquzjZlZze0Cq7ONmVnN7QKrs42ZWc3tAvKJQNF+Je0C8olA0X4l7QLyiUDRfiXtAAOmJJSrae0AA6YklKtp7QADpiSUq2ntAzXnl/sgDfEDNeeX+yAN8QM155f7IA3xANwvQjUQcfEA3C9CNRBx8QDcL0I1EHHxAuO96Ofq3fEC473o5+rd8QLjvejn6t3xA1t8ogjvbfEDW3yiCO9t8QNbfKII723xAkboXjtHufECRuheO0e58QJG6F47R7nxA6JWVT0TxfEDolZVPRPF8QOiVlU9E8XxA7icPlJz4fEDuJw+UnPh8QO4nD5Sc+HxA9IwSHY0VfUD0jBIdjRV9QPSMEh2NFX1Afr+Vo10ofUB+v5WjXSh9QH6/laNdKH1ArrWf4et3fUCutZ/h63d9QK61n+Hrd31AaZCO7YGLfUBpkI7tgYt9QGmQju2Bi31A07wy4KaefUDTvDLgpp59QNO8MuCmnn1AJz9HODJvfkAnP0c4Mm9+QCc/Rzgyb35AXmGNoEyxfkBeYY2gTLF+QF5hjaBMsX5AcRf6bVXHfkBxF/ptVcd+QHEX+m1Vx35AfTvt9gXWfkB9O+32BdZ+QH077fYF1n5AxhOgLCkuf0DGE6AsKS5/QMYToCwpLn9AfFwV9GY6f0B8XBX0Zjp/QHxcFfRmOn9A2ckM+jFEf0DZyQz6MUR/QNnJDPoxRH9A6rWBnIhuf0DqtYGciG5/QOq1gZyIbn9A",
          "dtype": "f8"
         },
         "yaxis": "y"
        }
       ],
       "layout": {
        "legend": {
         "tracegroupgap": 0
        },
        "template": {
         "data": {
          "bar": [
           {
            "error_x": {
             "color": "#2a3f5f"
            },
            "error_y": {
             "color": "#2a3f5f"
            },
            "marker": {
             "line": {
              "color": "#E5ECF6",
              "width": 0.5
             },
             "pattern": {
              "fillmode": "overlay",
              "size": 10,
              "solidity": 0.2
             }
            },
            "type": "bar"
           }
          ],
          "barpolar": [
           {
            "marker": {
             "line": {
              "color": "#E5ECF6",
              "width": 0.5
             },
             "pattern": {
              "fillmode": "overlay",
              "size": 10,
              "solidity": 0.2
             }
            },
            "type": "barpolar"
           }
          ],
          "carpet": [
           {
            "aaxis": {
             "endlinecolor": "#2a3f5f",
             "gridcolor": "white",
             "linecolor": "white",
             "minorgridcolor": "white",
             "startlinecolor": "#2a3f5f"
            },
            "baxis": {
             "endlinecolor": "#2a3f5f",
             "gridcolor": "white",
             "linecolor": "white",
             "minorgridcolor": "white",
             "startlinecolor": "#2a3f5f"
            },
            "type": "carpet"
           }
          ],
          "choropleth": [
           {
            "colorbar": {
             "outlinewidth": 0,
             "ticks": ""
            },
            "type": "choropleth"
           }
          ],
          "contour": [
           {
            "colorbar": {
             "outlinewidth": 0,
             "ticks": ""
            },
            "colorscale": [
             [
              0,
              "#0d0887"
             ],
             [
              0.1111111111111111,
              "#46039f"
             ],
             [
              0.2222222222222222,
              "#7201a8"
             ],
             [
              0.3333333333333333,
              "#9c179e"
             ],
             [
              0.4444444444444444,
              "#bd3786"
             ],
             [
              0.5555555555555556,
              "#d8576b"
             ],
             [
              0.6666666666666666,
              "#ed7953"
             ],
             [
              0.7777777777777778,
              "#fb9f3a"
             ],
             [
              0.8888888888888888,
              "#fdca26"
             ],
             [
              1,
              "#f0f921"
             ]
            ],
            "type": "contour"
           }
          ],
          "contourcarpet": [
           {
            "colorbar": {
             "outlinewidth": 0,
             "ticks": ""
            },
            "type": "contourcarpet"
           }
          ],
          "heatmap": [
           {
            "colorbar": {
             "outlinewidth": 0,
             "ticks": ""
            },
            "colorscale": [
             [
              0,
              "#0d0887"
             ],
             [
              0.1111111111111111,
              "#46039f"
             ],
             [
              0.2222222222222222,
              "#7201a8"
             ],
             [
              0.3333333333333333,
              "#9c179e"
             ],
             [
              0.4444444444444444,
              "#bd3786"
             ],
             [
              0.5555555555555556,
              "#d8576b"
             ],
             [
              0.6666666666666666,
              "#ed7953"
             ],
             [
              0.7777777777777778,
              "#fb9f3a"
             ],
             [
              0.8888888888888888,
              "#fdca26"
             ],
             [
              1,
              "#f0f921"
             ]
            ],
            "type": "heatmap"
           }
          ],
          "histogram": [
           {
            "marker": {
             "pattern": {
              "fillmode": "overlay",
              "size": 10,
              "solidity": 0.2
             }
            },
            "type": "histogram"
           }
          ],
          "histogram2d": [
           {
            "colorbar": {
             "outlinewidth": 0,
             "ticks": ""
            },
            "colorscale": [
             [
              0,
              "#0d0887"
             ],
             [
              0.1111111111111111,
              "#46039f"
             ],
             [
              0.2222222222222222,
              "#7201a8"
             ],
             [
              0.3333333333333333,
              "#9c179e"
             ],
             [
              0.4444444444444444,
              "#bd3786"
             ],
             [
              0.5555555555555556,
              "#d8576b"
             ],
             [
              0.6666666666666666,
              "#ed7953"
             ],
             [
              0.7777777777777778,
              "#fb9f3a"
             ],
             [
              0.8888888888888888,
              "#fdca26"
             ],
             [
              1,
              "#f0f921"
             ]
            ],
            "type": "histogram2d"
           }
          ],
          "histogram2dcontour": [
           {
            "colorbar": {
             "outlinewidth": 0,
             "ticks": ""
            },
            "colorscale": [
             [
              0,
              "#0d0887"
             ],
             [
              0.1111111111111111,
              "#46039f"
             ],
             [
              0.2222222222222222,
              "#7201a8"
             ],
             [
              0.3333333333333333,
              "#9c179e"
             ],
             [
              0.4444444444444444,
              "#bd3786"
             ],
             [
              0.5555555555555556,
              "#d8576b"
             ],
             [
              0.6666666666666666,
              "#ed7953"
             ],
             [
              0.7777777777777778,
              "#fb9f3a"
             ],
             [
              0.8888888888888888,
              "#fdca26"
             ],
             [
              1,
              "#f0f921"
             ]
            ],
            "type": "histogram2dcontour"
           }
          ],
          "mesh3d": [
           {
            "colorbar": {
             "outlinewidth": 0,
             "ticks": ""
            },
            "type": "mesh3d"
           }
          ],
          "parcoords": [
           {
            "line": {
             "colorbar": {
              "outlinewidth": 0,
              "ticks": ""
             }
            },
            "type": "parcoords"
           }
          ],
          "pie": [
           {
            "automargin": true,
            "type": "pie"
           }
          ],
          "scatter": [
           {
            "fillpattern": {
             "fillmode": "overlay",
             "size": 10,
             "solidity": 0.2
            },
            "type": "scatter"
           }
          ],
          "scatter3d": [
           {
            "line": {
             "colorbar": {
              "outlinewidth": 0,
              "ticks": ""
             }
            },
            "marker": {
             "colorbar": {
              "outlinewidth": 0,
              "ticks": ""
             }
            },
            "type": "scatter3d"
           }
          ],
          "scattercarpet": [
           {
            "marker": {
             "colorbar": {
              "outlinewidth": 0,
              "ticks": ""
             }
            },
            "type": "scattercarpet"
           }
          ],
          "scattergeo": [
           {
            "marker": {
             "colorbar": {
              "outlinewidth": 0,
              "ticks": ""
             }
            },
            "type": "scattergeo"
           }
          ],
          "scattergl": [
           {
            "marker": {
             "colorbar": {
              "outlinewidth": 0,
              "ticks": ""
             }
            },
            "type": "scattergl"
           }
          ],
          "scattermap": [
           {
            "marker": {
             "colorbar": {
              "outlinewidth": 0,
              "ticks": ""
             }
            },
            "type": "scattermap"
           }
          ],
          "scattermapbox": [
           {
            "marker": {
             "colorbar": {
              "outlinewidth": 0,
              "ticks": ""
             }
            },
            "type": "scattermapbox"
           }
          ],
          "scatterpolar": [
           {
            "marker": {
             "colorbar": {
              "outlinewidth": 0,
              "ticks": ""
             }
            },
            "type": "scatterpolar"
           }
          ],
          "scatterpolargl": [
           {
            "marker": {
             "colorbar": {
              "outlinewidth": 0,
              "ticks": ""
             }
            },
            "type": "scatterpolargl"
           }
          ],
          "scatterternary": [
           {
            "marker": {
             "colorbar": {
              "outlinewidth": 0,
              "ticks": ""
             }
            },
            "type": "scatterternary"
           }
          ],
          "surface": [
           {
            "colorbar": {
             "outlinewidth": 0,
             "ticks": ""
            },
            "colorscale": [
             [
              0,
              "#0d0887"
             ],
             [
              0.1111111111111111,
              "#46039f"
             ],
             [
              0.2222222222222222,
              "#7201a8"
             ],
             [
              0.3333333333333333,
              "#9c179e"
             ],
             [
              0.4444444444444444,
              "#bd3786"
             ],
             [
              0.5555555555555556,
              "#d8576b"
             ],
             [
              0.6666666666666666,
              "#ed7953"
             ],
             [
              0.7777777777777778,
              "#fb9f3a"
             ],
             [
              0.8888888888888888,
              "#fdca26"
             ],
             [
              1,
              "#f0f921"
             ]
            ],
            "type": "surface"
           }
          ],
          "table": [
           {
            "cells": {
             "fill": {
              "color": "#EBF0F8"
             },
             "line": {
              "color": "white"
             }
            },
            "header": {
             "fill": {
              "color": "#C8D4E3"
             },
             "line": {
              "color": "white"
             }
            },
            "type": "table"
           }
          ]
         },
         "layout": {
          "annotationdefaults": {
           "arrowcolor": "#2a3f5f",
           "arrowhead": 0,
           "arrowwidth": 1
          },
          "autotypenumbers": "strict",
          "coloraxis": {
           "colorbar": {
            "outlinewidth": 0,
            "ticks": ""
           }
          },
          "colorscale": {
           "diverging": [
            [
             0,
             "#8e0152"
            ],
            [
             0.1,
             "#c51b7d"
            ],
            [
             0.2,
             "#de77ae"
            ],
            [
             0.3,
             "#f1b6da"
            ],
            [
             0.4,
             "#fde0ef"
            ],
            [
             0.5,
             "#f7f7f7"
            ],
            [
             0.6,
             "#e6f5d0"
            ],
            [
             0.7,
             "#b8e186"
            ],
            [
             0.8,
             "#7fbc41"
            ],
            [
             0.9,
             "#4d9221"
            ],
            [
             1,
             "#276419"
            ]
           ],
           "sequential": [
            [
             0,
             "#0d0887"
            ],
            [
             0.1111111111111111,
             "#46039f"
            ],
            [
             0.2222222222222222,
             "#7201a8"
            ],
            [
             0.3333333333333333,
             "#9c179e"
            ],
            [
             0.4444444444444444,
             "#bd3786"
            ],
            [
             0.5555555555555556,
             "#d8576b"
            ],
            [
             0.6666666666666666,
             "#ed7953"
            ],
            [
             0.7777777777777778,
             "#fb9f3a"
            ],
            [
             0.8888888888888888,
             "#fdca26"
            ],
            [
             1,
             "#f0f921"
            ]
           ],
           "sequentialminus": [
            [
             0,
             "#0d0887"
            ],
            [
             0.1111111111111111,
             "#46039f"
            ],
            [
             0.2222222222222222,
             "#7201a8"
            ],
            [
             0.3333333333333333,
             "#9c179e"
            ],
            [
             0.4444444444444444,
             "#bd3786"
            ],
            [
             0.5555555555555556,
             "#d8576b"
            ],
            [
             0.6666666666666666,
             "#ed7953"
            ],
            [
             0.7777777777777778,
             "#fb9f3a"
            ],
            [
             0.8888888888888888,
             "#fdca26"
            ],
            [
             1,
             "#f0f921"
            ]
           ]
          },
          "colorway": [
           "#636efa",
           "#EF553B",
           "#00cc96",
           "#ab63fa",
           "#FFA15A",
           "#19d3f3",
           "#FF6692",
           "#B6E880",
           "#FF97FF",
           "#FECB52"
          ],
          "font": {
           "color": "#2a3f5f"
          },
          "geo": {
           "bgcolor": "white",
           "lakecolor": "white",
           "landcolor": "#E5ECF6",
           "showlakes": true,
           "showland": true,
           "subunitcolor": "white"
          },
          "hoverlabel": {
           "align": "left"
          },
          "hovermode": "closest",
          "mapbox": {
           "style": "light"
          },
          "paper_bgcolor": "white",
          "plot_bgcolor": "#E5ECF6",
          "polar": {
           "angularaxis": {
            "gridcolor": "white",
            "linecolor": "white",
            "ticks": ""
           },
           "bgcolor": "#E5ECF6",
           "radialaxis": {
            "gridcolor": "white",
            "linecolor": "white",
            "ticks": ""
           }
          },
          "scene": {
           "xaxis": {
            "backgroundcolor": "#E5ECF6",
            "gridcolor": "white",
            "gridwidth": 2,
            "linecolor": "white",
            "showbackground": true,
            "ticks": "",
            "zerolinecolor": "white"
           },
           "yaxis": {
            "backgroundcolor": "#E5ECF6",
            "gridcolor": "white",
            "gridwidth": 2,
            "linecolor": "white",
            "showbackground": true,
            "ticks": "",
            "zerolinecolor": "white"
           },
           "zaxis": {
            "backgroundcolor": "#E5ECF6",
            "gridcolor": "white",
            "gridwidth": 2,
            "linecolor": "white",
            "showbackground": true,
            "ticks": "",
            "zerolinecolor": "white"
           }
          },
          "shapedefaults": {
           "line": {
            "color": "#2a3f5f"
           }
          },
          "ternary": {
           "aaxis": {
            "gridcolor": "white",
            "linecolor": "white",
            "ticks": ""
           },
           "baxis": {
            "gridcolor": "white",
            "linecolor": "white",
            "ticks": ""
           },
           "bgcolor": "#E5ECF6",
           "caxis": {
            "gridcolor": "white",
            "linecolor": "white",
            "ticks": ""
           }
          },
          "title": {
           "x": 0.05
          },
          "xaxis": {
           "automargin": true,
           "gridcolor": "white",
           "linecolor": "white",
           "ticks": "",
           "title": {
            "standoff": 15
           },
           "zerolinecolor": "white",
           "zerolinewidth": 2
          },
          "yaxis": {
           "automargin": true,
           "gridcolor": "white",
           "linecolor": "white",
           "ticks": "",
           "title": {
            "standoff": 15
           },
           "zerolinecolor": "white",
           "zerolinewidth": 2
          }
         }
        },
        "title": {
         "text": "PISA 2022 Reading Score vs. Wallet Return Rate by Country"
        },
        "xaxis": {
         "anchor": "y",
         "domain": [
          0,
          1
         ],
         "linecolor": "black",
         "showline": true,
         "title": {
          "text": "response"
         }
        },
        "yaxis": {
         "anchor": "x",
         "domain": [
          0,
          1
         ],
         "linecolor": "black",
         "showline": true,
         "title": {
          "text": "pisa_score"
         }
        }
       }
      }
     },
     "metadata": {},
     "output_type": "display_data"
    }
   ],
   "source": [
    "# Scatter plot\n",
    "fig_scatter_pisa_wallet = px.scatter(\n",
    "    wallet_pisa.reset_index(), \n",
    "    x=\"response\", \n",
    "    y=\"pisa_score\", \n",
    "    hover_data=[\"country\"],\n",
    "    title=\"PISA 2022 Reading Score vs. Wallet Return Rate by Country\",\n",
    "    trendline=\"ols\"\n",
    ")\n",
    "fig_scatter_pisa_wallet.update_xaxes(showline=True, linecolor='black')\n",
    "fig_scatter_pisa_wallet.update_yaxes(showline=True, linecolor='black')\n",
    "fig_scatter_pisa_wallet.show()"
   ]
  },
  {
   "cell_type": "markdown",
   "id": "d945fc62",
   "metadata": {},
   "source": [
    "Since PISA scores and lost wallet return rates are so closely correlated, it isn't surprising that we'll see that they relate similarly with other variables."
   ]
  },
  {
   "cell_type": "markdown",
   "id": "da49fb29",
   "metadata": {},
   "source": [
    "## PISA Missing Countries\n",
    "\n",
    "The PISA data used in this report is from 2022 and was copied directly from the pdf found here:\n",
    "[OECD PISA 2022 Results Vol I](https://www.oecd.org/en/publications/pisa-2022-results-volume-i_53f23881-en.html), pp. 52-57. It should be noted that the PISA 2022 data is missing data for some important countries that are included in the Wallet Return Dataset (China, Russia, India, Ghana, Kenya, South Africa). The 2018 PISA results do include measures for China and Russia, however, China proves to be an extreme outlier with the very high education scores and a very low lost wallet reporting rate. Tannenbaum's paper also noted China as a special case. East Asian countries are generally underrepresented in the wallet dataset and the three other East Asian countries included (Malaysia, Thailand, Indonesia) are very different from China, both culturally, economically, and governmentally."
   ]
  }
 ],
 "metadata": {
  "kernelspec": {
   "display_name": ".venv",
   "language": "python",
   "name": "python3"
  },
  "language_info": {
   "codemirror_mode": {
    "name": "ipython",
    "version": 3
   },
   "file_extension": ".py",
   "mimetype": "text/x-python",
   "name": "python",
   "nbconvert_exporter": "python",
   "pygments_lexer": "ipython3",
   "version": "3.12.4"
  }
 },
 "nbformat": 4,
 "nbformat_minor": 5
}
