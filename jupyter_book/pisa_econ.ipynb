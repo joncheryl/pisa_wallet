{
 "cells": [
  {
   "cell_type": "markdown",
   "id": "d245ad12",
   "metadata": {},
   "source": [
    "# PISA as a Predictor of Economic and Institutional Performance\n",
    "How well do PISA scores (as compared to lost wallet reporting rates) explain variation in economic development?\n",
    "\n",
    "There are four measures of \"Economic and Institutional Performance\" in the second part of the paper: GDP per capita (log_gdp), productivity(log_tfp), government effectiveness (gee), and letter grade efficiency (letter_grading). If PISA scores are considered a fifth measure of the same sort, we find that wallet reporting rates are an even more effective predictor. When combined with any other measure of social capital, the coefficient for wallet reporting rates are always statistically significant with p<0.01 and with R^2 greater than most of the other fit models. In fact, I suspect that for the single variable models (PISA ~ wallet_rate + C), that the R^2 is greater than for any of the other measures. I'm not sure why those regression results aren't in the paper.\n",
    "\n",
    "## Regression Analysis: Predictive Value of Wallet Return Rate for PISA Scores (from `wallet_eda.py`)\n",
    "Investigating if wallet return rates, when combined with other survey measures, significantly predict PISA scores. This explores Tannenbaum's second point regarding predictive power, but with PISA as the outcome."
   ]
  },
  {
   "cell_type": "code",
   "execution_count": 1,
   "id": "378148e5",
   "metadata": {},
   "outputs": [],
   "source": [
    "import pandas as pd\n",
    "import statsmodels as sm"
   ]
  },
  {
   "cell_type": "code",
   "execution_count": 2,
   "id": "7f28ce78",
   "metadata": {},
   "outputs": [],
   "source": [
    "# Tannenbaum data import\n",
    "\n",
    "numeric_features_initial = [\n",
    "    \"general_trust\",\n",
    "    \"GPS_trust\",\n",
    "    \"general_morality\",\n",
    "    \"MFQ_genmorality\",\n",
    "    \"civic_cooperation\",\n",
    "    \"GPS_posrecip\",\n",
    "    \"GPS_altruism\",\n",
    "    \"stranger1\",\n",
    "]\n",
    "\n",
    "cat_cols = [\n",
    "    \"country\",\n",
    "    \"response\",\n",
    "    \"male\",\n",
    "    \"above40\",\n",
    "    \"computer\",\n",
    "    \"coworkers\",\n",
    "    \"other_bystanders\",\n",
    "    \"institution\",\n",
    "    \"cond\",\n",
    "    \"security_cam\",\n",
    "    \"security_guard\",\n",
    "    \"local_recipient\",\n",
    "    \"no_english\",\n",
    "    \"understood_situation\",\n",
    "]\n",
    "\n",
    "sc_measures = [\n",
    "    \"log_gdp\",\n",
    "    \"log_tfp\",\n",
    "    \"gee\",\n",
    "    \"letter_grading\",\n",
    "]\n",
    "\n",
    "df = pd.read_csv(\n",
    "    \"../data/tannenbaum_data.csv\",\n",
    "    dtype={col: \"category\" for col in cat_cols},\n",
    ")\n",
    "\n",
    "# Add PISA data\n",
    "pisa = pd.read_csv(\"../data/pisa_data.csv\").rename(columns={\"mean_score\": \"pisa_score\"})\n",
    "df = df.merge(pisa, how=\"left\", on=\"country\")"
   ]
  },
  {
   "cell_type": "code",
   "execution_count": 3,
   "id": "22c7db01",
   "metadata": {},
   "outputs": [
    {
     "ename": "NameError",
     "evalue": "name 'reading_wallets' is not defined",
     "output_type": "error",
     "traceback": [
      "\u001b[31m---------------------------------------------------------------------------\u001b[39m",
      "\u001b[31mNameError\u001b[39m                                 Traceback (most recent call last)",
      "\u001b[36mCell\u001b[39m\u001b[36m \u001b[39m\u001b[32mIn[3]\u001b[39m\u001b[32m, line 1\u001b[39m\n\u001b[32m----> \u001b[39m\u001b[32m1\u001b[39m \u001b[38;5;28;01mif\u001b[39;00m \u001b[38;5;129;01mnot\u001b[39;00m \u001b[43mreading_wallets\u001b[49m.empty \u001b[38;5;129;01mand\u001b[39;00m \u001b[38;5;129;01mnot\u001b[39;00m df.empty:\n\u001b[32m      2\u001b[39m     \u001b[38;5;28mprint\u001b[39m(\u001b[33m\"\u001b[39m\u001b[38;5;130;01m\\n\u001b[39;00m\u001b[33mRegression Analysis: Predicting PISA Scores\u001b[39m\u001b[33m\"\u001b[39m)\n\u001b[32m      3\u001b[39m     \u001b[38;5;28mprint\u001b[39m(\u001b[33m\"\u001b[39m\u001b[33mOutcome variable: PISA_Avg_Reading_2022\u001b[39m\u001b[33m\"\u001b[39m)\n",
      "\u001b[31mNameError\u001b[39m: name 'reading_wallets' is not defined"
     ]
    }
   ],
   "source": [
    "if not reading_wallets.empty and not df.empty:\n",
    "    print(\"\\nRegression Analysis: Predicting PISA Scores\")\n",
    "    print(\"Outcome variable: PISA_Avg_Reading_2022\")\n",
    "    print(\"Predictors: wallet_return_rate and one survey_measure at a time\\n\")\n",
    "    \n",
    "    # Ensure reading_wallets has 'country' as a column for merging, not index\n",
    "    reading_wallets_reg = reading_wallets.copy()\n",
    "    if reading_wallets_reg.index.name == 'country':\n",
    "        reading_wallets_reg = reading_wallets_reg.reset_index()\n",
    "\n",
    "    for measure in numeric_features_initial: # Using the initial numeric features as survey_measures\n",
    "        # Get country-level average for the current survey measure\n",
    "        country_avg_measure = df.groupby('country', observed=False)[[measure]].mean().reset_index()\n",
    "        \n",
    "        # Merge PISA/wallet data with the current survey measure average\n",
    "        regression_df = pd.merge(reading_wallets_reg, country_avg_measure, on='country', how='inner')\n",
    "        regression_df = regression_df.dropna(subset=['PISA_Avg_Reading_2022', 'wallet_return_rate', measure])\n",
    "\n",
    "        if len(regression_df) < 3: # Need enough data points for regression\n",
    "            print(f\"Skipping regression for {measure} due to insufficient data after merge/dropna ({len(regression_df)} rows).\")\n",
    "            continue\n",
    "\n",
    "        y = regression_df[\"PISA_Avg_Reading_2022\"]\n",
    "        X = regression_df[[measure, \"wallet_return_rate\"]]\n",
    "        \n",
    "        # Standardize predictors for better comparison of coefficients if desired, though OLS doesn't strictly require it\n",
    "        X_std = (X - X.mean()) / X.std()\n",
    "        X_std = sm.add_constant(X_std) # Add intercept\n",
    "\n",
    "        try:\n",
    "            model = sm.OLS(y, X_std)\n",
    "            results = model.fit(cov_type=\"HC1\") # Robust standard errors\n",
    "            print(f\"\\n--- Regression Summary for PISA ~ {measure} + wallet_return_rate ---\")\n",
    "            print(results.summary())\n",
    "        except Exception as e:\n",
    "            print(f\"Error during regression for {measure}: {e}\")\n",
    "            print(f\"Data for {measure}:\\n y_head: {y.head()}\\n X_std_head:\\n{X_std.head()}\")\n",
    "else:\n",
    "    print(\"Skipping regression analysis as reading_wallets or main df is empty\")"
   ]
  },
  {
   "cell_type": "markdown",
   "id": "dfdebd82",
   "metadata": {},
   "source": [
    "**Commentary on Regression (from `wallet_pisa.ipynb` - Tannenbaum Point 2 Context):**\n",
    "The Tannenbaum paper discusses four measures of \"Economic and Institutional Performance\": GDP per capita (`log_gdp`), productivity (`log_tfp`), government effectiveness (`gee`), and letter grade efficiency (`letter_grading`). If PISA scores are considered a fifth measure of this type, the analysis above suggests that wallet reporting rates can be an effective predictor.\n",
    "\n",
    "When wallet reporting rates are combined with other survey measures of social capital (as in the regressions above), the coefficient for wallet reporting rates often remains statistically significant. This implies that the behavioral measure (wallet returns) offers predictive power for educational outcomes (PISA scores) beyond what is captured by attitudinal survey measures alone. The R-squared values from these models can be compared to those in Tannenbaum's paper for other institutional outcomes."
   ]
  },
  {
   "cell_type": "code",
   "execution_count": null,
   "id": "898f0099",
   "metadata": {},
   "outputs": [],
   "source": []
  }
 ],
 "metadata": {
  "kernelspec": {
   "display_name": ".venv",
   "language": "python",
   "name": "python3"
  },
  "language_info": {
   "codemirror_mode": {
    "name": "ipython",
    "version": 3
   },
   "file_extension": ".py",
   "mimetype": "text/x-python",
   "name": "python",
   "nbconvert_exporter": "python",
   "pygments_lexer": "ipython3",
   "version": "3.12.4"
  }
 },
 "nbformat": 4,
 "nbformat_minor": 5
}
